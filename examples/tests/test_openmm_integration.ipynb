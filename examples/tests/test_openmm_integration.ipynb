{
 "cells": [
  {
   "cell_type": "markdown",
   "metadata": {},
   "source": [
    "## OpenMMTools Integration"
   ]
  },
  {
   "cell_type": "markdown",
   "metadata": {},
   "source": [
    "This enables OPS to use any testsystem from openmmtools to be used as well as add ANY possible OpenMM setup, not just the ones that we provided before. The old OpenMMEngine has been rename intp `SimpleOpenMMEngine`"
   ]
  },
  {
   "cell_type": "code",
   "execution_count": 1,
   "metadata": {
    "collapsed": false
   },
   "outputs": [],
   "source": [
    "import openpathsampling as paths\n",
    "import openmmtools as omt\n",
    "import simtk.openmm as omm\n",
    "import simtk.unit as u\n",
    "import mdtraj as md\n",
    "\n",
    "import openpathsampling.engines.openmm as eng"
   ]
  },
  {
   "cell_type": "markdown",
   "metadata": {},
   "source": [
    "Create Alanine in Vacuum and run it using OPS."
   ]
  },
  {
   "cell_type": "code",
   "execution_count": 2,
   "metadata": {
    "collapsed": false
   },
   "outputs": [],
   "source": [
    "testsystem = omt.testsystems.AlanineDipeptideVacuum()"
   ]
  },
  {
   "cell_type": "markdown",
   "metadata": {},
   "source": [
    "Let's have a look at the content"
   ]
  },
  {
   "cell_type": "code",
   "execution_count": 3,
   "metadata": {
    "collapsed": false
   },
   "outputs": [
    {
     "data": {
      "text/plain": [
       "{'_positions': simtk.unit.quantity.Quantity,\n",
       " '_system': simtk.openmm.openmm.System,\n",
       " '_topology': simtk.openmm.app.topology.Topology}"
      ]
     },
     "execution_count": 3,
     "metadata": {},
     "output_type": "execute_result"
    }
   ],
   "source": [
    "#! skip\n",
    "{ key: type(value) for key, value in testsystem.__dict__.items()}"
   ]
  },
  {
   "cell_type": "markdown",
   "metadata": {},
   "source": [
    "An `OpenMM` simulation in OPS needs 3 ingredients to function\n",
    "1. A template snapshot (which contains topolgy and coordinates/velocities), \n",
    "2. an OpenMM system object, and \n",
    "3. an OpenMM integrator object.\n",
    "\n",
    "In the following we will get these parts."
   ]
  },
  {
   "cell_type": "markdown",
   "metadata": {},
   "source": [
    "#### 1. The template"
   ]
  },
  {
   "cell_type": "markdown",
   "metadata": {},
   "source": [
    "The information for the template is contained in the `_topology` and the `_positions` object."
   ]
  },
  {
   "cell_type": "code",
   "execution_count": 4,
   "metadata": {
    "collapsed": false
   },
   "outputs": [],
   "source": [
    "template = eng.snapshot_from_testsystem(testsystem)"
   ]
  },
  {
   "cell_type": "markdown",
   "metadata": {},
   "source": [
    "#### 2. The system"
   ]
  },
  {
   "cell_type": "markdown",
   "metadata": {},
   "source": [
    "This is easy since we directly get it from the testsytem objects"
   ]
  },
  {
   "cell_type": "code",
   "execution_count": 5,
   "metadata": {
    "collapsed": true
   },
   "outputs": [],
   "source": [
    "system = testsystem.system"
   ]
  },
  {
   "cell_type": "markdown",
   "metadata": {},
   "source": [
    "#### 3. The integrator"
   ]
  },
  {
   "cell_type": "markdown",
   "metadata": {},
   "source": [
    "The openmmtools system is (almost) independent of the integrator and `openmm` provides us with lots of options. For now we pick something simple."
   ]
  },
  {
   "cell_type": "code",
   "execution_count": 6,
   "metadata": {
    "collapsed": true
   },
   "outputs": [],
   "source": [
    "integrator = omm.VerletIntegrator(\n",
    "    0.002 * u.picoseconds    \n",
    ")"
   ]
  },
  {
   "cell_type": "markdown",
   "metadata": {},
   "source": [
    "build the engine"
   ]
  },
  {
   "cell_type": "code",
   "execution_count": 7,
   "metadata": {
    "collapsed": false
   },
   "outputs": [],
   "source": [
    "engine = eng.Engine(\n",
    "    template.topology, \n",
    "    system, \n",
    "    integrator)"
   ]
  },
  {
   "cell_type": "markdown",
   "metadata": {},
   "source": [
    "Let's run a simulation of 10 steps."
   ]
  },
  {
   "cell_type": "code",
   "execution_count": 8,
   "metadata": {
    "collapsed": false
   },
   "outputs": [],
   "source": [
    "traj = engine.generate(template, [paths.LengthEnsemble(10).can_append])"
   ]
  },
  {
   "cell_type": "code",
   "execution_count": 9,
   "metadata": {
    "collapsed": false
   },
   "outputs": [
    {
     "name": "stdout",
     "output_type": "stream",
     "text": [
      "Trajectory[10]\n"
     ]
    }
   ],
   "source": [
    "print traj"
   ]
  },
  {
   "cell_type": "code",
   "execution_count": 10,
   "metadata": {
    "collapsed": false
   },
   "outputs": [
    {
     "name": "stdout",
     "output_type": "stream",
     "text": [
      "[[ 0.18766718  0.1159968   0.01245001]\n",
      " [ 0.19458355  0.22444931  0.00401419]\n",
      " [ 0.14436734  0.27122673  0.08869708]\n",
      " [ 0.14886755  0.25747469 -0.0892616 ]\n",
      " [ 0.33994538  0.26638275  0.00609838]\n",
      " [ 0.4270958   0.1897011   0.04380054]\n",
      " [ 0.36886501  0.38998327 -0.03181569]\n",
      " [ 0.293367    0.45243084 -0.05633822]\n",
      " [ 0.49859309  0.45657608 -0.02400118]\n",
      " [ 0.55814391  0.41515252  0.05735499]\n",
      " [ 0.57325357  0.43391329 -0.15561186]\n",
      " [ 0.51911283  0.48312771 -0.23640622]\n",
      " [ 0.67427635  0.47320488 -0.14414108]\n",
      " [ 0.58423084  0.32728145 -0.17536472]\n",
      " [ 0.47495213  0.60669035 -0.00127665]\n",
      " [ 0.35958394  0.64924198  0.00474684]\n",
      " [ 0.58359265  0.68379176  0.00902625]\n",
      " [ 0.67474234  0.64066118  0.00332434]\n",
      " [ 0.57127416  0.82897246  0.01853089]\n",
      " [ 0.46718925  0.8609547   0.02347773]\n",
      " [ 0.62214273  0.86301559  0.1087221 ]\n",
      " [ 0.61715895  0.87434292 -0.06931628]] nm\n"
     ]
    }
   ],
   "source": [
    "#! skip\n",
    "print traj[5].coordinates"
   ]
  },
  {
   "cell_type": "code",
   "execution_count": 11,
   "metadata": {
    "collapsed": false
   },
   "outputs": [
    {
     "name": "stderr",
     "output_type": "stream",
     "text": [
      "/Users/jan-hendrikprinz/anaconda/lib/python2.7/site-packages/mdtraj/utils/validation.py:116: TypeCastPerformanceWarning: Casting unitcell_vectors dtype=float64 to <type 'numpy.float32'> \n",
      "  TypeCastPerformanceWarning)\n"
     ]
    }
   ],
   "source": [
    "psi = md.compute_psi(traj.to_mdtraj())"
   ]
  },
  {
   "cell_type": "code",
   "execution_count": 12,
   "metadata": {
    "collapsed": false
   },
   "outputs": [
    {
     "data": {
      "text/plain": [
       "array([[ 3.10614586],\n",
       "       [-3.09586358],\n",
       "       [ 3.13675642],\n",
       "       [ 3.12832737],\n",
       "       [ 3.09317803]], dtype=float32)"
      ]
     },
     "execution_count": 12,
     "metadata": {},
     "output_type": "execute_result"
    }
   ],
   "source": [
    "#! ignore\n",
    "psi[1][3:8]"
   ]
  },
  {
   "cell_type": "code",
   "execution_count": 13,
   "metadata": {
    "collapsed": false
   },
   "outputs": [],
   "source": [
    "st = paths.Storage('engine_store_test.nc', mode='w')"
   ]
  },
  {
   "cell_type": "code",
   "execution_count": 14,
   "metadata": {
    "collapsed": false
   },
   "outputs": [],
   "source": [
    "st.engines.save(engine);\n",
    "st.tag['template'] = template"
   ]
  },
  {
   "cell_type": "markdown",
   "metadata": {},
   "source": [
    "The engine is stored by using the XML serialization of OpenMM and put this into the storage."
   ]
  },
  {
   "cell_type": "code",
   "execution_count": 15,
   "metadata": {
    "collapsed": false
   },
   "outputs": [
    {
     "data": {
      "text/plain": [
       "u'{\"_cls\":\"OpenMMEngine\",\"_dict\":{\"integrator_xml\":\"<?xml version=\\\\\"1.0\\\\\" ?>\\\\n<Integrator constraintTolerance=\\\\\"1e-05\\\\\" stepSize=\\\\\".002\\\\\" type=\\\\\"VerletIntegrator\\\\\" version=\\\\\"1\\\\\"\\\\/>\\\\n\",\"system_xml\":\"<?xml version=\\\\\"1.0\\\\\" ?>\\\\n<System openmmVersion=\\\\\"7.0\\\\\" type...'"
      ]
     },
     "execution_count": 15,
     "metadata": {},
     "output_type": "execute_result"
    }
   ],
   "source": [
    "#! skip\n",
    "st.variables['engines_json'][0][0:256] + '...'"
   ]
  },
  {
   "cell_type": "code",
   "execution_count": 16,
   "metadata": {
    "collapsed": false
   },
   "outputs": [],
   "source": [
    "st.save(traj);"
   ]
  },
  {
   "cell_type": "code",
   "execution_count": 17,
   "metadata": {
    "collapsed": true
   },
   "outputs": [],
   "source": [
    "st.close()"
   ]
  },
  {
   "cell_type": "markdown",
   "metadata": {},
   "source": [
    "### try to load the stored engine"
   ]
  },
  {
   "cell_type": "code",
   "execution_count": 18,
   "metadata": {
    "collapsed": false
   },
   "outputs": [],
   "source": [
    "st = paths.AnalysisStorage('engine_store_test.nc')"
   ]
  },
  {
   "cell_type": "code",
   "execution_count": 19,
   "metadata": {
    "collapsed": true
   },
   "outputs": [],
   "source": [
    "engine = st.engines[0]"
   ]
  },
  {
   "cell_type": "markdown",
   "metadata": {},
   "source": [
    "Run another 10 steps to test"
   ]
  },
  {
   "cell_type": "code",
   "execution_count": 20,
   "metadata": {
    "collapsed": true
   },
   "outputs": [],
   "source": [
    "template = st.tag['template']"
   ]
  },
  {
   "cell_type": "code",
   "execution_count": 21,
   "metadata": {
    "collapsed": false
   },
   "outputs": [],
   "source": [
    "traj = engine.generate(template, [paths.LengthEnsemble(10).can_append])"
   ]
  },
  {
   "cell_type": "code",
   "execution_count": 22,
   "metadata": {
    "collapsed": false
   },
   "outputs": [
    {
     "name": "stdout",
     "output_type": "stream",
     "text": [
      "Trajectory[10]\n"
     ]
    }
   ],
   "source": [
    "print traj"
   ]
  },
  {
   "cell_type": "code",
   "execution_count": 23,
   "metadata": {
    "collapsed": false
   },
   "outputs": [],
   "source": [
    "st.close()"
   ]
  },
  {
   "cell_type": "markdown",
   "metadata": {},
   "source": [
    "And save the trajectory for future use (other tests)"
   ]
  },
  {
   "cell_type": "code",
   "execution_count": 24,
   "metadata": {
    "collapsed": false
   },
   "outputs": [],
   "source": [
    "st = paths.Storage('engine_store_test.nc', \"a\")\n",
    "st.save(traj)\n",
    "st.close()"
   ]
  },
  {
   "cell_type": "code",
   "execution_count": null,
   "metadata": {
    "collapsed": true
   },
   "outputs": [],
   "source": []
  }
 ],
 "metadata": {
  "anaconda-cloud": {},
  "kernelspec": {
   "display_name": "Python [default]",
   "language": "python",
   "name": "python2"
  },
  "language_info": {
   "codemirror_mode": {
    "name": "ipython",
    "version": 2
   },
   "file_extension": ".py",
   "mimetype": "text/x-python",
   "name": "python",
   "nbconvert_exporter": "python",
   "pygments_lexer": "ipython2",
   "version": "2.7.12"
  }
 },
 "nbformat": 4,
 "nbformat_minor": 0
}
