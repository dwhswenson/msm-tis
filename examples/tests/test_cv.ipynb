{
 "cells": [
  {
   "cell_type": "markdown",
   "metadata": {},
   "source": [
    "### Test of CV functionality. \n",
    "\n",
    "Most storage related tests are nosetests now. So look in `testcollectivevariable.py` please."
   ]
  },
  {
   "cell_type": "code",
   "execution_count": 1,
   "metadata": {
    "collapsed": true
   },
   "outputs": [],
   "source": [
    "from __future__ import print_function\n",
    "import openpathsampling as paths\n",
    "import numpy as np\n",
    "import openpathsampling.engines.openmm as peng"
   ]
  },
  {
   "cell_type": "markdown",
   "metadata": {},
   "source": [
    "Load first frame from test pdb."
   ]
  },
  {
   "cell_type": "code",
   "execution_count": 2,
   "metadata": {
    "collapsed": true
   },
   "outputs": [],
   "source": [
    "template = peng.snapshot_from_pdb('../resources/AD_initial_frame.pdb')"
   ]
  },
  {
   "cell_type": "markdown",
   "metadata": {},
   "source": [
    "Create a simple CV without an underlying function."
   ]
  },
  {
   "cell_type": "code",
   "execution_count": 3,
   "metadata": {
    "collapsed": true
   },
   "outputs": [],
   "source": [
    "cv0 = paths.CollectiveVariable('func0')"
   ]
  },
  {
   "cell_type": "markdown",
   "metadata": {},
   "source": [
    "Create a complicated function."
   ]
  },
  {
   "cell_type": "code",
   "execution_count": 4,
   "metadata": {
    "collapsed": true
   },
   "outputs": [],
   "source": [
    "center = 1\n",
    "def dist(snapshot, center, np):\n",
    "    return np.sum(snapshot.coordinates._value[0]) - center"
   ]
  },
  {
   "cell_type": "markdown",
   "metadata": {},
   "source": [
    "Create collective variable from this function. Note that you have to specify `center` and `np` to make this work"
   ]
  },
  {
   "cell_type": "code",
   "execution_count": 5,
   "metadata": {
    "collapsed": true
   },
   "outputs": [],
   "source": [
    "cv1 = paths.FunctionCV('func1', dist, center=center, np=np, cv_time_reversible=False).with_diskcache()\n",
    "cv2 = paths.FunctionCV('func2', dist, center=center, np=np, cv_wrap_numpy_array=True).with_diskcache()\n",
    "cv3 = paths.FunctionCV('func3', dist, center=center, np=np, cv_wrap_numpy_array=True, cv_time_reversible=True).with_diskcache()"
   ]
  },
  {
   "cell_type": "markdown",
   "metadata": {},
   "source": [
    "Create storage to test save and load."
   ]
  },
  {
   "cell_type": "code",
   "execution_count": 6,
   "metadata": {},
   "outputs": [
    {
     "name": "stdout",
     "output_type": "stream",
     "text": [
      "95154688213957913659160151948424904716\n"
     ]
    }
   ],
   "source": [
    "#! lazy\n",
    "storage = paths.Storage('can_be_deleted.nc', mode='w')\n",
    "print(storage.snapshots.save(template))"
   ]
  },
  {
   "cell_type": "markdown",
   "metadata": {},
   "source": [
    "Save CV"
   ]
  },
  {
   "cell_type": "code",
   "execution_count": 7,
   "metadata": {},
   "outputs": [
    {
     "name": "stdout",
     "output_type": "stream",
     "text": [
      "[(store.attributes[PseudoAttribute] : 4 object(s), 20, 95154688213957913659160151948424904718L), (store.attributes[PseudoAttribute] : 4 object(s), 20, 95154688213957913659160151948424904720L), (store.attributes[PseudoAttribute] : 4 object(s), 20, 95154688213957913659160151948424904722L), (store.attributes[PseudoAttribute] : 4 object(s), 20, 95154688213957913659160151948424904724L)]\n"
     ]
    }
   ],
   "source": [
    "#! lazy\n",
    "print(storage.save([cv0, cv1, cv2, cv3]))"
   ]
  },
  {
   "cell_type": "code",
   "execution_count": 8,
   "metadata": {},
   "outputs": [
    {
     "name": "stdout",
     "output_type": "stream",
     "text": [
      "{95154688213957913659160151948424904722L: 2, 95154688213957913659160151948424904724L: 3, 95154688213957913659160151948424904718L: 0, 95154688213957913659160151948424904720L: 1}\n"
     ]
    }
   ],
   "source": [
    "#! lazy\n",
    "print(storage.cvs.index)"
   ]
  },
  {
   "cell_type": "markdown",
   "metadata": {},
   "source": [
    "Set the CV value for the storage.template"
   ]
  },
  {
   "cell_type": "code",
   "execution_count": 9,
   "metadata": {
    "collapsed": true
   },
   "outputs": [],
   "source": [
    "cv0[template] = 10.0"
   ]
  },
  {
   "cell_type": "markdown",
   "metadata": {},
   "source": [
    "and create a storage for it"
   ]
  },
  {
   "cell_type": "code",
   "execution_count": 10,
   "metadata": {
    "collapsed": true
   },
   "outputs": [],
   "source": [
    "storage.cvs.add_diskcache(cv0, allow_incomplete=True)"
   ]
  },
  {
   "cell_type": "markdown",
   "metadata": {},
   "source": [
    "And we should have a float store"
   ]
  },
  {
   "cell_type": "code",
   "execution_count": 11,
   "metadata": {
    "collapsed": true
   },
   "outputs": [],
   "source": [
    "storage.cvs.sync(cv0)"
   ]
  },
  {
   "cell_type": "code",
   "execution_count": 12,
   "metadata": {
    "collapsed": true
   },
   "outputs": [],
   "source": [
    "assert(cv0._store_dict.value_store.vars['value'][:] == [10.0])"
   ]
  },
  {
   "cell_type": "markdown",
   "metadata": {},
   "source": [
    "Test function for reversed template."
   ]
  },
  {
   "cell_type": "code",
   "execution_count": 13,
   "metadata": {},
   "outputs": [
    {
     "name": "stdout",
     "output_type": "stream",
     "text": [
      "3.39210033417\n"
     ]
    }
   ],
   "source": [
    "dd = dist(template.reversed, center, np)\n",
    "print(dd)"
   ]
  },
  {
   "cell_type": "markdown",
   "metadata": {},
   "source": [
    "Create another CV. This time using the `from_template` function."
   ]
  },
  {
   "cell_type": "code",
   "execution_count": 14,
   "metadata": {},
   "outputs": [
    {
     "name": "stdout",
     "output_type": "stream",
     "text": [
      "[10.0, 10.0]\n",
      "[3.3921003341674805, 3.3921003341674805]\n"
     ]
    }
   ],
   "source": [
    "print(cv0([template, template]))\n",
    "print(cv1([template, template]))"
   ]
  },
  {
   "cell_type": "code",
   "execution_count": 15,
   "metadata": {},
   "outputs": [
    {
     "name": "stdout",
     "output_type": "stream",
     "text": [
      "<type 'list'>\n",
      "<type 'float'>\n",
      "<type 'list'>\n",
      "<type 'numpy.float64'>\n"
     ]
    }
   ],
   "source": [
    "print(type(cv0([template, template])))\n",
    "print(type(cv0([template, template])[0]))\n",
    "print(type(cv1([template, template])))\n",
    "print(type(cv1([template, template])[0]))"
   ]
  },
  {
   "cell_type": "code",
   "execution_count": 16,
   "metadata": {},
   "outputs": [
    {
     "name": "stdout",
     "output_type": "stream",
     "text": [
      "[ u'{\"_cls\":\"CollectiveVariable\",\"_dict\":{\"cv_time_reversible\":false,\"name\":\"func0\"}}'\n",
      " u'{\"_cls\":\"FunctionCV\",\"_dict\":{\"name\":\"func1\",\"f\":{\"_marshal\":\"YwMAAAADAAAAAwAAAEMAAABzGwAAAHwCAGoAAHwAAGoBAGoCAGQBABmDAQB8AQAYUygCAAAATmkAAAAAKAMAAAB0AwAAAHN1bXQLAAAAY29vcmRpbmF0ZXN0BgAAAF92YWx1ZSgDAAAAdAgAAABzbmFwc2hvdHQGAAAAY2VudGVydAIAAABucCgAAAAAKAAAAABzHgAAADxpcHl0aG9uLWlucHV0LTQtNzMyMzhiNjY5OTg3PnQEAAAAZGlzdAIAAABzAgAAAAAB\",\"_module_vars\":[],\"_global_vars\":[]},\"cv_time_reversible\":false,\"cv_wrap_numpy_array\":false,\"cv_requires_lists\":false,\"cv_scalarize_numpy_singletons\":false,\"kwargs\":{\"np\":{\"_import\":\"numpy\"},\"center\":1}}}'\n",
      " u'{\"_cls\":\"FunctionCV\",\"_dict\":{\"name\":\"func2\",\"f\":{\"_marshal\":\"YwMAAAADAAAAAwAAAEMAAABzGwAAAHwCAGoAAHwAAGoBAGoCAGQBABmDAQB8AQAYUygCAAAATmkAAAAAKAMAAAB0AwAAAHN1bXQLAAAAY29vcmRpbmF0ZXN0BgAAAF92YWx1ZSgDAAAAdAgAAABzbmFwc2hvdHQGAAAAY2VudGVydAIAAABucCgAAAAAKAAAAABzHgAAADxpcHl0aG9uLWlucHV0LTQtNzMyMzhiNjY5OTg3PnQEAAAAZGlzdAIAAABzAgAAAAAB\",\"_module_vars\":[],\"_global_vars\":[]},\"cv_time_reversible\":false,\"cv_wrap_numpy_array\":true,\"cv_requires_lists\":false,\"cv_scalarize_numpy_singletons\":false,\"kwargs\":{\"np\":{\"_import\":\"numpy\"},\"center\":1}}}'\n",
      " u'{\"_cls\":\"FunctionCV\",\"_dict\":{\"name\":\"func3\",\"f\":{\"_marshal\":\"YwMAAAADAAAAAwAAAEMAAABzGwAAAHwCAGoAAHwAAGoBAGoCAGQBABmDAQB8AQAYUygCAAAATmkAAAAAKAMAAAB0AwAAAHN1bXQLAAAAY29vcmRpbmF0ZXN0BgAAAF92YWx1ZSgDAAAAdAgAAABzbmFwc2hvdHQGAAAAY2VudGVydAIAAABucCgAAAAAKAAAAABzHgAAADxpcHl0aG9uLWlucHV0LTQtNzMyMzhiNjY5OTg3PnQEAAAAZGlzdAIAAABzAgAAAAAB\",\"_module_vars\":[],\"_global_vars\":[]},\"cv_time_reversible\":true,\"cv_wrap_numpy_array\":true,\"cv_requires_lists\":false,\"cv_scalarize_numpy_singletons\":false,\"kwargs\":{\"np\":{\"_import\":\"numpy\"},\"center\":1}}}']\n"
     ]
    }
   ],
   "source": [
    "#! skip\n",
    "print(storage.cvs.variables['json'][:])"
   ]
  },
  {
   "cell_type": "code",
   "execution_count": 17,
   "metadata": {
    "collapsed": true
   },
   "outputs": [],
   "source": [
    "cv0j = storage.cvs.vars['json'][0]\n",
    "cv1j = storage.cvs.vars['json'][1]\n",
    "cv2j = storage.cvs.vars['json'][2]\n",
    "cv3j = storage.cvs.vars['json'][3]"
   ]
  },
  {
   "cell_type": "code",
   "execution_count": 18,
   "metadata": {
    "collapsed": true
   },
   "outputs": [],
   "source": [
    "res = cv0j([template, template, template])\n",
    "assert(res[0] == res[1] == res[2])\n",
    "res = cv1j([template, template, template])\n",
    "assert(res[0] == res[1] == res[2])\n",
    "res = cv2j([template, template, template])\n",
    "assert(res[0] == res[1] == res[2])\n",
    "res = cv3j([template, template, template])\n",
    "assert(res[0] == res[1] == res[2])"
   ]
  },
  {
   "cell_type": "markdown",
   "metadata": {},
   "source": [
    "#### PseudoAttributes"
   ]
  },
  {
   "cell_type": "code",
   "execution_count": 19,
   "metadata": {
    "collapsed": true
   },
   "outputs": [],
   "source": [
    "t = paths.Trajectory([template] * 4)"
   ]
  },
  {
   "cell_type": "code",
   "execution_count": 20,
   "metadata": {},
   "outputs": [
    {
     "name": "stdout",
     "output_type": "stream",
     "text": [
      "(store.trajectories[Trajectory] : 1 object(s), 0, 95154688213957913659160151948424904792L)\n"
     ]
    }
   ],
   "source": [
    "#! lazy\n",
    "print(storage.save(t))"
   ]
  },
  {
   "cell_type": "code",
   "execution_count": 21,
   "metadata": {
    "collapsed": true
   },
   "outputs": [],
   "source": [
    "def ff(t, cv3):\n",
    "    return max(cv3(t))"
   ]
  },
  {
   "cell_type": "code",
   "execution_count": 22,
   "metadata": {
    "collapsed": true
   },
   "outputs": [],
   "source": [
    "a = paths.netcdfplus.FunctionPseudoAttribute('max_cv', paths.Trajectory, ff, cv3=cv3)"
   ]
  },
  {
   "cell_type": "code",
   "execution_count": 23,
   "metadata": {},
   "outputs": [
    {
     "name": "stdout",
     "output_type": "stream",
     "text": [
      "95154688213957913659160151948424904794\n"
     ]
    }
   ],
   "source": [
    "#! lazy\n",
    "print(storage.attributes.save(a))"
   ]
  },
  {
   "cell_type": "code",
   "execution_count": 24,
   "metadata": {},
   "outputs": [
    {
     "name": "stdout",
     "output_type": "stream",
     "text": [
      "3.39210033417\n"
     ]
    }
   ],
   "source": [
    "print(a(t))"
   ]
  },
  {
   "cell_type": "code",
   "execution_count": 25,
   "metadata": {
    "collapsed": true
   },
   "outputs": [],
   "source": [
    "p = paths.netcdfplus.LoaderProxy(storage.trajectories, t.__uuid__)"
   ]
  },
  {
   "cell_type": "code",
   "execution_count": 26,
   "metadata": {},
   "outputs": [
    {
     "name": "stdout",
     "output_type": "stream",
     "text": [
      "3.39210033417\n"
     ]
    }
   ],
   "source": [
    "print(a(p))"
   ]
  },
  {
   "cell_type": "code",
   "execution_count": 27,
   "metadata": {},
   "outputs": [
    {
     "name": "stdout",
     "output_type": "stream",
     "text": [
      "store.trajectories_max_cv[None/ANY] : (not created)\n"
     ]
    }
   ],
   "source": [
    "print(storage.trajectories.add_attribute(paths.netcdfplus.ValueStore, a, t, allow_incomplete=False))"
   ]
  },
  {
   "cell_type": "code",
   "execution_count": 28,
   "metadata": {
    "collapsed": true
   },
   "outputs": [],
   "source": [
    "ats = storage.trajectories.attribute_list[a]"
   ]
  },
  {
   "cell_type": "code",
   "execution_count": 29,
   "metadata": {},
   "outputs": [
    {
     "name": "stdout",
     "output_type": "stream",
     "text": [
      "[ 3.39210033]\n"
     ]
    }
   ],
   "source": [
    "print(ats.vars['value'][:])"
   ]
  },
  {
   "cell_type": "code",
   "execution_count": 30,
   "metadata": {},
   "outputs": [
    {
     "name": "stdout",
     "output_type": "stream",
     "text": [
      "[ 3.39210033]\n"
     ]
    }
   ],
   "source": [
    "print(a._store_dict.value_store.vars['value'][:])"
   ]
  },
  {
   "cell_type": "code",
   "execution_count": 31,
   "metadata": {
    "collapsed": true
   },
   "outputs": [],
   "source": [
    "storage.trajectories.sync_attribute(a)"
   ]
  },
  {
   "cell_type": "code",
   "execution_count": 32,
   "metadata": {},
   "outputs": [
    {
     "data": {
      "text/plain": [
       "True"
      ]
     },
     "execution_count": 32,
     "metadata": {},
     "output_type": "execute_result"
    }
   ],
   "source": [
    "storage.attributes.has_cache(a)"
   ]
  },
  {
   "cell_type": "code",
   "execution_count": 33,
   "metadata": {
    "collapsed": true
   },
   "outputs": [],
   "source": [
    "storage.attributes.sync(a)"
   ]
  },
  {
   "cell_type": "code",
   "execution_count": 34,
   "metadata": {
    "collapsed": true
   },
   "outputs": [],
   "source": [
    "storage.close()"
   ]
  },
  {
   "cell_type": "code",
   "execution_count": 35,
   "metadata": {
    "collapsed": true
   },
   "outputs": [],
   "source": [
    "storage = paths.Storage('can_be_deleted.nc', mode='r')"
   ]
  },
  {
   "cell_type": "code",
   "execution_count": 36,
   "metadata": {},
   "outputs": [
    {
     "data": {
      "text/plain": [
       "<openpathsampling.netcdfplus.attribute.FunctionPseudoAttribute at 0x116f6a890>"
      ]
     },
     "execution_count": 36,
     "metadata": {},
     "output_type": "execute_result"
    }
   ],
   "source": [
    "storage.attributes[4]"
   ]
  },
  {
   "cell_type": "code",
   "execution_count": 37,
   "metadata": {
    "collapsed": true
   },
   "outputs": [],
   "source": [
    "storage.close()"
   ]
  },
  {
   "cell_type": "code",
   "execution_count": null,
   "metadata": {
    "collapsed": true
   },
   "outputs": [],
   "source": []
  }
 ],
 "metadata": {
  "anaconda-cloud": {},
  "kernelspec": {
   "display_name": "Python 3",
   "language": "python",
   "name": "python3"
  },
  "language_info": {
   "codemirror_mode": {
    "name": "ipython",
    "version": 3
   },
   "file_extension": ".py",
   "mimetype": "text/x-python",
   "name": "python",
   "nbconvert_exporter": "python",
   "pygments_lexer": "ipython3",
   "version": "3.6.1"
  }
 },
 "nbformat": 4,
 "nbformat_minor": 1
}
