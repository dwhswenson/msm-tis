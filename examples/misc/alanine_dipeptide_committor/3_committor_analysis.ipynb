{
 "cells": [
  {
   "cell_type": "markdown",
   "metadata": {},
   "source": [
    "# Committor Analysis\n",
    "\n",
    "(Note: some of this requires OpenPathSampling 0.9.1 or later)\n",
    "\n",
    "The particular approach used in this notebook is to save each shot as a separate \"experiment,\" where each of the experiements is a tuple matching initial snapshot to final state. That was a peculiarity of the project from which this example originated. Typically, you could just go directly to the analysis of the shooting points. However, if you already have data from elsewhere that can be put into this format, the next notebook shows you how you can build a committor analysis from such a list."
   ]
  },
  {
   "cell_type": "code",
   "execution_count": 1,
   "metadata": {
    "collapsed": false
   },
   "outputs": [],
   "source": [
    "import openpathsampling as paths"
   ]
  },
  {
   "cell_type": "code",
   "execution_count": 2,
   "metadata": {
    "collapsed": false
   },
   "outputs": [
    {
     "name": "stdout",
     "output_type": "stream",
     "text": [
      "CPU times: user 1min 44s, sys: 29.6 s, total: 2min 14s\n",
      "Wall time: 48min 2s\n"
     ]
    }
   ],
   "source": [
    "%%time\n",
    "simulation_storage = paths.AnalysisStorage(\"committor_simulation.nc\")\n",
    "C_7eq = simulation_storage.volumes['C_7eq']\n",
    "alpha_R = simulation_storage.volumes['alpha_R']"
   ]
  },
  {
   "cell_type": "code",
   "execution_count": 3,
   "metadata": {
    "collapsed": false
   },
   "outputs": [],
   "source": [
    "analyzer = paths.ShootingPointAnalysis(steps=None, states=[C_7eq, alpha_R])"
   ]
  },
  {
   "cell_type": "code",
   "execution_count": 4,
   "metadata": {
    "collapsed": false
   },
   "outputs": [
    {
     "name": "stdout",
     "output_type": "stream",
     "text": [
      "CPU times: user 57.6 s, sys: 1.45 s, total: 59.1 s\n",
      "Wall time: 2min 29s\n"
     ]
    }
   ],
   "source": [
    "%%time\n",
    "# the shooting point snapshot for each\n",
    "shooting_pts = [analyzer.step_key(step) for step in simulation_storage.steps]"
   ]
  },
  {
   "cell_type": "code",
   "execution_count": 5,
   "metadata": {
    "collapsed": false
   },
   "outputs": [
    {
     "name": "stdout",
     "output_type": "stream",
     "text": [
      "CPU times: user 4min 54s, sys: 4.4 s, total: 4min 59s\n",
      "Wall time: 11min 6s\n"
     ]
    }
   ],
   "source": [
    "%%time\n",
    "# get the final states from each partial trajectory\n",
    "final_states_list = [analyzer.analyze_single_step(step) for step in simulation_storage.steps]"
   ]
  },
  {
   "cell_type": "code",
   "execution_count": 6,
   "metadata": {
    "collapsed": false
   },
   "outputs": [],
   "source": [
    "# check that there's only one state per item in that list\n",
    "for f in final_states_list:\n",
    "    assert len(f) == 1\n",
    "# flatten the list\n",
    "final_states = [f[0] for f in final_states_list]"
   ]
  },
  {
   "cell_type": "code",
   "execution_count": 7,
   "metadata": {
    "collapsed": false
   },
   "outputs": [],
   "source": [
    "experiments = zip(shooting_pts, final_states)"
   ]
  },
  {
   "cell_type": "code",
   "execution_count": 8,
   "metadata": {
    "collapsed": false
   },
   "outputs": [],
   "source": [
    "output_storage = paths.Storage(\"committor_results.nc\", \"w\")"
   ]
  },
  {
   "cell_type": "code",
   "execution_count": 9,
   "metadata": {
    "collapsed": false
   },
   "outputs": [],
   "source": [
    "output_storage.save(C_7eq)\n",
    "output_storage.save(alpha_R)\n",
    "output_storage.tag['experiments'] = experiments"
   ]
  },
  {
   "cell_type": "code",
   "execution_count": 10,
   "metadata": {
    "collapsed": true
   },
   "outputs": [],
   "source": [
    "output_storage.sync()\n",
    "output_storage.close()"
   ]
  }
 ],
 "metadata": {
  "kernelspec": {
   "display_name": "Python 2",
   "language": "python",
   "name": "python2"
  },
  "language_info": {
   "codemirror_mode": {
    "name": "ipython",
    "version": 2
   },
   "file_extension": ".py",
   "mimetype": "text/x-python",
   "name": "python",
   "nbconvert_exporter": "python",
   "pygments_lexer": "ipython2",
   "version": "2.7.12"
  }
 },
 "nbformat": 4,
 "nbformat_minor": 1
}
