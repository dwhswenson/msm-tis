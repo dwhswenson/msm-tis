{
 "cells": [
  {
   "cell_type": "markdown",
   "metadata": {},
   "source": [
    "# Committor Simulation"
   ]
  },
  {
   "cell_type": "code",
   "execution_count": 1,
   "metadata": {
    "collapsed": true
   },
   "outputs": [],
   "source": [
    "import openpathsampling as paths\n",
    "import mdtraj as md\n",
    "import numpy as np\n",
    "from simtk import unit"
   ]
  },
  {
   "cell_type": "code",
   "execution_count": 2,
   "metadata": {
    "collapsed": true
   },
   "outputs": [],
   "source": [
    "input_storage = paths.Storage(\"snapshots.nc\", \"r\")"
   ]
  },
  {
   "cell_type": "code",
   "execution_count": 3,
   "metadata": {
    "collapsed": false
   },
   "outputs": [
    {
     "name": "stdout",
     "output_type": "stream",
     "text": [
      "42.89MB\n",
      "2000\n"
     ]
    }
   ],
   "source": [
    "print input_storage.file_size_str\n",
    "print len(input_storage.snapshots)"
   ]
  },
  {
   "cell_type": "code",
   "execution_count": 4,
   "metadata": {
    "collapsed": false
   },
   "outputs": [],
   "source": [
    "# 2000 instead of 1000 because reversed snapshots are automatically counted\n",
    "snapshots_to_run = input_storage.snapshots[::2]"
   ]
  },
  {
   "cell_type": "code",
   "execution_count": 5,
   "metadata": {
    "collapsed": false
   },
   "outputs": [],
   "source": [
    "# conveniently, we saved the engine; have to re-do everything else\n",
    "engine = input_storage.engines[0]\n",
    "\n",
    "# set up the collective variables for our states \n",
    "phi = paths.MDTrajFunctionCV(name=\"phi\",\n",
    "                             f=md.compute_dihedrals,\n",
    "                             topology=engine.topology,\n",
    "                             indices=[[4, 6, 8, 14]])\n",
    "psi = paths.MDTrajFunctionCV(name=\"psi\",\n",
    "                             f=md.compute_dihedrals,\n",
    "                             topology=engine.topology,\n",
    "                             indices=[[6, 8, 14, 16]])"
   ]
  },
  {
   "cell_type": "code",
   "execution_count": 6,
   "metadata": {
    "collapsed": true
   },
   "outputs": [],
   "source": [
    "# define our states\n",
    "deg = 180.0/np.pi\n",
    "C_7eq = (paths.PeriodicCVDefinedVolume(phi, lambda_min=-180/deg, lambda_max=0/deg, \n",
    "                                     period_min=-np.pi, period_max=np.pi) &\n",
    "         paths.PeriodicCVDefinedVolume(psi, lambda_min=100/deg, lambda_max=200/deg,\n",
    "                                     period_min=-np.pi, period_max=np.pi)\n",
    "        ).named(\"C_7eq\")\n",
    "# similarly, without bothering with the labels:\n",
    "alpha_R = (paths.PeriodicCVDefinedVolume(phi, -180/deg, 0/deg, -np.pi, np.pi) &\n",
    "           paths.PeriodicCVDefinedVolume(psi, -100/deg, 0/deg, -np.pi, np.pi)).named(\"alpha_R\")"
   ]
  },
  {
   "cell_type": "code",
   "execution_count": 7,
   "metadata": {
    "collapsed": true
   },
   "outputs": [],
   "source": [
    "# OpenMM requires everything to have units\n",
    "# beta = 1.0 / (k_B T)\n",
    "temperature = 300.0 * unit.kelvin\n",
    "beta = 1.0 / (temperature * unit.BOLTZMANN_CONSTANT_kB)"
   ]
  },
  {
   "cell_type": "code",
   "execution_count": 8,
   "metadata": {
    "collapsed": true
   },
   "outputs": [],
   "source": [
    "randomizer = paths.RandomVelocities(beta=beta, engine=engine)"
   ]
  },
  {
   "cell_type": "code",
   "execution_count": 9,
   "metadata": {
    "collapsed": true
   },
   "outputs": [],
   "source": [
    "output_storage = paths.Storage(\"committor_simulation.nc\", \"w\")"
   ]
  },
  {
   "cell_type": "code",
   "execution_count": 10,
   "metadata": {
    "collapsed": false
   },
   "outputs": [],
   "source": [
    "simulation = paths.CommittorSimulation(storage=output_storage,\n",
    "                                       engine=engine,\n",
    "                                       states=[C_7eq, alpha_R],\n",
    "                                       randomizer=randomizer,\n",
    "                                       initial_snapshots=snapshots_to_run)"
   ]
  },
  {
   "cell_type": "code",
   "execution_count": 11,
   "metadata": {
    "collapsed": false
   },
   "outputs": [
    {
     "name": "stdout",
     "output_type": "stream",
     "text": [
      "Working on snapshot 1000 / 1000; shot 10 / 10"
     ]
    }
   ],
   "source": [
    "simulation.run(n_per_snapshot=10)"
   ]
  },
  {
   "cell_type": "code",
   "execution_count": null,
   "metadata": {
    "collapsed": true
   },
   "outputs": [],
   "source": []
  }
 ],
 "metadata": {
  "kernelspec": {
   "display_name": "Python 2",
   "language": "python",
   "name": "python2"
  },
  "language_info": {
   "codemirror_mode": {
    "name": "ipython",
    "version": 2
   },
   "file_extension": ".py",
   "mimetype": "text/x-python",
   "name": "python",
   "nbconvert_exporter": "python",
   "pygments_lexer": "ipython2",
   "version": "2.7.12"
  }
 },
 "nbformat": 4,
 "nbformat_minor": 1
}
