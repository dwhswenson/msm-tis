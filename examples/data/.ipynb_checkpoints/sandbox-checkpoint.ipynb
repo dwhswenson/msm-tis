{
 "worksheets": [
  {
   "cells": [
    {
     "cell_type": "code",
     "metadata": {},
     "outputs": [],
     "input": [
      "from simtk.openmm.app import *\n",
      "from simtk.openmm import *\n",
      "from simtk.unit import *\n",
      "\n",
      "import mdtraj as md\n",
      "import numpy as np\n",
      "\n",
      "from pymbar import MBAR"
     ],
     "language": "python",
     "prompt_number": 1
    },
    {
     "cell_type": "code",
     "metadata": {},
     "outputs": [],
     "input": [
      "ommPDB = PDBFile('input.pdb')"
     ],
     "language": "python",
     "prompt_number": 2
    },
    {
     "cell_type": "code",
     "metadata": {},
     "outputs": [],
     "input": [
      "mdPDB = md.load('input.pdb')"
     ],
     "language": "python",
     "prompt_number": 3
    },
    {
     "cell_type": "code",
     "metadata": {},
     "outputs": [
      {
       "output_type": "pyout",
       "prompt_number": 4,
       "text": [
        "<simtk.openmm.app.topology.Topology at 0x10c5cf4d0>"
       ],
       "metadata": {}
      }
     ],
     "input": [
      "ommPDB.topology"
     ],
     "language": "python",
     "prompt_number": 4
    },
    {
     "cell_type": "code",
     "metadata": {},
     "outputs": [
      {
       "output_type": "pyout",
       "prompt_number": 15,
       "text": [
        "(<function copy_reg._reconstructor>,\n",
        " (mdtraj.core.topology.Topology, object, None),\n",
        " {'_atoms': [ACE1-H1,\n",
        "   ACE1-CH3,\n",
        "   ACE1-H2,\n",
        "   ACE1-H3,\n",
        "   ACE1-C,\n",
        "   ACE1-O,\n",
        "   ALA2-N,\n",
        "   ALA2-H,\n",
        "   ALA2-CA,\n",
        "   ALA2-HA,\n",
        "   ALA2-CB,\n",
        "   ALA2-HB1,\n",
        "   ALA2-HB2,\n",
        "   ALA2-HB3,\n",
        "   ALA2-C,\n",
        "   ALA2-O,\n",
        "   NME3-N,\n",
        "   NME3-H,\n",
        "   NME3-C,\n",
        "   NME3-H1,\n",
        "   NME3-H2,\n",
        "   NME3-H3],\n",
        "  '_bonds': [(ACE1-CH3, ACE1-C),\n",
        "   (ACE1-C, ACE1-O),\n",
        "   (ACE1-H1, ACE1-CH3),\n",
        "   (ACE1-CH3, ACE1-H2),\n",
        "   (ACE1-CH3, ACE1-H3),\n",
        "   (ACE1-C, ALA2-N),\n",
        "   (ALA2-CA, ALA2-C),\n",
        "   (ALA2-C, ALA2-O),\n",
        "   (ALA2-CA, ALA2-CB),\n",
        "   (ALA2-CA, ALA2-HA),\n",
        "   (ALA2-N, ALA2-CA),\n",
        "   (ALA2-CB, ALA2-HB1),\n",
        "   (ALA2-CB, ALA2-HB2),\n",
        "   (ALA2-CB, ALA2-HB3),\n",
        "   (ALA2-N, ALA2-H),\n",
        "   (ALA2-C, NME3-N),\n",
        "   (NME3-C, NME3-H1),\n",
        "   (NME3-C, NME3-H2),\n",
        "   (NME3-C, NME3-H3),\n",
        "   (NME3-N, NME3-C),\n",
        "   (NME3-N, NME3-H)],\n",
        "  '_chains': [<mdtraj.core.topology.Chain at 0x10c891990>],\n",
        "  '_numAtoms': 22,\n",
        "  '_numResidues': 3,\n",
        "  '_residues': [ACE1, ALA2, NME3]})"
       ],
       "metadata": {}
      }
     ],
     "input": [
      "mdPDB.topology.__reduce__()"
     ],
     "language": "python",
     "prompt_number": 15
    },
    {
     "cell_type": "code",
     "metadata": {},
     "outputs": [],
     "input": [
      "ch = mdPDB.topology._chains[0]"
     ],
     "language": "python",
     "prompt_number": 68
    },
    {
     "cell_type": "code",
     "metadata": {},
     "outputs": [
      {
       "output_type": "pyout",
       "prompt_number": 69,
       "text": [
        "(<function copy_reg._reconstructor>,\n",
        " (mdtraj.core.topology.Chain, object, None),\n",
        " {'_residues': [ACE1, ALA2, NME3],\n",
        "  'index': 0,\n",
        "  'topology': <mdtraj.Topology with 1 chains, 3 residues, 22 atoms, 21 bonds at 0x10c5e4310>})"
       ],
       "metadata": {}
      }
     ],
     "input": [
      "ch.__reduce__()"
     ],
     "language": "python",
     "prompt_number": 69
    },
    {
     "cell_type": "code",
     "metadata": {},
     "outputs": [
      {
       "output_type": "pyout",
       "prompt_number": 88,
       "text": [
        "'Topology stores the topological information about a system.\\n\\n    The structure of a Topology object is similar to that of a PDB file.\\n    It consists of a set of Chains (often but not always corresponding to\\n    polymer chains).  Each Chain contains a set of Residues, and each Residue\\n    contains a set of Atoms.  In addition, the Topology stores a list of which\\n    atom pairs are bonded to each other.\\n\\n    Atom and residue names should follow the PDB 3.0 nomenclature for all\\n    molecules for which one exists.\\n\\n    Attributes\\n    ----------\\n    chains : generator\\n        Iterator over all Chains in the Topology.\\n    residues : genetator\\n        Iterator over all Residues in the Chain.\\n    atoms : generator\\n        Iterator over all Atoms in the Chain.\\n\\n    Examples\\n    --------\\n    >>> topology = md.load(\\'example.pdb\\').topology\\n    >>> print(topology)\\n    <mdtraj.Topology with 1 chains, 3 residues, 22 atoms, 21 bonds at 0x105a98e90>\\n    >>> table, bonds = topology.to_dataframe()\\n    >>> print(table.head())\\n       serial name element  resSeq resName  chainID\\n    0       0   H1       H       0     CYS        0\\n    1       1  CH3       C       0     CYS        0\\n    2       2   H2       H       0     CYS        0\\n    3       3   H3       H       0     CYS        0\\n    4       4    C       C       0     CYS        0\\n    >>> # rename residue \"CYS\" to \"CYSS\"\\n    >>> table[table[\\'residue\\'] == \\'CYS\\'][\\'residue\\'] = \\'CYSS\\'\\n    >>> print(table.head())\\n       serial name element  resSeq resName   chainID\\n    0       0   H1       H       0     CYSS        0\\n    1       1  CH3       C       0     CYSS        0\\n    2       2   H2       H       0     CYSS        0\\n    3       3   H3       H       0     CYSS        0\\n    4       4    C       C       0     CYSS        0\\n    >>> t2 = md.Topology.from_dataframe(table, bonds)\\n    '"
       ],
       "metadata": {}
      }
     ],
     "input": [
      "ch = md.core.topology.Chain(0, topology)\n",
      "ch._residues = ['ACE1', 'ALA2', 'NME3']\n",
      "tp = md.core.topology.Topology()\n",
      "tp.__doc__"
     ],
     "language": "python",
     "prompt_number": 88
    },
    {
     "cell_type": "code",
     "metadata": {},
     "outputs": [
      {
       "output_type": "stream",
       "stream": "stdout",
       "text": [
        "Help on class Topology in module mdtraj.core.topology:\n",
        "\n",
        "class Topology(__builtin__.object)\n",
        " |  Topology stores the topological information about a system.\n",
        " |  \n",
        " |  The structure of a Topology object is similar to that of a PDB file.\n",
        " |  It consists of a set of Chains (often but not always corresponding to\n",
        " |  polymer chains).  Each Chain contains a set of Residues, and each Residue\n",
        " |  contains a set of Atoms.  In addition, the Topology stores a list of which\n",
        " |  atom pairs are bonded to each other.\n",
        " |  \n",
        " |  Atom and residue names should follow the PDB 3.0 nomenclature for all\n",
        " |  molecules for which one exists.\n",
        " |  \n",
        " |  Attributes\n",
        " |  ----------\n",
        " |  chains : generator\n",
        " |      Iterator over all Chains in the Topology.\n",
        " |  residues : genetator\n",
        " |      Iterator over all Residues in the Chain.\n",
        " |  atoms : generator\n",
        " |      Iterator over all Atoms in the Chain.\n",
        " |  \n",
        " |  Examples\n",
        " |  --------\n",
        " |  >>> topology = md.load('example.pdb').topology\n",
        " |  >>> print(topology)\n",
        " |  <mdtraj.Topology with 1 chains, 3 residues, 22 atoms, 21 bonds at 0x105a98e90>\n",
        " |  >>> table, bonds = topology.to_dataframe()\n",
        " |  >>> print(table.head())\n",
        " |     serial name element  resSeq resName  chainID\n",
        " |  0       0   H1       H       0     CYS        0\n",
        " |  1       1  CH3       C       0     CYS        0\n",
        " |  2       2   H2       H       0     CYS        0\n",
        " |  3       3   H3       H       0     CYS        0\n",
        " |  4       4    C       C       0     CYS        0\n",
        " |  >>> # rename residue \"CYS\" to \"CYSS\"\n",
        " |  >>> table[table['residue'] == 'CYS']['residue'] = 'CYSS'\n",
        " |  >>> print(table.head())\n",
        " |     serial name element  resSeq resName   chainID\n",
        " |  0       0   H1       H       0     CYSS        0\n",
        " |  1       1  CH3       C       0     CYSS        0\n",
        " |  2       2   H2       H       0     CYSS        0\n",
        " |  3       3   H3       H       0     CYSS        0\n",
        " |  4       4    C       C       0     CYSS        0\n",
        " |  >>> t2 = md.Topology.from_dataframe(table, bonds)\n",
        " |  \n",
        " |  Methods defined here:\n",
        " |  \n",
        " |  __copy__(self, *args)\n",
        " |  \n",
        " |  __deepcopy__(self, *args)\n",
        " |  \n",
        " |  __eq__(self, other)\n",
        " |      Are two topologies equal?\n",
        " |      \n",
        " |      Parameters\n",
        " |      ----------\n",
        " |      other : object\n",
        " |          The object to compare to\n",
        " |      \n",
        " |      Returns\n",
        " |      -------\n",
        " |      equality : bool\n",
        " |          Are the two topologies identical?\n",
        " |  \n",
        " |  __init__(self)\n",
        " |      Create a new Topology object\n",
        " |  \n",
        " |  __ne__(self, other)\n",
        " |  \n",
        " |  __repr__(self)\n",
        " |  \n",
        " |  __str__(self)\n",
        " |  \n",
        " |  add_atom(self, name, element, residue)\n",
        " |      Create a new Atom and add it to the Topology.\n",
        " |      \n",
        " |      Parameters\n",
        " |      ----------\n",
        " |      name : str\n",
        " |          The name of the atom to add\n",
        " |      element : mdtraj.element.Element\n",
        " |          The element of the atom to add\n",
        " |      residue : mdtraj.topology.Residue\n",
        " |          The Residue to add it to\n",
        " |      \n",
        " |      Returns\n",
        " |      -------\n",
        " |      atom : mdtraj.topology.Atom\n",
        " |          the newly created Atom\n",
        " |  \n",
        " |  add_bond(self, atom1, atom2)\n",
        " |      Create a new bond and add it to the Topology.\n",
        " |      \n",
        " |      Parameters\n",
        " |      ----------\n",
        " |      atom1 : mdtraj.topology.Atom\n",
        " |          The first Atom connected by the bond\n",
        " |      atom2 : mdtraj.topology.Atom\n",
        " |          The second Atom connected by the bond\n",
        " |  \n",
        " |  add_chain(self)\n",
        " |      Create a new Chain and add it to the Topology.\n",
        " |      \n",
        " |      Returns\n",
        " |      -------\n",
        " |      chain : mdtraj.topology.Chain\n",
        " |          the newly created Chain\n",
        " |  \n",
        " |  add_residue(self, name, chain, resSeq=None)\n",
        " |      Create a new Residue and add it to the Topology.\n",
        " |      \n",
        " |      Parameters\n",
        " |      ----------\n",
        " |      name : str\n",
        " |          The name of the residue to add\n",
        " |      chain : mdtraj.topology.Chain\n",
        " |          The Chain to add it to\n",
        " |      resSeq : int, optional\n",
        " |          Residue sequence number, such as from a PDB record. These sequence\n",
        " |          numbers are arbitrary, and do not necessarily start at 0 (or 1).\n",
        " |          If not supplied, the resSeq attribute will be set to the\n",
        " |          residue's sequential (0 based) index.\n",
        " |      \n",
        " |      Returns\n",
        " |      -------\n",
        " |      residue : mdtraj.topology.Residue\n",
        " |          The newly created Residue\n",
        " |  \n",
        " |  atom(self, index)\n",
        " |      Get a specific atom by index. These indices\n",
        " |      start from zero.\n",
        " |      \n",
        " |      Returns\n",
        " |      -------\n",
        " |      atom : Atom\n",
        " |          The `index`-th atom in the topology.\n",
        " |  \n",
        " |  atoms_by_name(self, name)\n",
        " |      Iterator over all Atoms in the Topology with a specified name\n",
        " |      \n",
        " |      Example\n",
        " |      -------\n",
        " |      >>> for atom in topology.atoms_by_name('CA'):\n",
        " |      ...     print(atom)\n",
        " |      \n",
        " |      Returns\n",
        " |      -------\n",
        " |      atomiter : generator\n",
        " |  \n",
        " |  chain(self, index)\n",
        " |      Get a specific chain by index.  These indices\n",
        " |      start from zero.\n",
        " |      \n",
        " |      Returns\n",
        " |      -------\n",
        " |      chain : Chain\n",
        " |          The `index`-th chain in the topology.\n",
        " |  \n",
        " |  copy(self)\n",
        " |      Return a copy of the topology\n",
        " |      \n",
        " |      Returns\n",
        " |      -------\n",
        " |      out : Topology\n",
        " |          A copy of this topology\n",
        " |  \n",
        " |  create_disulfide_bonds(self, positions)\n",
        " |      Identify disulfide bonds based on proximity and add them to the Topology.\n",
        " |      \n",
        " |      Parameters\n",
        " |      ----------\n",
        " |      positions : list\n",
        " |          The list of atomic positions based on which to identify bonded atoms\n",
        " |  \n",
        " |  create_standard_bonds(self)\n",
        " |      Create bonds based on the atom and residue names for all standard residue types.\n",
        " |  \n",
        " |  join(self, other)\n",
        " |      Join two topologies together\n",
        " |      \n",
        " |      Parameters\n",
        " |      ----------\n",
        " |      other : Topology\n",
        " |          Another topology object\n",
        " |      \n",
        " |      Returns\n",
        " |      -------\n",
        " |      out : Topology\n",
        " |          A joint topology, with all of the atoms/residues/chains/bonds\n",
        " |          in each of the individual topologies\n",
        " |  \n",
        " |  residue(self, index)\n",
        " |      Get a specific residue by index.  These indices\n",
        " |      start from zero.\n",
        " |      \n",
        " |      Returns\n",
        " |      -------\n",
        " |      residue : Residue\n",
        " |          The `index`-th residue in the topology.\n",
        " |  \n",
        " |  subset(self, atom_indices)\n",
        " |      Create a new Topology from a subset of the atoms in an existing topology.\n",
        " |      \n",
        " |      Notes\n",
        " |      -----\n",
        " |      The existing topology will not be altered.\n",
        " |      \n",
        " |      Parameters\n",
        " |      ----------\n",
        " |      atom_indices array_like\n",
        " |          A list of the indices corresponding to the atoms in that you'd\n",
        " |          like to retain.\n",
        " |  \n",
        " |  to_bondgraph(self)\n",
        " |      Create a NetworkX graph from the atoms and bonds in this topology\n",
        " |      \n",
        " |      Returns\n",
        " |      -------\n",
        " |      g : nx.Graph\n",
        " |          A graph whose nodes are the Atoms in this topology, and\n",
        " |          whose edges are the bonds\n",
        " |      \n",
        " |      See Also\n",
        " |      --------\n",
        " |      atoms\n",
        " |      bonds\n",
        " |      \n",
        " |      Notes\n",
        " |      -----\n",
        " |      This method requires the NetworkX python package.\n",
        " |  \n",
        " |  to_dataframe(self)\n",
        " |      Convert this topology into a pandas dataframe\n",
        " |      \n",
        " |      Returns\n",
        " |      -------\n",
        " |      atoms : pandas.DataFrame\n",
        " |          The atoms in the topology, represented as a data frame.\n",
        " |      bonds : np.ndarray\n",
        " |          The bonds in this topology, represented as an n_bonds x 2 array\n",
        " |          of the indices of the atoms involved in each bond.\n",
        " |  \n",
        " |  to_openmm(self)\n",
        " |      Convert this topology into OpenMM topology\n",
        " |      \n",
        " |      Returns\n",
        " |      -------\n",
        " |      topology : simtk.openmm.app.Topology\n",
        " |         This topology, as an OpenMM topology\n",
        " |  \n",
        " |  ----------------------------------------------------------------------\n",
        " |  Class methods defined here:\n",
        " |  \n",
        " |  from_dataframe(cls, atoms, bonds=None) from __builtin__.type\n",
        " |      Create a mdtraj topology from a pandas data frame\n",
        " |      \n",
        " |      Parameters\n",
        " |      ----------\n",
        " |      atoms : pandas.DataFrame\n",
        " |          The atoms in the topology, represented as a data frame. This data\n",
        " |          frame should have columns \"serial\" (atom index), \"name\" (atom name),\n",
        " |          \"element\" (atom's element), \"resSeq\" (index of the residue)\n",
        " |          \"resName\" (name of the residue), \"chainID\" (index of the chain),\n",
        " |          following the same conventions as wwPDB 3.0 format.\n",
        " |      bonds : np.ndarray, shape=(n_bonds, 2), dtype=int, optional\n",
        " |          The bonds in the topology, represented as an n_bonds x 2 array\n",
        " |          of the indices of the atoms involved in each bond. Specifiying\n",
        " |          bonds here is optional. To create standard protein bonds, you can\n",
        " |          use `create_standard_bonds` to \"fill in\" the bonds on your newly\n",
        " |          created Topology object\n",
        " |      \n",
        " |      See Also\n",
        " |      --------\n",
        " |      create_standard_bonds\n",
        " |  \n",
        " |  from_openmm(cls, value) from __builtin__.type\n",
        " |      Create a mdtraj topology from an OpenMM topology\n",
        " |      \n",
        " |      Parameters\n",
        " |      ----------\n",
        " |      value : simtk.openmm.app.Topology\n",
        " |          An OpenMM topology that you wish to convert to a\n",
        " |          mdtraj topology.\n",
        " |  \n",
        " |  ----------------------------------------------------------------------\n",
        " |  Data descriptors defined here:\n",
        " |  \n",
        " |  __dict__\n",
        " |      dictionary for instance variables (if defined)\n",
        " |  \n",
        " |  __weakref__\n",
        " |      list of weak references to the object (if defined)\n",
        " |  \n",
        " |  atoms\n",
        " |      Iterator over all Atoms in the Topology.\n",
        " |      \n",
        " |      Returns\n",
        " |      -------\n",
        " |      atomiter : generator\n",
        " |          Iterator over all Atoms in the Topology.\n",
        " |  \n",
        " |  bonds\n",
        " |      Iterator over all bonds (each represented as a tuple of two Atoms) in the Topology.\n",
        " |      \n",
        " |      Returns\n",
        " |      -------\n",
        " |      atomiter : generator\n",
        " |          Iterator over all tuple of Atoms in the Trajectory involved in a bond.\n",
        " |  \n",
        " |  chains\n",
        " |      Iterator over all Chains in the Topology.\n",
        " |      \n",
        " |      Returns\n",
        " |      -------\n",
        " |      chainiter : listiterator\n",
        " |          Iterator over all Chains in the Topology.\n",
        " |  \n",
        " |  n_atoms\n",
        " |      Get the number of atoms in the Topology\n",
        " |  \n",
        " |  n_chains\n",
        " |      Get the number of chains in the Topology\n",
        " |  \n",
        " |  n_residues\n",
        " |      Get the number of residues in the Topology\n",
        " |  \n",
        " |  residues\n",
        " |      Iterator over all Residues in the Topology.\n",
        " |      \n",
        " |      Returns\n",
        " |      -------\n",
        " |      residueiter : generator\n",
        " |          Iterator over all Residues in the Topology.\n",
        "\n"
       ]
      }
     ],
     "input": [
      "help(md.core.topology.Topology)"
     ],
     "language": "python",
     "prompt_number": 90
    },
    {
     "cell_type": "code",
     "metadata": {},
     "outputs": [
      {
       "output_type": "pyout",
       "prompt_number": 75,
       "text": [
        "{'_residues': [ACE1, ALA2, NME3],\n",
        " 'index': 0,\n",
        " 'topology': <mdtraj.Topology with 1 chains, 3 residues, 22 atoms, 21 bonds at 0x10c5e4310>}"
       ],
       "metadata": {}
      }
     ],
     "input": [
      "chain.__dict__"
     ],
     "language": "python",
     "prompt_number": 75
    },
    {
     "cell_type": "code",
     "metadata": {},
     "outputs": [],
     "input": [
      "r = mdPDB.topology.__reduce__()"
     ],
     "language": "python",
     "prompt_number": 43
    },
    {
     "cell_type": "code",
     "metadata": {},
     "outputs": [],
     "input": [
      "chain = r[2]['_chains'][0]"
     ],
     "language": "python",
     "prompt_number": 56
    },
    {
     "cell_type": "code",
     "metadata": {},
     "outputs": [],
     "input": [
      "top = chain.__reduce__()[2]['topology']"
     ],
     "language": "python",
     "prompt_number": 59
    },
    {
     "cell_type": "code",
     "metadata": {},
     "outputs": [
      {
       "output_type": "stream",
       "stream": "stdout",
       "text": [
        "<bound method Topology.__str__ of <mdtraj.Topology with 1 chains, 3 residues, 22 atoms, 21 bonds at 0x10c5e4310>>\n",
        "<bound method Topology.__str__ of <mdtraj.Topology with 1 chains, 3 residues, 22 atoms, 21 bonds at 0x10c5e4310>>\n"
       ]
      }
     ],
     "input": [
      "print top.__str__\n",
      "print mdPDB.topology.__str__"
     ],
     "language": "python",
     "prompt_number": 65
    },
    {
     "cell_type": "code",
     "metadata": {},
     "outputs": [],
     "input": [
      "mdFromOmmPDB = md.Topology.from_openmm(ommPDB.topology)"
     ],
     "language": "python",
     "prompt_number": 12
    },
    {
     "cell_type": "code",
     "metadata": {},
     "outputs": [
      {
       "output_type": "pyout",
       "prompt_number": 27,
       "text": [
        "<mdtraj.Trajectory with 1 frames, 22 atoms, 3 residues, without unitcells at 0x10b1d2e50>"
       ],
       "metadata": {}
      }
     ],
     "input": [
      "mdPDB"
     ],
     "language": "python",
     "prompt_number": 27
    },
    {
     "cell_type": "code",
     "metadata": {},
     "outputs": [],
     "input": [
      "import pickle"
     ],
     "language": "python",
     "prompt_number": 42
    },
    {
     "cell_type": "code",
     "metadata": {},
     "outputs": [],
     "input": [
      "s = 'ccopy_reg\\n_reconstructor\\np0\\n(cmdtraj.core.trajectory\\nTrajectory\\np1\\nc__builtin__\\nobject\\np2\\nNtp3\\nRp4\\n(dp5\\nS\\'_unitcell_lengths\\'\\np6\\nNsS\\'_unitcell_angles\\'\\np7\\nNsS\\'_topology\\'\\np8\\ng0\\n(cmdtraj.core.topology\\nTopology\\np9\\ng2\\nNtp10\\nRp11\\n(dp12\\nS\\'_residues\\'\\np13\\n(lp14\\ng0\\n(cmdtraj.core.topology\\nResidue\\np15\\ng2\\nNtp16\\nRp17\\n(dp18\\nS\\'index\\'\\np19\\nI0\\nsS\\'_atoms\\'\\np20\\n(lp21\\ng0\\n(cmdtraj.core.topology\\nAtom\\np22\\ng2\\nNtp23\\nRp24\\n(dp25\\nS\\'residue\\'\\np26\\ng17\\nsg19\\nI0\\nsS\\'name\\'\\np27\\nS\\'H1\\'\\np28\\nsS\\'element\\'\\np29\\ncmdtraj.core.element\\nhydrogen\\np30\\nsbag0\\n(g22\\ng2\\nNtp31\\nRp32\\n(dp33\\ng26\\ng17\\nsg19\\nI1\\nsg27\\nS\\'CH3\\'\\np34\\nsg29\\ncmdtraj.core.element\\ncarbon\\np35\\nsbag0\\n(g22\\ng2\\nNtp36\\nRp37\\n(dp38\\ng26\\ng17\\nsg19\\nI2\\nsg27\\nS\\'H2\\'\\np39\\nsg29\\ng30\\nsbag0\\n(g22\\ng2\\nNtp40\\nRp41\\n(dp42\\ng26\\ng17\\nsg19\\nI3\\nsg27\\nS\\'H3\\'\\np43\\nsg29\\ng30\\nsbag0\\n(g22\\ng2\\nNtp44\\nRp45\\n(dp46\\ng26\\ng17\\nsg19\\nI4\\nsg27\\nS\\'C\\'\\np47\\nsg29\\ng35\\nsbag0\\n(g22\\ng2\\nNtp48\\nRp49\\n(dp50\\ng26\\ng17\\nsg19\\nI5\\nsg27\\nS\\'O\\'\\np51\\nsg29\\ncmdtraj.core.element\\noxygen\\np52\\nsbasg27\\nS\\'ACE\\'\\np53\\nsS\\'chain\\'\\np54\\ng0\\n(cmdtraj.core.topology\\nChain\\np55\\ng2\\nNtp56\\nRp57\\n(dp58\\ng13\\n(lp59\\ng17\\nag0\\n(g15\\ng2\\nNtp60\\nRp61\\n(dp62\\ng19\\nI1\\nsg20\\n(lp63\\ng0\\n(g22\\ng2\\nNtp64\\nRp65\\n(dp66\\ng26\\ng61\\nsg19\\nI6\\nsg27\\nS\\'N\\'\\np67\\nsg29\\ncmdtraj.core.element\\nnitrogen\\np68\\nsbag0\\n(g22\\ng2\\nNtp69\\nRp70\\n(dp71\\ng26\\ng61\\nsg19\\nI7\\nsg27\\nS\\'H\\'\\np72\\nsg29\\ng30\\nsbag0\\n(g22\\ng2\\nNtp73\\nRp74\\n(dp75\\ng26\\ng61\\nsg19\\nI8\\nsg27\\nS\\'CA\\'\\np76\\nsg29\\ng35\\nsbag0\\n(g22\\ng2\\nNtp77\\nRp78\\n(dp79\\ng26\\ng61\\nsg19\\nI9\\nsg27\\nS\\'HA\\'\\np80\\nsg29\\ng30\\nsbag0\\n(g22\\ng2\\nNtp81\\nRp82\\n(dp83\\ng26\\ng61\\nsg19\\nI10\\nsg27\\nS\\'CB\\'\\np84\\nsg29\\ng35\\nsbag0\\n(g22\\ng2\\nNtp85\\nRp86\\n(dp87\\ng26\\ng61\\nsg19\\nI11\\nsg27\\nS\\'HB1\\'\\np88\\nsg29\\ng30\\nsbag0\\n(g22\\ng2\\nNtp89\\nRp90\\n(dp91\\ng26\\ng61\\nsg19\\nI12\\nsg27\\nS\\'HB2\\'\\np92\\nsg29\\ng30\\nsbag0\\n(g22\\ng2\\nNtp93\\nRp94\\n(dp95\\ng26\\ng61\\nsg19\\nI13\\nsg27\\nS\\'HB3\\'\\np96\\nsg29\\ng30\\nsbag0\\n(g22\\ng2\\nNtp97\\nRp98\\n(dp99\\ng26\\ng61\\nsg19\\nI14\\nsg27\\nS\\'C\\'\\np100\\nsg29\\ng35\\nsbag0\\n(g22\\ng2\\nNtp101\\nRp102\\n(dp103\\ng26\\ng61\\nsg19\\nI15\\nsg27\\nS\\'O\\'\\np104\\nsg29\\ng52\\nsbasg27\\nS\\'ALA\\'\\np105\\nsg54\\ng57\\nsS\\'resSeq\\'\\np106\\nI2\\nsbag0\\n(g15\\ng2\\nNtp107\\nRp108\\n(dp109\\ng19\\nI2\\nsg20\\n(lp110\\ng0\\n(g22\\ng2\\nNtp111\\nRp112\\n(dp113\\ng26\\ng108\\nsg19\\nI16\\nsg27\\nS\\'N\\'\\np114\\nsg29\\ng68\\nsbag0\\n(g22\\ng2\\nNtp115\\nRp116\\n(dp117\\ng26\\ng108\\nsg19\\nI17\\nsg27\\nS\\'H\\'\\np118\\nsg29\\ng30\\nsbag0\\n(g22\\ng2\\nNtp119\\nRp120\\n(dp121\\ng26\\ng108\\nsg19\\nI18\\nsg27\\nS\\'C\\'\\np122\\nsg29\\ng35\\nsbag0\\n(g22\\ng2\\nNtp123\\nRp124\\n(dp125\\ng26\\ng108\\nsg19\\nI19\\nsg27\\nS\\'H1\\'\\np126\\nsg29\\ng30\\nsbag0\\n(g22\\ng2\\nNtp127\\nRp128\\n(dp129\\ng26\\ng108\\nsg19\\nI20\\nsg27\\nS\\'H2\\'\\np130\\nsg29\\ng30\\nsbag0\\n(g22\\ng2\\nNtp131\\nRp132\\n(dp133\\ng26\\ng108\\nsg19\\nI21\\nsg27\\nS\\'H3\\'\\np134\\nsg29\\ng30\\nsbasg27\\nS\\'NME\\'\\np135\\nsg54\\ng57\\nsg106\\nI3\\nsbasg19\\nI0\\nsS\\'topology\\'\\np136\\ng11\\nsbsg106\\nI1\\nsbag61\\nag108\\nasS\\'_chains\\'\\np137\\n(lp138\\ng57\\nasS\\'_numAtoms\\'\\np139\\nI22\\nsS\\'_bonds\\'\\np140\\n(lp141\\n(g32\\ng45\\ntp142\\na(g45\\ng49\\ntp143\\na(g24\\ng32\\ntp144\\na(g32\\ng37\\ntp145\\na(g32\\ng41\\ntp146\\na(g45\\ng65\\ntp147\\na(g74\\ng98\\ntp148\\na(g98\\ng102\\ntp149\\na(g74\\ng82\\ntp150\\na(g74\\ng78\\ntp151\\na(g65\\ng74\\ntp152\\na(g82\\ng86\\ntp153\\na(g82\\ng90\\ntp154\\na(g82\\ng94\\ntp155\\na(g65\\ng70\\ntp156\\na(g98\\ng112\\ntp157\\na(g120\\ng124\\ntp158\\na(g120\\ng128\\ntp159\\na(g120\\ng132\\ntp160\\na(g112\\ng120\\ntp161\\na(g112\\ng116\\ntp162\\nasg20\\n(lp163\\ng24\\nag32\\nag37\\nag41\\nag45\\nag49\\nag65\\nag70\\nag74\\nag78\\nag82\\nag86\\nag90\\nag94\\nag98\\nag102\\nag112\\nag116\\nag120\\nag124\\nag128\\nag132\\nasS\\'_numResidues\\'\\np164\\nI3\\nsbsS\\'_rmsd_traces\\'\\np165\\ncnumpy.core.multiarray\\n_reconstruct\\np166\\n(cnumpy\\nndarray\\np167\\n(I0\\ntp168\\nS\\'b\\'\\np169\\ntp170\\nRp171\\n(I1\\n(I1\\ntp172\\ncnumpy\\ndtype\\np173\\n(S\\'f4\\'\\np174\\nI0\\nI1\\ntp175\\nRp176\\n(I3\\nS\\'<\\'\\np177\\nNNNI-1\\nI-1\\nI0\\ntp178\\nbI00\\nS\\'w~\\\\xd7?\\'\\np179\\ntp180\\nbsS\\'_time\\'\\np181\\ng166\\n(g167\\n(I0\\ntp182\\ng169\\ntp183\\nRp184\\n(I1\\n(I1\\ntp185\\ng173\\n(S\\'i8\\'\\np186\\nI0\\nI1\\ntp187\\nRp188\\n(I3\\nS\\'<\\'\\np189\\nNNNI-1\\nI-1\\nI0\\ntp190\\nbI00\\nS\\'\\\\x00\\\\x00\\\\x00\\\\x00\\\\x00\\\\x00\\\\x00\\\\x00\\'\\np191\\ntp192\\nbsS\\'_xyz\\'\\np193\\ng166\\n(g167\\n(I0\\ntp194\\ng169\\ntp195\\nRp196\\n(I1\\n(I1\\nI22\\nI3\\ntp197\\ng176\\nI00\\nS\\'\\\\xc2,\\\\xaa\\\\xbe\\\\xe0W8>c\\\\x17\\\\xe4=\\\\xcdP\\\\x92\\\\xbe\\\\xd1)\\\\xa7=\\\\xcd\\\\xd3\\\\xd8=\\\\xf7\\\\x8a\\\\xa4\\\\xbe\\\\\\\\\\\\xab\\\\xf2<d\\\\n\\\\x8b<m\\\\xfc\\\\x9f\\\\xbe\\\\x98\\\\xf9\\\\xc3<n\\\\xefF>\\\\xa6\\\\xe7\\\\t\\\\xbe\\\\xdaD\\\\xc5=\\\\xc9}\\\\xca=\\\\xbf\\\\x84\\\\xa9\\\\xbd\\\\xe9\\\\x03U>\\\\xa5U\\\\xcc=\\\\xb4\\\\xcf\\\\x82\\\\xbd\\\\x0f\\\\xcd\\\\x87\\\\xbcW\\\\x84\\\\xba=\\\\xaep\\\\xea\\\\xbd\\\\xe5Z\\\\xd5\\\\xbd\\\\xc5\\\\\\'\\\\xbc=4\\\\n\\\\xaa=\\\\x1fi\\\\xbb\\\\xbcz\\\\xce\\\\xb5=o\\\\xe9\\\\xf9=:1b=\\\\xe2\\\\x13\\\\x1e>q\\\\xa5\\\\xff=L|\"\\\\xbes\\\\xb4\\\\x16>\\\\xfd;o>;\\\\xb5\\\\\\'\\\\xbe\\\\x19.\\\\x1e>\\\\xca+\\\\xb8=\\\\xf5mu\\\\xbe\\\\x9b\\\\xed\\\\xa9=\\\\xebl\\\\xa9=\\\\xab\\\\x14/\\\\xbe\\\\xa2\\\\x00}>c\\\\xa2\\\\x15>\\\\x90\\\\xe8\\\\xee:\\\\xaf\\\\xf5N\\\\xbd\\\\xba\\\\xa3\\\\x89>\\\\xee\\\\x92\"<\\\\x98>}\\\\xbdN[\\\\x84=\\\\x03cg<\\\\x9d\\\\xc5\\\\x1f\\\\xbe\"\\\\x9c\\\\r\\\\xbd0\\\\x91\\\\xdf;\\\\x86\\\\x0e\\\\x0e\\\\xbe\\\\xb1\\\\xda\\\\xdd=\\\\x01\\\\xec\\\\x1a=\\\\xe2!\\\\x96\\\\xbe\\\\xe8\\\\x8d\\\\\\'>R\\\\xe2\\\\x06>\\\\x1a\\\\x1a\\\\x99\\\\xbe\\\\xd9\\\\x131>\\\\xccO3\\\\xbd^\\\\x14\\\\xa7\\\\xbed\\\\xfd\\\\xb1<\\\\xe3D2=\\\\xa3\\\\xec\\\\xb7\\\\xbe\\'\\np198\\ntp199\\nbsb.'"
     ],
     "language": "python",
     "prompt_number": 66
    },
    {
     "cell_type": "code",
     "metadata": {},
     "outputs": [],
     "input": [
      "s = pickle.dumps(mdPDB)"
     ],
     "language": "python",
     "prompt_number": 31
    },
    {
     "cell_type": "code",
     "metadata": {},
     "outputs": [],
     "input": [
      "testPDB = pickle.loads(s)"
     ],
     "language": "python",
     "prompt_number": 67
    },
    {
     "cell_type": "code",
     "metadata": {},
     "outputs": [],
     "input": [
      "v = np.array([1,3,2,4,2,1,23,22,3,2,1,2])"
     ],
     "language": "python",
     "prompt_number": 11
    },
    {
     "cell_type": "code",
     "metadata": {},
     "outputs": [
      {
       "output_type": "pyout",
       "prompt_number": 13,
       "text": [
        "array([ 3,  2, 22])"
       ],
       "metadata": {}
      }
     ],
     "input": [
      "v[1:10:3]"
     ],
     "language": "python",
     "prompt_number": 13
    },
    {
     "cell_type": "code",
     "metadata": {},
     "outputs": [
      {
       "output_type": "pyout",
       "prompt_number": 14,
       "text": [
        "array([ 3,  2, 22])"
       ],
       "metadata": {}
      }
     ],
     "input": [
      "v[slice(1,10,3)]"
     ],
     "language": "python",
     "prompt_number": 14
    },
    {
     "cell_type": "code",
     "metadata": {},
     "outputs": [
      {
       "output_type": "pyout",
       "prompt_number": 19,
       "text": [
        "slice(1, 3, 10)"
       ],
       "metadata": {}
      }
     ],
     "input": [
      "slice(1,3,10)"
     ],
     "language": "python",
     "prompt_number": 19
    },
    {
     "cell_type": "code",
     "metadata": {},
     "outputs": [],
     "input": [
      "def fnc(a,b):\n",
      "    print a\n",
      "    print b\n",
      "    print v[a]"
     ],
     "language": "python",
     "prompt_number": 20
    },
    {
     "cell_type": "code",
     "metadata": {},
     "outputs": [
      {
       "output_type": "stream",
       "stream": "stdout",
       "text": [
        "None\n",
        "2\n",
        "[[ 1  3  2  4  2  1 23 22  3  2  1  2]]\n"
       ]
      }
     ],
     "input": [
      "fnc(None,2)"
     ],
     "language": "python",
     "prompt_number": 31
    },
    {
     "cell_type": "code",
     "metadata": {},
     "outputs": [
      {
       "output_type": "pyout",
       "prompt_number": 41,
       "text": [
        "array([1, 2])"
       ],
       "metadata": {}
      }
     ],
     "input": [
      "v[[0,-1]]"
     ],
     "language": "python",
     "prompt_number": 41
    },
    {
     "cell_type": "code",
     "metadata": {},
     "outputs": [
      {
       "output_type": "pyout",
       "prompt_number": 42,
       "text": [
        "array([ 1,  3,  2,  4,  2,  1, 23, 22,  3,  2,  1,  2])"
       ],
       "metadata": {}
      }
     ],
     "input": [
      "v"
     ],
     "language": "python",
     "prompt_number": 42
    },
    {
     "cell_type": "code",
     "metadata": {},
     "outputs": [],
     "input": [
      "w = [ 1,  3,  2,  4,  2,  1, 23, 22,  3,  2,  1,  2]"
     ],
     "language": "python",
     "prompt_number": 43
    },
    {
     "cell_type": "code",
     "metadata": {},
     "outputs": [
      {
       "output_type": "pyout",
       "prompt_number": 45,
       "text": [
        "array([1, 3])"
       ],
       "metadata": {}
      }
     ],
     "input": [
      "v[[0,1]]"
     ],
     "language": "python",
     "prompt_number": 45
    },
    {
     "cell_type": "code",
     "metadata": {},
     "outputs": [],
     "input": [
      "arr = np.array([1,3,2,4,2,3,4,5,4,3,2])"
     ],
     "language": "python",
     "prompt_number": 11
    },
    {
     "cell_type": "code",
     "metadata": {},
     "outputs": [
      {
       "output_type": "pyout",
       "prompt_number": 13,
       "text": [
        "array([ 0.,  1.,  0.,  1.,  0.,  1.,  1.,  1.,  1.,  1.,  0.])"
       ],
       "metadata": {}
      }
     ],
     "input": [
      "n = np.zeros((arr.shape[0]))\n",
      "n[arr > 2] = 1.0\n",
      "n"
     ],
     "language": "python",
     "prompt_number": 13
    },
    {
     "cell_type": "code",
     "metadata": {},
     "outputs": [
      {
       "output_type": "pyout",
       "prompt_number": 16,
       "text": [
        "[]"
       ],
       "metadata": {}
      }
     ],
     "input": [
      "range(1,1)"
     ],
     "language": "python",
     "prompt_number": 16
    },
    {
     "cell_type": "code",
     "metadata": {},
     "outputs": [],
     "input": [
      "import json as js"
     ],
     "language": "python",
     "prompt_number": 92
    },
    {
     "cell_type": "code",
     "metadata": {},
     "outputs": [],
     "input": [
      "top_red = top.__reduce__()\n",
      "obj = js.JSONEncoder(top_red)"
     ],
     "language": "python",
     "prompt_number": 99
    },
    {
     "cell_type": "code",
     "metadata": {},
     "outputs": [
      {
       "output_type": "pyout",
       "prompt_number": 107,
       "text": [
        "[u'Hallo', u'Test']"
       ],
       "metadata": {}
      }
     ],
     "input": [
      "js.loads('[ \"Hallo\", \"Test\" ]')"
     ],
     "language": "python",
     "prompt_number": 107
    },
    {
     "cell_type": "code",
     "metadata": {},
     "outputs": [],
     "input": [
      "atom0 = top_red[2]['_atoms'][0]"
     ],
     "language": "python",
     "prompt_number": 118
    },
    {
     "cell_type": "code",
     "metadata": {},
     "outputs": [
      {
       "output_type": "pyout",
       "prompt_number": 125,
       "text": [
        "(<function copy_reg._reconstructor>,\n",
        " (mdtraj.core.topology.Atom, object, None),\n",
        " {'element': (1, 'hydrogen', 'H', 1.007947),\n",
        "  'index': 0,\n",
        "  'name': 'H1',\n",
        "  'residue': ACE1})"
       ],
       "metadata": {}
      }
     ],
     "input": [
      "atom0.__reduce__()"
     ],
     "language": "python",
     "prompt_number": 125
    },
    {
     "cell_type": "code",
     "metadata": {},
     "outputs": [],
     "input": [
      "def to_dict(obj):\n",
      "    globals()['_obj_list'] = []\n",
      "    globals()['_obj_cache'] = []\n",
      "    return parse_elem(obj)\n",
      "\n",
      "def iter_object(obj):    \n",
      "    reg_objs = globals()['_obj_list']\n",
      "    obj_idx = -1\n",
      "    for idx, elem in enumerate(reg_objs):\n",
      "        if elem is obj:\n",
      "            obj_idx = idx\n",
      "            \n",
      "    if obj_idx == -1:        \n",
      "        obj_type = type(obj)\n",
      "#        print 'Type.__name__ : ', type(obj).__name__\n",
      "#        print 'Type : ', type(obj).__module__\n",
      "        if hasattr(obj, '__dict__'):\n",
      "            obj_content = obj.__dict__\n",
      "        elif hasattr(obj, '__iter__'):\n",
      "            obj_content = [ p for p in obj.__iter__() ]\n",
      "        else:\n",
      "            obj_content = obj.__reduce__()\n",
      "#        print 'Reduction : ', reduction\n",
      "#        print 'Type : ', type(reduction)\n",
      "\n",
      "\n",
      "        reg_objs.append(obj) \n",
      "        ret_dict = { \n",
      "                    'obj_class' : obj_type.__name__, \n",
      "                    'obj_module' : obj_type.__module__, \n",
      "                    'obj_id' : len(globals()['_obj_list']),\n",
      "                    'obj_content' : parse_elem(obj_content)\n",
      "                    }\n",
      "    else:\n",
      "        ret_dict = { \n",
      "                    'obj_clone' : obj_idx\n",
      "                    }\n",
      "        \n",
      "    return ret_dict\n",
      "\n",
      "def parse_elem(elem):\n",
      "#    print elem, ' of type ', type(elem)\n",
      "    if type(elem) is int:\n",
      "        return elem\n",
      "    elif type(elem) is str:\n",
      "        return elem\n",
      "    elif type(elem) is float:\n",
      "        return elem\n",
      "    elif type(elem) is list:\n",
      "        return iter_list(elem)\n",
      "    elif type(elem) is dict:\n",
      "        return iter_dict(elem)\n",
      "    else:\n",
      "        return iter_object(elem)\n",
      "\n",
      "def iter_list(obj):\n",
      "    return [ parse_elem(elem) for elem in obj]\n",
      "\n",
      "def iter_tuple(obj):\n",
      "    return tuple([ parse_elem(elem) for elem in obj])\n",
      "        \n",
      "def iter_dict(obj):\n",
      "    return { key : parse_elem(elem) for key, elem in obj.iteritems() }"
     ],
     "language": "python",
     "prompt_number": 348
    },
    {
     "cell_type": "code",
     "metadata": {},
     "outputs": [
      {
       "output_type": "pyout",
       "prompt_number": 350,
       "text": [
        "{'obj_class': 'Topology',\n",
        " 'obj_content': {'_atoms': [{'obj_clone': 2},\n",
        "   {'obj_clone': 4},\n",
        "   {'obj_clone': 6},\n",
        "   {'obj_clone': 7},\n",
        "   {'obj_clone': 8},\n",
        "   {'obj_clone': 9},\n",
        "   {'obj_clone': 13},\n",
        "   {'obj_clone': 15},\n",
        "   {'obj_clone': 16},\n",
        "   {'obj_clone': 17},\n",
        "   {'obj_clone': 18},\n",
        "   {'obj_clone': 19},\n",
        "   {'obj_clone': 20},\n",
        "   {'obj_clone': 21},\n",
        "   {'obj_clone': 22},\n",
        "   {'obj_clone': 23},\n",
        "   {'obj_clone': 25},\n",
        "   {'obj_clone': 26},\n",
        "   {'obj_clone': 27},\n",
        "   {'obj_clone': 28},\n",
        "   {'obj_clone': 29},\n",
        "   {'obj_clone': 30}],\n",
        "  '_bonds': [{'obj_class': 'tuple',\n",
        "    'obj_content': [{'obj_clone': 4}, {'obj_clone': 8}],\n",
        "    'obj_id': 32,\n",
        "    'obj_module': '__builtin__'},\n",
        "   {'obj_class': 'tuple',\n",
        "    'obj_content': [{'obj_clone': 8}, {'obj_clone': 9}],\n",
        "    'obj_id': 33,\n",
        "    'obj_module': '__builtin__'},\n",
        "   {'obj_class': 'tuple',\n",
        "    'obj_content': [{'obj_clone': 2}, {'obj_clone': 4}],\n",
        "    'obj_id': 34,\n",
        "    'obj_module': '__builtin__'},\n",
        "   {'obj_class': 'tuple',\n",
        "    'obj_content': [{'obj_clone': 4}, {'obj_clone': 6}],\n",
        "    'obj_id': 35,\n",
        "    'obj_module': '__builtin__'},\n",
        "   {'obj_class': 'tuple',\n",
        "    'obj_content': [{'obj_clone': 4}, {'obj_clone': 7}],\n",
        "    'obj_id': 36,\n",
        "    'obj_module': '__builtin__'},\n",
        "   {'obj_class': 'tuple',\n",
        "    'obj_content': [{'obj_clone': 8}, {'obj_clone': 13}],\n",
        "    'obj_id': 37,\n",
        "    'obj_module': '__builtin__'},\n",
        "   {'obj_class': 'tuple',\n",
        "    'obj_content': [{'obj_clone': 16}, {'obj_clone': 22}],\n",
        "    'obj_id': 38,\n",
        "    'obj_module': '__builtin__'},\n",
        "   {'obj_class': 'tuple',\n",
        "    'obj_content': [{'obj_clone': 22}, {'obj_clone': 23}],\n",
        "    'obj_id': 39,\n",
        "    'obj_module': '__builtin__'},\n",
        "   {'obj_class': 'tuple',\n",
        "    'obj_content': [{'obj_clone': 16}, {'obj_clone': 18}],\n",
        "    'obj_id': 40,\n",
        "    'obj_module': '__builtin__'},\n",
        "   {'obj_class': 'tuple',\n",
        "    'obj_content': [{'obj_clone': 16}, {'obj_clone': 17}],\n",
        "    'obj_id': 41,\n",
        "    'obj_module': '__builtin__'},\n",
        "   {'obj_class': 'tuple',\n",
        "    'obj_content': [{'obj_clone': 13}, {'obj_clone': 16}],\n",
        "    'obj_id': 42,\n",
        "    'obj_module': '__builtin__'},\n",
        "   {'obj_class': 'tuple',\n",
        "    'obj_content': [{'obj_clone': 18}, {'obj_clone': 19}],\n",
        "    'obj_id': 43,\n",
        "    'obj_module': '__builtin__'},\n",
        "   {'obj_class': 'tuple',\n",
        "    'obj_content': [{'obj_clone': 18}, {'obj_clone': 20}],\n",
        "    'obj_id': 44,\n",
        "    'obj_module': '__builtin__'},\n",
        "   {'obj_class': 'tuple',\n",
        "    'obj_content': [{'obj_clone': 18}, {'obj_clone': 21}],\n",
        "    'obj_id': 45,\n",
        "    'obj_module': '__builtin__'},\n",
        "   {'obj_class': 'tuple',\n",
        "    'obj_content': [{'obj_clone': 13}, {'obj_clone': 15}],\n",
        "    'obj_id': 46,\n",
        "    'obj_module': '__builtin__'},\n",
        "   {'obj_class': 'tuple',\n",
        "    'obj_content': [{'obj_clone': 22}, {'obj_clone': 25}],\n",
        "    'obj_id': 47,\n",
        "    'obj_module': '__builtin__'},\n",
        "   {'obj_class': 'tuple',\n",
        "    'obj_content': [{'obj_clone': 27}, {'obj_clone': 28}],\n",
        "    'obj_id': 48,\n",
        "    'obj_module': '__builtin__'},\n",
        "   {'obj_class': 'tuple',\n",
        "    'obj_content': [{'obj_clone': 27}, {'obj_clone': 29}],\n",
        "    'obj_id': 49,\n",
        "    'obj_module': '__builtin__'},\n",
        "   {'obj_class': 'tuple',\n",
        "    'obj_content': [{'obj_clone': 27}, {'obj_clone': 30}],\n",
        "    'obj_id': 50,\n",
        "    'obj_module': '__builtin__'},\n",
        "   {'obj_class': 'tuple',\n",
        "    'obj_content': [{'obj_clone': 25}, {'obj_clone': 27}],\n",
        "    'obj_id': 51,\n",
        "    'obj_module': '__builtin__'},\n",
        "   {'obj_class': 'tuple',\n",
        "    'obj_content': [{'obj_clone': 25}, {'obj_clone': 26}],\n",
        "    'obj_id': 52,\n",
        "    'obj_module': '__builtin__'}],\n",
        "  '_chains': [{'obj_clone': 11}],\n",
        "  '_numAtoms': 22,\n",
        "  '_numResidues': 3,\n",
        "  '_residues': [{'obj_class': 'Residue',\n",
        "    'obj_content': {'_atoms': [{'obj_class': 'Atom',\n",
        "       'obj_content': {'element': {'obj_class': 'Element',\n",
        "         'obj_content': [1, 'hydrogen', 'H', 1.007947],\n",
        "         'obj_id': 4,\n",
        "         'obj_module': 'mdtraj.core.element'},\n",
        "        'index': 0,\n",
        "        'name': 'H1',\n",
        "        'residue': {'obj_clone': 1}},\n",
        "       'obj_id': 3,\n",
        "       'obj_module': 'mdtraj.core.topology'},\n",
        "      {'obj_class': 'Atom',\n",
        "       'obj_content': {'element': {'obj_class': 'Element',\n",
        "         'obj_content': [6, 'carbon', 'C', 12.01078],\n",
        "         'obj_id': 6,\n",
        "         'obj_module': 'mdtraj.core.element'},\n",
        "        'index': 1,\n",
        "        'name': 'CH3',\n",
        "        'residue': {'obj_clone': 1}},\n",
        "       'obj_id': 5,\n",
        "       'obj_module': 'mdtraj.core.topology'},\n",
        "      {'obj_class': 'Atom',\n",
        "       'obj_content': {'element': {'obj_clone': 3},\n",
        "        'index': 2,\n",
        "        'name': 'H2',\n",
        "        'residue': {'obj_clone': 1}},\n",
        "       'obj_id': 7,\n",
        "       'obj_module': 'mdtraj.core.topology'},\n",
        "      {'obj_class': 'Atom',\n",
        "       'obj_content': {'element': {'obj_clone': 3},\n",
        "        'index': 3,\n",
        "        'name': 'H3',\n",
        "        'residue': {'obj_clone': 1}},\n",
        "       'obj_id': 8,\n",
        "       'obj_module': 'mdtraj.core.topology'},\n",
        "      {'obj_class': 'Atom',\n",
        "       'obj_content': {'element': {'obj_clone': 5},\n",
        "        'index': 4,\n",
        "        'name': 'C',\n",
        "        'residue': {'obj_clone': 1}},\n",
        "       'obj_id': 9,\n",
        "       'obj_module': 'mdtraj.core.topology'},\n",
        "      {'obj_class': 'Atom',\n",
        "       'obj_content': {'element': {'obj_class': 'Element',\n",
        "         'obj_content': [8, 'oxygen', 'O', 15.99943],\n",
        "         'obj_id': 11,\n",
        "         'obj_module': 'mdtraj.core.element'},\n",
        "        'index': 5,\n",
        "        'name': 'O',\n",
        "        'residue': {'obj_clone': 1}},\n",
        "       'obj_id': 10,\n",
        "       'obj_module': 'mdtraj.core.topology'}],\n",
        "     'chain': {'obj_class': 'Chain',\n",
        "      'obj_content': {'_residues': [{'obj_clone': 1},\n",
        "        {'obj_class': 'Residue',\n",
        "         'obj_content': {'_atoms': [{'obj_class': 'Atom',\n",
        "            'obj_content': {'element': {'obj_class': 'Element',\n",
        "              'obj_content': [7, 'nitrogen', 'N', 14.00672],\n",
        "              'obj_id': 15,\n",
        "              'obj_module': 'mdtraj.core.element'},\n",
        "             'index': 6,\n",
        "             'name': 'N',\n",
        "             'residue': {'obj_clone': 12}},\n",
        "            'obj_id': 14,\n",
        "            'obj_module': 'mdtraj.core.topology'},\n",
        "           {'obj_class': 'Atom',\n",
        "            'obj_content': {'element': {'obj_clone': 3},\n",
        "             'index': 7,\n",
        "             'name': 'H',\n",
        "             'residue': {'obj_clone': 12}},\n",
        "            'obj_id': 16,\n",
        "            'obj_module': 'mdtraj.core.topology'},\n",
        "           {'obj_class': 'Atom',\n",
        "            'obj_content': {'element': {'obj_clone': 5},\n",
        "             'index': 8,\n",
        "             'name': 'CA',\n",
        "             'residue': {'obj_clone': 12}},\n",
        "            'obj_id': 17,\n",
        "            'obj_module': 'mdtraj.core.topology'},\n",
        "           {'obj_class': 'Atom',\n",
        "            'obj_content': {'element': {'obj_clone': 3},\n",
        "             'index': 9,\n",
        "             'name': 'HA',\n",
        "             'residue': {'obj_clone': 12}},\n",
        "            'obj_id': 18,\n",
        "            'obj_module': 'mdtraj.core.topology'},\n",
        "           {'obj_class': 'Atom',\n",
        "            'obj_content': {'element': {'obj_clone': 5},\n",
        "             'index': 10,\n",
        "             'name': 'CB',\n",
        "             'residue': {'obj_clone': 12}},\n",
        "            'obj_id': 19,\n",
        "            'obj_module': 'mdtraj.core.topology'},\n",
        "           {'obj_class': 'Atom',\n",
        "            'obj_content': {'element': {'obj_clone': 3},\n",
        "             'index': 11,\n",
        "             'name': 'HB1',\n",
        "             'residue': {'obj_clone': 12}},\n",
        "            'obj_id': 20,\n",
        "            'obj_module': 'mdtraj.core.topology'},\n",
        "           {'obj_class': 'Atom',\n",
        "            'obj_content': {'element': {'obj_clone': 3},\n",
        "             'index': 12,\n",
        "             'name': 'HB2',\n",
        "             'residue': {'obj_clone': 12}},\n",
        "            'obj_id': 21,\n",
        "            'obj_module': 'mdtraj.core.topology'},\n",
        "           {'obj_class': 'Atom',\n",
        "            'obj_content': {'element': {'obj_clone': 3},\n",
        "             'index': 13,\n",
        "             'name': 'HB3',\n",
        "             'residue': {'obj_clone': 12}},\n",
        "            'obj_id': 22,\n",
        "            'obj_module': 'mdtraj.core.topology'},\n",
        "           {'obj_class': 'Atom',\n",
        "            'obj_content': {'element': {'obj_clone': 5},\n",
        "             'index': 14,\n",
        "             'name': 'C',\n",
        "             'residue': {'obj_clone': 12}},\n",
        "            'obj_id': 23,\n",
        "            'obj_module': 'mdtraj.core.topology'},\n",
        "           {'obj_class': 'Atom',\n",
        "            'obj_content': {'element': {'obj_clone': 10},\n",
        "             'index': 15,\n",
        "             'name': 'O',\n",
        "             'residue': {'obj_clone': 12}},\n",
        "            'obj_id': 24,\n",
        "            'obj_module': 'mdtraj.core.topology'}],\n",
        "          'chain': {'obj_clone': 11},\n",
        "          'index': 1,\n",
        "          'name': 'ALA',\n",
        "          'resSeq': 2},\n",
        "         'obj_id': 13,\n",
        "         'obj_module': 'mdtraj.core.topology'},\n",
        "        {'obj_class': 'Residue',\n",
        "         'obj_content': {'_atoms': [{'obj_class': 'Atom',\n",
        "            'obj_content': {'element': {'obj_clone': 14},\n",
        "             'index': 16,\n",
        "             'name': 'N',\n",
        "             'residue': {'obj_clone': 24}},\n",
        "            'obj_id': 26,\n",
        "            'obj_module': 'mdtraj.core.topology'},\n",
        "           {'obj_class': 'Atom',\n",
        "            'obj_content': {'element': {'obj_clone': 3},\n",
        "             'index': 17,\n",
        "             'name': 'H',\n",
        "             'residue': {'obj_clone': 24}},\n",
        "            'obj_id': 27,\n",
        "            'obj_module': 'mdtraj.core.topology'},\n",
        "           {'obj_class': 'Atom',\n",
        "            'obj_content': {'element': {'obj_clone': 5},\n",
        "             'index': 18,\n",
        "             'name': 'C',\n",
        "             'residue': {'obj_clone': 24}},\n",
        "            'obj_id': 28,\n",
        "            'obj_module': 'mdtraj.core.topology'},\n",
        "           {'obj_class': 'Atom',\n",
        "            'obj_content': {'element': {'obj_clone': 3},\n",
        "             'index': 19,\n",
        "             'name': 'H1',\n",
        "             'residue': {'obj_clone': 24}},\n",
        "            'obj_id': 29,\n",
        "            'obj_module': 'mdtraj.core.topology'},\n",
        "           {'obj_class': 'Atom',\n",
        "            'obj_content': {'element': {'obj_clone': 3},\n",
        "             'index': 20,\n",
        "             'name': 'H2',\n",
        "             'residue': {'obj_clone': 24}},\n",
        "            'obj_id': 30,\n",
        "            'obj_module': 'mdtraj.core.topology'},\n",
        "           {'obj_class': 'Atom',\n",
        "            'obj_content': {'element': {'obj_clone': 3},\n",
        "             'index': 21,\n",
        "             'name': 'H3',\n",
        "             'residue': {'obj_clone': 24}},\n",
        "            'obj_id': 31,\n",
        "            'obj_module': 'mdtraj.core.topology'}],\n",
        "          'chain': {'obj_clone': 11},\n",
        "          'index': 2,\n",
        "          'name': 'NME',\n",
        "          'resSeq': 3},\n",
        "         'obj_id': 25,\n",
        "         'obj_module': 'mdtraj.core.topology'}],\n",
        "       'index': 0,\n",
        "       'topology': {'obj_clone': 0}},\n",
        "      'obj_id': 12,\n",
        "      'obj_module': 'mdtraj.core.topology'},\n",
        "     'index': 0,\n",
        "     'name': 'ACE',\n",
        "     'resSeq': 1},\n",
        "    'obj_id': 2,\n",
        "    'obj_module': 'mdtraj.core.topology'},\n",
        "   {'obj_clone': 12},\n",
        "   {'obj_clone': 24}]},\n",
        " 'obj_id': 1,\n",
        " 'obj_module': 'mdtraj.core.topology'}"
       ],
       "metadata": {}
      }
     ],
     "input": [
      "to_dict(top)"
     ],
     "language": "python",
     "prompt_number": 350
    },
    {
     "cell_type": "code",
     "metadata": {},
     "outputs": [],
     "input": [
      "el = md.core.element.Element.getBySymbol('H')"
     ],
     "language": "python",
     "prompt_number": 247
    },
    {
     "cell_type": "code",
     "metadata": {},
     "outputs": [
      {
       "output_type": "pyout",
       "prompt_number": 312,
       "text": [
        "[1, 'hydrogen', 'H', 1.007947]"
       ],
       "metadata": {}
      }
     ],
     "input": [
      "[ p for p in el.__iter__()]"
     ],
     "language": "python",
     "prompt_number": 312
    },
    {
     "cell_type": "code",
     "metadata": {},
     "outputs": [
      {
       "ename": "AssertionError",
       "evalue": "",
       "output_type": "pyerr",
       "traceback": [
        "\u001b[0;31m---------------------------------------------------------------------------\u001b[0m\n\u001b[0;31mAssertionError\u001b[0m                            Traceback (most recent call last)",
        "\u001b[0;32m<ipython-input-329-802987043d38>\u001b[0m in \u001b[0;36m<module>\u001b[0;34m()\u001b[0m\n\u001b[0;32m----> 1\u001b[0;31m \u001b[0mmd\u001b[0m\u001b[0;34m.\u001b[0m\u001b[0mcore\u001b[0m\u001b[0;34m.\u001b[0m\u001b[0melement\u001b[0m\u001b[0;34m.\u001b[0m\u001b[0mElement\u001b[0m\u001b[0;34m(\u001b[0m\u001b[0;34m*\u001b[0m\u001b[0mel\u001b[0m\u001b[0;34m.\u001b[0m\u001b[0m__getnewargs__\u001b[0m\u001b[0;34m(\u001b[0m\u001b[0;34m)\u001b[0m\u001b[0;34m[\u001b[0m\u001b[0;36m0\u001b[0m\u001b[0;34m]\u001b[0m\u001b[0;34m)\u001b[0m\u001b[0;34m\u001b[0m\u001b[0m\n\u001b[0m",
        "\u001b[0;32m/Users/Jan-Hendrik Prinz/anaconda/lib/python2.7/site-packages/mdtraj-0.9.1-py2.7-macosx-10.5-x86_64.egg/mdtraj/core/element.pyc\u001b[0m in \u001b[0;36m__new__\u001b[0;34m(cls, number, name, symbol, mass)\u001b[0m\n\u001b[1;32m     84\u001b[0m         \u001b[0;31m# Index this element in a global table\u001b[0m\u001b[0;34m\u001b[0m\u001b[0;34m\u001b[0m\u001b[0m\n\u001b[1;32m     85\u001b[0m         \u001b[0ms\u001b[0m \u001b[0;34m=\u001b[0m \u001b[0msymbol\u001b[0m\u001b[0;34m.\u001b[0m\u001b[0mstrip\u001b[0m\u001b[0;34m(\u001b[0m\u001b[0;34m)\u001b[0m\u001b[0;34m.\u001b[0m\u001b[0mupper\u001b[0m\u001b[0;34m(\u001b[0m\u001b[0;34m)\u001b[0m\u001b[0;34m\u001b[0m\u001b[0m\n\u001b[0;32m---> 86\u001b[0;31m         \u001b[0;32massert\u001b[0m \u001b[0ms\u001b[0m \u001b[0;32mnot\u001b[0m \u001b[0;32min\u001b[0m \u001b[0mElement\u001b[0m\u001b[0;34m.\u001b[0m\u001b[0m_elements_by_symbol\u001b[0m\u001b[0;34m\u001b[0m\u001b[0m\n\u001b[0m\u001b[1;32m     87\u001b[0m         \u001b[0mElement\u001b[0m\u001b[0;34m.\u001b[0m\u001b[0m_elements_by_symbol\u001b[0m\u001b[0;34m[\u001b[0m\u001b[0ms\u001b[0m\u001b[0;34m]\u001b[0m \u001b[0;34m=\u001b[0m \u001b[0mnewobj\u001b[0m\u001b[0;34m\u001b[0m\u001b[0m\n\u001b[1;32m     88\u001b[0m         \u001b[0;32mif\u001b[0m \u001b[0mnumber\u001b[0m \u001b[0;32min\u001b[0m \u001b[0mElement\u001b[0m\u001b[0;34m.\u001b[0m\u001b[0m_elements_by_atomic_number\u001b[0m\u001b[0;34m:\u001b[0m\u001b[0;34m\u001b[0m\u001b[0m\n",
        "\u001b[0;31mAssertionError\u001b[0m: "
       ]
      }
     ],
     "input": [
      "md.core.element.Element(*el.__getnewargs__()[0])"
     ],
     "language": "python",
     "prompt_number": 329
    },
    {
     "cell_type": "code",
     "metadata": {},
     "outputs": [
      {
       "output_type": "pyout",
       "prompt_number": 334,
       "text": [
        "True"
       ],
       "metadata": {}
      }
     ],
     "input": [
      "type(el) is md.core.element.Element"
     ],
     "language": "python",
     "prompt_number": 334
    },
    {
     "cell_type": "code",
     "metadata": {},
     "outputs": [],
     "input": [
      "atom = top.__dict__['_atoms'][0]"
     ],
     "language": "python",
     "prompt_number": 355
    },
    {
     "cell_type": "code",
     "metadata": {},
     "outputs": [
      {
       "output_type": "pyout",
       "prompt_number": 356,
       "text": [
        "mdtraj.core.topology.Atom"
       ],
       "metadata": {}
      }
     ],
     "input": [
      "type(atom)"
     ],
     "language": "python",
     "prompt_number": 356
    },
    {
     "cell_type": "code",
     "metadata": {},
     "outputs": [
      {
       "output_type": "pyout",
       "prompt_number": 359,
       "text": [
        "[<mdtraj.Topology with 1 chains, 3 residues, 22 atoms, 21 bonds at 0x10c5e4310>,\n",
        " ACE1,\n",
        " ACE1-H1,\n",
        " (1, 'hydrogen', 'H', 1.007947),\n",
        " ACE1-CH3,\n",
        " (6, 'carbon', 'C', 12.01078),\n",
        " ACE1-H2,\n",
        " ACE1-H3,\n",
        " ACE1-C,\n",
        " ACE1-O,\n",
        " (8, 'oxygen', 'O', 15.99943),\n",
        " <mdtraj.core.topology.Chain at 0x10c891990>,\n",
        " ALA2,\n",
        " ALA2-N,\n",
        " (7, 'nitrogen', 'N', 14.00672),\n",
        " ALA2-H,\n",
        " ALA2-CA,\n",
        " ALA2-HA,\n",
        " ALA2-CB,\n",
        " ALA2-HB1,\n",
        " ALA2-HB2,\n",
        " ALA2-HB3,\n",
        " ALA2-C,\n",
        " ALA2-O,\n",
        " NME3,\n",
        " NME3-N,\n",
        " NME3-H,\n",
        " NME3-C,\n",
        " NME3-H1,\n",
        " NME3-H2,\n",
        " NME3-H3,\n",
        " (ACE1-CH3, ACE1-C),\n",
        " (ACE1-C, ACE1-O),\n",
        " (ACE1-H1, ACE1-CH3),\n",
        " (ACE1-CH3, ACE1-H2),\n",
        " (ACE1-CH3, ACE1-H3),\n",
        " (ACE1-C, ALA2-N),\n",
        " (ALA2-CA, ALA2-C),\n",
        " (ALA2-C, ALA2-O),\n",
        " (ALA2-CA, ALA2-CB),\n",
        " (ALA2-CA, ALA2-HA),\n",
        " (ALA2-N, ALA2-CA),\n",
        " (ALA2-CB, ALA2-HB1),\n",
        " (ALA2-CB, ALA2-HB2),\n",
        " (ALA2-CB, ALA2-HB3),\n",
        " (ALA2-N, ALA2-H),\n",
        " (ALA2-C, NME3-N),\n",
        " (NME3-C, NME3-H1),\n",
        " (NME3-C, NME3-H2),\n",
        " (NME3-C, NME3-H3),\n",
        " (NME3-N, NME3-C),\n",
        " (NME3-N, NME3-H)]"
       ],
       "metadata": {}
      }
     ],
     "input": [
      "_obj_list"
     ],
     "language": "python",
     "prompt_number": 359
    },
    {
     "cell_type": "code",
     "metadata": {},
     "outputs": [
      {
       "output_type": "pyout",
       "prompt_number": 360,
       "text": [
        "52"
       ],
       "metadata": {}
      }
     ],
     "input": [
      "len(_obj_list)"
     ],
     "language": "python",
     "prompt_number": 360
    },
    {
     "cell_type": "code",
     "metadata": {},
     "outputs": [
      {
       "output_type": "pyout",
       "prompt_number": 362,
       "text": [
        "{tuple,\n",
        " mdtraj.core.element.Element,\n",
        " mdtraj.core.topology.Topology,\n",
        " mdtraj.core.topology.Chain,\n",
        " mdtraj.core.topology.Residue,\n",
        " mdtraj.core.topology.Atom}"
       ],
       "metadata": {}
      }
     ],
     "input": [
      "set([ type(p) for p in _obj_list ])"
     ],
     "language": "python",
     "prompt_number": 362
    },
    {
     "cell_type": "code",
     "metadata": {},
     "outputs": [
      {
       "output_type": "pyout",
       "prompt_number": 368,
       "text": [
        "[mdtraj.core.topology.Residue,\n",
        " mdtraj.core.topology.Residue,\n",
        " mdtraj.core.topology.Residue]"
       ],
       "metadata": {}
      }
     ],
     "input": [
      "[ type(r) for r in top.residues ]"
     ],
     "language": "python",
     "prompt_number": 368
    },
    {
     "cell_type": "code",
     "metadata": {},
     "outputs": [
      {
       "output_type": "pyout",
       "prompt_number": 369,
       "text": [
        "[mdtraj.core.topology.Chain]"
       ],
       "metadata": {}
      }
     ],
     "input": [
      "[ type(r) for r in top.chains ]"
     ],
     "language": "python",
     "prompt_number": 369
    },
    {
     "cell_type": "code",
     "metadata": {},
     "outputs": [
      {
       "output_type": "pyout",
       "prompt_number": 388,
       "text": [
        "\"ccopy_reg _reconstructor p0 (cmdtraj.core.topology Topology p1 c__builtin__ object p2 Ntp3 Rp4 (dp5 S'_residues' p6 (lp7 g0 (cmdtraj.core.topology Residue p8 g2 Ntp9 Rp10 (dp11 S'index' p12 I0 sS'_atoms' p13 (lp14 g0 (cmdtraj.core.topology Atom p15 g2 Ntp16 Rp17 (dp18 S'residue' p19 g10 sg12 I0 sS'name' p20 S'H1' p21 sS'element' p22 cmdtraj.core.element hydrogen p23 sbag0 (g15 g2 Ntp24 Rp25 (dp26 g19 g10 sg12 I1 sg20 S'CH3' p27 sg22 cmdtraj.core.element carbon p28 sbag0 (g15 g2 Ntp29 Rp30 (dp31 g19 g10 sg12 I2 sg20 S'H2' p32 sg22 g23 sbag0 (g15 g2 Ntp33 Rp34 (dp35 g19 g10 sg12 I3 sg20 S'H3' p36 sg22 g23 sbag0 (g15 g2 Ntp37 Rp38 (dp39 g19 g10 sg12 I4 sg20 S'C' p40 sg22 g28 sbag0 (g15 g2 Ntp41 Rp42 (dp43 g19 g10 sg12 I5 sg20 S'O' p44 sg22 cmdtraj.core.element oxygen p45 sbasg20 S'ACE' p46 sS'chain' p47 g0 (cmdtraj.core.topology Chain p48 g2 Ntp49 Rp50 (dp51 g6 (lp52 g10 ag0 (g8 g2 Ntp53 Rp54 (dp55 g12 I1 sg13 (lp56 g0 (g15 g2 Ntp57 Rp58 (dp59 g19 g54 sg12 I6 sg20 S'N' p60 sg22 cmdtraj.core.element nitrogen p61 sbag0 (g15 g2 Ntp62 Rp63 (dp64 g19 g54 sg12 I7 sg20 S'H' p65 sg22 g23 sbag0 (g15 g2 Ntp66 Rp67 (dp68 g19 g54 sg12 I8 sg20 S'CA' p69 sg22 g28 sbag0 (g15 g2 Ntp70 Rp71 (dp72 g19 g54 sg12 I9 sg20 S'HA' p73 sg22 g23 sbag0 (g15 g2 Ntp74 Rp75 (dp76 g19 g54 sg12 I10 sg20 S'CB' p77 sg22 g28 sbag0 (g15 g2 Ntp78 Rp79 (dp80 g19 g54 sg12 I11 sg20 S'HB1' p81 sg22 g23 sbag0 (g15 g2 Ntp82 Rp83 (dp84 g19 g54 sg12 I12 sg20 S'HB2' p85 sg22 g23 sbag0 (g15 g2 Ntp86 Rp87 (dp88 g19 g54 sg12 I13 sg20 S'HB3' p89 sg22 g23 sbag0 (g15 g2 Ntp90 Rp91 (dp92 g19 g54 sg12 I14 sg20 S'C' p93 sg22 g28 sbag0 (g15 g2 Ntp94 Rp95 (dp96 g19 g54 sg12 I15 sg20 S'O' p97 sg22 g45 sbasg20 S'ALA' p98 sg47 g50 sS'resSeq' p99 I2 sbag0 (g8 g2 Ntp100 Rp101 (dp102 g12 I2 sg13 (lp103 g0 (g15 g2 Ntp104 Rp105 (dp106 g19 g101 sg12 I16 sg20 S'N' p107 sg22 g61 sbag0 (g15 g2 Ntp108 Rp109 (dp110 g19 g101 sg12 I17 sg20 S'H' p111 sg22 g23 sbag0 (g15 g2 Ntp112 Rp113 (dp114 g19 g101 sg12 I18 sg20 S'C' p115 sg22 g28 sbag0 (g15 g2 Ntp116 Rp117 (dp118 g19 g101 sg12 I19 sg20 S'H1' p119 sg22 g23 sbag0 (g15 g2 Ntp120 Rp121 (dp122 g19 g101 sg12 I20 sg20 S'H2' p123 sg22 g23 sbag0 (g15 g2 Ntp124 Rp125 (dp126 g19 g101 sg12 I21 sg20 S'H3' p127 sg22 g23 sbasg20 S'NME' p128 sg47 g50 sg99 I3 sbasg12 I0 sS'topology' p129 g4 sbsg99 I1 sbag54 ag101 asS'_chains' p130 (lp131 g50 asS'_numAtoms' p132 I22 sS'_bonds' p133 (lp134 (g25 g38 tp135 a(g38 g42 tp136 a(g17 g25 tp137 a(g25 g30 tp138 a(g25 g34 tp139 a(g38 g58 tp140 a(g67 g91 tp141 a(g91 g95 tp142 a(g67 g75 tp143 a(g67 g71 tp144 a(g58 g67 tp145 a(g75 g79 tp146 a(g75 g83 tp147 a(g75 g87 tp148 a(g58 g63 tp149 a(g91 g105 tp150 a(g113 g117 tp151 a(g113 g121 tp152 a(g113 g125 tp153 a(g105 g113 tp154 a(g105 g109 tp155 asg13 (lp156 g17 ag25 ag30 ag34 ag38 ag42 ag58 ag63 ag67 ag71 ag75 ag79 ag83 ag87 ag91 ag95 ag105 ag109 ag113 ag117 ag121 ag125 asS'_numResidues' p157 I3 sb.\""
       ],
       "metadata": {}
      }
     ],
     "input": [
      "pickle.dumps(top).replace('\\n' , \" \")"
     ],
     "language": "python",
     "prompt_number": 388
    },
    {
     "cell_type": "code",
     "metadata": {},
     "outputs": [
      {
       "ename": "TypeError",
       "evalue": "must be convertible to a buffer, not Topology",
       "output_type": "pyerr",
       "traceback": [
        "\u001b[0;31m---------------------------------------------------------------------------\u001b[0m\n\u001b[0;31mTypeError\u001b[0m                                 Traceback (most recent call last)",
        "\u001b[0;32m<ipython-input-377-0656dbdacabf>\u001b[0m in \u001b[0;36m<module>\u001b[0;34m()\u001b[0m\n\u001b[0;32m----> 1\u001b[0;31m \u001b[0mpickle\u001b[0m\u001b[0;34m.\u001b[0m\u001b[0mloads\u001b[0m\u001b[0;34m(\u001b[0m\u001b[0mtop\u001b[0m\u001b[0;34m)\u001b[0m\u001b[0;34m\u001b[0m\u001b[0m\n\u001b[0m",
        "\u001b[0;32m/Users/Jan-Hendrik Prinz/anaconda/python.app/Contents/lib/python2.7/pickle.pyc\u001b[0m in \u001b[0;36mloads\u001b[0;34m(str)\u001b[0m\n\u001b[1;32m   1379\u001b[0m \u001b[0;34m\u001b[0m\u001b[0m\n\u001b[1;32m   1380\u001b[0m \u001b[0;32mdef\u001b[0m \u001b[0mloads\u001b[0m\u001b[0;34m(\u001b[0m\u001b[0mstr\u001b[0m\u001b[0;34m)\u001b[0m\u001b[0;34m:\u001b[0m\u001b[0;34m\u001b[0m\u001b[0m\n\u001b[0;32m-> 1381\u001b[0;31m     \u001b[0mfile\u001b[0m \u001b[0;34m=\u001b[0m \u001b[0mStringIO\u001b[0m\u001b[0;34m(\u001b[0m\u001b[0mstr\u001b[0m\u001b[0;34m)\u001b[0m\u001b[0;34m\u001b[0m\u001b[0m\n\u001b[0m\u001b[1;32m   1382\u001b[0m     \u001b[0;32mreturn\u001b[0m \u001b[0mUnpickler\u001b[0m\u001b[0;34m(\u001b[0m\u001b[0mfile\u001b[0m\u001b[0;34m)\u001b[0m\u001b[0;34m.\u001b[0m\u001b[0mload\u001b[0m\u001b[0;34m(\u001b[0m\u001b[0;34m)\u001b[0m\u001b[0;34m\u001b[0m\u001b[0m\n\u001b[1;32m   1383\u001b[0m \u001b[0;34m\u001b[0m\u001b[0m\n",
        "\u001b[0;31mTypeError\u001b[0m: must be convertible to a buffer, not Topology"
       ]
      }
     ],
     "input": [
      "pickle.loads('cmdtraj.core.element\\nhelium\\np0\\n.')"
     ],
     "language": "python",
     "prompt_number": 377
    },
    {
     "cell_type": "code",
     "metadata": {},
     "outputs": [
      {
       "output_type": "pyout",
       "prompt_number": 375,
       "text": [
        "(1, 'hydrogen', 'H', 1.007947)"
       ],
       "metadata": {}
      }
     ],
     "input": [
      "md.core.element.hydrogen"
     ],
     "language": "python",
     "prompt_number": 375
    },
    {
     "cell_type": "code",
     "metadata": {},
     "outputs": [],
     "input": [
      "class Traj(object):\n",
      "    _to_store = ['A', 'C']"
     ],
     "language": "python",
     "prompt_number": 389
    },
    {
     "cell_type": "code",
     "metadata": {},
     "outputs": [
      {
       "output_type": "pyout",
       "prompt_number": 393,
       "text": [
        "True"
       ],
       "metadata": {}
      }
     ],
     "input": [
      "hasattr(Traj, '_to_store')"
     ],
     "language": "python",
     "prompt_number": 393
    },
    {
     "cell_type": "code",
     "metadata": {},
     "outputs": [],
     "input": [
      "Traj._to_store = []"
     ],
     "language": "python",
     "prompt_number": 392
    },
    {
     "cell_type": "code",
     "metadata": {},
     "outputs": [
      {
       "output_type": "pyout",
       "prompt_number": 398,
       "text": [
        "[simtk.openmm.app.element.Element, object]"
       ],
       "metadata": {}
      }
     ],
     "input": [
      ""
     ],
     "language": "python",
     "prompt_number": 398
    },
    {
     "cell_type": "code",
     "metadata": {},
     "outputs": [
      {
       "output_type": "pyout",
       "prompt_number": 409,
       "text": [
        "'cnumpy\\nint32\\np0\\n.'"
       ],
       "metadata": {}
      }
     ],
     "input": [
      "pickle.dumps(type(np.int32(2)))"
     ],
     "language": "python",
     "prompt_number": 409
    },
    {
     "cell_type": "code",
     "metadata": {},
     "outputs": [
      {
       "output_type": "pyout",
       "prompt_number": 413,
       "text": [
        "'__builtin__'"
       ],
       "metadata": {}
      }
     ],
     "input": [
      "type(1.0).__module__"
     ],
     "language": "python",
     "prompt_number": 413
    },
    {
     "cell_type": "code",
     "metadata": {},
     "outputs": [],
     "input": [
      "import inspect"
     ],
     "language": "python",
     "prompt_number": 4
    },
    {
     "cell_type": "code",
     "metadata": {},
     "outputs": [
      {
       "output_type": "pyout",
       "prompt_number": 32,
       "text": [
        "('getByAtomicNumber', <function simtk.openmm.app.element.getByAtomicNumber>)"
       ],
       "metadata": {}
      }
     ],
     "input": [
      "ll = inspect.getmembers(Element)\n",
      "ll[21]"
     ],
     "language": "python",
     "prompt_number": 32
    },
    {
     "cell_type": "code",
     "metadata": {},
     "outputs": [
      {
       "output_type": "stream",
       "stream": "stdout",
       "text": [
        "False\n"
       ]
      }
     ],
     "input": [
      "print inspect.ismethod(ll)\n",
      "?inspect.ismethod"
     ],
     "language": "python",
     "prompt_number": 38
    },
    {
     "cell_type": "code",
     "metadata": {},
     "outputs": [],
     "input": [
      "mm = inspect.getmembers(Element)[10][1]"
     ],
     "language": "python",
     "prompt_number": 43
    },
    {
     "cell_type": "code",
     "metadata": {},
     "outputs": [
      {
       "output_type": "pyout",
       "prompt_number": 44,
       "text": [
        "<method '__reduce__' of 'object' objects>"
       ],
       "metadata": {}
      }
     ],
     "input": [
      "mm"
     ],
     "language": "python",
     "prompt_number": 44
    },
    {
     "cell_type": "code",
     "metadata": {},
     "outputs": [],
     "input": [
      "class Hallo(object):\n",
      "    @staticmethod\n",
      "    def stat(val):\n",
      "        return 2*val\n",
      "    \n",
      "    def test(self, val):\n",
      "        return 2*val"
     ],
     "language": "python",
     "prompt_number": 58
    },
    {
     "cell_type": "code",
     "metadata": {},
     "outputs": [],
     "input": [
      "ll = inspect.getmembers(Hallo)"
     ],
     "language": "python",
     "prompt_number": 49
    },
    {
     "cell_type": "code",
     "metadata": {},
     "outputs": [
      {
       "output_type": "pyout",
       "prompt_number": 53,
       "text": [
        "True"
       ],
       "metadata": {}
      }
     ],
     "input": [
      "inspect.ismethod(ll[-1][1])"
     ],
     "language": "python",
     "prompt_number": 53
    },
    {
     "cell_type": "code",
     "metadata": {},
     "outputs": [],
     "input": [
      "ll[-1][1].im_self"
     ],
     "language": "python",
     "prompt_number": 57
    },
    {
     "cell_type": "code",
     "metadata": {},
     "outputs": [],
     "input": [
      ""
     ],
     "language": "python"
    }
   ]
  }
 ],
 "cells": [],
 "metadata": {
  "name": ""
 },
 "nbformat": 3,
 "nbformat_minor": 0
}