{
 "cells": [
  {
   "cell_type": "code",
   "execution_count": 1,
   "metadata": {
    "collapsed": true
   },
   "outputs": [],
   "source": [
    "%matplotlib inline\n",
    "import matplotlib.pyplot as plt\n",
    "import openpathsampling as paths\n",
    "import openpathsampling.storage as st\n",
    "\n",
    "storage = st.AnalysisStorage(\"mstis.nc\")"
   ]
  },
  {
   "cell_type": "code",
   "execution_count": 2,
   "metadata": {},
   "outputs": [
    {
     "data": {
      "text/plain": [
       "101"
      ]
     },
     "execution_count": 2,
     "metadata": {},
     "output_type": "execute_result"
    }
   ],
   "source": [
    "len(storage.steps)"
   ]
  },
  {
   "cell_type": "code",
   "execution_count": 3,
   "metadata": {
    "collapsed": true
   },
   "outputs": [],
   "source": [
    "mstis = storage.networks.load(0)\n",
    "retis = mstis.sampling_transitions[0]\n",
    "scheme = storage.schemes[0]"
   ]
  },
  {
   "cell_type": "markdown",
   "metadata": {},
   "source": [
    "### Defining labels\n",
    "\n",
    "Everything is actually done in terms of ensembles. We can map the ensembles to any labels. In our case, we use the initial replica ID associated with the ensemble. We use this as both the numeric and string label."
   ]
  },
  {
   "cell_type": "code",
   "execution_count": 4,
   "metadata": {
    "collapsed": true
   },
   "outputs": [],
   "source": [
    "sset0 = storage.samplesets[0]\n",
    "numeric_labels = { s.ensemble : s.replica for s in sset0}\n",
    "string_labels = { s.ensemble : str(s.replica) for s in sset0 }\n",
    "numeric_to_string = { numeric_labels[e] : string_labels[e] for e in numeric_labels.keys()}"
   ]
  },
  {
   "cell_type": "markdown",
   "metadata": {},
   "source": [
    "## Trace of ensemble visited by a replica\n",
    "\n",
    "In the plot below, you'll see we set the labels on the axis as sset0[e].replica, so we use the replica ID associated with the ensemble in the first timestep."
   ]
  },
  {
   "cell_type": "code",
   "execution_count": 5,
   "metadata": {},
   "outputs": [
    {
     "name": "stdout",
     "output_type": "stream",
     "text": [
      "CPU times: user 2.89 ms, sys: 1.6 ms, total: 4.48 ms\n",
      "Wall time: 6.69 ms\n"
     ]
    }
   ],
   "source": [
    "%%time\n",
    "trace_1 = paths.trace_ensembles_for_replica(0, storage.steps)"
   ]
  },
  {
   "cell_type": "code",
   "execution_count": 6,
   "metadata": {},
   "outputs": [
    {
     "data": {
      "text/plain": [
       "[<matplotlib.lines.Line2D at 0x11b9b0110>]"
      ]
     },
     "execution_count": 6,
     "metadata": {},
     "output_type": "execute_result"
    },
    {
     "data": {
      "image/png": "[encoded data removed]",
      "text/plain": [
       "<matplotlib.figure.Figure at 0x11b071fd0>"
      ]
     },
     "metadata": {},
     "output_type": "display_data"
    }
   ],
   "source": [
    "plt.plot([numeric_labels[e] for e in trace_1])"
   ]
  },
  {
   "cell_type": "markdown",
   "metadata": {},
   "source": [
    "### Replica flow"
   ]
  },
  {
   "cell_type": "code",
   "execution_count": 10,
   "metadata": {
    "collapsed": true
   },
   "outputs": [],
   "source": [
    "repx_net = paths.ReplicaNetwork(scheme, storage.steps)"
   ]
  },
  {
   "cell_type": "code",
   "execution_count": 11,
   "metadata": {},
   "outputs": [
    {
     "name": "stdout",
     "output_type": "stream",
     "text": [
      "{<openpathsampling.ensemble.MinusInterfaceEnsemble object at 0x11aad4dd0>: 1.0, <openpathsampling.ensemble.TISEnsemble object at 0x11a8757d0>: 0.0, <openpathsampling.ensemble.TISEnsemble object at 0x11aa9fd90>: 0.0, <openpathsampling.ensemble.TISEnsemble object at 0x11aabba50>: 0.0, <openpathsampling.ensemble.TISEnsemble object at 0x11a875f90>: 0.0, <openpathsampling.ensemble.TISEnsemble object at 0x11a875790>: 0.01818181818181818, <openpathsampling.ensemble.TISEnsemble object at 0x11aacc3d0>: 0.989247311827957, <openpathsampling.ensemble.MinusInterfaceEnsemble object at 0x11aaa8990>: 0.0, <openpathsampling.ensemble.UnionEnsemble object at 0x11aac4a50>: 0.0, <openpathsampling.ensemble.TISEnsemble object at 0x11aa9ffd0>: 0.0, <openpathsampling.ensemble.TISEnsemble object at 0x11aa96f90>: 0.0, <openpathsampling.ensemble.MinusInterfaceEnsemble object at 0x11a883f10>: 0.0, <openpathsampling.ensemble.TISEnsemble object at 0x11aa968d0>: 0.0}\n"
     ]
    }
   ],
   "source": [
    "flow = repx_net.flow(bottom=retis.minus_ensemble, top=retis.ensembles[-1])\n",
    "print(flow)"
   ]
  },
  {
   "cell_type": "code",
   "execution_count": 12,
   "metadata": {},
   "outputs": [
    {
     "name": "stdout",
     "output_type": "stream",
     "text": [
      "{0: 0.0, 1: 0.0, 2: 0.0, 3: 0.0, 4: 0.0, 5: 0.0, 6: 0.989247311827957, 7: 0.01818181818181818, 8: 0.0, 9: 0.0, -2: 0.0, -3: 0.0, -1: 1.0}\n"
     ]
    }
   ],
   "source": [
    "flow_num = {numeric_labels[k] : flow[k] for k in flow.keys()}\n",
    "print(flow_num)"
   ]
  },
  {
   "cell_type": "code",
   "execution_count": 13,
   "metadata": {
    "collapsed": true
   },
   "outputs": [],
   "source": [
    "sorted_vals = []\n",
    "for k in sorted(flow_num.keys()):\n",
    "    sorted_vals.append(flow_num[k])"
   ]
  },
  {
   "cell_type": "code",
   "execution_count": 14,
   "metadata": {},
   "outputs": [
    {
     "data": {
      "text/plain": [
       "[<matplotlib.lines.Line2D at 0x10e02ff50>]"
      ]
     },
     "execution_count": 14,
     "metadata": {},
     "output_type": "execute_result"
    },
    {
     "data": {
      "image/png": "[encoded data removed]",
      "text/plain": [
       "<matplotlib.figure.Figure at 0x10f9a5790>"
      ]
     },
     "metadata": {},
     "output_type": "display_data"
    }
   ],
   "source": [
    "plt.plot(sorted(flow_num.keys()), sorted_vals)"
   ]
  },
  {
   "cell_type": "markdown",
   "metadata": {},
   "source": [
    "### Trips\n",
    "\n",
    "Now we calculate \"up\" trips, \"down\" trips, and round-trips."
   ]
  },
  {
   "cell_type": "code",
   "execution_count": 15,
   "metadata": {},
   "outputs": [
    {
     "name": "stderr",
     "output_type": "stream",
     "text": [
      "No handlers could be found for logger \"openpathsampling.analysis.replica_network\"\n"
     ]
    },
    {
     "data": {
      "text/plain": [
       "{'down': [], 'round': [], 'up': []}"
      ]
     },
     "execution_count": 15,
     "metadata": {},
     "output_type": "execute_result"
    }
   ],
   "source": [
    "repx_net.trips(bottom=retis.minus_ensemble, top=retis.ensembles[-1])"
   ]
  },
  {
   "cell_type": "markdown",
   "metadata": {},
   "source": [
    "### Transition matrix\n",
    "\n",
    "The transition matrix is the (unsymmetrized) matrix of the transition probabilities. By default, it automatically sets its order from the Cuthill-McKee reverse ordering algorithm."
   ]
  },
  {
   "cell_type": "code",
   "execution_count": 16,
   "metadata": {},
   "outputs": [
    {
     "data": {
      "text/html": [
       "<style  type=\"text/css\" >\n",
       "</style>  \n",
       "<table id=\"T_57fb3e11_cdf0_11e7_85be_f40f2429f757\" > \n",
       "<thead>    <tr> \n",
       "        <th class=\"blank level0\" ></th> \n",
       "        <th class=\"col_heading level0 col0\" >10</th> \n",
       "        <th class=\"col_heading level0 col1\" >6</th> \n",
       "        <th class=\"col_heading level0 col2\" >7</th> \n",
       "        <th class=\"col_heading level0 col3\" >8</th> \n",
       "        <th class=\"col_heading level0 col4\" >11</th> \n",
       "        <th class=\"col_heading level0 col5\" >3</th> \n",
       "        <th class=\"col_heading level0 col6\" >4</th> \n",
       "        <th class=\"col_heading level0 col7\" >12</th> \n",
       "        <th class=\"col_heading level0 col8\" >0</th> \n",
       "        <th class=\"col_heading level0 col9\" >1</th> \n",
       "        <th class=\"col_heading level0 col10\" >2</th> \n",
       "        <th class=\"col_heading level0 col11\" >9</th> \n",
       "        <th class=\"col_heading level0 col12\" >5</th> \n",
       "    </tr></thead> \n",
       "<tbody>    <tr> \n",
       "        <th id=\"T_57fb3e11_cdf0_11e7_85be_f40f2429f757level0_row0\" class=\"row_heading level0 row0\" >10</th> \n",
       "        <td id=\"T_57fb3e11_cdf0_11e7_85be_f40f2429f757row0_col0\" class=\"data row0 col0\" >0</td> \n",
       "        <td id=\"T_57fb3e11_cdf0_11e7_85be_f40f2429f757row0_col1\" class=\"data row0 col1\" >0.03125</td> \n",
       "        <td id=\"T_57fb3e11_cdf0_11e7_85be_f40f2429f757row0_col2\" class=\"data row0 col2\" >0</td> \n",
       "        <td id=\"T_57fb3e11_cdf0_11e7_85be_f40f2429f757row0_col3\" class=\"data row0 col3\" >0</td> \n",
       "        <td id=\"T_57fb3e11_cdf0_11e7_85be_f40f2429f757row0_col4\" class=\"data row0 col4\" >0</td> \n",
       "        <td id=\"T_57fb3e11_cdf0_11e7_85be_f40f2429f757row0_col5\" class=\"data row0 col5\" >0</td> \n",
       "        <td id=\"T_57fb3e11_cdf0_11e7_85be_f40f2429f757row0_col6\" class=\"data row0 col6\" >0</td> \n",
       "        <td id=\"T_57fb3e11_cdf0_11e7_85be_f40f2429f757row0_col7\" class=\"data row0 col7\" >0</td> \n",
       "        <td id=\"T_57fb3e11_cdf0_11e7_85be_f40f2429f757row0_col8\" class=\"data row0 col8\" >0</td> \n",
       "        <td id=\"T_57fb3e11_cdf0_11e7_85be_f40f2429f757row0_col9\" class=\"data row0 col9\" >0</td> \n",
       "        <td id=\"T_57fb3e11_cdf0_11e7_85be_f40f2429f757row0_col10\" class=\"data row0 col10\" >0</td> \n",
       "        <td id=\"T_57fb3e11_cdf0_11e7_85be_f40f2429f757row0_col11\" class=\"data row0 col11\" >0</td> \n",
       "        <td id=\"T_57fb3e11_cdf0_11e7_85be_f40f2429f757row0_col12\" class=\"data row0 col12\" >0</td> \n",
       "    </tr>    <tr> \n",
       "        <th id=\"T_57fb3e11_cdf0_11e7_85be_f40f2429f757level0_row1\" class=\"row_heading level0 row1\" >6</th> \n",
       "        <td id=\"T_57fb3e11_cdf0_11e7_85be_f40f2429f757row1_col0\" class=\"data row1 col0\" >0.03125</td> \n",
       "        <td id=\"T_57fb3e11_cdf0_11e7_85be_f40f2429f757row1_col1\" class=\"data row1 col1\" >0</td> \n",
       "        <td id=\"T_57fb3e11_cdf0_11e7_85be_f40f2429f757row1_col2\" class=\"data row1 col2\" >0.0625</td> \n",
       "        <td id=\"T_57fb3e11_cdf0_11e7_85be_f40f2429f757row1_col3\" class=\"data row1 col3\" >0</td> \n",
       "        <td id=\"T_57fb3e11_cdf0_11e7_85be_f40f2429f757row1_col4\" class=\"data row1 col4\" >0</td> \n",
       "        <td id=\"T_57fb3e11_cdf0_11e7_85be_f40f2429f757row1_col5\" class=\"data row1 col5\" >0</td> \n",
       "        <td id=\"T_57fb3e11_cdf0_11e7_85be_f40f2429f757row1_col6\" class=\"data row1 col6\" >0</td> \n",
       "        <td id=\"T_57fb3e11_cdf0_11e7_85be_f40f2429f757row1_col7\" class=\"data row1 col7\" >0</td> \n",
       "        <td id=\"T_57fb3e11_cdf0_11e7_85be_f40f2429f757row1_col8\" class=\"data row1 col8\" >0</td> \n",
       "        <td id=\"T_57fb3e11_cdf0_11e7_85be_f40f2429f757row1_col9\" class=\"data row1 col9\" >0</td> \n",
       "        <td id=\"T_57fb3e11_cdf0_11e7_85be_f40f2429f757row1_col10\" class=\"data row1 col10\" >0</td> \n",
       "        <td id=\"T_57fb3e11_cdf0_11e7_85be_f40f2429f757row1_col11\" class=\"data row1 col11\" >0</td> \n",
       "        <td id=\"T_57fb3e11_cdf0_11e7_85be_f40f2429f757row1_col12\" class=\"data row1 col12\" >0</td> \n",
       "    </tr>    <tr> \n",
       "        <th id=\"T_57fb3e11_cdf0_11e7_85be_f40f2429f757level0_row2\" class=\"row_heading level0 row2\" >7</th> \n",
       "        <td id=\"T_57fb3e11_cdf0_11e7_85be_f40f2429f757row2_col0\" class=\"data row2 col0\" >0</td> \n",
       "        <td id=\"T_57fb3e11_cdf0_11e7_85be_f40f2429f757row2_col1\" class=\"data row2 col1\" >0.0625</td> \n",
       "        <td id=\"T_57fb3e11_cdf0_11e7_85be_f40f2429f757row2_col2\" class=\"data row2 col2\" >0</td> \n",
       "        <td id=\"T_57fb3e11_cdf0_11e7_85be_f40f2429f757row2_col3\" class=\"data row2 col3\" >0.03125</td> \n",
       "        <td id=\"T_57fb3e11_cdf0_11e7_85be_f40f2429f757row2_col4\" class=\"data row2 col4\" >0</td> \n",
       "        <td id=\"T_57fb3e11_cdf0_11e7_85be_f40f2429f757row2_col5\" class=\"data row2 col5\" >0</td> \n",
       "        <td id=\"T_57fb3e11_cdf0_11e7_85be_f40f2429f757row2_col6\" class=\"data row2 col6\" >0</td> \n",
       "        <td id=\"T_57fb3e11_cdf0_11e7_85be_f40f2429f757row2_col7\" class=\"data row2 col7\" >0</td> \n",
       "        <td id=\"T_57fb3e11_cdf0_11e7_85be_f40f2429f757row2_col8\" class=\"data row2 col8\" >0</td> \n",
       "        <td id=\"T_57fb3e11_cdf0_11e7_85be_f40f2429f757row2_col9\" class=\"data row2 col9\" >0</td> \n",
       "        <td id=\"T_57fb3e11_cdf0_11e7_85be_f40f2429f757row2_col10\" class=\"data row2 col10\" >0</td> \n",
       "        <td id=\"T_57fb3e11_cdf0_11e7_85be_f40f2429f757row2_col11\" class=\"data row2 col11\" >0</td> \n",
       "        <td id=\"T_57fb3e11_cdf0_11e7_85be_f40f2429f757row2_col12\" class=\"data row2 col12\" >0</td> \n",
       "    </tr>    <tr> \n",
       "        <th id=\"T_57fb3e11_cdf0_11e7_85be_f40f2429f757level0_row3\" class=\"row_heading level0 row3\" >8</th> \n",
       "        <td id=\"T_57fb3e11_cdf0_11e7_85be_f40f2429f757row3_col0\" class=\"data row3 col0\" >0</td> \n",
       "        <td id=\"T_57fb3e11_cdf0_11e7_85be_f40f2429f757row3_col1\" class=\"data row3 col1\" >0</td> \n",
       "        <td id=\"T_57fb3e11_cdf0_11e7_85be_f40f2429f757row3_col2\" class=\"data row3 col2\" >0.03125</td> \n",
       "        <td id=\"T_57fb3e11_cdf0_11e7_85be_f40f2429f757row3_col3\" class=\"data row3 col3\" >0</td> \n",
       "        <td id=\"T_57fb3e11_cdf0_11e7_85be_f40f2429f757row3_col4\" class=\"data row3 col4\" >0</td> \n",
       "        <td id=\"T_57fb3e11_cdf0_11e7_85be_f40f2429f757row3_col5\" class=\"data row3 col5\" >0</td> \n",
       "        <td id=\"T_57fb3e11_cdf0_11e7_85be_f40f2429f757row3_col6\" class=\"data row3 col6\" >0</td> \n",
       "        <td id=\"T_57fb3e11_cdf0_11e7_85be_f40f2429f757row3_col7\" class=\"data row3 col7\" >0</td> \n",
       "        <td id=\"T_57fb3e11_cdf0_11e7_85be_f40f2429f757row3_col8\" class=\"data row3 col8\" >0</td> \n",
       "        <td id=\"T_57fb3e11_cdf0_11e7_85be_f40f2429f757row3_col9\" class=\"data row3 col9\" >0</td> \n",
       "        <td id=\"T_57fb3e11_cdf0_11e7_85be_f40f2429f757row3_col10\" class=\"data row3 col10\" >0</td> \n",
       "        <td id=\"T_57fb3e11_cdf0_11e7_85be_f40f2429f757row3_col11\" class=\"data row3 col11\" >0</td> \n",
       "        <td id=\"T_57fb3e11_cdf0_11e7_85be_f40f2429f757row3_col12\" class=\"data row3 col12\" >0</td> \n",
       "    </tr>    <tr> \n",
       "        <th id=\"T_57fb3e11_cdf0_11e7_85be_f40f2429f757level0_row4\" class=\"row_heading level0 row4\" >11</th> \n",
       "        <td id=\"T_57fb3e11_cdf0_11e7_85be_f40f2429f757row4_col0\" class=\"data row4 col0\" >0</td> \n",
       "        <td id=\"T_57fb3e11_cdf0_11e7_85be_f40f2429f757row4_col1\" class=\"data row4 col1\" >0</td> \n",
       "        <td id=\"T_57fb3e11_cdf0_11e7_85be_f40f2429f757row4_col2\" class=\"data row4 col2\" >0</td> \n",
       "        <td id=\"T_57fb3e11_cdf0_11e7_85be_f40f2429f757row4_col3\" class=\"data row4 col3\" >0</td> \n",
       "        <td id=\"T_57fb3e11_cdf0_11e7_85be_f40f2429f757row4_col4\" class=\"data row4 col4\" >0</td> \n",
       "        <td id=\"T_57fb3e11_cdf0_11e7_85be_f40f2429f757row4_col5\" class=\"data row4 col5\" >0.03125</td> \n",
       "        <td id=\"T_57fb3e11_cdf0_11e7_85be_f40f2429f757row4_col6\" class=\"data row4 col6\" >0</td> \n",
       "        <td id=\"T_57fb3e11_cdf0_11e7_85be_f40f2429f757row4_col7\" class=\"data row4 col7\" >0</td> \n",
       "        <td id=\"T_57fb3e11_cdf0_11e7_85be_f40f2429f757row4_col8\" class=\"data row4 col8\" >0</td> \n",
       "        <td id=\"T_57fb3e11_cdf0_11e7_85be_f40f2429f757row4_col9\" class=\"data row4 col9\" >0</td> \n",
       "        <td id=\"T_57fb3e11_cdf0_11e7_85be_f40f2429f757row4_col10\" class=\"data row4 col10\" >0</td> \n",
       "        <td id=\"T_57fb3e11_cdf0_11e7_85be_f40f2429f757row4_col11\" class=\"data row4 col11\" >0</td> \n",
       "        <td id=\"T_57fb3e11_cdf0_11e7_85be_f40f2429f757row4_col12\" class=\"data row4 col12\" >0</td> \n",
       "    </tr>    <tr> \n",
       "        <th id=\"T_57fb3e11_cdf0_11e7_85be_f40f2429f757level0_row5\" class=\"row_heading level0 row5\" >3</th> \n",
       "        <td id=\"T_57fb3e11_cdf0_11e7_85be_f40f2429f757row5_col0\" class=\"data row5 col0\" >0</td> \n",
       "        <td id=\"T_57fb3e11_cdf0_11e7_85be_f40f2429f757row5_col1\" class=\"data row5 col1\" >0</td> \n",
       "        <td id=\"T_57fb3e11_cdf0_11e7_85be_f40f2429f757row5_col2\" class=\"data row5 col2\" >0</td> \n",
       "        <td id=\"T_57fb3e11_cdf0_11e7_85be_f40f2429f757row5_col3\" class=\"data row5 col3\" >0</td> \n",
       "        <td id=\"T_57fb3e11_cdf0_11e7_85be_f40f2429f757row5_col4\" class=\"data row5 col4\" >0.03125</td> \n",
       "        <td id=\"T_57fb3e11_cdf0_11e7_85be_f40f2429f757row5_col5\" class=\"data row5 col5\" >0</td> \n",
       "        <td id=\"T_57fb3e11_cdf0_11e7_85be_f40f2429f757row5_col6\" class=\"data row5 col6\" >0.03125</td> \n",
       "        <td id=\"T_57fb3e11_cdf0_11e7_85be_f40f2429f757row5_col7\" class=\"data row5 col7\" >0</td> \n",
       "        <td id=\"T_57fb3e11_cdf0_11e7_85be_f40f2429f757row5_col8\" class=\"data row5 col8\" >0</td> \n",
       "        <td id=\"T_57fb3e11_cdf0_11e7_85be_f40f2429f757row5_col9\" class=\"data row5 col9\" >0</td> \n",
       "        <td id=\"T_57fb3e11_cdf0_11e7_85be_f40f2429f757row5_col10\" class=\"data row5 col10\" >0</td> \n",
       "        <td id=\"T_57fb3e11_cdf0_11e7_85be_f40f2429f757row5_col11\" class=\"data row5 col11\" >0</td> \n",
       "        <td id=\"T_57fb3e11_cdf0_11e7_85be_f40f2429f757row5_col12\" class=\"data row5 col12\" >0</td> \n",
       "    </tr>    <tr> \n",
       "        <th id=\"T_57fb3e11_cdf0_11e7_85be_f40f2429f757level0_row6\" class=\"row_heading level0 row6\" >4</th> \n",
       "        <td id=\"T_57fb3e11_cdf0_11e7_85be_f40f2429f757row6_col0\" class=\"data row6 col0\" >0</td> \n",
       "        <td id=\"T_57fb3e11_cdf0_11e7_85be_f40f2429f757row6_col1\" class=\"data row6 col1\" >0</td> \n",
       "        <td id=\"T_57fb3e11_cdf0_11e7_85be_f40f2429f757row6_col2\" class=\"data row6 col2\" >0</td> \n",
       "        <td id=\"T_57fb3e11_cdf0_11e7_85be_f40f2429f757row6_col3\" class=\"data row6 col3\" >0</td> \n",
       "        <td id=\"T_57fb3e11_cdf0_11e7_85be_f40f2429f757row6_col4\" class=\"data row6 col4\" >0</td> \n",
       "        <td id=\"T_57fb3e11_cdf0_11e7_85be_f40f2429f757row6_col5\" class=\"data row6 col5\" >0.03125</td> \n",
       "        <td id=\"T_57fb3e11_cdf0_11e7_85be_f40f2429f757row6_col6\" class=\"data row6 col6\" >0</td> \n",
       "        <td id=\"T_57fb3e11_cdf0_11e7_85be_f40f2429f757row6_col7\" class=\"data row6 col7\" >0</td> \n",
       "        <td id=\"T_57fb3e11_cdf0_11e7_85be_f40f2429f757row6_col8\" class=\"data row6 col8\" >0</td> \n",
       "        <td id=\"T_57fb3e11_cdf0_11e7_85be_f40f2429f757row6_col9\" class=\"data row6 col9\" >0</td> \n",
       "        <td id=\"T_57fb3e11_cdf0_11e7_85be_f40f2429f757row6_col10\" class=\"data row6 col10\" >0</td> \n",
       "        <td id=\"T_57fb3e11_cdf0_11e7_85be_f40f2429f757row6_col11\" class=\"data row6 col11\" >0</td> \n",
       "        <td id=\"T_57fb3e11_cdf0_11e7_85be_f40f2429f757row6_col12\" class=\"data row6 col12\" >0</td> \n",
       "    </tr>    <tr> \n",
       "        <th id=\"T_57fb3e11_cdf0_11e7_85be_f40f2429f757level0_row7\" class=\"row_heading level0 row7\" >12</th> \n",
       "        <td id=\"T_57fb3e11_cdf0_11e7_85be_f40f2429f757row7_col0\" class=\"data row7 col0\" >0</td> \n",
       "        <td id=\"T_57fb3e11_cdf0_11e7_85be_f40f2429f757row7_col1\" class=\"data row7 col1\" >0</td> \n",
       "        <td id=\"T_57fb3e11_cdf0_11e7_85be_f40f2429f757row7_col2\" class=\"data row7 col2\" >0</td> \n",
       "        <td id=\"T_57fb3e11_cdf0_11e7_85be_f40f2429f757row7_col3\" class=\"data row7 col3\" >0</td> \n",
       "        <td id=\"T_57fb3e11_cdf0_11e7_85be_f40f2429f757row7_col4\" class=\"data row7 col4\" >0</td> \n",
       "        <td id=\"T_57fb3e11_cdf0_11e7_85be_f40f2429f757row7_col5\" class=\"data row7 col5\" >0</td> \n",
       "        <td id=\"T_57fb3e11_cdf0_11e7_85be_f40f2429f757row7_col6\" class=\"data row7 col6\" >0</td> \n",
       "        <td id=\"T_57fb3e11_cdf0_11e7_85be_f40f2429f757row7_col7\" class=\"data row7 col7\" >0</td> \n",
       "        <td id=\"T_57fb3e11_cdf0_11e7_85be_f40f2429f757row7_col8\" class=\"data row7 col8\" >0.09375</td> \n",
       "        <td id=\"T_57fb3e11_cdf0_11e7_85be_f40f2429f757row7_col9\" class=\"data row7 col9\" >0</td> \n",
       "        <td id=\"T_57fb3e11_cdf0_11e7_85be_f40f2429f757row7_col10\" class=\"data row7 col10\" >0</td> \n",
       "        <td id=\"T_57fb3e11_cdf0_11e7_85be_f40f2429f757row7_col11\" class=\"data row7 col11\" >0</td> \n",
       "        <td id=\"T_57fb3e11_cdf0_11e7_85be_f40f2429f757row7_col12\" class=\"data row7 col12\" >0</td> \n",
       "    </tr>    <tr> \n",
       "        <th id=\"T_57fb3e11_cdf0_11e7_85be_f40f2429f757level0_row8\" class=\"row_heading level0 row8\" >0</th> \n",
       "        <td id=\"T_57fb3e11_cdf0_11e7_85be_f40f2429f757row8_col0\" class=\"data row8 col0\" >0</td> \n",
       "        <td id=\"T_57fb3e11_cdf0_11e7_85be_f40f2429f757row8_col1\" class=\"data row8 col1\" >0</td> \n",
       "        <td id=\"T_57fb3e11_cdf0_11e7_85be_f40f2429f757row8_col2\" class=\"data row8 col2\" >0</td> \n",
       "        <td id=\"T_57fb3e11_cdf0_11e7_85be_f40f2429f757row8_col3\" class=\"data row8 col3\" >0</td> \n",
       "        <td id=\"T_57fb3e11_cdf0_11e7_85be_f40f2429f757row8_col4\" class=\"data row8 col4\" >0</td> \n",
       "        <td id=\"T_57fb3e11_cdf0_11e7_85be_f40f2429f757row8_col5\" class=\"data row8 col5\" >0</td> \n",
       "        <td id=\"T_57fb3e11_cdf0_11e7_85be_f40f2429f757row8_col6\" class=\"data row8 col6\" >0</td> \n",
       "        <td id=\"T_57fb3e11_cdf0_11e7_85be_f40f2429f757row8_col7\" class=\"data row8 col7\" >0.09375</td> \n",
       "        <td id=\"T_57fb3e11_cdf0_11e7_85be_f40f2429f757row8_col8\" class=\"data row8 col8\" >0</td> \n",
       "        <td id=\"T_57fb3e11_cdf0_11e7_85be_f40f2429f757row8_col9\" class=\"data row8 col9\" >0.03125</td> \n",
       "        <td id=\"T_57fb3e11_cdf0_11e7_85be_f40f2429f757row8_col10\" class=\"data row8 col10\" >0</td> \n",
       "        <td id=\"T_57fb3e11_cdf0_11e7_85be_f40f2429f757row8_col11\" class=\"data row8 col11\" >0</td> \n",
       "        <td id=\"T_57fb3e11_cdf0_11e7_85be_f40f2429f757row8_col12\" class=\"data row8 col12\" >0</td> \n",
       "    </tr>    <tr> \n",
       "        <th id=\"T_57fb3e11_cdf0_11e7_85be_f40f2429f757level0_row9\" class=\"row_heading level0 row9\" >1</th> \n",
       "        <td id=\"T_57fb3e11_cdf0_11e7_85be_f40f2429f757row9_col0\" class=\"data row9 col0\" >0</td> \n",
       "        <td id=\"T_57fb3e11_cdf0_11e7_85be_f40f2429f757row9_col1\" class=\"data row9 col1\" >0</td> \n",
       "        <td id=\"T_57fb3e11_cdf0_11e7_85be_f40f2429f757row9_col2\" class=\"data row9 col2\" >0</td> \n",
       "        <td id=\"T_57fb3e11_cdf0_11e7_85be_f40f2429f757row9_col3\" class=\"data row9 col3\" >0</td> \n",
       "        <td id=\"T_57fb3e11_cdf0_11e7_85be_f40f2429f757row9_col4\" class=\"data row9 col4\" >0</td> \n",
       "        <td id=\"T_57fb3e11_cdf0_11e7_85be_f40f2429f757row9_col5\" class=\"data row9 col5\" >0</td> \n",
       "        <td id=\"T_57fb3e11_cdf0_11e7_85be_f40f2429f757row9_col6\" class=\"data row9 col6\" >0</td> \n",
       "        <td id=\"T_57fb3e11_cdf0_11e7_85be_f40f2429f757row9_col7\" class=\"data row9 col7\" >0</td> \n",
       "        <td id=\"T_57fb3e11_cdf0_11e7_85be_f40f2429f757row9_col8\" class=\"data row9 col8\" >0.03125</td> \n",
       "        <td id=\"T_57fb3e11_cdf0_11e7_85be_f40f2429f757row9_col9\" class=\"data row9 col9\" >0</td> \n",
       "        <td id=\"T_57fb3e11_cdf0_11e7_85be_f40f2429f757row9_col10\" class=\"data row9 col10\" >0.03125</td> \n",
       "        <td id=\"T_57fb3e11_cdf0_11e7_85be_f40f2429f757row9_col11\" class=\"data row9 col11\" >0</td> \n",
       "        <td id=\"T_57fb3e11_cdf0_11e7_85be_f40f2429f757row9_col12\" class=\"data row9 col12\" >0</td> \n",
       "    </tr>    <tr> \n",
       "        <th id=\"T_57fb3e11_cdf0_11e7_85be_f40f2429f757level0_row10\" class=\"row_heading level0 row10\" >2</th> \n",
       "        <td id=\"T_57fb3e11_cdf0_11e7_85be_f40f2429f757row10_col0\" class=\"data row10 col0\" >0</td> \n",
       "        <td id=\"T_57fb3e11_cdf0_11e7_85be_f40f2429f757row10_col1\" class=\"data row10 col1\" >0</td> \n",
       "        <td id=\"T_57fb3e11_cdf0_11e7_85be_f40f2429f757row10_col2\" class=\"data row10 col2\" >0</td> \n",
       "        <td id=\"T_57fb3e11_cdf0_11e7_85be_f40f2429f757row10_col3\" class=\"data row10 col3\" >0</td> \n",
       "        <td id=\"T_57fb3e11_cdf0_11e7_85be_f40f2429f757row10_col4\" class=\"data row10 col4\" >0</td> \n",
       "        <td id=\"T_57fb3e11_cdf0_11e7_85be_f40f2429f757row10_col5\" class=\"data row10 col5\" >0</td> \n",
       "        <td id=\"T_57fb3e11_cdf0_11e7_85be_f40f2429f757row10_col6\" class=\"data row10 col6\" >0</td> \n",
       "        <td id=\"T_57fb3e11_cdf0_11e7_85be_f40f2429f757row10_col7\" class=\"data row10 col7\" >0</td> \n",
       "        <td id=\"T_57fb3e11_cdf0_11e7_85be_f40f2429f757row10_col8\" class=\"data row10 col8\" >0</td> \n",
       "        <td id=\"T_57fb3e11_cdf0_11e7_85be_f40f2429f757row10_col9\" class=\"data row10 col9\" >0.03125</td> \n",
       "        <td id=\"T_57fb3e11_cdf0_11e7_85be_f40f2429f757row10_col10\" class=\"data row10 col10\" >0</td> \n",
       "        <td id=\"T_57fb3e11_cdf0_11e7_85be_f40f2429f757row10_col11\" class=\"data row10 col11\" >0</td> \n",
       "        <td id=\"T_57fb3e11_cdf0_11e7_85be_f40f2429f757row10_col12\" class=\"data row10 col12\" >0</td> \n",
       "    </tr>    <tr> \n",
       "        <th id=\"T_57fb3e11_cdf0_11e7_85be_f40f2429f757level0_row11\" class=\"row_heading level0 row11\" >9</th> \n",
       "        <td id=\"T_57fb3e11_cdf0_11e7_85be_f40f2429f757row11_col0\" class=\"data row11 col0\" >0</td> \n",
       "        <td id=\"T_57fb3e11_cdf0_11e7_85be_f40f2429f757row11_col1\" class=\"data row11 col1\" >0</td> \n",
       "        <td id=\"T_57fb3e11_cdf0_11e7_85be_f40f2429f757row11_col2\" class=\"data row11 col2\" >0</td> \n",
       "        <td id=\"T_57fb3e11_cdf0_11e7_85be_f40f2429f757row11_col3\" class=\"data row11 col3\" >0</td> \n",
       "        <td id=\"T_57fb3e11_cdf0_11e7_85be_f40f2429f757row11_col4\" class=\"data row11 col4\" >0</td> \n",
       "        <td id=\"T_57fb3e11_cdf0_11e7_85be_f40f2429f757row11_col5\" class=\"data row11 col5\" >0</td> \n",
       "        <td id=\"T_57fb3e11_cdf0_11e7_85be_f40f2429f757row11_col6\" class=\"data row11 col6\" >0</td> \n",
       "        <td id=\"T_57fb3e11_cdf0_11e7_85be_f40f2429f757row11_col7\" class=\"data row11 col7\" >0</td> \n",
       "        <td id=\"T_57fb3e11_cdf0_11e7_85be_f40f2429f757row11_col8\" class=\"data row11 col8\" >0</td> \n",
       "        <td id=\"T_57fb3e11_cdf0_11e7_85be_f40f2429f757row11_col9\" class=\"data row11 col9\" >0</td> \n",
       "        <td id=\"T_57fb3e11_cdf0_11e7_85be_f40f2429f757row11_col10\" class=\"data row11 col10\" >0</td> \n",
       "        <td id=\"T_57fb3e11_cdf0_11e7_85be_f40f2429f757row11_col11\" class=\"data row11 col11\" >0</td> \n",
       "        <td id=\"T_57fb3e11_cdf0_11e7_85be_f40f2429f757row11_col12\" class=\"data row11 col12\" >0</td> \n",
       "    </tr>    <tr> \n",
       "        <th id=\"T_57fb3e11_cdf0_11e7_85be_f40f2429f757level0_row12\" class=\"row_heading level0 row12\" >5</th> \n",
       "        <td id=\"T_57fb3e11_cdf0_11e7_85be_f40f2429f757row12_col0\" class=\"data row12 col0\" >0</td> \n",
       "        <td id=\"T_57fb3e11_cdf0_11e7_85be_f40f2429f757row12_col1\" class=\"data row12 col1\" >0</td> \n",
       "        <td id=\"T_57fb3e11_cdf0_11e7_85be_f40f2429f757row12_col2\" class=\"data row12 col2\" >0</td> \n",
       "        <td id=\"T_57fb3e11_cdf0_11e7_85be_f40f2429f757row12_col3\" class=\"data row12 col3\" >0</td> \n",
       "        <td id=\"T_57fb3e11_cdf0_11e7_85be_f40f2429f757row12_col4\" class=\"data row12 col4\" >0</td> \n",
       "        <td id=\"T_57fb3e11_cdf0_11e7_85be_f40f2429f757row12_col5\" class=\"data row12 col5\" >0</td> \n",
       "        <td id=\"T_57fb3e11_cdf0_11e7_85be_f40f2429f757row12_col6\" class=\"data row12 col6\" >0</td> \n",
       "        <td id=\"T_57fb3e11_cdf0_11e7_85be_f40f2429f757row12_col7\" class=\"data row12 col7\" >0</td> \n",
       "        <td id=\"T_57fb3e11_cdf0_11e7_85be_f40f2429f757row12_col8\" class=\"data row12 col8\" >0</td> \n",
       "        <td id=\"T_57fb3e11_cdf0_11e7_85be_f40f2429f757row12_col9\" class=\"data row12 col9\" >0</td> \n",
       "        <td id=\"T_57fb3e11_cdf0_11e7_85be_f40f2429f757row12_col10\" class=\"data row12 col10\" >0</td> \n",
       "        <td id=\"T_57fb3e11_cdf0_11e7_85be_f40f2429f757row12_col11\" class=\"data row12 col11\" >0</td> \n",
       "        <td id=\"T_57fb3e11_cdf0_11e7_85be_f40f2429f757row12_col12\" class=\"data row12 col12\" >0</td> \n",
       "    </tr></tbody> \n",
       "</table> "
      ],
      "text/plain": [
       "<pandas.io.formats.style.Styler at 0x10f983650>"
      ]
     },
     "execution_count": 16,
     "metadata": {},
     "output_type": "execute_result"
    }
   ],
   "source": [
    "repx_net.transition_matrix().style\n",
    "# .style has the effect that 0.0 is reported as 0 instead of 0.000000"
   ]
  },
  {
   "cell_type": "markdown",
   "metadata": {},
   "source": [
    "If you would like to set a different order, that can be done by providing a list of the ensembles in whatever order you choose:"
   ]
  },
  {
   "cell_type": "code",
   "execution_count": 17,
   "metadata": {},
   "outputs": [
    {
     "name": "stdout",
     "output_type": "stream",
     "text": [
      "[11  8  1  2  4  6  7  3  9  0 10 12  5]\n"
     ]
    }
   ],
   "source": [
    "import numpy as np\n",
    "perm = np.random.permutation(len(mstis.all_ensembles))\n",
    "print(perm)"
   ]
  },
  {
   "cell_type": "code",
   "execution_count": 18,
   "metadata": {},
   "outputs": [
    {
     "data": {
      "text/html": [
       "<style  type=\"text/css\" >\n",
       "</style>  \n",
       "<table id=\"T_58a8b20f_cdf0_11e7_a608_f40f2429f757\" > \n",
       "<thead>    <tr> \n",
       "        <th class=\"blank level0\" ></th> \n",
       "        <th class=\"col_heading level0 col0\" >11</th> \n",
       "        <th class=\"col_heading level0 col1\" >8</th> \n",
       "        <th class=\"col_heading level0 col2\" >1</th> \n",
       "        <th class=\"col_heading level0 col3\" >2</th> \n",
       "        <th class=\"col_heading level0 col4\" >4</th> \n",
       "        <th class=\"col_heading level0 col5\" >6</th> \n",
       "        <th class=\"col_heading level0 col6\" >7</th> \n",
       "        <th class=\"col_heading level0 col7\" >3</th> \n",
       "        <th class=\"col_heading level0 col8\" >9</th> \n",
       "        <th class=\"col_heading level0 col9\" >0</th> \n",
       "        <th class=\"col_heading level0 col10\" >10</th> \n",
       "        <th class=\"col_heading level0 col11\" >12</th> \n",
       "        <th class=\"col_heading level0 col12\" >5</th> \n",
       "    </tr></thead> \n",
       "<tbody>    <tr> \n",
       "        <th id=\"T_58a8b20f_cdf0_11e7_a608_f40f2429f757level0_row0\" class=\"row_heading level0 row0\" >11</th> \n",
       "        <td id=\"T_58a8b20f_cdf0_11e7_a608_f40f2429f757row0_col0\" class=\"data row0 col0\" >0</td> \n",
       "        <td id=\"T_58a8b20f_cdf0_11e7_a608_f40f2429f757row0_col1\" class=\"data row0 col1\" >0</td> \n",
       "        <td id=\"T_58a8b20f_cdf0_11e7_a608_f40f2429f757row0_col2\" class=\"data row0 col2\" >0</td> \n",
       "        <td id=\"T_58a8b20f_cdf0_11e7_a608_f40f2429f757row0_col3\" class=\"data row0 col3\" >0</td> \n",
       "        <td id=\"T_58a8b20f_cdf0_11e7_a608_f40f2429f757row0_col4\" class=\"data row0 col4\" >0</td> \n",
       "        <td id=\"T_58a8b20f_cdf0_11e7_a608_f40f2429f757row0_col5\" class=\"data row0 col5\" >0</td> \n",
       "        <td id=\"T_58a8b20f_cdf0_11e7_a608_f40f2429f757row0_col6\" class=\"data row0 col6\" >0</td> \n",
       "        <td id=\"T_58a8b20f_cdf0_11e7_a608_f40f2429f757row0_col7\" class=\"data row0 col7\" >0.03125</td> \n",
       "        <td id=\"T_58a8b20f_cdf0_11e7_a608_f40f2429f757row0_col8\" class=\"data row0 col8\" >0</td> \n",
       "        <td id=\"T_58a8b20f_cdf0_11e7_a608_f40f2429f757row0_col9\" class=\"data row0 col9\" >0</td> \n",
       "        <td id=\"T_58a8b20f_cdf0_11e7_a608_f40f2429f757row0_col10\" class=\"data row0 col10\" >0</td> \n",
       "        <td id=\"T_58a8b20f_cdf0_11e7_a608_f40f2429f757row0_col11\" class=\"data row0 col11\" >0</td> \n",
       "        <td id=\"T_58a8b20f_cdf0_11e7_a608_f40f2429f757row0_col12\" class=\"data row0 col12\" >0</td> \n",
       "    </tr>    <tr> \n",
       "        <th id=\"T_58a8b20f_cdf0_11e7_a608_f40f2429f757level0_row1\" class=\"row_heading level0 row1\" >8</th> \n",
       "        <td id=\"T_58a8b20f_cdf0_11e7_a608_f40f2429f757row1_col0\" class=\"data row1 col0\" >0</td> \n",
       "        <td id=\"T_58a8b20f_cdf0_11e7_a608_f40f2429f757row1_col1\" class=\"data row1 col1\" >0</td> \n",
       "        <td id=\"T_58a8b20f_cdf0_11e7_a608_f40f2429f757row1_col2\" class=\"data row1 col2\" >0</td> \n",
       "        <td id=\"T_58a8b20f_cdf0_11e7_a608_f40f2429f757row1_col3\" class=\"data row1 col3\" >0</td> \n",
       "        <td id=\"T_58a8b20f_cdf0_11e7_a608_f40f2429f757row1_col4\" class=\"data row1 col4\" >0</td> \n",
       "        <td id=\"T_58a8b20f_cdf0_11e7_a608_f40f2429f757row1_col5\" class=\"data row1 col5\" >0</td> \n",
       "        <td id=\"T_58a8b20f_cdf0_11e7_a608_f40f2429f757row1_col6\" class=\"data row1 col6\" >0.03125</td> \n",
       "        <td id=\"T_58a8b20f_cdf0_11e7_a608_f40f2429f757row1_col7\" class=\"data row1 col7\" >0</td> \n",
       "        <td id=\"T_58a8b20f_cdf0_11e7_a608_f40f2429f757row1_col8\" class=\"data row1 col8\" >0</td> \n",
       "        <td id=\"T_58a8b20f_cdf0_11e7_a608_f40f2429f757row1_col9\" class=\"data row1 col9\" >0</td> \n",
       "        <td id=\"T_58a8b20f_cdf0_11e7_a608_f40f2429f757row1_col10\" class=\"data row1 col10\" >0</td> \n",
       "        <td id=\"T_58a8b20f_cdf0_11e7_a608_f40f2429f757row1_col11\" class=\"data row1 col11\" >0</td> \n",
       "        <td id=\"T_58a8b20f_cdf0_11e7_a608_f40f2429f757row1_col12\" class=\"data row1 col12\" >0</td> \n",
       "    </tr>    <tr> \n",
       "        <th id=\"T_58a8b20f_cdf0_11e7_a608_f40f2429f757level0_row2\" class=\"row_heading level0 row2\" >1</th> \n",
       "        <td id=\"T_58a8b20f_cdf0_11e7_a608_f40f2429f757row2_col0\" class=\"data row2 col0\" >0</td> \n",
       "        <td id=\"T_58a8b20f_cdf0_11e7_a608_f40f2429f757row2_col1\" class=\"data row2 col1\" >0</td> \n",
       "        <td id=\"T_58a8b20f_cdf0_11e7_a608_f40f2429f757row2_col2\" class=\"data row2 col2\" >0</td> \n",
       "        <td id=\"T_58a8b20f_cdf0_11e7_a608_f40f2429f757row2_col3\" class=\"data row2 col3\" >0.03125</td> \n",
       "        <td id=\"T_58a8b20f_cdf0_11e7_a608_f40f2429f757row2_col4\" class=\"data row2 col4\" >0</td> \n",
       "        <td id=\"T_58a8b20f_cdf0_11e7_a608_f40f2429f757row2_col5\" class=\"data row2 col5\" >0</td> \n",
       "        <td id=\"T_58a8b20f_cdf0_11e7_a608_f40f2429f757row2_col6\" class=\"data row2 col6\" >0</td> \n",
       "        <td id=\"T_58a8b20f_cdf0_11e7_a608_f40f2429f757row2_col7\" class=\"data row2 col7\" >0</td> \n",
       "        <td id=\"T_58a8b20f_cdf0_11e7_a608_f40f2429f757row2_col8\" class=\"data row2 col8\" >0</td> \n",
       "        <td id=\"T_58a8b20f_cdf0_11e7_a608_f40f2429f757row2_col9\" class=\"data row2 col9\" >0.03125</td> \n",
       "        <td id=\"T_58a8b20f_cdf0_11e7_a608_f40f2429f757row2_col10\" class=\"data row2 col10\" >0</td> \n",
       "        <td id=\"T_58a8b20f_cdf0_11e7_a608_f40f2429f757row2_col11\" class=\"data row2 col11\" >0</td> \n",
       "        <td id=\"T_58a8b20f_cdf0_11e7_a608_f40f2429f757row2_col12\" class=\"data row2 col12\" >0</td> \n",
       "    </tr>    <tr> \n",
       "        <th id=\"T_58a8b20f_cdf0_11e7_a608_f40f2429f757level0_row3\" class=\"row_heading level0 row3\" >2</th> \n",
       "        <td id=\"T_58a8b20f_cdf0_11e7_a608_f40f2429f757row3_col0\" class=\"data row3 col0\" >0</td> \n",
       "        <td id=\"T_58a8b20f_cdf0_11e7_a608_f40f2429f757row3_col1\" class=\"data row3 col1\" >0</td> \n",
       "        <td id=\"T_58a8b20f_cdf0_11e7_a608_f40f2429f757row3_col2\" class=\"data row3 col2\" >0.03125</td> \n",
       "        <td id=\"T_58a8b20f_cdf0_11e7_a608_f40f2429f757row3_col3\" class=\"data row3 col3\" >0</td> \n",
       "        <td id=\"T_58a8b20f_cdf0_11e7_a608_f40f2429f757row3_col4\" class=\"data row3 col4\" >0</td> \n",
       "        <td id=\"T_58a8b20f_cdf0_11e7_a608_f40f2429f757row3_col5\" class=\"data row3 col5\" >0</td> \n",
       "        <td id=\"T_58a8b20f_cdf0_11e7_a608_f40f2429f757row3_col6\" class=\"data row3 col6\" >0</td> \n",
       "        <td id=\"T_58a8b20f_cdf0_11e7_a608_f40f2429f757row3_col7\" class=\"data row3 col7\" >0</td> \n",
       "        <td id=\"T_58a8b20f_cdf0_11e7_a608_f40f2429f757row3_col8\" class=\"data row3 col8\" >0</td> \n",
       "        <td id=\"T_58a8b20f_cdf0_11e7_a608_f40f2429f757row3_col9\" class=\"data row3 col9\" >0</td> \n",
       "        <td id=\"T_58a8b20f_cdf0_11e7_a608_f40f2429f757row3_col10\" class=\"data row3 col10\" >0</td> \n",
       "        <td id=\"T_58a8b20f_cdf0_11e7_a608_f40f2429f757row3_col11\" class=\"data row3 col11\" >0</td> \n",
       "        <td id=\"T_58a8b20f_cdf0_11e7_a608_f40f2429f757row3_col12\" class=\"data row3 col12\" >0</td> \n",
       "    </tr>    <tr> \n",
       "        <th id=\"T_58a8b20f_cdf0_11e7_a608_f40f2429f757level0_row4\" class=\"row_heading level0 row4\" >4</th> \n",
       "        <td id=\"T_58a8b20f_cdf0_11e7_a608_f40f2429f757row4_col0\" class=\"data row4 col0\" >0</td> \n",
       "        <td id=\"T_58a8b20f_cdf0_11e7_a608_f40f2429f757row4_col1\" class=\"data row4 col1\" >0</td> \n",
       "        <td id=\"T_58a8b20f_cdf0_11e7_a608_f40f2429f757row4_col2\" class=\"data row4 col2\" >0</td> \n",
       "        <td id=\"T_58a8b20f_cdf0_11e7_a608_f40f2429f757row4_col3\" class=\"data row4 col3\" >0</td> \n",
       "        <td id=\"T_58a8b20f_cdf0_11e7_a608_f40f2429f757row4_col4\" class=\"data row4 col4\" >0</td> \n",
       "        <td id=\"T_58a8b20f_cdf0_11e7_a608_f40f2429f757row4_col5\" class=\"data row4 col5\" >0</td> \n",
       "        <td id=\"T_58a8b20f_cdf0_11e7_a608_f40f2429f757row4_col6\" class=\"data row4 col6\" >0</td> \n",
       "        <td id=\"T_58a8b20f_cdf0_11e7_a608_f40f2429f757row4_col7\" class=\"data row4 col7\" >0.03125</td> \n",
       "        <td id=\"T_58a8b20f_cdf0_11e7_a608_f40f2429f757row4_col8\" class=\"data row4 col8\" >0</td> \n",
       "        <td id=\"T_58a8b20f_cdf0_11e7_a608_f40f2429f757row4_col9\" class=\"data row4 col9\" >0</td> \n",
       "        <td id=\"T_58a8b20f_cdf0_11e7_a608_f40f2429f757row4_col10\" class=\"data row4 col10\" >0</td> \n",
       "        <td id=\"T_58a8b20f_cdf0_11e7_a608_f40f2429f757row4_col11\" class=\"data row4 col11\" >0</td> \n",
       "        <td id=\"T_58a8b20f_cdf0_11e7_a608_f40f2429f757row4_col12\" class=\"data row4 col12\" >0</td> \n",
       "    </tr>    <tr> \n",
       "        <th id=\"T_58a8b20f_cdf0_11e7_a608_f40f2429f757level0_row5\" class=\"row_heading level0 row5\" >6</th> \n",
       "        <td id=\"T_58a8b20f_cdf0_11e7_a608_f40f2429f757row5_col0\" class=\"data row5 col0\" >0</td> \n",
       "        <td id=\"T_58a8b20f_cdf0_11e7_a608_f40f2429f757row5_col1\" class=\"data row5 col1\" >0</td> \n",
       "        <td id=\"T_58a8b20f_cdf0_11e7_a608_f40f2429f757row5_col2\" class=\"data row5 col2\" >0</td> \n",
       "        <td id=\"T_58a8b20f_cdf0_11e7_a608_f40f2429f757row5_col3\" class=\"data row5 col3\" >0</td> \n",
       "        <td id=\"T_58a8b20f_cdf0_11e7_a608_f40f2429f757row5_col4\" class=\"data row5 col4\" >0</td> \n",
       "        <td id=\"T_58a8b20f_cdf0_11e7_a608_f40f2429f757row5_col5\" class=\"data row5 col5\" >0</td> \n",
       "        <td id=\"T_58a8b20f_cdf0_11e7_a608_f40f2429f757row5_col6\" class=\"data row5 col6\" >0.0625</td> \n",
       "        <td id=\"T_58a8b20f_cdf0_11e7_a608_f40f2429f757row5_col7\" class=\"data row5 col7\" >0</td> \n",
       "        <td id=\"T_58a8b20f_cdf0_11e7_a608_f40f2429f757row5_col8\" class=\"data row5 col8\" >0</td> \n",
       "        <td id=\"T_58a8b20f_cdf0_11e7_a608_f40f2429f757row5_col9\" class=\"data row5 col9\" >0</td> \n",
       "        <td id=\"T_58a8b20f_cdf0_11e7_a608_f40f2429f757row5_col10\" class=\"data row5 col10\" >0.03125</td> \n",
       "        <td id=\"T_58a8b20f_cdf0_11e7_a608_f40f2429f757row5_col11\" class=\"data row5 col11\" >0</td> \n",
       "        <td id=\"T_58a8b20f_cdf0_11e7_a608_f40f2429f757row5_col12\" class=\"data row5 col12\" >0</td> \n",
       "    </tr>    <tr> \n",
       "        <th id=\"T_58a8b20f_cdf0_11e7_a608_f40f2429f757level0_row6\" class=\"row_heading level0 row6\" >7</th> \n",
       "        <td id=\"T_58a8b20f_cdf0_11e7_a608_f40f2429f757row6_col0\" class=\"data row6 col0\" >0</td> \n",
       "        <td id=\"T_58a8b20f_cdf0_11e7_a608_f40f2429f757row6_col1\" class=\"data row6 col1\" >0.03125</td> \n",
       "        <td id=\"T_58a8b20f_cdf0_11e7_a608_f40f2429f757row6_col2\" class=\"data row6 col2\" >0</td> \n",
       "        <td id=\"T_58a8b20f_cdf0_11e7_a608_f40f2429f757row6_col3\" class=\"data row6 col3\" >0</td> \n",
       "        <td id=\"T_58a8b20f_cdf0_11e7_a608_f40f2429f757row6_col4\" class=\"data row6 col4\" >0</td> \n",
       "        <td id=\"T_58a8b20f_cdf0_11e7_a608_f40f2429f757row6_col5\" class=\"data row6 col5\" >0.0625</td> \n",
       "        <td id=\"T_58a8b20f_cdf0_11e7_a608_f40f2429f757row6_col6\" class=\"data row6 col6\" >0</td> \n",
       "        <td id=\"T_58a8b20f_cdf0_11e7_a608_f40f2429f757row6_col7\" class=\"data row6 col7\" >0</td> \n",
       "        <td id=\"T_58a8b20f_cdf0_11e7_a608_f40f2429f757row6_col8\" class=\"data row6 col8\" >0</td> \n",
       "        <td id=\"T_58a8b20f_cdf0_11e7_a608_f40f2429f757row6_col9\" class=\"data row6 col9\" >0</td> \n",
       "        <td id=\"T_58a8b20f_cdf0_11e7_a608_f40f2429f757row6_col10\" class=\"data row6 col10\" >0</td> \n",
       "        <td id=\"T_58a8b20f_cdf0_11e7_a608_f40f2429f757row6_col11\" class=\"data row6 col11\" >0</td> \n",
       "        <td id=\"T_58a8b20f_cdf0_11e7_a608_f40f2429f757row6_col12\" class=\"data row6 col12\" >0</td> \n",
       "    </tr>    <tr> \n",
       "        <th id=\"T_58a8b20f_cdf0_11e7_a608_f40f2429f757level0_row7\" class=\"row_heading level0 row7\" >3</th> \n",
       "        <td id=\"T_58a8b20f_cdf0_11e7_a608_f40f2429f757row7_col0\" class=\"data row7 col0\" >0.03125</td> \n",
       "        <td id=\"T_58a8b20f_cdf0_11e7_a608_f40f2429f757row7_col1\" class=\"data row7 col1\" >0</td> \n",
       "        <td id=\"T_58a8b20f_cdf0_11e7_a608_f40f2429f757row7_col2\" class=\"data row7 col2\" >0</td> \n",
       "        <td id=\"T_58a8b20f_cdf0_11e7_a608_f40f2429f757row7_col3\" class=\"data row7 col3\" >0</td> \n",
       "        <td id=\"T_58a8b20f_cdf0_11e7_a608_f40f2429f757row7_col4\" class=\"data row7 col4\" >0.03125</td> \n",
       "        <td id=\"T_58a8b20f_cdf0_11e7_a608_f40f2429f757row7_col5\" class=\"data row7 col5\" >0</td> \n",
       "        <td id=\"T_58a8b20f_cdf0_11e7_a608_f40f2429f757row7_col6\" class=\"data row7 col6\" >0</td> \n",
       "        <td id=\"T_58a8b20f_cdf0_11e7_a608_f40f2429f757row7_col7\" class=\"data row7 col7\" >0</td> \n",
       "        <td id=\"T_58a8b20f_cdf0_11e7_a608_f40f2429f757row7_col8\" class=\"data row7 col8\" >0</td> \n",
       "        <td id=\"T_58a8b20f_cdf0_11e7_a608_f40f2429f757row7_col9\" class=\"data row7 col9\" >0</td> \n",
       "        <td id=\"T_58a8b20f_cdf0_11e7_a608_f40f2429f757row7_col10\" class=\"data row7 col10\" >0</td> \n",
       "        <td id=\"T_58a8b20f_cdf0_11e7_a608_f40f2429f757row7_col11\" class=\"data row7 col11\" >0</td> \n",
       "        <td id=\"T_58a8b20f_cdf0_11e7_a608_f40f2429f757row7_col12\" class=\"data row7 col12\" >0</td> \n",
       "    </tr>    <tr> \n",
       "        <th id=\"T_58a8b20f_cdf0_11e7_a608_f40f2429f757level0_row8\" class=\"row_heading level0 row8\" >9</th> \n",
       "        <td id=\"T_58a8b20f_cdf0_11e7_a608_f40f2429f757row8_col0\" class=\"data row8 col0\" >0</td> \n",
       "        <td id=\"T_58a8b20f_cdf0_11e7_a608_f40f2429f757row8_col1\" class=\"data row8 col1\" >0</td> \n",
       "        <td id=\"T_58a8b20f_cdf0_11e7_a608_f40f2429f757row8_col2\" class=\"data row8 col2\" >0</td> \n",
       "        <td id=\"T_58a8b20f_cdf0_11e7_a608_f40f2429f757row8_col3\" class=\"data row8 col3\" >0</td> \n",
       "        <td id=\"T_58a8b20f_cdf0_11e7_a608_f40f2429f757row8_col4\" class=\"data row8 col4\" >0</td> \n",
       "        <td id=\"T_58a8b20f_cdf0_11e7_a608_f40f2429f757row8_col5\" class=\"data row8 col5\" >0</td> \n",
       "        <td id=\"T_58a8b20f_cdf0_11e7_a608_f40f2429f757row8_col6\" class=\"data row8 col6\" >0</td> \n",
       "        <td id=\"T_58a8b20f_cdf0_11e7_a608_f40f2429f757row8_col7\" class=\"data row8 col7\" >0</td> \n",
       "        <td id=\"T_58a8b20f_cdf0_11e7_a608_f40f2429f757row8_col8\" class=\"data row8 col8\" >0</td> \n",
       "        <td id=\"T_58a8b20f_cdf0_11e7_a608_f40f2429f757row8_col9\" class=\"data row8 col9\" >0</td> \n",
       "        <td id=\"T_58a8b20f_cdf0_11e7_a608_f40f2429f757row8_col10\" class=\"data row8 col10\" >0</td> \n",
       "        <td id=\"T_58a8b20f_cdf0_11e7_a608_f40f2429f757row8_col11\" class=\"data row8 col11\" >0</td> \n",
       "        <td id=\"T_58a8b20f_cdf0_11e7_a608_f40f2429f757row8_col12\" class=\"data row8 col12\" >0</td> \n",
       "    </tr>    <tr> \n",
       "        <th id=\"T_58a8b20f_cdf0_11e7_a608_f40f2429f757level0_row9\" class=\"row_heading level0 row9\" >0</th> \n",
       "        <td id=\"T_58a8b20f_cdf0_11e7_a608_f40f2429f757row9_col0\" class=\"data row9 col0\" >0</td> \n",
       "        <td id=\"T_58a8b20f_cdf0_11e7_a608_f40f2429f757row9_col1\" class=\"data row9 col1\" >0</td> \n",
       "        <td id=\"T_58a8b20f_cdf0_11e7_a608_f40f2429f757row9_col2\" class=\"data row9 col2\" >0.03125</td> \n",
       "        <td id=\"T_58a8b20f_cdf0_11e7_a608_f40f2429f757row9_col3\" class=\"data row9 col3\" >0</td> \n",
       "        <td id=\"T_58a8b20f_cdf0_11e7_a608_f40f2429f757row9_col4\" class=\"data row9 col4\" >0</td> \n",
       "        <td id=\"T_58a8b20f_cdf0_11e7_a608_f40f2429f757row9_col5\" class=\"data row9 col5\" >0</td> \n",
       "        <td id=\"T_58a8b20f_cdf0_11e7_a608_f40f2429f757row9_col6\" class=\"data row9 col6\" >0</td> \n",
       "        <td id=\"T_58a8b20f_cdf0_11e7_a608_f40f2429f757row9_col7\" class=\"data row9 col7\" >0</td> \n",
       "        <td id=\"T_58a8b20f_cdf0_11e7_a608_f40f2429f757row9_col8\" class=\"data row9 col8\" >0</td> \n",
       "        <td id=\"T_58a8b20f_cdf0_11e7_a608_f40f2429f757row9_col9\" class=\"data row9 col9\" >0</td> \n",
       "        <td id=\"T_58a8b20f_cdf0_11e7_a608_f40f2429f757row9_col10\" class=\"data row9 col10\" >0</td> \n",
       "        <td id=\"T_58a8b20f_cdf0_11e7_a608_f40f2429f757row9_col11\" class=\"data row9 col11\" >0.09375</td> \n",
       "        <td id=\"T_58a8b20f_cdf0_11e7_a608_f40f2429f757row9_col12\" class=\"data row9 col12\" >0</td> \n",
       "    </tr>    <tr> \n",
       "        <th id=\"T_58a8b20f_cdf0_11e7_a608_f40f2429f757level0_row10\" class=\"row_heading level0 row10\" >10</th> \n",
       "        <td id=\"T_58a8b20f_cdf0_11e7_a608_f40f2429f757row10_col0\" class=\"data row10 col0\" >0</td> \n",
       "        <td id=\"T_58a8b20f_cdf0_11e7_a608_f40f2429f757row10_col1\" class=\"data row10 col1\" >0</td> \n",
       "        <td id=\"T_58a8b20f_cdf0_11e7_a608_f40f2429f757row10_col2\" class=\"data row10 col2\" >0</td> \n",
       "        <td id=\"T_58a8b20f_cdf0_11e7_a608_f40f2429f757row10_col3\" class=\"data row10 col3\" >0</td> \n",
       "        <td id=\"T_58a8b20f_cdf0_11e7_a608_f40f2429f757row10_col4\" class=\"data row10 col4\" >0</td> \n",
       "        <td id=\"T_58a8b20f_cdf0_11e7_a608_f40f2429f757row10_col5\" class=\"data row10 col5\" >0.03125</td> \n",
       "        <td id=\"T_58a8b20f_cdf0_11e7_a608_f40f2429f757row10_col6\" class=\"data row10 col6\" >0</td> \n",
       "        <td id=\"T_58a8b20f_cdf0_11e7_a608_f40f2429f757row10_col7\" class=\"data row10 col7\" >0</td> \n",
       "        <td id=\"T_58a8b20f_cdf0_11e7_a608_f40f2429f757row10_col8\" class=\"data row10 col8\" >0</td> \n",
       "        <td id=\"T_58a8b20f_cdf0_11e7_a608_f40f2429f757row10_col9\" class=\"data row10 col9\" >0</td> \n",
       "        <td id=\"T_58a8b20f_cdf0_11e7_a608_f40f2429f757row10_col10\" class=\"data row10 col10\" >0</td> \n",
       "        <td id=\"T_58a8b20f_cdf0_11e7_a608_f40f2429f757row10_col11\" class=\"data row10 col11\" >0</td> \n",
       "        <td id=\"T_58a8b20f_cdf0_11e7_a608_f40f2429f757row10_col12\" class=\"data row10 col12\" >0</td> \n",
       "    </tr>    <tr> \n",
       "        <th id=\"T_58a8b20f_cdf0_11e7_a608_f40f2429f757level0_row11\" class=\"row_heading level0 row11\" >12</th> \n",
       "        <td id=\"T_58a8b20f_cdf0_11e7_a608_f40f2429f757row11_col0\" class=\"data row11 col0\" >0</td> \n",
       "        <td id=\"T_58a8b20f_cdf0_11e7_a608_f40f2429f757row11_col1\" class=\"data row11 col1\" >0</td> \n",
       "        <td id=\"T_58a8b20f_cdf0_11e7_a608_f40f2429f757row11_col2\" class=\"data row11 col2\" >0</td> \n",
       "        <td id=\"T_58a8b20f_cdf0_11e7_a608_f40f2429f757row11_col3\" class=\"data row11 col3\" >0</td> \n",
       "        <td id=\"T_58a8b20f_cdf0_11e7_a608_f40f2429f757row11_col4\" class=\"data row11 col4\" >0</td> \n",
       "        <td id=\"T_58a8b20f_cdf0_11e7_a608_f40f2429f757row11_col5\" class=\"data row11 col5\" >0</td> \n",
       "        <td id=\"T_58a8b20f_cdf0_11e7_a608_f40f2429f757row11_col6\" class=\"data row11 col6\" >0</td> \n",
       "        <td id=\"T_58a8b20f_cdf0_11e7_a608_f40f2429f757row11_col7\" class=\"data row11 col7\" >0</td> \n",
       "        <td id=\"T_58a8b20f_cdf0_11e7_a608_f40f2429f757row11_col8\" class=\"data row11 col8\" >0</td> \n",
       "        <td id=\"T_58a8b20f_cdf0_11e7_a608_f40f2429f757row11_col9\" class=\"data row11 col9\" >0.09375</td> \n",
       "        <td id=\"T_58a8b20f_cdf0_11e7_a608_f40f2429f757row11_col10\" class=\"data row11 col10\" >0</td> \n",
       "        <td id=\"T_58a8b20f_cdf0_11e7_a608_f40f2429f757row11_col11\" class=\"data row11 col11\" >0</td> \n",
       "        <td id=\"T_58a8b20f_cdf0_11e7_a608_f40f2429f757row11_col12\" class=\"data row11 col12\" >0</td> \n",
       "    </tr>    <tr> \n",
       "        <th id=\"T_58a8b20f_cdf0_11e7_a608_f40f2429f757level0_row12\" class=\"row_heading level0 row12\" >5</th> \n",
       "        <td id=\"T_58a8b20f_cdf0_11e7_a608_f40f2429f757row12_col0\" class=\"data row12 col0\" >0</td> \n",
       "        <td id=\"T_58a8b20f_cdf0_11e7_a608_f40f2429f757row12_col1\" class=\"data row12 col1\" >0</td> \n",
       "        <td id=\"T_58a8b20f_cdf0_11e7_a608_f40f2429f757row12_col2\" class=\"data row12 col2\" >0</td> \n",
       "        <td id=\"T_58a8b20f_cdf0_11e7_a608_f40f2429f757row12_col3\" class=\"data row12 col3\" >0</td> \n",
       "        <td id=\"T_58a8b20f_cdf0_11e7_a608_f40f2429f757row12_col4\" class=\"data row12 col4\" >0</td> \n",
       "        <td id=\"T_58a8b20f_cdf0_11e7_a608_f40f2429f757row12_col5\" class=\"data row12 col5\" >0</td> \n",
       "        <td id=\"T_58a8b20f_cdf0_11e7_a608_f40f2429f757row12_col6\" class=\"data row12 col6\" >0</td> \n",
       "        <td id=\"T_58a8b20f_cdf0_11e7_a608_f40f2429f757row12_col7\" class=\"data row12 col7\" >0</td> \n",
       "        <td id=\"T_58a8b20f_cdf0_11e7_a608_f40f2429f757row12_col8\" class=\"data row12 col8\" >0</td> \n",
       "        <td id=\"T_58a8b20f_cdf0_11e7_a608_f40f2429f757row12_col9\" class=\"data row12 col9\" >0</td> \n",
       "        <td id=\"T_58a8b20f_cdf0_11e7_a608_f40f2429f757row12_col10\" class=\"data row12 col10\" >0</td> \n",
       "        <td id=\"T_58a8b20f_cdf0_11e7_a608_f40f2429f757row12_col11\" class=\"data row12 col11\" >0</td> \n",
       "        <td id=\"T_58a8b20f_cdf0_11e7_a608_f40f2429f757row12_col12\" class=\"data row12 col12\" >0</td> \n",
       "    </tr></tbody> \n",
       "</table> "
      ],
      "text/plain": [
       "<pandas.io.formats.style.Styler at 0x10e311e50>"
      ]
     },
     "execution_count": 18,
     "metadata": {},
     "output_type": "execute_result"
    }
   ],
   "source": [
    "order = [mstis.all_ensembles[p] for p in perm]\n",
    "repx_net.transition_matrix(index_order=order).style"
   ]
  },
  {
   "cell_type": "markdown",
   "metadata": {},
   "source": [
    "### Mixing matrix\n",
    "\n",
    "Same as the transition matrix $T$, but $\\frac{1}{2}(T+T^T)$."
   ]
  },
  {
   "cell_type": "code",
   "execution_count": 19,
   "metadata": {},
   "outputs": [
    {
     "data": {
      "text/html": [
       "<style  type=\"text/css\" >\n",
       "</style>  \n",
       "<table id=\"T_5915044a_cdf0_11e7_8e86_f40f2429f757\" > \n",
       "<thead>    <tr> \n",
       "        <th class=\"blank level0\" ></th> \n",
       "        <th class=\"col_heading level0 col0\" >10</th> \n",
       "        <th class=\"col_heading level0 col1\" >6</th> \n",
       "        <th class=\"col_heading level0 col2\" >7</th> \n",
       "        <th class=\"col_heading level0 col3\" >8</th> \n",
       "        <th class=\"col_heading level0 col4\" >11</th> \n",
       "        <th class=\"col_heading level0 col5\" >3</th> \n",
       "        <th class=\"col_heading level0 col6\" >4</th> \n",
       "        <th class=\"col_heading level0 col7\" >12</th> \n",
       "        <th class=\"col_heading level0 col8\" >0</th> \n",
       "        <th class=\"col_heading level0 col9\" >1</th> \n",
       "        <th class=\"col_heading level0 col10\" >2</th> \n",
       "        <th class=\"col_heading level0 col11\" >9</th> \n",
       "        <th class=\"col_heading level0 col12\" >5</th> \n",
       "    </tr></thead> \n",
       "<tbody>    <tr> \n",
       "        <th id=\"T_5915044a_cdf0_11e7_8e86_f40f2429f757level0_row0\" class=\"row_heading level0 row0\" >10</th> \n",
       "        <td id=\"T_5915044a_cdf0_11e7_8e86_f40f2429f757row0_col0\" class=\"data row0 col0\" >0</td> \n",
       "        <td id=\"T_5915044a_cdf0_11e7_8e86_f40f2429f757row0_col1\" class=\"data row0 col1\" >0.03125</td> \n",
       "        <td id=\"T_5915044a_cdf0_11e7_8e86_f40f2429f757row0_col2\" class=\"data row0 col2\" >0</td> \n",
       "        <td id=\"T_5915044a_cdf0_11e7_8e86_f40f2429f757row0_col3\" class=\"data row0 col3\" >0</td> \n",
       "        <td id=\"T_5915044a_cdf0_11e7_8e86_f40f2429f757row0_col4\" class=\"data row0 col4\" >0</td> \n",
       "        <td id=\"T_5915044a_cdf0_11e7_8e86_f40f2429f757row0_col5\" class=\"data row0 col5\" >0</td> \n",
       "        <td id=\"T_5915044a_cdf0_11e7_8e86_f40f2429f757row0_col6\" class=\"data row0 col6\" >0</td> \n",
       "        <td id=\"T_5915044a_cdf0_11e7_8e86_f40f2429f757row0_col7\" class=\"data row0 col7\" >0</td> \n",
       "        <td id=\"T_5915044a_cdf0_11e7_8e86_f40f2429f757row0_col8\" class=\"data row0 col8\" >0</td> \n",
       "        <td id=\"T_5915044a_cdf0_11e7_8e86_f40f2429f757row0_col9\" class=\"data row0 col9\" >0</td> \n",
       "        <td id=\"T_5915044a_cdf0_11e7_8e86_f40f2429f757row0_col10\" class=\"data row0 col10\" >0</td> \n",
       "        <td id=\"T_5915044a_cdf0_11e7_8e86_f40f2429f757row0_col11\" class=\"data row0 col11\" >0</td> \n",
       "        <td id=\"T_5915044a_cdf0_11e7_8e86_f40f2429f757row0_col12\" class=\"data row0 col12\" >0</td> \n",
       "    </tr>    <tr> \n",
       "        <th id=\"T_5915044a_cdf0_11e7_8e86_f40f2429f757level0_row1\" class=\"row_heading level0 row1\" >6</th> \n",
       "        <td id=\"T_5915044a_cdf0_11e7_8e86_f40f2429f757row1_col0\" class=\"data row1 col0\" >0.03125</td> \n",
       "        <td id=\"T_5915044a_cdf0_11e7_8e86_f40f2429f757row1_col1\" class=\"data row1 col1\" >0</td> \n",
       "        <td id=\"T_5915044a_cdf0_11e7_8e86_f40f2429f757row1_col2\" class=\"data row1 col2\" >0.0625</td> \n",
       "        <td id=\"T_5915044a_cdf0_11e7_8e86_f40f2429f757row1_col3\" class=\"data row1 col3\" >0</td> \n",
       "        <td id=\"T_5915044a_cdf0_11e7_8e86_f40f2429f757row1_col4\" class=\"data row1 col4\" >0</td> \n",
       "        <td id=\"T_5915044a_cdf0_11e7_8e86_f40f2429f757row1_col5\" class=\"data row1 col5\" >0</td> \n",
       "        <td id=\"T_5915044a_cdf0_11e7_8e86_f40f2429f757row1_col6\" class=\"data row1 col6\" >0</td> \n",
       "        <td id=\"T_5915044a_cdf0_11e7_8e86_f40f2429f757row1_col7\" class=\"data row1 col7\" >0</td> \n",
       "        <td id=\"T_5915044a_cdf0_11e7_8e86_f40f2429f757row1_col8\" class=\"data row1 col8\" >0</td> \n",
       "        <td id=\"T_5915044a_cdf0_11e7_8e86_f40f2429f757row1_col9\" class=\"data row1 col9\" >0</td> \n",
       "        <td id=\"T_5915044a_cdf0_11e7_8e86_f40f2429f757row1_col10\" class=\"data row1 col10\" >0</td> \n",
       "        <td id=\"T_5915044a_cdf0_11e7_8e86_f40f2429f757row1_col11\" class=\"data row1 col11\" >0</td> \n",
       "        <td id=\"T_5915044a_cdf0_11e7_8e86_f40f2429f757row1_col12\" class=\"data row1 col12\" >0</td> \n",
       "    </tr>    <tr> \n",
       "        <th id=\"T_5915044a_cdf0_11e7_8e86_f40f2429f757level0_row2\" class=\"row_heading level0 row2\" >7</th> \n",
       "        <td id=\"T_5915044a_cdf0_11e7_8e86_f40f2429f757row2_col0\" class=\"data row2 col0\" >0</td> \n",
       "        <td id=\"T_5915044a_cdf0_11e7_8e86_f40f2429f757row2_col1\" class=\"data row2 col1\" >0.0625</td> \n",
       "        <td id=\"T_5915044a_cdf0_11e7_8e86_f40f2429f757row2_col2\" class=\"data row2 col2\" >0</td> \n",
       "        <td id=\"T_5915044a_cdf0_11e7_8e86_f40f2429f757row2_col3\" class=\"data row2 col3\" >0.03125</td> \n",
       "        <td id=\"T_5915044a_cdf0_11e7_8e86_f40f2429f757row2_col4\" class=\"data row2 col4\" >0</td> \n",
       "        <td id=\"T_5915044a_cdf0_11e7_8e86_f40f2429f757row2_col5\" class=\"data row2 col5\" >0</td> \n",
       "        <td id=\"T_5915044a_cdf0_11e7_8e86_f40f2429f757row2_col6\" class=\"data row2 col6\" >0</td> \n",
       "        <td id=\"T_5915044a_cdf0_11e7_8e86_f40f2429f757row2_col7\" class=\"data row2 col7\" >0</td> \n",
       "        <td id=\"T_5915044a_cdf0_11e7_8e86_f40f2429f757row2_col8\" class=\"data row2 col8\" >0</td> \n",
       "        <td id=\"T_5915044a_cdf0_11e7_8e86_f40f2429f757row2_col9\" class=\"data row2 col9\" >0</td> \n",
       "        <td id=\"T_5915044a_cdf0_11e7_8e86_f40f2429f757row2_col10\" class=\"data row2 col10\" >0</td> \n",
       "        <td id=\"T_5915044a_cdf0_11e7_8e86_f40f2429f757row2_col11\" class=\"data row2 col11\" >0</td> \n",
       "        <td id=\"T_5915044a_cdf0_11e7_8e86_f40f2429f757row2_col12\" class=\"data row2 col12\" >0</td> \n",
       "    </tr>    <tr> \n",
       "        <th id=\"T_5915044a_cdf0_11e7_8e86_f40f2429f757level0_row3\" class=\"row_heading level0 row3\" >8</th> \n",
       "        <td id=\"T_5915044a_cdf0_11e7_8e86_f40f2429f757row3_col0\" class=\"data row3 col0\" >0</td> \n",
       "        <td id=\"T_5915044a_cdf0_11e7_8e86_f40f2429f757row3_col1\" class=\"data row3 col1\" >0</td> \n",
       "        <td id=\"T_5915044a_cdf0_11e7_8e86_f40f2429f757row3_col2\" class=\"data row3 col2\" >0.03125</td> \n",
       "        <td id=\"T_5915044a_cdf0_11e7_8e86_f40f2429f757row3_col3\" class=\"data row3 col3\" >0</td> \n",
       "        <td id=\"T_5915044a_cdf0_11e7_8e86_f40f2429f757row3_col4\" class=\"data row3 col4\" >0</td> \n",
       "        <td id=\"T_5915044a_cdf0_11e7_8e86_f40f2429f757row3_col5\" class=\"data row3 col5\" >0</td> \n",
       "        <td id=\"T_5915044a_cdf0_11e7_8e86_f40f2429f757row3_col6\" class=\"data row3 col6\" >0</td> \n",
       "        <td id=\"T_5915044a_cdf0_11e7_8e86_f40f2429f757row3_col7\" class=\"data row3 col7\" >0</td> \n",
       "        <td id=\"T_5915044a_cdf0_11e7_8e86_f40f2429f757row3_col8\" class=\"data row3 col8\" >0</td> \n",
       "        <td id=\"T_5915044a_cdf0_11e7_8e86_f40f2429f757row3_col9\" class=\"data row3 col9\" >0</td> \n",
       "        <td id=\"T_5915044a_cdf0_11e7_8e86_f40f2429f757row3_col10\" class=\"data row3 col10\" >0</td> \n",
       "        <td id=\"T_5915044a_cdf0_11e7_8e86_f40f2429f757row3_col11\" class=\"data row3 col11\" >0</td> \n",
       "        <td id=\"T_5915044a_cdf0_11e7_8e86_f40f2429f757row3_col12\" class=\"data row3 col12\" >0</td> \n",
       "    </tr>    <tr> \n",
       "        <th id=\"T_5915044a_cdf0_11e7_8e86_f40f2429f757level0_row4\" class=\"row_heading level0 row4\" >11</th> \n",
       "        <td id=\"T_5915044a_cdf0_11e7_8e86_f40f2429f757row4_col0\" class=\"data row4 col0\" >0</td> \n",
       "        <td id=\"T_5915044a_cdf0_11e7_8e86_f40f2429f757row4_col1\" class=\"data row4 col1\" >0</td> \n",
       "        <td id=\"T_5915044a_cdf0_11e7_8e86_f40f2429f757row4_col2\" class=\"data row4 col2\" >0</td> \n",
       "        <td id=\"T_5915044a_cdf0_11e7_8e86_f40f2429f757row4_col3\" class=\"data row4 col3\" >0</td> \n",
       "        <td id=\"T_5915044a_cdf0_11e7_8e86_f40f2429f757row4_col4\" class=\"data row4 col4\" >0</td> \n",
       "        <td id=\"T_5915044a_cdf0_11e7_8e86_f40f2429f757row4_col5\" class=\"data row4 col5\" >0.03125</td> \n",
       "        <td id=\"T_5915044a_cdf0_11e7_8e86_f40f2429f757row4_col6\" class=\"data row4 col6\" >0</td> \n",
       "        <td id=\"T_5915044a_cdf0_11e7_8e86_f40f2429f757row4_col7\" class=\"data row4 col7\" >0</td> \n",
       "        <td id=\"T_5915044a_cdf0_11e7_8e86_f40f2429f757row4_col8\" class=\"data row4 col8\" >0</td> \n",
       "        <td id=\"T_5915044a_cdf0_11e7_8e86_f40f2429f757row4_col9\" class=\"data row4 col9\" >0</td> \n",
       "        <td id=\"T_5915044a_cdf0_11e7_8e86_f40f2429f757row4_col10\" class=\"data row4 col10\" >0</td> \n",
       "        <td id=\"T_5915044a_cdf0_11e7_8e86_f40f2429f757row4_col11\" class=\"data row4 col11\" >0</td> \n",
       "        <td id=\"T_5915044a_cdf0_11e7_8e86_f40f2429f757row4_col12\" class=\"data row4 col12\" >0</td> \n",
       "    </tr>    <tr> \n",
       "        <th id=\"T_5915044a_cdf0_11e7_8e86_f40f2429f757level0_row5\" class=\"row_heading level0 row5\" >3</th> \n",
       "        <td id=\"T_5915044a_cdf0_11e7_8e86_f40f2429f757row5_col0\" class=\"data row5 col0\" >0</td> \n",
       "        <td id=\"T_5915044a_cdf0_11e7_8e86_f40f2429f757row5_col1\" class=\"data row5 col1\" >0</td> \n",
       "        <td id=\"T_5915044a_cdf0_11e7_8e86_f40f2429f757row5_col2\" class=\"data row5 col2\" >0</td> \n",
       "        <td id=\"T_5915044a_cdf0_11e7_8e86_f40f2429f757row5_col3\" class=\"data row5 col3\" >0</td> \n",
       "        <td id=\"T_5915044a_cdf0_11e7_8e86_f40f2429f757row5_col4\" class=\"data row5 col4\" >0.03125</td> \n",
       "        <td id=\"T_5915044a_cdf0_11e7_8e86_f40f2429f757row5_col5\" class=\"data row5 col5\" >0</td> \n",
       "        <td id=\"T_5915044a_cdf0_11e7_8e86_f40f2429f757row5_col6\" class=\"data row5 col6\" >0.03125</td> \n",
       "        <td id=\"T_5915044a_cdf0_11e7_8e86_f40f2429f757row5_col7\" class=\"data row5 col7\" >0</td> \n",
       "        <td id=\"T_5915044a_cdf0_11e7_8e86_f40f2429f757row5_col8\" class=\"data row5 col8\" >0</td> \n",
       "        <td id=\"T_5915044a_cdf0_11e7_8e86_f40f2429f757row5_col9\" class=\"data row5 col9\" >0</td> \n",
       "        <td id=\"T_5915044a_cdf0_11e7_8e86_f40f2429f757row5_col10\" class=\"data row5 col10\" >0</td> \n",
       "        <td id=\"T_5915044a_cdf0_11e7_8e86_f40f2429f757row5_col11\" class=\"data row5 col11\" >0</td> \n",
       "        <td id=\"T_5915044a_cdf0_11e7_8e86_f40f2429f757row5_col12\" class=\"data row5 col12\" >0</td> \n",
       "    </tr>    <tr> \n",
       "        <th id=\"T_5915044a_cdf0_11e7_8e86_f40f2429f757level0_row6\" class=\"row_heading level0 row6\" >4</th> \n",
       "        <td id=\"T_5915044a_cdf0_11e7_8e86_f40f2429f757row6_col0\" class=\"data row6 col0\" >0</td> \n",
       "        <td id=\"T_5915044a_cdf0_11e7_8e86_f40f2429f757row6_col1\" class=\"data row6 col1\" >0</td> \n",
       "        <td id=\"T_5915044a_cdf0_11e7_8e86_f40f2429f757row6_col2\" class=\"data row6 col2\" >0</td> \n",
       "        <td id=\"T_5915044a_cdf0_11e7_8e86_f40f2429f757row6_col3\" class=\"data row6 col3\" >0</td> \n",
       "        <td id=\"T_5915044a_cdf0_11e7_8e86_f40f2429f757row6_col4\" class=\"data row6 col4\" >0</td> \n",
       "        <td id=\"T_5915044a_cdf0_11e7_8e86_f40f2429f757row6_col5\" class=\"data row6 col5\" >0.03125</td> \n",
       "        <td id=\"T_5915044a_cdf0_11e7_8e86_f40f2429f757row6_col6\" class=\"data row6 col6\" >0</td> \n",
       "        <td id=\"T_5915044a_cdf0_11e7_8e86_f40f2429f757row6_col7\" class=\"data row6 col7\" >0</td> \n",
       "        <td id=\"T_5915044a_cdf0_11e7_8e86_f40f2429f757row6_col8\" class=\"data row6 col8\" >0</td> \n",
       "        <td id=\"T_5915044a_cdf0_11e7_8e86_f40f2429f757row6_col9\" class=\"data row6 col9\" >0</td> \n",
       "        <td id=\"T_5915044a_cdf0_11e7_8e86_f40f2429f757row6_col10\" class=\"data row6 col10\" >0</td> \n",
       "        <td id=\"T_5915044a_cdf0_11e7_8e86_f40f2429f757row6_col11\" class=\"data row6 col11\" >0</td> \n",
       "        <td id=\"T_5915044a_cdf0_11e7_8e86_f40f2429f757row6_col12\" class=\"data row6 col12\" >0</td> \n",
       "    </tr>    <tr> \n",
       "        <th id=\"T_5915044a_cdf0_11e7_8e86_f40f2429f757level0_row7\" class=\"row_heading level0 row7\" >12</th> \n",
       "        <td id=\"T_5915044a_cdf0_11e7_8e86_f40f2429f757row7_col0\" class=\"data row7 col0\" >0</td> \n",
       "        <td id=\"T_5915044a_cdf0_11e7_8e86_f40f2429f757row7_col1\" class=\"data row7 col1\" >0</td> \n",
       "        <td id=\"T_5915044a_cdf0_11e7_8e86_f40f2429f757row7_col2\" class=\"data row7 col2\" >0</td> \n",
       "        <td id=\"T_5915044a_cdf0_11e7_8e86_f40f2429f757row7_col3\" class=\"data row7 col3\" >0</td> \n",
       "        <td id=\"T_5915044a_cdf0_11e7_8e86_f40f2429f757row7_col4\" class=\"data row7 col4\" >0</td> \n",
       "        <td id=\"T_5915044a_cdf0_11e7_8e86_f40f2429f757row7_col5\" class=\"data row7 col5\" >0</td> \n",
       "        <td id=\"T_5915044a_cdf0_11e7_8e86_f40f2429f757row7_col6\" class=\"data row7 col6\" >0</td> \n",
       "        <td id=\"T_5915044a_cdf0_11e7_8e86_f40f2429f757row7_col7\" class=\"data row7 col7\" >0</td> \n",
       "        <td id=\"T_5915044a_cdf0_11e7_8e86_f40f2429f757row7_col8\" class=\"data row7 col8\" >0.09375</td> \n",
       "        <td id=\"T_5915044a_cdf0_11e7_8e86_f40f2429f757row7_col9\" class=\"data row7 col9\" >0</td> \n",
       "        <td id=\"T_5915044a_cdf0_11e7_8e86_f40f2429f757row7_col10\" class=\"data row7 col10\" >0</td> \n",
       "        <td id=\"T_5915044a_cdf0_11e7_8e86_f40f2429f757row7_col11\" class=\"data row7 col11\" >0</td> \n",
       "        <td id=\"T_5915044a_cdf0_11e7_8e86_f40f2429f757row7_col12\" class=\"data row7 col12\" >0</td> \n",
       "    </tr>    <tr> \n",
       "        <th id=\"T_5915044a_cdf0_11e7_8e86_f40f2429f757level0_row8\" class=\"row_heading level0 row8\" >0</th> \n",
       "        <td id=\"T_5915044a_cdf0_11e7_8e86_f40f2429f757row8_col0\" class=\"data row8 col0\" >0</td> \n",
       "        <td id=\"T_5915044a_cdf0_11e7_8e86_f40f2429f757row8_col1\" class=\"data row8 col1\" >0</td> \n",
       "        <td id=\"T_5915044a_cdf0_11e7_8e86_f40f2429f757row8_col2\" class=\"data row8 col2\" >0</td> \n",
       "        <td id=\"T_5915044a_cdf0_11e7_8e86_f40f2429f757row8_col3\" class=\"data row8 col3\" >0</td> \n",
       "        <td id=\"T_5915044a_cdf0_11e7_8e86_f40f2429f757row8_col4\" class=\"data row8 col4\" >0</td> \n",
       "        <td id=\"T_5915044a_cdf0_11e7_8e86_f40f2429f757row8_col5\" class=\"data row8 col5\" >0</td> \n",
       "        <td id=\"T_5915044a_cdf0_11e7_8e86_f40f2429f757row8_col6\" class=\"data row8 col6\" >0</td> \n",
       "        <td id=\"T_5915044a_cdf0_11e7_8e86_f40f2429f757row8_col7\" class=\"data row8 col7\" >0.09375</td> \n",
       "        <td id=\"T_5915044a_cdf0_11e7_8e86_f40f2429f757row8_col8\" class=\"data row8 col8\" >0</td> \n",
       "        <td id=\"T_5915044a_cdf0_11e7_8e86_f40f2429f757row8_col9\" class=\"data row8 col9\" >0.03125</td> \n",
       "        <td id=\"T_5915044a_cdf0_11e7_8e86_f40f2429f757row8_col10\" class=\"data row8 col10\" >0</td> \n",
       "        <td id=\"T_5915044a_cdf0_11e7_8e86_f40f2429f757row8_col11\" class=\"data row8 col11\" >0</td> \n",
       "        <td id=\"T_5915044a_cdf0_11e7_8e86_f40f2429f757row8_col12\" class=\"data row8 col12\" >0</td> \n",
       "    </tr>    <tr> \n",
       "        <th id=\"T_5915044a_cdf0_11e7_8e86_f40f2429f757level0_row9\" class=\"row_heading level0 row9\" >1</th> \n",
       "        <td id=\"T_5915044a_cdf0_11e7_8e86_f40f2429f757row9_col0\" class=\"data row9 col0\" >0</td> \n",
       "        <td id=\"T_5915044a_cdf0_11e7_8e86_f40f2429f757row9_col1\" class=\"data row9 col1\" >0</td> \n",
       "        <td id=\"T_5915044a_cdf0_11e7_8e86_f40f2429f757row9_col2\" class=\"data row9 col2\" >0</td> \n",
       "        <td id=\"T_5915044a_cdf0_11e7_8e86_f40f2429f757row9_col3\" class=\"data row9 col3\" >0</td> \n",
       "        <td id=\"T_5915044a_cdf0_11e7_8e86_f40f2429f757row9_col4\" class=\"data row9 col4\" >0</td> \n",
       "        <td id=\"T_5915044a_cdf0_11e7_8e86_f40f2429f757row9_col5\" class=\"data row9 col5\" >0</td> \n",
       "        <td id=\"T_5915044a_cdf0_11e7_8e86_f40f2429f757row9_col6\" class=\"data row9 col6\" >0</td> \n",
       "        <td id=\"T_5915044a_cdf0_11e7_8e86_f40f2429f757row9_col7\" class=\"data row9 col7\" >0</td> \n",
       "        <td id=\"T_5915044a_cdf0_11e7_8e86_f40f2429f757row9_col8\" class=\"data row9 col8\" >0.03125</td> \n",
       "        <td id=\"T_5915044a_cdf0_11e7_8e86_f40f2429f757row9_col9\" class=\"data row9 col9\" >0</td> \n",
       "        <td id=\"T_5915044a_cdf0_11e7_8e86_f40f2429f757row9_col10\" class=\"data row9 col10\" >0.03125</td> \n",
       "        <td id=\"T_5915044a_cdf0_11e7_8e86_f40f2429f757row9_col11\" class=\"data row9 col11\" >0</td> \n",
       "        <td id=\"T_5915044a_cdf0_11e7_8e86_f40f2429f757row9_col12\" class=\"data row9 col12\" >0</td> \n",
       "    </tr>    <tr> \n",
       "        <th id=\"T_5915044a_cdf0_11e7_8e86_f40f2429f757level0_row10\" class=\"row_heading level0 row10\" >2</th> \n",
       "        <td id=\"T_5915044a_cdf0_11e7_8e86_f40f2429f757row10_col0\" class=\"data row10 col0\" >0</td> \n",
       "        <td id=\"T_5915044a_cdf0_11e7_8e86_f40f2429f757row10_col1\" class=\"data row10 col1\" >0</td> \n",
       "        <td id=\"T_5915044a_cdf0_11e7_8e86_f40f2429f757row10_col2\" class=\"data row10 col2\" >0</td> \n",
       "        <td id=\"T_5915044a_cdf0_11e7_8e86_f40f2429f757row10_col3\" class=\"data row10 col3\" >0</td> \n",
       "        <td id=\"T_5915044a_cdf0_11e7_8e86_f40f2429f757row10_col4\" class=\"data row10 col4\" >0</td> \n",
       "        <td id=\"T_5915044a_cdf0_11e7_8e86_f40f2429f757row10_col5\" class=\"data row10 col5\" >0</td> \n",
       "        <td id=\"T_5915044a_cdf0_11e7_8e86_f40f2429f757row10_col6\" class=\"data row10 col6\" >0</td> \n",
       "        <td id=\"T_5915044a_cdf0_11e7_8e86_f40f2429f757row10_col7\" class=\"data row10 col7\" >0</td> \n",
       "        <td id=\"T_5915044a_cdf0_11e7_8e86_f40f2429f757row10_col8\" class=\"data row10 col8\" >0</td> \n",
       "        <td id=\"T_5915044a_cdf0_11e7_8e86_f40f2429f757row10_col9\" class=\"data row10 col9\" >0.03125</td> \n",
       "        <td id=\"T_5915044a_cdf0_11e7_8e86_f40f2429f757row10_col10\" class=\"data row10 col10\" >0</td> \n",
       "        <td id=\"T_5915044a_cdf0_11e7_8e86_f40f2429f757row10_col11\" class=\"data row10 col11\" >0</td> \n",
       "        <td id=\"T_5915044a_cdf0_11e7_8e86_f40f2429f757row10_col12\" class=\"data row10 col12\" >0</td> \n",
       "    </tr>    <tr> \n",
       "        <th id=\"T_5915044a_cdf0_11e7_8e86_f40f2429f757level0_row11\" class=\"row_heading level0 row11\" >9</th> \n",
       "        <td id=\"T_5915044a_cdf0_11e7_8e86_f40f2429f757row11_col0\" class=\"data row11 col0\" >0</td> \n",
       "        <td id=\"T_5915044a_cdf0_11e7_8e86_f40f2429f757row11_col1\" class=\"data row11 col1\" >0</td> \n",
       "        <td id=\"T_5915044a_cdf0_11e7_8e86_f40f2429f757row11_col2\" class=\"data row11 col2\" >0</td> \n",
       "        <td id=\"T_5915044a_cdf0_11e7_8e86_f40f2429f757row11_col3\" class=\"data row11 col3\" >0</td> \n",
       "        <td id=\"T_5915044a_cdf0_11e7_8e86_f40f2429f757row11_col4\" class=\"data row11 col4\" >0</td> \n",
       "        <td id=\"T_5915044a_cdf0_11e7_8e86_f40f2429f757row11_col5\" class=\"data row11 col5\" >0</td> \n",
       "        <td id=\"T_5915044a_cdf0_11e7_8e86_f40f2429f757row11_col6\" class=\"data row11 col6\" >0</td> \n",
       "        <td id=\"T_5915044a_cdf0_11e7_8e86_f40f2429f757row11_col7\" class=\"data row11 col7\" >0</td> \n",
       "        <td id=\"T_5915044a_cdf0_11e7_8e86_f40f2429f757row11_col8\" class=\"data row11 col8\" >0</td> \n",
       "        <td id=\"T_5915044a_cdf0_11e7_8e86_f40f2429f757row11_col9\" class=\"data row11 col9\" >0</td> \n",
       "        <td id=\"T_5915044a_cdf0_11e7_8e86_f40f2429f757row11_col10\" class=\"data row11 col10\" >0</td> \n",
       "        <td id=\"T_5915044a_cdf0_11e7_8e86_f40f2429f757row11_col11\" class=\"data row11 col11\" >0</td> \n",
       "        <td id=\"T_5915044a_cdf0_11e7_8e86_f40f2429f757row11_col12\" class=\"data row11 col12\" >0</td> \n",
       "    </tr>    <tr> \n",
       "        <th id=\"T_5915044a_cdf0_11e7_8e86_f40f2429f757level0_row12\" class=\"row_heading level0 row12\" >5</th> \n",
       "        <td id=\"T_5915044a_cdf0_11e7_8e86_f40f2429f757row12_col0\" class=\"data row12 col0\" >0</td> \n",
       "        <td id=\"T_5915044a_cdf0_11e7_8e86_f40f2429f757row12_col1\" class=\"data row12 col1\" >0</td> \n",
       "        <td id=\"T_5915044a_cdf0_11e7_8e86_f40f2429f757row12_col2\" class=\"data row12 col2\" >0</td> \n",
       "        <td id=\"T_5915044a_cdf0_11e7_8e86_f40f2429f757row12_col3\" class=\"data row12 col3\" >0</td> \n",
       "        <td id=\"T_5915044a_cdf0_11e7_8e86_f40f2429f757row12_col4\" class=\"data row12 col4\" >0</td> \n",
       "        <td id=\"T_5915044a_cdf0_11e7_8e86_f40f2429f757row12_col5\" class=\"data row12 col5\" >0</td> \n",
       "        <td id=\"T_5915044a_cdf0_11e7_8e86_f40f2429f757row12_col6\" class=\"data row12 col6\" >0</td> \n",
       "        <td id=\"T_5915044a_cdf0_11e7_8e86_f40f2429f757row12_col7\" class=\"data row12 col7\" >0</td> \n",
       "        <td id=\"T_5915044a_cdf0_11e7_8e86_f40f2429f757row12_col8\" class=\"data row12 col8\" >0</td> \n",
       "        <td id=\"T_5915044a_cdf0_11e7_8e86_f40f2429f757row12_col9\" class=\"data row12 col9\" >0</td> \n",
       "        <td id=\"T_5915044a_cdf0_11e7_8e86_f40f2429f757row12_col10\" class=\"data row12 col10\" >0</td> \n",
       "        <td id=\"T_5915044a_cdf0_11e7_8e86_f40f2429f757row12_col11\" class=\"data row12 col11\" >0</td> \n",
       "        <td id=\"T_5915044a_cdf0_11e7_8e86_f40f2429f757row12_col12\" class=\"data row12 col12\" >0</td> \n",
       "    </tr></tbody> \n",
       "</table> "
      ],
      "text/plain": [
       "<pandas.io.formats.style.Styler at 0x10f8bfb10>"
      ]
     },
     "execution_count": 19,
     "metadata": {},
     "output_type": "execute_result"
    }
   ],
   "source": [
    "repx_net.mixing_matrix().style"
   ]
  },
  {
   "cell_type": "markdown",
   "metadata": {},
   "source": [
    "### Making a pretty picture"
   ]
  },
  {
   "cell_type": "code",
   "execution_count": 20,
   "metadata": {
    "collapsed": true
   },
   "outputs": [],
   "source": [
    "repxG = paths.ReplicaNetworkGraph(repx_net)"
   ]
  },
  {
   "cell_type": "code",
   "execution_count": 21,
   "metadata": {},
   "outputs": [
    {
     "data": {
      "image/png": "[encoded data removed]",
      "text/plain": [
       "<matplotlib.figure.Figure at 0x10f8c7490>"
      ]
     },
     "metadata": {},
     "output_type": "display_data"
    }
   ],
   "source": [
    "# draw('graphviz') gives better results, but requires pygraphviz\n",
    "repxG.draw('spring')"
   ]
  },
  {
   "cell_type": "markdown",
   "metadata": {},
   "source": [
    "Blue is a minus interface, red is a normal interface. Multiple state outer interfaces (not in this example) would be green."
   ]
  },
  {
   "cell_type": "markdown",
   "metadata": {},
   "source": [
    "### Alternate way of calculating transitions\n",
    "\n",
    "There's another, perhaps better, way to calculate transitions. This does double count, but doesn't care if the how the transition happened (only that it did)."
   ]
  },
  {
   "cell_type": "code",
   "execution_count": 22,
   "metadata": {
    "collapsed": true
   },
   "outputs": [],
   "source": [
    "transitions = repx_net.transitions_from_traces(storage.steps)"
   ]
  },
  {
   "cell_type": "code",
   "execution_count": 23,
   "metadata": {},
   "outputs": [
    {
     "name": "stdout",
     "output_type": "stream",
     "text": [
      "1 2 1\n",
      "-2 3 1\n",
      "4 3 1\n",
      "-1 6 3\n",
      "-3 0 1\n",
      "7 8 1\n",
      "2 1 1\n",
      "6 -1 3\n",
      "1 0 2\n",
      "3 4 1\n",
      "3 -2 1\n",
      "7 6 1\n",
      "6 7 1\n",
      "0 1 2\n",
      "0 -3 1\n",
      "8 7 1\n"
     ]
    }
   ],
   "source": [
    "for (k1, k2)  in transitions.keys():\n",
    "    print(\"{} {} {}\".format(numeric_labels[k1], numeric_labels[k2], transitions[(k1, k2)]))"
   ]
  },
  {
   "cell_type": "code",
   "execution_count": 24,
   "metadata": {},
   "outputs": [
    {
     "name": "stdout",
     "output_type": "stream",
     "text": [
      "1 2 1\n",
      "-2 3 1\n",
      "4 3 1\n",
      "-1 6 3\n",
      "2 1 1\n",
      "7 8 1\n",
      "6 -1 3\n",
      "3 4 1\n",
      "3 -2 1\n",
      "7 6 1\n",
      "1 0 2\n",
      "6 7 1\n",
      "-3 0 1\n",
      "0 1 2\n",
      "0 -3 1\n",
      "8 7 1\n"
     ]
    }
   ],
   "source": [
    "for (k1, k2) in repx_net.analysis['n_accepted'].keys():\n",
    "        print(\"{} {} {}\".format(numeric_labels[k1], numeric_labels[k2], repx_net.analysis['n_accepted'][(k1, k2)]))"
   ]
  },
  {
   "cell_type": "code",
   "execution_count": null,
   "metadata": {
    "collapsed": true
   },
   "outputs": [],
   "source": []
  },
  {
   "cell_type": "code",
   "execution_count": null,
   "metadata": {
    "collapsed": true
   },
   "outputs": [],
   "source": []
  }
 ],
 "metadata": {
  "kernelspec": {
   "display_name": "Python 3",
   "language": "python",
   "name": "python3"
  },
  "language_info": {
   "codemirror_mode": {
    "name": "ipython",
    "version": 3
   },
   "file_extension": ".py",
   "mimetype": "text/x-python",
   "name": "python",
   "nbconvert_exporter": "python",
   "pygments_lexer": "ipython3",
   "version": "3.6.1"
  }
 },
 "nbformat": 4,
 "nbformat_minor": 1
}
