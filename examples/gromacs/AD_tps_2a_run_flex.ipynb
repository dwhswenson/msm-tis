{
 "cells": [
  {
   "cell_type": "markdown",
   "metadata": {},
   "source": [
    "This is file runs the main calculation for the flexible length TPS simulation. It requires the file `alanine_dipeptide_tps_equil.nc`, which is written in the notebook `alanine_dipeptide_tps_first_traj.ipynb`.\n",
    "\n",
    "In this file, you will learn:\n",
    "* how to set up and run a flexible length TPS simulation\n",
    "\n",
    "NB: This is a long calculation. In practice, it would be best to export the Python from this notebook, remove the `live_visualizer`, and run non-interactively on a computing node."
   ]
  },
  {
   "cell_type": "code",
   "execution_count": 1,
   "metadata": {},
   "outputs": [],
   "source": [
    "from __future__ import print_function\n",
    "%matplotlib inline\n",
    "import openpathsampling as paths"
   ]
  },
  {
   "cell_type": "code",
   "execution_count": 2,
   "metadata": {},
   "outputs": [],
   "source": [
    "from openpathsampling.engines import gromacs as ops_gmx"
   ]
  },
  {
   "cell_type": "markdown",
   "metadata": {},
   "source": [
    "## Load engine, trajectory, and states from file"
   ]
  },
  {
   "cell_type": "code",
   "execution_count": 3,
   "metadata": {},
   "outputs": [],
   "source": [
    "old_storage = paths.Storage(\"alanine_dipeptide_tps_equil.nc\", mode='r')"
   ]
  },
  {
   "cell_type": "code",
   "execution_count": 4,
   "metadata": {},
   "outputs": [],
   "source": [
    "options = {\n",
    "    'gmx_executable': 'gmx -nobackup ',\n",
    "    'snapshot_timestep': 0.02\n",
    "}\n",
    "# we create a new engine because we want to save in new directories\n",
    "# (prod instead of equil)\n",
    "engine = ops_gmx.Engine(gro=\"conf.gro\",\n",
    "                        mdp=\"md.mdp\",\n",
    "                        top=\"topol.top\",\n",
    "                        options=options,\n",
    "                        base_dir=\".\",\n",
    "                        prefix=\"prod\").named(\"production\")\n",
    "\n",
    "# for these, we just load the ones we used to create the \n",
    "C_7eq = old_storage.volumes['C_7eq']\n",
    "alpha_R = old_storage.volumes['alpha_R']\n",
    "final_step = old_storage.steps[-1]\n",
    "traj = final_step.active[0].trajectory\n",
    "phi = old_storage.cvs['phi']\n",
    "psi = old_storage.cvs['psi']\n",
    "\n",
    "template = traj[0]  # any snapshot is fine"
   ]
  },
  {
   "cell_type": "code",
   "execution_count": 5,
   "metadata": {},
   "outputs": [
    {
     "data": {
      "text/plain": [
       "<openpathsampling.collectivevariable.MDTrajFunctionCV at 0x11bf12630>"
      ]
     },
     "execution_count": 5,
     "metadata": {},
     "output_type": "execute_result"
    }
   ],
   "source": [
    "# make sure we store the calculated versions of phi and psi\n",
    "phi.enable_diskcache()\n",
    "psi.enable_diskcache()"
   ]
  },
  {
   "cell_type": "code",
   "execution_count": 6,
   "metadata": {},
   "outputs": [
    {
     "name": "stdout",
     "output_type": "stream",
     "text": [
      "production\n"
     ]
    }
   ],
   "source": [
    "print(engine.name)"
   ]
  },
  {
   "cell_type": "markdown",
   "metadata": {},
   "source": [
    "## TPS\n",
    "\n",
    "As always, the process for setting up a simulation is:\n",
    "\n",
    "1. Create a `network`\n",
    "2. Create a `move_scheme`\n",
    "3. Set up `initial_conditions`\n",
    "4. Create the `PathSampling` object and run it.\n",
    "\n",
    "Since we already created all the input to these when we set up the first trajectory, we can use the versions we loaded above."
   ]
  },
  {
   "cell_type": "code",
   "execution_count": 7,
   "metadata": {},
   "outputs": [],
   "source": [
    "network = paths.TPSNetwork(C_7eq, alpha_R)"
   ]
  },
  {
   "cell_type": "code",
   "execution_count": 8,
   "metadata": {},
   "outputs": [],
   "source": [
    "scheme = paths.OneWayShootingMoveScheme(network, selector=paths.UniformSelector(), engine=engine)"
   ]
  },
  {
   "cell_type": "code",
   "execution_count": 9,
   "metadata": {},
   "outputs": [
    {
     "name": "stdout",
     "output_type": "stream",
     "text": [
      "No missing ensembles.\n",
      "No extra ensembles.\n"
     ]
    }
   ],
   "source": [
    "initial_conditions = scheme.initial_conditions_from_trajectories(traj)"
   ]
  },
  {
   "cell_type": "code",
   "execution_count": 10,
   "metadata": {},
   "outputs": [],
   "source": [
    "storage = paths.Storage(\"alanine_dipeptide_tps.nc\", mode=\"w\")\n",
    "storage.save(template)  # required for diskcache\n",
    "sampler = paths.PathSampling(storage=storage,\n",
    "                             move_scheme=scheme,\n",
    "                             sample_set=initial_conditions)"
   ]
  },
  {
   "cell_type": "code",
   "execution_count": 11,
   "metadata": {},
   "outputs": [],
   "source": [
    "# This sets up logging, to provide additional information about what is happening\n",
    "\n",
    "import logging\n",
    "import sys\n",
    "\n",
    "# use logging.INFO for basic info; logging.DEBUG for details\n",
    "log_level = logging.INFO\n",
    "\n",
    "root = logging.getLogger('openpathsampling.engines')\n",
    "root.setLevel(logging.DEBUG)  # let the handlers sort it out\n",
    "ch = logging.StreamHandler(sys.stdout)\n",
    "ch.setLevel(log_level)\n",
    "root.addHandler(ch)\n",
    "\n",
    "# uncomment the following to write detailed debug info to a file\n",
    "#fh = logging.FileHandler('debug_details.log')\n",
    "#fh.setLevel(logging.DEBUG)\n",
    "#root.addHandler(fh)"
   ]
  },
  {
   "cell_type": "markdown",
   "metadata": {},
   "source": [
    "Note: 1000 steps will take a long time. If you just want to run a little bit, reduce this number."
   ]
  },
  {
   "cell_type": "code",
   "execution_count": 12,
   "metadata": {
    "scrolled": false
   },
   "outputs": [
    {
     "name": "stdout",
     "output_type": "stream",
     "text": [
      "Working on Monte Carlo cycle number 10\n",
      "Running for 2 minutes 36 seconds - 17.39 seconds per step\n",
      "Estimated time remaining: 17 seconds\n",
      "Starting trajectory\n",
      "gmx -nobackup grompp -c ./conf.gro -f ./md.mdp -p ./topol.top -t ./initial_frame.trr \n",
      "gmx -nobackup mdrun -s topol.tpr -o ./prod_trr/0000010.trr -e ./prod_edr/0000010.edr -g ./prod_log/0000010.log \n",
      "Started engine: psutil.Popen(pid=71684, name='gmx', started='15:07:35')\n",
      "Through frame: 0\n",
      "Through frame: 10\n",
      "total_time 6.7042\n",
      "About to send signal Signals.SIGTERM to psutil.Popen(pid=71684, name='gmx', started='15:07:35')\n",
      "Finished trajectory, length: 21\n",
      "DONE! Completed 10 Monte Carlo cycles.\n"
     ]
    }
   ],
   "source": [
    "#sampler.live_visualizer = paths.StepVisualization2D(network, phi, psi, [-3.14, 3.14], [-3.14, 3.14])\n",
    "sampler.run(1000)"
   ]
  },
  {
   "cell_type": "code",
   "execution_count": 13,
   "metadata": {},
   "outputs": [],
   "source": [
    "# IF YOU HAVE AN ERROR: uncomment and run\n",
    "# engine.stop(None)\n",
    "# (this will stop the Gromacs process)"
   ]
  },
  {
   "cell_type": "code",
   "execution_count": 14,
   "metadata": {},
   "outputs": [],
   "source": [
    "# IF YOU RE-RUN, DELETE EXISTING FILES AND RESTART THE NOTEBOOK\n",
    "#!rm -rf prod_trr prod_log prod_edr"
   ]
  },
  {
   "cell_type": "markdown",
   "metadata": {
    "collapsed": true
   },
   "source": [
    "With this done, you can go on to do the flexible-length parts of the analysis in `alanine_dipeptide_tps_analysis.ipynb`."
   ]
  },
  {
   "cell_type": "code",
   "execution_count": 15,
   "metadata": {},
   "outputs": [],
   "source": [
    "storage.close()"
   ]
  }
 ],
 "metadata": {
  "kernelspec": {
   "display_name": "Python 3",
   "language": "python",
   "name": "python3"
  },
  "language_info": {
   "codemirror_mode": {
    "name": "ipython",
    "version": 3
   },
   "file_extension": ".py",
   "mimetype": "text/x-python",
   "name": "python",
   "nbconvert_exporter": "python",
   "pygments_lexer": "ipython3",
   "version": "3.7.3"
  },
  "toc": {
   "base_numbering": 1,
   "nav_menu": {},
   "number_sections": true,
   "sideBar": true,
   "skip_h1_title": true,
   "title_cell": "Table of Contents",
   "title_sidebar": "Contents",
   "toc_cell": false,
   "toc_position": {},
   "toc_section_display": true,
   "toc_window_display": false
  },
  "varInspector": {
   "cols": {
    "lenName": 16,
    "lenType": 16,
    "lenVar": 40
   },
   "kernels_config": {
    "python": {
     "delete_cmd_postfix": "",
     "delete_cmd_prefix": "del ",
     "library": "var_list.py",
     "varRefreshCmd": "print(var_dic_list())"
    },
    "r": {
     "delete_cmd_postfix": ") ",
     "delete_cmd_prefix": "rm(",
     "library": "var_list.r",
     "varRefreshCmd": "cat(var_dic_list()) "
    }
   },
   "types_to_exclude": [
    "module",
    "function",
    "builtin_function_or_method",
    "instance",
    "_Feature"
   ],
   "window_display": false
  }
 },
 "nbformat": 4,
 "nbformat_minor": 1
}
