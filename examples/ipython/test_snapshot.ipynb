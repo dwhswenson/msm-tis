{
 "cells": [
  {
   "cell_type": "markdown",
   "metadata": {},
   "source": [
    "## Some testing and analysis of the new `Snapshot` implementation"
   ]
  },
  {
   "cell_type": "code",
   "execution_count": 1,
   "metadata": {
    "collapsed": false
   },
   "outputs": [],
   "source": [
    "import numpy as np\n",
    "import openpathsampling as paths\n",
    "import openpathsampling.engines.features as features"
   ]
  },
  {
   "cell_type": "markdown",
   "metadata": {},
   "source": [
    "Function to show the generated source code"
   ]
  },
  {
   "cell_type": "code",
   "execution_count": 2,
   "metadata": {
    "collapsed": false
   },
   "outputs": [],
   "source": [
    "from IPython.display import Markdown\n",
    "\n",
    "def code_to_md(snapshot_class):\n",
    "    md = '```py\\n'\n",
    "    for f, s in snapshot_class.__features__.debug.iteritems():\n",
    "        if s is not None:\n",
    "            md += s\n",
    "        else:\n",
    "            md += 'def ' + f + '(...):\\n    # user defined\\n    pass' \n",
    "        md += '\\n\\n'\n",
    "    md += '```'\n",
    "\n",
    "    return md"
   ]
  },
  {
   "cell_type": "markdown",
   "metadata": {},
   "source": [
    "### Check generated source code"
   ]
  },
  {
   "cell_type": "markdown",
   "metadata": {},
   "source": [
    "Generate simple Snapshot without any features using factory"
   ]
  },
  {
   "cell_type": "code",
   "execution_count": 3,
   "metadata": {
    "collapsed": false
   },
   "outputs": [],
   "source": [
    "EmptySnap = paths.engines.snapshot.SnapshotFactory('no', [], 'Empty', use_lazy_reversed=False)"
   ]
  },
  {
   "cell_type": "markdown",
   "metadata": {},
   "source": [
    "Generate Snapshot with overridden `.copy` method."
   ]
  },
  {
   "cell_type": "code",
   "execution_count": 4,
   "metadata": {
    "collapsed": false
   },
   "outputs": [],
   "source": [
    "@features.base.attach_features([\n",
    "    features.velocities,\n",
    "    features.coordinates,\n",
    "    features.box_vectors,\n",
    "    features.topology\n",
    "])\n",
    "class A(paths.BaseSnapshot):\n",
    "    def copy(self):\n",
    "        return 'copy'"
   ]
  },
  {
   "cell_type": "markdown",
   "metadata": {},
   "source": [
    "Check that subclassing with overridden copy needs more overriding."
   ]
  },
  {
   "cell_type": "code",
   "execution_count": 5,
   "metadata": {
    "collapsed": false
   },
   "outputs": [
    {
     "name": "stdout",
     "output_type": "stream",
     "text": [
      "Subclassing snapshots with overridden function \"copy\" is only possible if this function is overridden again, otherwise some features might not be copied. The general practise of overriding is not recommended.\n"
     ]
    }
   ],
   "source": [
    "try:\n",
    "    @features.base.attach_features([\n",
    "    ])\n",
    "    class B(A):\n",
    "        pass\n",
    "except RuntimeWarning as e:\n",
    "    print e\n",
    "else:\n",
    "    raise RuntimeError('Should have raised a RUNTIME warning')    "
   ]
  },
  {
   "cell_type": "code",
   "execution_count": 6,
   "metadata": {
    "collapsed": false
   },
   "outputs": [],
   "source": [
    "a = A()\n",
    "assert(a.copy() == 'copy')"
   ]
  },
  {
   "cell_type": "code",
   "execution_count": 7,
   "metadata": {
    "collapsed": false
   },
   "outputs": [
    {
     "data": {
      "text/markdown": [
       "```py\n",
       "def create_empty(self):\n",
       "    this = cls.__new__(cls)\n",
       "    this._reversed = None\n",
       "    return this\n",
       "\n",
       "@staticmethod\n",
       "def init_copy(self, velocities=None, coordinates=None, box_vectors=None, topology=None):\n",
       "    self._reversed = None\n",
       "    self.topology = topology\n",
       "    np.copyto(self.velocities, velocities)\n",
       "    np.copyto(self.coordinates, coordinates)\n",
       "    np.copyto(self.box_vectors, box_vectors)\n",
       "\n",
       "def create_reversed(self):\n",
       "    this = cls.__new__(cls)\n",
       "    this._reversed = self\n",
       "    this.coordinates = self.coordinates\n",
       "    this.box_vectors = self.box_vectors\n",
       "    this.topology = self.topology\n",
       "    this.velocities = - self.velocities\n",
       "    return this\n",
       "\n",
       "def copy_to(self, target):\n",
       "    target._reversed = None\n",
       "    target.topology = self.topology\n",
       "    np.copyto(target.velocities, self.velocities)\n",
       "    np.copyto(target.coordinates, self.coordinates)\n",
       "    np.copyto(target.box_vectors, self.box_vectors)\n",
       "\n",
       "def init_empty(self):\n",
       "    self._reversed = None\n",
       "\n",
       "def copy(...):\n",
       "    # user defined\n",
       "    pass\n",
       "\n",
       "def __init__(self, velocities=None, coordinates=None, box_vectors=None, topology=None):\n",
       "    self._reversed = None\n",
       "    self.velocities = velocities\n",
       "    self.coordinates = coordinates\n",
       "    self.box_vectors = box_vectors\n",
       "    self.topology = topology\n",
       "\n",
       "```"
      ],
      "text/plain": [
       "<IPython.core.display.Markdown object>"
      ]
     },
     "execution_count": 7,
     "metadata": {},
     "output_type": "execute_result"
    }
   ],
   "source": [
    "#! ignore\n",
    "Markdown(code_to_md(A))"
   ]
  },
  {
   "cell_type": "code",
   "execution_count": 8,
   "metadata": {
    "collapsed": false,
    "scrolled": false
   },
   "outputs": [
    {
     "data": {
      "text/markdown": [
       "```py\n",
       "def create_empty(self):\n",
       "    this = cls.__new__(cls)\n",
       "    this._reversed = None\n",
       "    return this\n",
       "\n",
       "@staticmethod\n",
       "def init_copy(self):\n",
       "    self._reversed = None\n",
       "\n",
       "def create_reversed(self):\n",
       "    this = cls.__new__(cls)\n",
       "    this._reversed = self\n",
       "    return this\n",
       "\n",
       "def copy_to(self, target):\n",
       "    target._reversed = None\n",
       "\n",
       "def init_empty(self):\n",
       "    self._reversed = None\n",
       "\n",
       "def copy(self):\n",
       "    this = cls.__new__(cls)\n",
       "    this._reversed = None\n",
       "    return this\n",
       "\n",
       "def __init__(self):\n",
       "    self._reversed = None\n",
       "\n",
       "```"
      ],
      "text/plain": [
       "<IPython.core.display.Markdown object>"
      ]
     },
     "execution_count": 8,
     "metadata": {},
     "output_type": "execute_result"
    }
   ],
   "source": [
    "#! ignore\n",
    "Markdown(code_to_md(EmptySnap))"
   ]
  },
  {
   "cell_type": "code",
   "execution_count": 9,
   "metadata": {
    "collapsed": false
   },
   "outputs": [],
   "source": [
    "SuperSnap = paths.engines.snapshot.SnapshotFactory(\n",
    "    'my', [\n",
    "        paths.engines.features.coordinates,\n",
    "        paths.engines.features.box_vectors,\n",
    "        paths.engines.features.velocities\n",
    "    ], 'No desc', use_lazy_reversed=False)"
   ]
  },
  {
   "cell_type": "code",
   "execution_count": 10,
   "metadata": {
    "collapsed": false
   },
   "outputs": [
    {
     "data": {
      "text/markdown": [
       "```py\n",
       "def create_empty(self):\n",
       "    this = cls.__new__(cls)\n",
       "    this._reversed = None\n",
       "    return this\n",
       "\n",
       "@staticmethod\n",
       "def init_copy(self, coordinates=None, box_vectors=None, velocities=None):\n",
       "    self._reversed = None\n",
       "    np.copyto(self.coordinates, coordinates)\n",
       "    np.copyto(self.box_vectors, box_vectors)\n",
       "    np.copyto(self.velocities, velocities)\n",
       "\n",
       "def create_reversed(self):\n",
       "    this = cls.__new__(cls)\n",
       "    this._reversed = self\n",
       "    this.coordinates = self.coordinates\n",
       "    this.box_vectors = self.box_vectors\n",
       "    this.velocities = - self.velocities\n",
       "    return this\n",
       "\n",
       "def copy_to(self, target):\n",
       "    target._reversed = None\n",
       "    np.copyto(target.coordinates, self.coordinates)\n",
       "    np.copyto(target.box_vectors, self.box_vectors)\n",
       "    np.copyto(target.velocities, self.velocities)\n",
       "\n",
       "def init_empty(self):\n",
       "    self._reversed = None\n",
       "\n",
       "def copy(self):\n",
       "    this = cls.__new__(cls)\n",
       "    this._reversed = None\n",
       "    if self.coordinates is not None:\n",
       "        this.coordinates = self.coordinates.copy()\n",
       "    else:\n",
       "        this.coordinates = self.coordinates\n",
       "    if self.box_vectors is not None:\n",
       "        this.box_vectors = self.box_vectors.copy()\n",
       "    else:\n",
       "        this.box_vectors = self.box_vectors\n",
       "    if self.velocities is not None:\n",
       "        this.velocities = self.velocities.copy()\n",
       "    else:\n",
       "        this.velocities = self.velocities\n",
       "    return this\n",
       "\n",
       "def __init__(self, coordinates=None, box_vectors=None, velocities=None):\n",
       "    self._reversed = None\n",
       "    self.coordinates = coordinates\n",
       "    self.box_vectors = box_vectors\n",
       "    self.velocities = velocities\n",
       "\n",
       "```"
      ],
      "text/plain": [
       "<IPython.core.display.Markdown object>"
      ]
     },
     "execution_count": 10,
     "metadata": {},
     "output_type": "execute_result"
    }
   ],
   "source": [
    "#! ignore\n",
    "Markdown(code_to_md(SuperSnap))"
   ]
  },
  {
   "cell_type": "code",
   "execution_count": 11,
   "metadata": {
    "collapsed": false
   },
   "outputs": [],
   "source": [
    "MegaSnap = paths.engines.snapshot.SnapshotFactory(\n",
    "    'mega', [\n",
    "        paths.engines.features.statics,\n",
    "        paths.engines.features.kinetics,\n",
    "        paths.engines.features.engine\n",
    "    ], 'Long desc', use_lazy_reversed=False)"
   ]
  },
  {
   "cell_type": "code",
   "execution_count": 12,
   "metadata": {
    "collapsed": false
   },
   "outputs": [
    {
     "data": {
      "text/markdown": [
       "```py\n",
       "def create_empty(self):\n",
       "    this = cls.__new__(cls)\n",
       "    this._lazy = {}\n",
       "    this._reversed = None\n",
       "    return this\n",
       "\n",
       "@staticmethod\n",
       "def init_copy(self, statics=None, kinetics=None, is_reversed=False, engine=None):\n",
       "    self._lazy = {\n",
       "       cls.statics : statics,\n",
       "       cls.kinetics : kinetics,\n",
       "    }\n",
       "    self._reversed = None\n",
       "    self.is_reversed = is_reversed\n",
       "    self.engine = engine\n",
       "\n",
       "def create_reversed(self):\n",
       "    this = cls.__new__(cls)\n",
       "    this._lazy = {\n",
       "       cls.statics : self._lazy[cls.statics],\n",
       "       cls.kinetics : self._lazy[cls.kinetics],\n",
       "    }\n",
       "    this._reversed = self\n",
       "    this.engine = self.engine\n",
       "    this.is_reversed = not self.is_reversed\n",
       "    return this\n",
       "\n",
       "def copy_to(self, target):\n",
       "    target._lazy = {\n",
       "       cls.statics : self._lazy[cls.statics],\n",
       "       cls.kinetics : self._lazy[cls.kinetics],\n",
       "    }\n",
       "    target._reversed = None\n",
       "    target.is_reversed = self.is_reversed\n",
       "    target.engine = self.engine\n",
       "\n",
       "def init_empty(self):\n",
       "    self._lazy = {}\n",
       "    self._reversed = None\n",
       "\n",
       "def copy(self):\n",
       "    this = cls.__new__(cls)\n",
       "    this._lazy = {\n",
       "       cls.statics : self._lazy[cls.statics],\n",
       "       cls.kinetics : self._lazy[cls.kinetics],\n",
       "    }\n",
       "    this._reversed = None\n",
       "    this.is_reversed = self.is_reversed\n",
       "    this.engine = self.engine\n",
       "    return this\n",
       "\n",
       "def __init__(self, statics=None, kinetics=None, is_reversed=False, engine=None):\n",
       "    self._lazy = {\n",
       "       cls.statics : statics,\n",
       "       cls.kinetics : kinetics,\n",
       "    }\n",
       "    self._reversed = None\n",
       "    self.is_reversed = is_reversed\n",
       "    self.engine = engine\n",
       "\n",
       "```"
      ],
      "text/plain": [
       "<IPython.core.display.Markdown object>"
      ]
     },
     "execution_count": 12,
     "metadata": {},
     "output_type": "execute_result"
    }
   ],
   "source": [
    "#! ignore\n",
    "Markdown(code_to_md(MegaSnap))"
   ]
  },
  {
   "cell_type": "markdown",
   "metadata": {},
   "source": [
    "Test subclassing"
   ]
  },
  {
   "cell_type": "code",
   "execution_count": 13,
   "metadata": {
    "collapsed": false
   },
   "outputs": [],
   "source": [
    "@features.base.attach_features([\n",
    "])\n",
    "class HyperSnap(MegaSnap):\n",
    "    pass"
   ]
  },
  {
   "cell_type": "markdown",
   "metadata": {},
   "source": [
    "Test subclassing with redundant features (should work / be ignored)"
   ]
  },
  {
   "cell_type": "code",
   "execution_count": 14,
   "metadata": {
    "collapsed": false
   },
   "outputs": [],
   "source": [
    "@features.base.attach_features([\n",
    "    paths.engines.features.statics,\n",
    "])\n",
    "class HyperSnap(MegaSnap):\n",
    "    pass"
   ]
  },
  {
   "cell_type": "markdown",
   "metadata": {},
   "source": [
    "Test subclassing with conflicting features (should not work)"
   ]
  },
  {
   "cell_type": "code",
   "execution_count": 15,
   "metadata": {
    "collapsed": false
   },
   "outputs": [
    {
     "name": "stdout",
     "output_type": "stream",
     "text": [
      "Collision: Property \"xyz\" already exists.\n"
     ]
    }
   ],
   "source": [
    "try:\n",
    "    @features.base.attach_features([\n",
    "        paths.engines.features.statics,\n",
    "        paths.engines.features.coordinates\n",
    "    ])\n",
    "    class HyperSnap(MegaSnap):\n",
    "        pass\n",
    "except RuntimeWarning as e:\n",
    "    print e\n",
    "else:\n",
    "    raise RuntimeError('Should have raised a RUNTIME warning')    "
   ]
  },
  {
   "cell_type": "code",
   "execution_count": 16,
   "metadata": {
    "collapsed": false
   },
   "outputs": [
    {
     "data": {
      "text/markdown": [
       "```py\n",
       "def create_empty(self):\n",
       "    this = cls.__new__(cls)\n",
       "    this._reversed = None\n",
       "    return this\n",
       "\n",
       "@staticmethod\n",
       "def init_copy(self, velocities=None, coordinates=None, box_vectors=None, topology=None):\n",
       "    self._reversed = None\n",
       "    self.topology = topology\n",
       "    np.copyto(self.velocities, velocities)\n",
       "    np.copyto(self.coordinates, coordinates)\n",
       "    np.copyto(self.box_vectors, box_vectors)\n",
       "\n",
       "def create_reversed(self):\n",
       "    this = cls.__new__(cls)\n",
       "    this._reversed = self\n",
       "    this.coordinates = self.coordinates\n",
       "    this.box_vectors = self.box_vectors\n",
       "    this.topology = self.topology\n",
       "    this.velocities = - self.velocities\n",
       "    return this\n",
       "\n",
       "def copy_to(self, target):\n",
       "    target._reversed = None\n",
       "    target.topology = self.topology\n",
       "    np.copyto(target.velocities, self.velocities)\n",
       "    np.copyto(target.coordinates, self.coordinates)\n",
       "    np.copyto(target.box_vectors, self.box_vectors)\n",
       "\n",
       "def init_empty(self):\n",
       "    self._reversed = None\n",
       "\n",
       "def copy(self):\n",
       "    this = cls.__new__(cls)\n",
       "    this._reversed = None\n",
       "    this.topology = self.topology\n",
       "    if self.velocities is not None:\n",
       "        this.velocities = self.velocities.copy()\n",
       "    else:\n",
       "        this.velocities = self.velocities\n",
       "    if self.coordinates is not None:\n",
       "        this.coordinates = self.coordinates.copy()\n",
       "    else:\n",
       "        this.coordinates = self.coordinates\n",
       "    if self.box_vectors is not None:\n",
       "        this.box_vectors = self.box_vectors.copy()\n",
       "    else:\n",
       "        this.box_vectors = self.box_vectors\n",
       "    return this\n",
       "\n",
       "def __init__(self, velocities=None, coordinates=None, box_vectors=None, topology=None):\n",
       "    self._reversed = None\n",
       "    self.velocities = velocities\n",
       "    self.coordinates = coordinates\n",
       "    self.box_vectors = box_vectors\n",
       "    self.topology = topology\n",
       "\n",
       "```"
      ],
      "text/plain": [
       "<IPython.core.display.Markdown object>"
      ]
     },
     "execution_count": 16,
     "metadata": {},
     "output_type": "execute_result"
    }
   ],
   "source": [
    "#! ignore\n",
    "Markdown(code_to_md(paths.engines.openmm.MDSnapshot))"
   ]
  },
  {
   "cell_type": "code",
   "execution_count": null,
   "metadata": {
    "collapsed": true
   },
   "outputs": [],
   "source": []
  }
 ],
 "metadata": {
  "kernelspec": {
   "display_name": "Python 2",
   "language": "python",
   "name": "python2"
  },
  "language_info": {
   "codemirror_mode": {
    "name": "ipython",
    "version": 2
   },
   "file_extension": ".py",
   "mimetype": "text/x-python",
   "name": "python",
   "nbconvert_exporter": "python",
   "pygments_lexer": "ipython2",
   "version": "2.7.11"
  }
 },
 "nbformat": 4,
 "nbformat_minor": 0
}
