{
 "cells": [
  {
   "cell_type": "code",
   "execution_count": null,
   "metadata": {
    "collapsed": true
   },
   "outputs": [],
   "source": [
    "%matplotlib inline\n",
    "import openpathsampling as paths\n",
    "import numpy as np\n",
    "from toy_plot_helpers import ToyPlot"
   ]
  },
  {
   "cell_type": "code",
   "execution_count": null,
   "metadata": {
    "collapsed": false
   },
   "outputs": [],
   "source": [
    "import openpathsampling.toy_dynamics as toys\n",
    "plot = ToyPlot()\n",
    "pes = (\n",
    "    toys.toy_pes.OuterWalls([1.0, 1.0], [0.0, 0.0]) +\n",
    "    toys.toy_pes.Gaussian(-0.7, [12.0, 12.0], [-0.5, 0.5]) +\n",
    "    toys.toy_pes.Gaussian(-0.7, [12.0, 12.0], [-0.5, -0.5]) +\n",
    "    toys.toy_pes.Gaussian(-0.7, [12.0, 12.0], [0.5, -0.5])\n",
    ")\n",
    "\n",
    "plot.contour_range = np.arange(-1.5, 1.0, 0.1)\n",
    "\n",
    "topology=paths.ToyTopology(\n",
    "    n_spatial = 2,\n",
    "    masses =[1.0, 1.0],\n",
    "    pes = pes\n",
    ")\n",
    "\n",
    "template = paths.Snapshot(\n",
    "    coordinates=np.array([[-0.5, -0.5]]), \n",
    "    velocities=np.array([[0.0,0.0]]),\n",
    "    potential_energy = 0.0, # Important to set energies dimensionless otherwise kcal/mol is default\n",
    "    kinetic_energy = 0.0,\n",
    "    topology=topology\n",
    ")\n",
    "\n",
    "integ = toys.toy_integrators.LangevinBAOABIntegrator(dt=0.02, temperature=0.1, gamma=2.5)\n",
    "\n",
    "options={\n",
    "    'integ' : integ,\n",
    "    'n_frames_max' : 5000,\n",
    "    'nsteps_per_frame' : 10\n",
    "}\n",
    "\n",
    "toy_eng = toys.toy_engine.ToyEngine(\n",
    "    options=options,\n",
    "    template=template\n",
    ")\n",
    "toy_eng.initialized = True\n",
    "\n",
    "toy_eng.current_snapshot = template\n",
    "paths.PathMover.engine = toy_eng"
   ]
  },
  {
   "cell_type": "code",
   "execution_count": null,
   "metadata": {
    "collapsed": false
   },
   "outputs": [],
   "source": [
    "plot.add_pes(pes)\n",
    "plot.plot()"
   ]
  },
  {
   "cell_type": "code",
   "execution_count": null,
   "metadata": {
    "collapsed": false
   },
   "outputs": [],
   "source": [
    "def xval(snapshot):\n",
    "    return snapshot.xyz[0][0]\n",
    "\n",
    "def xprime(snapshot):\n",
    "    # this only exists until we set up the ability for the order parameter to decrease\n",
    "    return -snapshot.xyz[0][0]\n",
    "\n",
    "def yval(snapshot):\n",
    "    return snapshot.xyz[0][1]\n",
    "    \n",
    "opX = paths.CV_Function(name=\"opX\", fcn=xval)\n",
    "opY = paths.CV_Function(name=\"opY\", fcn=yval)\n",
    "opXprime = paths.CV_Function(name=\"opXprime\", fcn=xprime)"
   ]
  },
  {
   "cell_type": "code",
   "execution_count": null,
   "metadata": {
    "collapsed": false
   },
   "outputs": [],
   "source": [
    "x_under_min = paths.CVRangeVolume(opX, float(\"-inf\"), -0.3)\n",
    "x_over_max = paths.CVRangeVolume(opX, 0.3, float(\"inf\")) \n",
    "y_under_min = paths.CVRangeVolume(opY, float(\"-inf\"), -0.3)\n",
    "y_over_max = paths.CVRangeVolume(opY, 0.3, float(\"inf\")) \n",
    "\n",
    "stateA = x_under_min & y_under_min\n",
    "stateB = x_over_max & y_under_min\n",
    "stateC = x_under_min & y_over_max"
   ]
  },
  {
   "cell_type": "code",
   "execution_count": null,
   "metadata": {
    "collapsed": false
   },
   "outputs": [],
   "source": [
    "#plot.add_states([stateA, stateB, stateC])\n",
    "#plot.plot()"
   ]
  },
  {
   "cell_type": "code",
   "execution_count": null,
   "metadata": {
    "collapsed": true
   },
   "outputs": [],
   "source": [
    "interfacesAB = paths.VolumeFactory.CVRangeVolumeSet(opX, float(\"-inf\"), [-0.3, -0.2, -0.1, 0.0])\n",
    "interfacesAC = paths.VolumeFactory.CVRangeVolumeSet(opY, float(\"-inf\"), [-0.3, -0.2, -0.1, 0.0])\n",
    "interfacesBA = paths.VolumeFactory.CVRangeVolumeSet(opXprime, float(\"-inf\"), [-0.3, -0.2, -0.1, 0.0])"
   ]
  },
  {
   "cell_type": "code",
   "execution_count": null,
   "metadata": {
    "collapsed": false
   },
   "outputs": [],
   "source": [
    "tisAB = paths.TISTransition(stateA, stateB, interfacesAB, orderparameter=opX, name=\"A->B\")\n",
    "tisAC = paths.TISTransition(stateA, stateC, interfacesAC, orderparameter=opY, name=\"A->C\")\n",
    "tisBA = paths.TISTransition(stateB, stateA, interfacesBA, orderparameter=opXprime, name=\"B->A\")"
   ]
  },
  {
   "cell_type": "code",
   "execution_count": null,
   "metadata": {
    "collapsed": false
   },
   "outputs": [],
   "source": [
    "mistis = paths.MISTISNetwork([tisAB, tisAC, tisBA])"
   ]
  },
  {
   "cell_type": "code",
   "execution_count": null,
   "metadata": {
    "collapsed": false
   },
   "outputs": [],
   "source": [
    "import logging.config\n",
    "logging.config.fileConfig(\"debug_logging.conf\", disable_existing_loggers=False)"
   ]
  },
  {
   "cell_type": "code",
   "execution_count": null,
   "metadata": {
    "collapsed": false
   },
   "outputs": [],
   "source": [
    "snapA = paths.Snapshot(\n",
    "    coordinates=[[-0.5, -0.5]],\n",
    "    velocities=[[0.5, 0.0]]\n",
    ")\n",
    "init_AB = paths.FullBootstrapping(\n",
    "    transition=tisAB, \n",
    "    snapshot=snapA, \n",
    "    engine=toy_eng, \n",
    "    forbidden_states=[stateC]\n",
    ").run()"
   ]
  },
  {
   "cell_type": "code",
   "execution_count": null,
   "metadata": {
    "collapsed": false
   },
   "outputs": [],
   "source": [
    "snapA = paths.Snapshot(\n",
    "    coordinates=[[-0.5, -0.5]],\n",
    "    velocities=[[0.0, 0.5]]\n",
    ")\n",
    "init_AC = paths.FullBootstrapping(\n",
    "    transition=tisAC, \n",
    "    snapshot=snapA, \n",
    "    engine=toy_eng, \n",
    "    forbidden_states=[stateB]\n",
    ").run()"
   ]
  },
  {
   "cell_type": "code",
   "execution_count": null,
   "metadata": {
    "collapsed": false
   },
   "outputs": [],
   "source": [
    "snapB = paths.Snapshot(\n",
    "    coordinates=[[0.5, -0.5]],\n",
    "    velocities=[[-0.5, 0.0]]\n",
    ")\n",
    "init_BA = paths.FullBootstrapping(\n",
    "    transition=tisBA, \n",
    "    snapshot=snapB, \n",
    "    engine=toy_eng, \n",
    "    forbidden_states=[stateC]\n",
    ").run()"
   ]
  },
  {
   "cell_type": "code",
   "execution_count": null,
   "metadata": {
    "collapsed": false
   },
   "outputs": [],
   "source": [
    "plot.plot([s.trajectory for s in list(init_AB)+list(init_AC)+list(init_BA)])"
   ]
  },
  {
   "cell_type": "code",
   "execution_count": null,
   "metadata": {
    "collapsed": false
   },
   "outputs": [],
   "source": [
    "# TODO: it would be really nice if all of this could be handled somewhat automatically\n",
    "samples = []\n",
    "trans2trajs = {tisAB : init_AB, tisAC : init_AC, tisBA : init_BA}\n",
    "for trans in trans2trajs.keys():\n",
    "    new_trans = mistis.transition_to_sampling[trans]\n",
    "    for i in range(len(new_trans.ensembles)):\n",
    "        samples.append(paths.Sample(\n",
    "                trajectory=trans2trajs[trans][i].trajectory,\n",
    "                ensemble=new_trans.ensembles[i],\n",
    "                replica=len(samples)\n",
    "        ))\n",
    "sset = paths.SampleSet(samples)\n",
    "sset.sanity_check()\n",
    "\n",
    "outer_sset = paths.SampleSet([init.samples[-1] for init in [init_AB, init_BA]])\n",
    "outer_sample = paths.Sample(\n",
    "    replica=len(sset),\n",
    "    trajectory=init_AB.samples[-1].trajectory,\n",
    "    ensemble=mistis.ms_outers[0]\n",
    ")\n",
    "sset = sset.apply_samples([outer_sample])\n",
    "sset.sanity_check()\n",
    "\n",
    "minus_samples = []\n",
    "for minus in mistis.minus_ensembles:\n",
    "    for partial_traj in [s.trajectory for s in sset]:\n",
    "        if minus._segment_ensemble(partial_traj):\n",
    "            break\n",
    "    #print minus._segment_ensemble(partial_traj)\n",
    "    good_sample = False\n",
    "    while not good_sample:\n",
    "        samp = minus.populate_minus_ensemble(\n",
    "            partial_traj=partial_traj,\n",
    "            minus_replica_id=-mistis.minus_ensembles.index(minus)-1,\n",
    "            engine=toy_eng\n",
    "        )\n",
    "        good_sample = samp.ensemble(samp.trajectory)\n",
    "    minus_samples.append(samp)\n",
    "\n",
    "sset = sset.apply_samples(minus_samples)\n",
    "sset.sanity_check()"
   ]
  },
  {
   "cell_type": "code",
   "execution_count": null,
   "metadata": {
    "collapsed": false
   },
   "outputs": [],
   "source": [
    "#logging.config.fileConfig(\"debug_logging.conf\", disable_existing_loggers=False)\n",
    "storage = paths.storage.Storage(\"mistis.nc\", \"w\", template=template)"
   ]
  },
  {
   "cell_type": "code",
   "execution_count": null,
   "metadata": {
    "collapsed": false
   },
   "outputs": [],
   "source": [
    "storage.save(mistis)\n",
    "storage.sync()"
   ]
  },
  {
   "cell_type": "code",
   "execution_count": null,
   "metadata": {
    "collapsed": false
   },
   "outputs": [],
   "source": [
    "scheme = paths.DefaultScheme(mistis)"
   ]
  },
  {
   "cell_type": "code",
   "execution_count": null,
   "metadata": {
    "collapsed": false
   },
   "outputs": [],
   "source": [
    "mistis_calc = paths.PathSampling(\n",
    "    storage=storage,\n",
    "    engine=toy_eng,\n",
    "    move_scheme=scheme.move_decision_tree(),\n",
    "    globalstate=sset\n",
    ")\n",
    "mistis_calc.save_frequency = 100"
   ]
  },
  {
   "cell_type": "code",
   "execution_count": null,
   "metadata": {
    "collapsed": true
   },
   "outputs": [],
   "source": [
    "storage.save(scheme)\n",
    "storage.sync()"
   ]
  },
  {
   "cell_type": "code",
   "execution_count": null,
   "metadata": {
    "collapsed": false
   },
   "outputs": [],
   "source": [
    "import logging.config\n",
    "logging.config.fileConfig(\"logging.conf\", disable_existing_loggers=False)\n",
    "\n",
    "mistis_calc.run_until(250)"
   ]
  }
 ],
 "metadata": {
  "kernelspec": {
   "display_name": "Python 2",
   "language": "python",
   "name": "python2"
  },
  "language_info": {
   "codemirror_mode": {
    "name": "ipython",
    "version": 2
   },
   "file_extension": ".py",
   "mimetype": "text/x-python",
   "name": "python",
   "nbconvert_exporter": "python",
   "pygments_lexer": "ipython2",
   "version": "2.7.10"
  }
 },
 "nbformat": 4,
 "nbformat_minor": 0
}
