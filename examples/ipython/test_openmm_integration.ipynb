{
 "cells": [
  {
   "cell_type": "markdown",
   "metadata": {},
   "source": [
    "## OpenMMTools Integration"
   ]
  },
  {
   "cell_type": "markdown",
   "metadata": {},
   "source": [
    "This enables OPS to use any testsystem from openmmtools to be used as well as add ANY possible OpenMM setup, not just the ones that we provided before. The old OpenMMEngine has been rename intp `SimpleOpenMMEngine`"
   ]
  },
  {
   "cell_type": "code",
   "execution_count": 1,
   "metadata": {
    "collapsed": false
   },
   "outputs": [],
   "source": [
    "import openpathsampling as paths\n",
    "import openmmtools as omt\n",
    "import simtk.openmm as omm\n",
    "import simtk.unit as u\n",
    "import mdtraj as md"
   ]
  },
  {
   "cell_type": "markdown",
   "metadata": {},
   "source": [
    "Create Alanine in Vacuum and run it using OPS."
   ]
  },
  {
   "cell_type": "code",
   "execution_count": 2,
   "metadata": {
    "collapsed": true
   },
   "outputs": [],
   "source": [
    "testsystem = omt.testsystems.AlanineDipeptideVacuum()"
   ]
  },
  {
   "cell_type": "markdown",
   "metadata": {},
   "source": [
    "Let's have a look at the content"
   ]
  },
  {
   "cell_type": "code",
   "execution_count": 3,
   "metadata": {
    "collapsed": false
   },
   "outputs": [
    {
     "data": {
      "text/plain": [
       "{'_positions': simtk.unit.quantity.Quantity,\n",
       " '_system': simtk.openmm.openmm.System,\n",
       " '_topology': simtk.openmm.app.topology.Topology}"
      ]
     },
     "execution_count": 3,
     "metadata": {},
     "output_type": "execute_result"
    }
   ],
   "source": [
    "#! skip\n",
    "{ key: type(value) for key, value in testsystem.__dict__.items()}"
   ]
  },
  {
   "cell_type": "markdown",
   "metadata": {},
   "source": [
    "An `OpenMM` simulation in OPS needs 3 ingredients to function\n",
    "1. A template snapshot (which contains topolgy and coordinates/velocities), \n",
    "2. an OpenMM system object, and \n",
    "3. an OpenMM integrator object.\n",
    "\n",
    "In the following we will get these parts."
   ]
  },
  {
   "cell_type": "markdown",
   "metadata": {},
   "source": [
    "#### 1. The template"
   ]
  },
  {
   "cell_type": "markdown",
   "metadata": {},
   "source": [
    "The information for the template is contained in the `_topology` and the `_positions` object."
   ]
  },
  {
   "cell_type": "code",
   "execution_count": 4,
   "metadata": {
    "collapsed": true
   },
   "outputs": [],
   "source": [
    "template = paths.tools.snapshot_from_testsystem(testsystem)"
   ]
  },
  {
   "cell_type": "markdown",
   "metadata": {},
   "source": [
    "#### 2. The system"
   ]
  },
  {
   "cell_type": "markdown",
   "metadata": {},
   "source": [
    "This is easy since we directly get it from the testsytem objects"
   ]
  },
  {
   "cell_type": "code",
   "execution_count": 5,
   "metadata": {
    "collapsed": true
   },
   "outputs": [],
   "source": [
    "system = testsystem.system"
   ]
  },
  {
   "cell_type": "markdown",
   "metadata": {},
   "source": [
    "#### 3. The integrator"
   ]
  },
  {
   "cell_type": "markdown",
   "metadata": {},
   "source": [
    "The openmmtools system is (almost) independent of the integrator and `openmm` provides us with lots of options. For now we pick something simple."
   ]
  },
  {
   "cell_type": "code",
   "execution_count": 6,
   "metadata": {
    "collapsed": true
   },
   "outputs": [],
   "source": [
    "integrator = omm.VerletIntegrator(\n",
    "    0.002 * u.picoseconds    \n",
    ")"
   ]
  },
  {
   "cell_type": "markdown",
   "metadata": {},
   "source": [
    "build the engine"
   ]
  },
  {
   "cell_type": "code",
   "execution_count": 7,
   "metadata": {
    "collapsed": true
   },
   "outputs": [],
   "source": [
    "engine = paths.OpenMMEngine(template, system, integrator)"
   ]
  },
  {
   "cell_type": "markdown",
   "metadata": {},
   "source": [
    "Let's run a simulation of 10 steps."
   ]
  },
  {
   "cell_type": "code",
   "execution_count": 8,
   "metadata": {
    "collapsed": true
   },
   "outputs": [],
   "source": [
    "traj = engine.generate(engine.template, [paths.LengthEnsemble(10).can_append])"
   ]
  },
  {
   "cell_type": "code",
   "execution_count": 9,
   "metadata": {
    "collapsed": false
   },
   "outputs": [
    {
     "name": "stdout",
     "output_type": "stream",
     "text": [
      "Trajectory[10]\n"
     ]
    }
   ],
   "source": [
    "print traj"
   ]
  },
  {
   "cell_type": "code",
   "execution_count": 10,
   "metadata": {
    "collapsed": false
   },
   "outputs": [
    {
     "name": "stdout",
     "output_type": "stream",
     "text": [
      "[[ 0.18766728  0.11599674  0.01245003]\n",
      " [ 0.19458343  0.22444926  0.00401419]\n",
      " [ 0.14436734  0.27122679  0.08869708]\n",
      " [ 0.14886759  0.2574746  -0.08926169]\n",
      " [ 0.33994535  0.26638269  0.0060984 ]\n",
      " [ 0.4270958   0.18970115  0.04380049]\n",
      " [ 0.36886492  0.3899833  -0.03181567]\n",
      " [ 0.29336685  0.45243084 -0.05633818]\n",
      " [ 0.49859309  0.45657605 -0.0240012 ]\n",
      " [ 0.55814373  0.41515264  0.05735517]\n",
      " [ 0.57325351  0.43391326 -0.15561192]\n",
      " [ 0.51911265  0.48312768 -0.23640619]\n",
      " [ 0.67427623  0.473205   -0.14414121]\n",
      " [ 0.58423054  0.32728139 -0.17536469]\n",
      " [ 0.47495216  0.60669047 -0.00127662]\n",
      " [ 0.35958388  0.64924192  0.00474684]\n",
      " [ 0.58359271  0.6837917   0.00902627]\n",
      " [ 0.67474246  0.64066136  0.00332441]\n",
      " [ 0.57127428  0.8289724   0.01853087]\n",
      " [ 0.46718934  0.86095464  0.0234778 ]\n",
      " [ 0.62214297  0.86301553  0.10872201]\n",
      " [ 0.61715895  0.8743428  -0.0693164 ]] nm\n"
     ]
    }
   ],
   "source": [
    "#! skip\n",
    "print traj[5].coordinates"
   ]
  },
  {
   "cell_type": "code",
   "execution_count": 11,
   "metadata": {
    "collapsed": true
   },
   "outputs": [],
   "source": [
    "psi = md.compute_psi(traj.md())"
   ]
  },
  {
   "cell_type": "code",
   "execution_count": 12,
   "metadata": {
    "collapsed": false
   },
   "outputs": [
    {
     "data": {
      "text/plain": [
       "array([[ 3.10614586],\n",
       "       [-3.09586358],\n",
       "       [ 3.13675618],\n",
       "       [ 3.12832665],\n",
       "       [ 3.09317851]], dtype=float32)"
      ]
     },
     "execution_count": 12,
     "metadata": {},
     "output_type": "execute_result"
    }
   ],
   "source": [
    "#! ignore\n",
    "psi[1][3:8]"
   ]
  },
  {
   "cell_type": "code",
   "execution_count": 13,
   "metadata": {
    "collapsed": false
   },
   "outputs": [],
   "source": [
    "st = paths.Storage('engine_store_test.nc', mode='w', template=template)"
   ]
  },
  {
   "cell_type": "code",
   "execution_count": 14,
   "metadata": {
    "collapsed": false
   },
   "outputs": [],
   "source": [
    "st.engines.save(engine);"
   ]
  },
  {
   "cell_type": "markdown",
   "metadata": {},
   "source": [
    "The engine is stored by using the XML serialization of OpenMM and put this into the storage."
   ]
  },
  {
   "cell_type": "code",
   "execution_count": 15,
   "metadata": {
    "collapsed": false
   },
   "outputs": [
    {
     "data": {
      "text/plain": [
       "u'{\"_cls\": \"OpenMMEngine\", \"_dict\": {\"integrator_xml\": \"<?xml version=\\\\\"1.0\\\\\" ?>\\\\n<Integrator constraintTolerance=\\\\\"1e-05\\\\\" stepSize=\\\\\".002\\\\\" type=\\\\\"VerletIntegrator\\\\\" version=\\\\\"1\\\\\"/>\\\\n\", \"options\": {\"timestep\": null, \"n_frames_max\": 5000, \"platform\": \"OpenC...'"
      ]
     },
     "execution_count": 15,
     "metadata": {},
     "output_type": "execute_result"
    }
   ],
   "source": [
    "#! skip\n",
    "st.variables['engines_json'][0][0:256] + '...'"
   ]
  },
  {
   "cell_type": "code",
   "execution_count": 16,
   "metadata": {
    "collapsed": true
   },
   "outputs": [],
   "source": [
    "st.close()"
   ]
  },
  {
   "cell_type": "markdown",
   "metadata": {},
   "source": [
    "### try to load the stored engine"
   ]
  },
  {
   "cell_type": "code",
   "execution_count": 17,
   "metadata": {
    "collapsed": false
   },
   "outputs": [],
   "source": [
    "st = paths.AnalysisStorage('engine_store_test.nc')"
   ]
  },
  {
   "cell_type": "code",
   "execution_count": 18,
   "metadata": {
    "collapsed": true
   },
   "outputs": [],
   "source": [
    "engine = st.engines[0]"
   ]
  },
  {
   "cell_type": "markdown",
   "metadata": {},
   "source": [
    "Run another 10 steps to test"
   ]
  },
  {
   "cell_type": "code",
   "execution_count": 19,
   "metadata": {
    "collapsed": true
   },
   "outputs": [],
   "source": [
    "traj = engine.generate(engine.template, [paths.LengthEnsemble(10).can_append])"
   ]
  },
  {
   "cell_type": "code",
   "execution_count": 20,
   "metadata": {
    "collapsed": false
   },
   "outputs": [
    {
     "name": "stdout",
     "output_type": "stream",
     "text": [
      "Trajectory[10]\n"
     ]
    }
   ],
   "source": [
    "print traj"
   ]
  },
  {
   "cell_type": "code",
   "execution_count": null,
   "metadata": {
    "collapsed": true
   },
   "outputs": [],
   "source": []
  }
 ],
 "metadata": {
  "kernelspec": {
   "display_name": "Python 2",
   "language": "python",
   "name": "python2"
  },
  "language_info": {
   "codemirror_mode": {
    "name": "ipython",
    "version": 2
   },
   "file_extension": ".py",
   "mimetype": "text/x-python",
   "name": "python",
   "nbconvert_exporter": "python",
   "pygments_lexer": "ipython2",
   "version": "2.7.10"
  }
 },
 "nbformat": 4,
 "nbformat_minor": 0
}
