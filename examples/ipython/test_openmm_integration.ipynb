{
 "cells": [
  {
   "cell_type": "markdown",
   "metadata": {},
   "source": [
    "## OpenMMTools Integration"
   ]
  },
  {
   "cell_type": "markdown",
   "metadata": {},
   "source": [
    "This enables OPS to use any testsystem from openmmtools to be used as well as add ANY possible OpenMM setup, not just the ones that we provided before. The old OpenMMEngine has been rename intp `SimpleOpenMMEngine`"
   ]
  },
  {
   "cell_type": "code",
   "execution_count": 1,
   "metadata": {
    "collapsed": false
   },
   "outputs": [],
   "source": [
    "import openpathsampling as paths\n",
    "import openmmtools as omt\n",
    "import simtk.openmm as omm\n",
    "import simtk.unit as u\n",
    "import mdtraj as md\n",
    "\n",
    "import openpathsampling.engines.openmm as eng"
   ]
  },
  {
   "cell_type": "markdown",
   "metadata": {},
   "source": [
    "Create Alanine in Vacuum and run it using OPS."
   ]
  },
  {
   "cell_type": "code",
   "execution_count": 2,
   "metadata": {
    "collapsed": false
   },
   "outputs": [],
   "source": [
    "testsystem = omt.testsystems.AlanineDipeptideVacuum()"
   ]
  },
  {
   "cell_type": "markdown",
   "metadata": {},
   "source": [
    "Let's have a look at the content"
   ]
  },
  {
   "cell_type": "code",
   "execution_count": 3,
   "metadata": {
    "collapsed": false
   },
   "outputs": [
    {
     "data": {
      "text/plain": [
       "{'_positions': simtk.unit.quantity.Quantity,\n",
       " '_system': simtk.openmm.openmm.System,\n",
       " '_topology': simtk.openmm.app.topology.Topology}"
      ]
     },
     "execution_count": 3,
     "metadata": {},
     "output_type": "execute_result"
    }
   ],
   "source": [
    "#! skip\n",
    "{ key: type(value) for key, value in testsystem.__dict__.items()}"
   ]
  },
  {
   "cell_type": "markdown",
   "metadata": {},
   "source": [
    "An `OpenMM` simulation in OPS needs 3 ingredients to function\n",
    "1. A template snapshot (which contains topolgy and coordinates/velocities), \n",
    "2. an OpenMM system object, and \n",
    "3. an OpenMM integrator object.\n",
    "\n",
    "In the following we will get these parts."
   ]
  },
  {
   "cell_type": "markdown",
   "metadata": {},
   "source": [
    "#### 1. The template"
   ]
  },
  {
   "cell_type": "markdown",
   "metadata": {},
   "source": [
    "The information for the template is contained in the `_topology` and the `_positions` object."
   ]
  },
  {
   "cell_type": "code",
   "execution_count": 4,
   "metadata": {
    "collapsed": false
   },
   "outputs": [],
   "source": [
    "template = eng.snapshot_from_testsystem(testsystem)"
   ]
  },
  {
   "cell_type": "markdown",
   "metadata": {},
   "source": [
    "#### 2. The system"
   ]
  },
  {
   "cell_type": "markdown",
   "metadata": {},
   "source": [
    "This is easy since we directly get it from the testsytem objects"
   ]
  },
  {
   "cell_type": "code",
   "execution_count": 5,
   "metadata": {
    "collapsed": true
   },
   "outputs": [],
   "source": [
    "system = testsystem.system"
   ]
  },
  {
   "cell_type": "markdown",
   "metadata": {},
   "source": [
    "#### 3. The integrator"
   ]
  },
  {
   "cell_type": "markdown",
   "metadata": {},
   "source": [
    "The openmmtools system is (almost) independent of the integrator and `openmm` provides us with lots of options. For now we pick something simple."
   ]
  },
  {
   "cell_type": "code",
   "execution_count": 6,
   "metadata": {
    "collapsed": true
   },
   "outputs": [],
   "source": [
    "integrator = omm.VerletIntegrator(\n",
    "    0.002 * u.picoseconds    \n",
    ")"
   ]
  },
  {
   "cell_type": "markdown",
   "metadata": {},
   "source": [
    "build the engine"
   ]
  },
  {
   "cell_type": "code",
   "execution_count": 7,
   "metadata": {
    "collapsed": false
   },
   "outputs": [],
   "source": [
    "engine = eng.Engine(template, system, integrator, options={'platform': 'CPU'})"
   ]
  },
  {
   "cell_type": "markdown",
   "metadata": {},
   "source": [
    "Let's run a simulation of 10 steps."
   ]
  },
  {
   "cell_type": "code",
   "execution_count": 8,
   "metadata": {
    "collapsed": false
   },
   "outputs": [],
   "source": [
    "traj = engine.generate(engine.template, [paths.LengthEnsemble(10).can_append])"
   ]
  },
  {
   "cell_type": "code",
   "execution_count": 9,
   "metadata": {
    "collapsed": false
   },
   "outputs": [
    {
     "name": "stdout",
     "output_type": "stream",
     "text": [
      "Trajectory[10]\n"
     ]
    }
   ],
   "source": [
    "print traj"
   ]
  },
  {
   "cell_type": "code",
   "execution_count": 10,
   "metadata": {
    "collapsed": false
   },
   "outputs": [
    {
     "name": "stdout",
     "output_type": "stream",
     "text": [
      "[[ 0.18766736  0.11599679  0.01245004]\n",
      " [ 0.19458341  0.22444927  0.00401414]\n",
      " [ 0.1443672   0.27122689  0.08869714]\n",
      " [ 0.14886747  0.25747473 -0.08926164]\n",
      " [ 0.33994537  0.26638274  0.00609843]\n",
      " [ 0.42709578  0.1897011   0.04380051]\n",
      " [ 0.36886493  0.38998331 -0.03181561]\n",
      " [ 0.293367    0.452431   -0.05633815]\n",
      " [ 0.49859312  0.4565761  -0.02400124]\n",
      " [ 0.5581438   0.41515287  0.0573552 ]\n",
      " [ 0.5732535   0.43391328 -0.15561179]\n",
      " [ 0.5191127   0.48312774 -0.23640657]\n",
      " [ 0.67427683  0.47320502 -0.14414124]\n",
      " [ 0.58423055  0.32728151 -0.17536463]\n",
      " [ 0.4749522   0.60669039 -0.00127668]\n",
      " [ 0.359584    0.64924202  0.00474684]\n",
      " [ 0.5835927   0.68379167  0.00902624]\n",
      " [ 0.6747424   0.64066121  0.00332412]\n",
      " [ 0.57127444  0.82897221  0.01853087]\n",
      " [ 0.46718868  0.86095438  0.02347778]\n",
      " [ 0.62214258  0.86301533  0.10872177]\n",
      " [ 0.61715852  0.87434251 -0.06931573]] nm\n"
     ]
    }
   ],
   "source": [
    "#! skip\n",
    "print traj[5].coordinates"
   ]
  },
  {
   "cell_type": "code",
   "execution_count": 11,
   "metadata": {
    "collapsed": true
   },
   "outputs": [],
   "source": [
    "psi = md.compute_psi(traj.md())"
   ]
  },
  {
   "cell_type": "code",
   "execution_count": 12,
   "metadata": {
    "collapsed": false
   },
   "outputs": [
    {
     "data": {
      "text/plain": [
       "array([[ 3.10614538],\n",
       "       [-3.09586287],\n",
       "       [ 3.13675523],\n",
       "       [ 3.12832713],\n",
       "       [ 3.09317875]], dtype=float32)"
      ]
     },
     "execution_count": 12,
     "metadata": {},
     "output_type": "execute_result"
    }
   ],
   "source": [
    "#! ignore\n",
    "psi[1][3:8]"
   ]
  },
  {
   "cell_type": "code",
   "execution_count": 13,
   "metadata": {
    "collapsed": false
   },
   "outputs": [],
   "source": [
    "st = paths.Storage('engine_store_test.nc', mode='w', template=template)"
   ]
  },
  {
   "cell_type": "code",
   "execution_count": 14,
   "metadata": {
    "collapsed": false
   },
   "outputs": [],
   "source": [
    "st.engines.save(engine);"
   ]
  },
  {
   "cell_type": "markdown",
   "metadata": {},
   "source": [
    "The engine is stored by using the XML serialization of OpenMM and put this into the storage."
   ]
  },
  {
   "cell_type": "code",
   "execution_count": 15,
   "metadata": {
    "collapsed": false
   },
   "outputs": [
    {
     "data": {
      "text/plain": [
       "u'{\"_cls\": \"OpenMMEngine\", \"_dict\": {\"integrator_xml\": \"<?xml version=\\\\\"1.0\\\\\" ?>\\\\n<Integrator constraintTolerance=\\\\\"1e-05\\\\\" stepSize=\\\\\".002\\\\\" type=\\\\\"VerletIntegrator\\\\\" version=\\\\\"1\\\\\"/>\\\\n\", \"options\": {\"timestep\": null, \"n_frames_max\": 5000, \"platform\": \"CPU\",...'"
      ]
     },
     "execution_count": 15,
     "metadata": {},
     "output_type": "execute_result"
    }
   ],
   "source": [
    "#! skip\n",
    "st.variables['engines_json'][0][0:256] + '...'"
   ]
  },
  {
   "cell_type": "code",
   "execution_count": 16,
   "metadata": {
    "collapsed": true
   },
   "outputs": [],
   "source": [
    "st.close()"
   ]
  },
  {
   "cell_type": "markdown",
   "metadata": {},
   "source": [
    "### try to load the stored engine"
   ]
  },
  {
   "cell_type": "code",
   "execution_count": 17,
   "metadata": {
    "collapsed": false
   },
   "outputs": [],
   "source": [
    "st = paths.AnalysisStorage('engine_store_test.nc')"
   ]
  },
  {
   "cell_type": "code",
   "execution_count": 18,
   "metadata": {
    "collapsed": true
   },
   "outputs": [],
   "source": [
    "engine = st.engines[0]"
   ]
  },
  {
   "cell_type": "markdown",
   "metadata": {},
   "source": [
    "Run another 10 steps to test"
   ]
  },
  {
   "cell_type": "code",
   "execution_count": 19,
   "metadata": {
    "collapsed": true
   },
   "outputs": [],
   "source": [
    "traj = engine.generate(engine.template, [paths.LengthEnsemble(10).can_append])"
   ]
  },
  {
   "cell_type": "code",
   "execution_count": 20,
   "metadata": {
    "collapsed": false
   },
   "outputs": [
    {
     "name": "stdout",
     "output_type": "stream",
     "text": [
      "Trajectory[10]\n"
     ]
    }
   ],
   "source": [
    "print traj"
   ]
  },
  {
   "cell_type": "code",
   "execution_count": 21,
   "metadata": {
    "collapsed": true
   },
   "outputs": [],
   "source": [
    "st.close()"
   ]
  },
  {
   "cell_type": "code",
   "execution_count": null,
   "metadata": {
    "collapsed": true
   },
   "outputs": [],
   "source": []
  }
 ],
 "metadata": {
  "kernelspec": {
   "display_name": "Python 2",
   "language": "python",
   "name": "python2"
  },
  "language_info": {
   "codemirror_mode": {
    "name": "ipython",
    "version": 2
   },
   "file_extension": ".py",
   "mimetype": "text/x-python",
   "name": "python",
   "nbconvert_exporter": "python",
   "pygments_lexer": "ipython2",
   "version": "2.7.11"
  }
 },
 "nbformat": 4,
 "nbformat_minor": 0
}
