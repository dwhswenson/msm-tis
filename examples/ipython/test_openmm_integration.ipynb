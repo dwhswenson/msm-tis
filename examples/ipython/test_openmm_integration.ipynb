{
 "cells": [
  {
   "cell_type": "markdown",
   "metadata": {},
   "source": [
    "## OpenMMTools Integration"
   ]
  },
  {
   "cell_type": "markdown",
   "metadata": {},
   "source": [
    "This enables OPS to use any testsystem from openmmtools to be used as well as add ANY possible OpenMM setup, not just the ones that we provided before. The old OpenMMEngine has been rename intp `SimpleOpenMMEngine`"
   ]
  },
  {
   "cell_type": "code",
   "execution_count": 1,
   "metadata": {
    "collapsed": false
   },
   "outputs": [],
   "source": [
    "import openpathsampling as paths\n",
    "from openpathsampling.storage import Storage, AnalysisStorage\n",
    "import openmmtools as omt\n",
    "import simtk.openmm as omm\n",
    "import simtk.unit as u\n",
    "import mdtraj as md"
   ]
  },
  {
   "cell_type": "markdown",
   "metadata": {},
   "source": [
    "Create Alanine in Vacuum and run it using OPS."
   ]
  },
  {
   "cell_type": "code",
   "execution_count": 2,
   "metadata": {
    "collapsed": true
   },
   "outputs": [],
   "source": [
    "testsystem = omt.testsystems.AlanineDipeptideVacuum()"
   ]
  },
  {
   "cell_type": "markdown",
   "metadata": {},
   "source": [
    "Let's have a look at the content"
   ]
  },
  {
   "cell_type": "code",
   "execution_count": 3,
   "metadata": {
    "collapsed": false
   },
   "outputs": [
    {
     "data": {
      "text/plain": [
       "{'_positions': simtk.unit.quantity.Quantity,\n",
       " '_system': simtk.openmm.openmm.System,\n",
       " '_topology': simtk.openmm.app.topology.Topology}"
      ]
     },
     "execution_count": 3,
     "metadata": {},
     "output_type": "execute_result"
    }
   ],
   "source": [
    "#! skip\n",
    "{ key: type(value) for key, value in testsystem.__dict__.items()}"
   ]
  },
  {
   "cell_type": "markdown",
   "metadata": {},
   "source": [
    "An `OpenMM` simulation in OPS needs 3 ingredients to function\n",
    "1. A template snapshot (which contains topolgy and coordinates/velocities), \n",
    "2. an OpenMM system object, and \n",
    "3. an OpenMM integrator object.\n",
    "\n",
    "In the following we will get these parts."
   ]
  },
  {
   "cell_type": "markdown",
   "metadata": {},
   "source": [
    "#### 1. The template"
   ]
  },
  {
   "cell_type": "markdown",
   "metadata": {},
   "source": [
    "The information for the template is contained in the `_topology` and the `_positions` object."
   ]
  },
  {
   "cell_type": "code",
   "execution_count": 4,
   "metadata": {
    "collapsed": true
   },
   "outputs": [],
   "source": [
    "template = paths.tools.snapshot_from_testsystem(testsystem)"
   ]
  },
  {
   "cell_type": "markdown",
   "metadata": {},
   "source": [
    "#### 2. The system"
   ]
  },
  {
   "cell_type": "markdown",
   "metadata": {},
   "source": [
    "This is easy since we directly get it from the testsytem objects"
   ]
  },
  {
   "cell_type": "code",
   "execution_count": 5,
   "metadata": {
    "collapsed": true
   },
   "outputs": [],
   "source": [
    "system = testsystem.system"
   ]
  },
  {
   "cell_type": "markdown",
   "metadata": {},
   "source": [
    "#### 3. The integrator"
   ]
  },
  {
   "cell_type": "markdown",
   "metadata": {},
   "source": [
    "The openmmtools system is (almost) independent of the integrator and `openmm` provides us with lots of options. For now we pick something simple."
   ]
  },
  {
   "cell_type": "code",
   "execution_count": 6,
   "metadata": {
    "collapsed": true
   },
   "outputs": [],
   "source": [
    "integrator = omm.VerletIntegrator(\n",
    "    0.002 * u.picoseconds    \n",
    ")"
   ]
  },
  {
   "cell_type": "markdown",
   "metadata": {},
   "source": [
    "build the engine"
   ]
  },
  {
   "cell_type": "code",
   "execution_count": 7,
   "metadata": {
    "collapsed": true
   },
   "outputs": [],
   "source": [
    "engine = paths.OpenMMEngine(template, system, integrator)"
   ]
  },
  {
   "cell_type": "markdown",
   "metadata": {},
   "source": [
    "Let's run a simulation of 1000 steps."
   ]
  },
  {
   "cell_type": "code",
   "execution_count": 8,
   "metadata": {
    "collapsed": true
   },
   "outputs": [],
   "source": [
    "traj = engine.generate(engine.template, [paths.LengthEnsemble(1000).can_append])"
   ]
  },
  {
   "cell_type": "code",
   "execution_count": 9,
   "metadata": {
    "collapsed": false
   },
   "outputs": [
    {
     "name": "stdout",
     "output_type": "stream",
     "text": [
      "Trajectory[1000]\n"
     ]
    }
   ],
   "source": [
    "print traj"
   ]
  },
  {
   "cell_type": "code",
   "execution_count": 10,
   "metadata": {
    "collapsed": false
   },
   "outputs": [
    {
     "name": "stdout",
     "output_type": "stream",
     "text": [
      "[[ 0.12540653  0.28724945 -0.03791606]\n",
      " [ 0.19224785  0.21338831  0.00633061]\n",
      " [ 0.18307354  0.11970618 -0.04862791]\n",
      " [ 0.16753408  0.19555856  0.11098398]\n",
      " [ 0.33617839  0.26580858  0.00217126]\n",
      " [ 0.42706954  0.18777709  0.02430194]\n",
      " [ 0.36259776  0.3934491  -0.02740861]\n",
      " [ 0.28340924  0.45516092 -0.03844646]\n",
      " [ 0.49518085  0.45895573 -0.02352729]\n",
      " [ 0.54674739  0.42150235  0.06489863]\n",
      " [ 0.58240449  0.42757654 -0.14769138]\n",
      " [ 0.53525186  0.4694545  -0.2365952 ]\n",
      " [ 0.68233162  0.46976769 -0.13694504]\n",
      " [ 0.59507066  0.3198933  -0.15887028]\n",
      " [ 0.47329748  0.60975987 -0.00266679]\n",
      " [ 0.35901344  0.65167755  0.01499871]\n",
      " [ 0.58086395  0.68973106 -0.00448704]\n",
      " [ 0.67041749  0.6476422  -0.02473027]\n",
      " [ 0.5810535   0.83291805  0.02910487]\n",
      " [ 0.51109415  0.85531294  0.10963555]\n",
      " [ 0.67947435  0.86626923  0.06199897]\n",
      " [ 0.55347472  0.89072293 -0.05909439]] nm\n"
     ]
    }
   ],
   "source": [
    "#! skip\n",
    "print traj[100].coordinates"
   ]
  },
  {
   "cell_type": "code",
   "execution_count": 11,
   "metadata": {
    "collapsed": true
   },
   "outputs": [],
   "source": [
    "psi = md.compute_psi(traj.md())"
   ]
  },
  {
   "cell_type": "code",
   "execution_count": 12,
   "metadata": {
    "collapsed": false
   },
   "outputs": [
    {
     "data": {
      "text/plain": [
       "array([[ 3.14159131],\n",
       "       [-3.12126136],\n",
       "       [ 3.1028285 ],\n",
       "       [ 3.10614586],\n",
       "       [-3.09586358],\n",
       "       [ 3.13675618],\n",
       "       [ 3.12832665],\n",
       "       [ 3.09317851],\n",
       "       [ 3.08085537],\n",
       "       [ 3.04846501]], dtype=float32)"
      ]
     },
     "execution_count": 12,
     "metadata": {},
     "output_type": "execute_result"
    }
   ],
   "source": [
    "#! ignore\n",
    "psi[1][0:10]"
   ]
  },
  {
   "cell_type": "code",
   "execution_count": 13,
   "metadata": {
    "collapsed": false
   },
   "outputs": [],
   "source": [
    "st = Storage('engine_store_test.nc', mode='w', template=template)"
   ]
  },
  {
   "cell_type": "code",
   "execution_count": 14,
   "metadata": {
    "collapsed": false
   },
   "outputs": [],
   "source": [
    "st.engines.save(engine);"
   ]
  },
  {
   "cell_type": "markdown",
   "metadata": {},
   "source": [
    "The engine is stored by using the XML serialization of OpenMM and put this into the storage."
   ]
  },
  {
   "cell_type": "code",
   "execution_count": 15,
   "metadata": {
    "collapsed": false
   },
   "outputs": [
    {
     "data": {
      "text/plain": [
       "u'{\"_cls\": \"OpenMMEngine\", \"_dict\": {\"integrator_xml\": \"<?xml version=\\\\\"1.0\\\\\" ?>\\\\n<Integrator constraintTolerance=\\\\\"1e-05\\\\\" stepSize=\\\\\".002\\\\\" type=\\\\\"VerletIntegrator\\\\\" version=\\\\\"1\\\\\"/>\\\\n\", \"options\": {\"timestep\": null, \"n_frames_max\": 5000, \"platform\": \"OpenC...'"
      ]
     },
     "execution_count": 15,
     "metadata": {},
     "output_type": "execute_result"
    }
   ],
   "source": [
    "#! skip\n",
    "st.variables['engines_json'][0][0:256] + '...'"
   ]
  },
  {
   "cell_type": "code",
   "execution_count": 16,
   "metadata": {
    "collapsed": true
   },
   "outputs": [],
   "source": [
    "st.close()"
   ]
  },
  {
   "cell_type": "markdown",
   "metadata": {},
   "source": [
    "### try to load the stored engine"
   ]
  },
  {
   "cell_type": "code",
   "execution_count": 17,
   "metadata": {
    "collapsed": false
   },
   "outputs": [],
   "source": [
    "st = AnalysisStorage('engine_store_test.nc')"
   ]
  },
  {
   "cell_type": "code",
   "execution_count": 18,
   "metadata": {
    "collapsed": true
   },
   "outputs": [],
   "source": [
    "engine = st.engines[0]"
   ]
  },
  {
   "cell_type": "markdown",
   "metadata": {},
   "source": [
    "Run another 1000 steps to test"
   ]
  },
  {
   "cell_type": "code",
   "execution_count": 19,
   "metadata": {
    "collapsed": true
   },
   "outputs": [],
   "source": [
    "traj = engine.generate(engine.template, [paths.LengthEnsemble(1000).can_append])"
   ]
  },
  {
   "cell_type": "code",
   "execution_count": 20,
   "metadata": {
    "collapsed": false
   },
   "outputs": [
    {
     "name": "stdout",
     "output_type": "stream",
     "text": [
      "Trajectory[1000]\n"
     ]
    }
   ],
   "source": [
    "print traj"
   ]
  }
 ],
 "metadata": {
  "kernelspec": {
   "display_name": "Python 2",
   "language": "python",
   "name": "python2"
  },
  "language_info": {
   "codemirror_mode": {
    "name": "ipython",
    "version": 2
   },
   "file_extension": ".py",
   "mimetype": "text/x-python",
   "name": "python",
   "nbconvert_exporter": "python",
   "pygments_lexer": "ipython2",
   "version": "2.7.10"
  }
 },
 "nbformat": 4,
 "nbformat_minor": 0
}
