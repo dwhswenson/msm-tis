{
 "cells": [
  {
   "cell_type": "code",
   "execution_count": 1,
   "metadata": {
    "collapsed": true
   },
   "outputs": [],
   "source": [
    "import openpathsampling as paths"
   ]
  },
  {
   "cell_type": "code",
   "execution_count": 2,
   "metadata": {
    "collapsed": true
   },
   "outputs": [],
   "source": [
    "# always the most complicated bit\n",
    "import openpathsampling.engines.toy as toys\n",
    "import numpy as np\n",
    "\n",
    "pes = (toys.OuterWalls([1.0,1.0], [0.0,0.0]) + \n",
    "       toys.Gaussian(-0.7, [12.0, 0.5], [-0.5, 0.0]) +\n",
    "       toys.Gaussian(-0.7, [12.0, 0.5], [0.5, 0.0]))\n",
    "topology = toys.Topology(n_spatial=2, masses=[1.0, 1.0], pes=pes)\n",
    "template = toys.Snapshot(coordinates=np.array([[0.0, 0.0]]),\n",
    "                         velocities=np.array([[0.0, 0.0]]),\n",
    "                         topology=topology)\n",
    "engine = toys.Engine(options={'integ': toys.LangevinBAOABIntegrator(dt=0.02, temperature=0.1, gamma=2.5),\n",
    "                              'n_frames_max': 5000,\n",
    "                              'nsteps_per_frame': 10},\n",
    "                     template=template)"
   ]
  },
  {
   "cell_type": "code",
   "execution_count": 3,
   "metadata": {
    "collapsed": false
   },
   "outputs": [],
   "source": [
    "# states are volumes in a CV space: define the CV\n",
    "def xval(snapshot):\n",
    "    return snapshot.xyz[0][0]\n",
    "\n",
    "cv = paths.CV_Function(\"xval\", xval)"
   ]
  },
  {
   "cell_type": "code",
   "execution_count": 4,
   "metadata": {
    "collapsed": true
   },
   "outputs": [],
   "source": [
    "stateA = paths.CVRangeVolume(cv, float(\"-inf\"), -0.2).named(\"A\")\n",
    "stateB = paths.CVRangeVolume(cv, 0.2, float(\"inf\")).named(\"B\")"
   ]
  },
  {
   "cell_type": "code",
   "execution_count": 5,
   "metadata": {
    "collapsed": false
   },
   "outputs": [],
   "source": [
    "network = paths.FixedLengthTPSNetwork(stateA, stateB, length=5000)"
   ]
  },
  {
   "cell_type": "code",
   "execution_count": 6,
   "metadata": {
    "collapsed": true
   },
   "outputs": [],
   "source": [
    "scheme = paths.OneWayShootingMoveScheme(network, engine=engine)"
   ]
  },
  {
   "cell_type": "code",
   "execution_count": 7,
   "metadata": {
    "collapsed": false
   },
   "outputs": [],
   "source": [
    "# I'll fake an initial trajectory\n",
    "delta = 2.0 / 5000\n",
    "minimum = -1.0 - delta\n",
    "trajectory = paths.Trajectory([\n",
    "    toys.Snapshot(coordinates=np.array([[minimum+k*delta, 0.0]]),\n",
    "                  velocities=np.array([[0.1, 0.0]]),\n",
    "                  topology=topology)\n",
    "    for k in range(5000)\n",
    "])"
   ]
  },
  {
   "cell_type": "code",
   "execution_count": 8,
   "metadata": {
    "collapsed": true
   },
   "outputs": [],
   "source": [
    "initial_conditions = paths.SampleSet.map_trajectory_to_ensembles(trajectory, network.sampling_ensembles)"
   ]
  },
  {
   "cell_type": "code",
   "execution_count": 10,
   "metadata": {
    "collapsed": true
   },
   "outputs": [],
   "source": [
    "storage = paths.Storage(\"simple_fixedlen.nc\", \"w\", template=template)\n",
    "simulation = paths.PathSampling(storage, scheme, initial_conditions)"
   ]
  },
  {
   "cell_type": "code",
   "execution_count": 11,
   "metadata": {
    "collapsed": false
   },
   "outputs": [
    {
     "name": "stdout",
     "output_type": "stream",
     "text": [
      "Working on Monte Carlo cycle number 200.\n",
      "\n",
      "DONE! Completed 200 Monte Carlo cycles.\n",
      "\n"
     ]
    }
   ],
   "source": [
    "simulation.run(200)"
   ]
  },
  {
   "cell_type": "code",
   "execution_count": null,
   "metadata": {
    "collapsed": true
   },
   "outputs": [],
   "source": []
  }
 ],
 "metadata": {
  "kernelspec": {
   "display_name": "Python 2",
   "language": "python",
   "name": "python2"
  },
  "language_info": {
   "codemirror_mode": {
    "name": "ipython",
    "version": 2
   },
   "file_extension": ".py",
   "mimetype": "text/x-python",
   "name": "python",
   "nbconvert_exporter": "python",
   "pygments_lexer": "ipython2",
   "version": "2.7.11"
  }
 },
 "nbformat": 4,
 "nbformat_minor": 0
}
