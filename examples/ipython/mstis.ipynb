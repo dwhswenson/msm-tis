{
 "cells": [
  {
   "cell_type": "markdown",
   "metadata": {},
   "source": [
    "## Running an MSTIS simulation\n",
    "\n",
    "Now we will use the initial trajectories we obtained from bootstrapping to run an MSTIS simulation. This will show both how objects can be regenerated from storage and how regenerated equivalent objects can be used in place of objects that weren't stored."
   ]
  },
  {
   "cell_type": "code",
   "execution_count": null,
   "metadata": {
    "collapsed": false
   },
   "outputs": [],
   "source": [
    "%matplotlib inline\n",
    "import openpathsampling as paths\n",
    "import numpy as np"
   ]
  },
  {
   "cell_type": "markdown",
   "metadata": {},
   "source": [
    "### Loading things from storage\n",
    "\n",
    "First we'll reload some of the stuff we stored before. Of course, this starts with opening the file."
   ]
  },
  {
   "cell_type": "code",
   "execution_count": null,
   "metadata": {
    "collapsed": false
   },
   "outputs": [],
   "source": [
    "old_store = paths.storage.Storage(\"mstis_bootstrap.nc\", \"r\")"
   ]
  },
  {
   "cell_type": "markdown",
   "metadata": {},
   "source": [
    "A lot of information can be recovered from the old storage, and so we don't have the recreate it. However, we did not save our network, so we'll have to create a new one. Since the network creates the ensembles, that means we will have to translate the trajectories from the old ensembles to new ensembles."
   ]
  },
  {
   "cell_type": "code",
   "execution_count": null,
   "metadata": {
    "collapsed": false
   },
   "outputs": [],
   "source": [
    "print \"PathMovers:\", len(old_store.pathmovers)\n",
    "print \"Samples:\", len(old_store.samples)\n",
    "print \"Ensembles:\", len(old_store.ensembles)\n",
    "print \"SampleSets:\", len(old_store.samplesets)\n",
    "print \"Snapshots:\", len(old_store.snapshots)\n",
    "print \"Networks:\", len(old_store.networks)"
   ]
  },
  {
   "cell_type": "markdown",
   "metadata": {},
   "source": [
    "Loading from storage is very easy. Each store is a list. We take the 0th snapshot as a template (it doesn't actually matter which one) for the next storage we'll create. There's only one engine stored, so we take the only one."
   ]
  },
  {
   "cell_type": "code",
   "execution_count": null,
   "metadata": {
    "collapsed": true
   },
   "outputs": [],
   "source": [
    "template = old_store.snapshots[0]"
   ]
  },
  {
   "cell_type": "code",
   "execution_count": null,
   "metadata": {
    "collapsed": false
   },
   "outputs": [],
   "source": [
    "engine = old_store.engines[0]\n",
    "engine.initialized = True"
   ]
  },
  {
   "cell_type": "code",
   "execution_count": null,
   "metadata": {
    "collapsed": false
   },
   "outputs": [],
   "source": [
    "# TODO: current loading won't work unless I populate cache first (these lines do it)\n",
    "# Does the new storage fix that?\n",
    "print [cv.name for cv in old_store.collectivevariables]\n",
    "print [vol.name for vol in old_store.volumes]"
   ]
  },
  {
   "cell_type": "markdown",
   "metadata": {},
   "source": [
    "Named objects can be found in storage using the `find` function. This allows us to load our old collective variables and states."
   ]
  },
  {
   "cell_type": "code",
   "execution_count": null,
   "metadata": {
    "collapsed": false
   },
   "outputs": [],
   "source": [
    "opA = old_store.collectivevariables.find('opA')[0]\n",
    "opB = old_store.collectivevariables.find('opB')[0]\n",
    "opC = old_store.collectivevariables.find('opC')[0]"
   ]
  },
  {
   "cell_type": "code",
   "execution_count": null,
   "metadata": {
    "collapsed": false
   },
   "outputs": [],
   "source": [
    "stateA = old_store.volumes.find('A')[0]\n",
    "stateB = old_store.volumes.find('B')[0]\n",
    "stateC = old_store.volumes.find('C')[0]"
   ]
  },
  {
   "cell_type": "code",
   "execution_count": null,
   "metadata": {
    "collapsed": true
   },
   "outputs": [],
   "source": [
    "# we could also load the interfaces, but it takes less code to build new ones:\n",
    "interfacesA = paths.VolumeFactory.CVRangeVolumeSet(opA, 0.0,[0.2**2, 0.3**2, 0.4**2, 0.5**2])\n",
    "interfacesB = paths.VolumeFactory.CVRangeVolumeSet(opB, 0.0,[0.2**2, 0.3**2, 0.4**2, 0.5**2])\n",
    "interfacesC = paths.VolumeFactory.CVRangeVolumeSet(opC, 0.0,[0.2**2, 0.3**2, 0.4**2, 0.5**2])"
   ]
  },
  {
   "cell_type": "markdown",
   "metadata": {},
   "source": [
    "Once again, we have everything we need to build the MSTIS network. Recall that this will create all the ensembles we need for the simulation. However, even though the ensembles are semantically the same, these are not the same objects. We'll need to deal with that later."
   ]
  },
  {
   "cell_type": "code",
   "execution_count": null,
   "metadata": {
    "collapsed": false
   },
   "outputs": [],
   "source": [
    "mstis = paths.MSTISNetwork([\n",
    "    (stateA, interfacesA, \"A\", opA),\n",
    "    (stateB, interfacesB, \"B\", opB),\n",
    "    (stateC, interfacesC, \"C\", opC)\n",
    "])"
   ]
  },
  {
   "cell_type": "markdown",
   "metadata": {
    "collapsed": true
   },
   "source": [
    "Now we need to set up real trajectories that we can use for each of these. We can start by loading the stored sample set."
   ]
  },
  {
   "cell_type": "code",
   "execution_count": null,
   "metadata": {
    "collapsed": false
   },
   "outputs": [],
   "source": [
    "# load the sample set we have saved before\n",
    "old_sampleset = old_store.samplesets[0]"
   ]
  },
  {
   "cell_type": "markdown",
   "metadata": {},
   "source": [
    "**explain a sample**"
   ]
  },
  {
   "cell_type": "markdown",
   "metadata": {},
   "source": [
    "Since the ensembles in our MSTIS network are not the exact ensemble objects that we saved our samples with, we still need a way to identify which of the new ensembles to associate them with.\n",
    "\n",
    "There are two main ways to do this. The first is to take one trajectory, and associate it with as many ensembles as possible. If your first path comes from a TPS simulation, that is the approach you'll want to take.\n",
    "\n",
    "The second approach is better suited to our conditions here: we already have a good trajectory for each ensemble. So we just want to remap our old ensembles to new ones."
   ]
  },
  {
   "cell_type": "markdown",
   "metadata": {},
   "source": [
    "### Loading one trajectory into lots of ensembles"
   ]
  },
  {
   "cell_type": "code",
   "execution_count": null,
   "metadata": {
    "collapsed": true
   },
   "outputs": [],
   "source": [
    "# this makes a dictionary mapping the outermost ensemble of each sampling transition \n",
    "# to a trajectory from the old_sampleset that satisfies that ensemble\n",
    "trajs = {}\n",
    "for ens in [t.ensembles[-1] for t in mstis.sampling_transitions]:\n",
    "    trajs[ens] = [s.trajectory for s in old_sampleset if ens(s.trajectory)==True][0]\n",
    "    \n",
    "assert(len(trajs)==3) # otherwise, we have a problem"
   ]
  },
  {
   "cell_type": "code",
   "execution_count": null,
   "metadata": {
    "collapsed": false
   },
   "outputs": [],
   "source": [
    "initial_samples = {}\n",
    "for t in mstis.sampling_transitions:\n",
    "    initial_samples[t] = paths.SampleSet.map_trajectory_to_ensembles(trajs[t.ensembles[-1]], t.ensembles)"
   ]
  },
  {
   "cell_type": "code",
   "execution_count": null,
   "metadata": {
    "collapsed": false
   },
   "outputs": [],
   "source": [
    "for s in initial_samples.values()[0]:\n",
    "    print s"
   ]
  },
  {
   "cell_type": "code",
   "execution_count": null,
   "metadata": {
    "collapsed": false
   },
   "outputs": [],
   "source": [
    "sset = paths.SampleSet.relabel_replicas_per_ensemble(initial_samples.values())"
   ]
  },
  {
   "cell_type": "code",
   "execution_count": null,
   "metadata": {
    "collapsed": false
   },
   "outputs": [],
   "source": [
    "sset.sanity_check()\n",
    "assert(len(sset)==9)"
   ]
  },
  {
   "cell_type": "markdown",
   "metadata": {},
   "source": [
    "### Remapping old ensembles to new ensembles\n",
    "\n",
    "If your old and new ensembles have the same string representations, then OPS has a function to help you automatically map them. As long as you create the ensembles in the same way, they'll have the same string representation. Note that if you *don't* have the same string representation, you would have to assign trajectories to ensembles by hand (which isn't that hard, but is a bit tedious)."
   ]
  },
  {
   "cell_type": "code",
   "execution_count": null,
   "metadata": {
    "collapsed": false
   },
   "outputs": [],
   "source": [
    "# TODO: shouldn't the network have this as a property?\n",
    "sampling_ensembles = []\n",
    "for t in mstis.sampling_transitions:\n",
    "    sampling_ensembles.extend(t.ensembles)"
   ]
  },
  {
   "cell_type": "code",
   "execution_count": null,
   "metadata": {
    "collapsed": false
   },
   "outputs": [],
   "source": [
    "sset = paths.SampleSet.translate_ensembles(old_sampleset, sampling_ensembles)"
   ]
  },
  {
   "cell_type": "code",
   "execution_count": null,
   "metadata": {
    "collapsed": false
   },
   "outputs": [],
   "source": [
    "sset.sanity_check()\n",
    "assert(len(sset)==9)"
   ]
  },
  {
   "cell_type": "markdown",
   "metadata": {},
   "source": [
    "### Setting up special ensembles\n",
    "\n",
    "Whichever way we initially set up the `SampleSet`, at this point it only contains samples for the main sampling trajectories of each transition. Now we need to put trajectories into various auxiliary ensembles."
   ]
  },
  {
   "cell_type": "markdown",
   "metadata": {},
   "source": [
    "#### Multiple state outer ensemble\n",
    "\n",
    "The multiple state outer ensemble is, in fact, sampled during the bootstrapping. However, it is actually sampled once for every state that shares it. It is very easy to find a trajectory that satisfies the ensemble and to load add that sample to our sample set."
   ]
  },
  {
   "cell_type": "code",
   "execution_count": null,
   "metadata": {
    "collapsed": false
   },
   "outputs": [],
   "source": [
    "outer_samples = []\n",
    "for outer_ens in mstis.special_ensembles['ms_outer']:\n",
    "    allowed_trajs = [s.trajectory for s in old_sampleset if outer_ens(s.trajectory)==True]\n",
    "    # doesn't matter which we take, so we take the first\n",
    "    traj = allowed_trajs[0] # will raise IndexError if none allowed; indicates problem in bootstrapping\n",
    "    outer_samples.append(paths.Sample(\n",
    "            replica=len(outer_samples),\n",
    "            ensemble=outer_ens,\n",
    "            trajectory=traj\n",
    "    ))"
   ]
  },
  {
   "cell_type": "code",
   "execution_count": null,
   "metadata": {
    "collapsed": false
   },
   "outputs": [],
   "source": [
    "sset = paths.SampleSet.relabel_replicas_per_ensemble([sset.samples, outer_samples])\n",
    "# TODO: this should be sset.append_new(outer_samples) -- which puts an unused replica ID on each new sample"
   ]
  },
  {
   "cell_type": "code",
   "execution_count": null,
   "metadata": {
    "collapsed": false
   },
   "outputs": [],
   "source": [
    "sset.sanity_check()\n",
    "assert(len(sset)==10)"
   ]
  },
  {
   "cell_type": "markdown",
   "metadata": {},
   "source": [
    "#### Minus interface ensemble\n",
    "\n",
    "The minus interface ensembles do not yet have a trajectory. We will generate them by starting with same-state trajectories (A-to-A, B-to-B, C-to-C) in each interface, and extending into the minus ensemble.\n",
    "\n",
    "* check whether the traj is A-to-A\n",
    "* extend"
   ]
  },
  {
   "cell_type": "markdown",
   "metadata": {},
   "source": [
    "First we need to make sure that the trajectory in the innermost ensemble of each state also ends in that state. This is necessary so that when we extend the trajectory, it can extends into the minus ensemble.\n",
    "\n",
    "If the trajectory isn't right, we run a shooting move on it until it is."
   ]
  },
  {
   "cell_type": "code",
   "execution_count": null,
   "metadata": {
    "collapsed": false
   },
   "outputs": [],
   "source": [
    "for transition in mstis.sampling_transitions:\n",
    "    innermost_ensemble = transition.ensembles[0]\n",
    "    shooter = None\n",
    "    if not transition.stateA(sset[innermost_ensemble].trajectory[-1]):\n",
    "        shooter = paths.OneWayShootingMover(ensemble=innermost_ensemble,\n",
    "                                            selector=paths.UniformSelector())\n",
    "        pseudosim = paths.PathSampling(storage=None, \n",
    "                                       move_scheme=shooter, \n",
    "                                       globalstate=sset,\n",
    "                                       engine=engine\n",
    "                                      )\n",
    "    while not transition.stateA(sset[innermost_ensemble].trajectory[-1]):\n",
    "        pseudosim.run(1)\n",
    "        sset = pseudosim.globalstate\n",
    "\n",
    "    "
   ]
  },
  {
   "cell_type": "markdown",
   "metadata": {},
   "source": [
    "Now that all the innermost ensembles are safe to use for extending into a minus interface, we extend them into a minus interface:"
   ]
  },
  {
   "cell_type": "code",
   "execution_count": null,
   "metadata": {
    "collapsed": false
   },
   "outputs": [],
   "source": [
    "minus_samples = []\n",
    "for transition in mstis.sampling_transitions:\n",
    "    minus_samples.append(transition.minus_ensemble.populate_minus_ensemble(\n",
    "        partial_traj=sset[transition.ensembles[0]].trajectory,\n",
    "        minus_replica_id=-len(minus_samples)-1,\n",
    "        engine=engine\n",
    "    ))\n",
    "sset = sset.apply_samples(minus_samples)"
   ]
  },
  {
   "cell_type": "code",
   "execution_count": null,
   "metadata": {
    "collapsed": false
   },
   "outputs": [],
   "source": [
    "sset.sanity_check()\n",
    "assert(len(sset)==13)"
   ]
  },
  {
   "cell_type": "markdown",
   "metadata": {},
   "source": [
    "## Equilibration\n",
    "\n",
    "In molecular dynamics, you need to equilibrate if you don't start with an equilibrium frame (e.g., if you start with solvent molecules on a grid, your system should equilibrate before you start taking statistics). Similarly, if you start with a set of paths which are far from the path ensemble equilibrium, you need to equilibrate. This could either be because your trajectories are not from the real dynamics (generated with metadynamics, high temperature, etc.) or because your trajectories are not representative of the path ensemble (e.g., if you put transition trajectories into all interfaces).\n",
    "\n",
    "As with MD, running equilibration can be the same process as running the total simulation. However, in path sampling, it doesn't have to be: we can equilibrate without replica exchange moves or path reversal moves, for example. In the example below, we create a `MoveScheme` that only includes shooting movers."
   ]
  },
  {
   "cell_type": "code",
   "execution_count": null,
   "metadata": {
    "collapsed": false
   },
   "outputs": [],
   "source": [
    "equil_scheme = paths.MoveScheme(mstis)\n",
    "import openpathsampling.analysis.move_strategy as strat\n",
    "equil_scheme.append([strat.OneWayShootingStrategy(), strat.OrganizeByMoveGroupStrategy()])"
   ]
  },
  {
   "cell_type": "code",
   "execution_count": null,
   "metadata": {
    "collapsed": false
   },
   "outputs": [],
   "source": [
    "equilibration = paths.PathSampling(\n",
    "    storage=None,\n",
    "    globalstate=sset,\n",
    "    engine=engine,\n",
    "    move_scheme=equil_scheme.move_decision_tree()\n",
    ")"
   ]
  },
  {
   "cell_type": "code",
   "execution_count": null,
   "metadata": {
    "collapsed": false
   },
   "outputs": [],
   "source": [
    "equilibration.run(5)"
   ]
  },
  {
   "cell_type": "code",
   "execution_count": null,
   "metadata": {
    "collapsed": true
   },
   "outputs": [],
   "source": [
    "sset = equilibration.globalstate"
   ]
  },
  {
   "cell_type": "markdown",
   "metadata": {},
   "source": [
    "## Running RETIS\n",
    "\n",
    "Now we run the full calculation. Up to here, we haven't been storing any of our results. This time, we'll start a storage object, and we'll save the network we've created. Then we'll run a new `PathSampling` calculation object."
   ]
  },
  {
   "cell_type": "code",
   "execution_count": null,
   "metadata": {
    "collapsed": true
   },
   "outputs": [],
   "source": [
    "# logging creates ops_output.log file with details of what the calculation is doing\n",
    "#import logging.config\n",
    "#logging.config.fileConfig(\"logging.conf\", disable_existing_loggers=False)"
   ]
  },
  {
   "cell_type": "code",
   "execution_count": null,
   "metadata": {
    "collapsed": false
   },
   "outputs": [],
   "source": [
    "storage = paths.storage.Storage(\"mstis.nc\", \"w\", template)"
   ]
  },
  {
   "cell_type": "code",
   "execution_count": null,
   "metadata": {
    "collapsed": true
   },
   "outputs": [],
   "source": [
    "scheme = paths.DefaultScheme(mstis)"
   ]
  },
  {
   "cell_type": "code",
   "execution_count": null,
   "metadata": {
    "collapsed": true
   },
   "outputs": [],
   "source": [
    "root = scheme.move_decision_tree()"
   ]
  },
  {
   "cell_type": "code",
   "execution_count": null,
   "metadata": {
    "collapsed": false
   },
   "outputs": [],
   "source": [
    "storage.save(mstis)\n",
    "storage.save(scheme)"
   ]
  },
  {
   "cell_type": "code",
   "execution_count": null,
   "metadata": {
    "collapsed": true
   },
   "outputs": [],
   "source": [
    "mstis_calc = paths.PathSampling(\n",
    "    storage=storage,\n",
    "    globalstate=sset,\n",
    "    engine=engine,\n",
    "    move_scheme=root\n",
    ")\n",
    "mstis_calc.save_frequency = 50"
   ]
  },
  {
   "cell_type": "markdown",
   "metadata": {},
   "source": [
    "The next block sets up a live visualization. This is optional, and only recommended if you're using OPS interactively (which would only be for very small systems). Some of the same tools can be used to play back the behavior after the fact if you want to see the behavior for more complicated systems. You can create a background (here we use the PES contours), and the visualization will plot the trajectories."
   ]
  },
  {
   "cell_type": "code",
   "execution_count": null,
   "metadata": {
    "collapsed": false
   },
   "outputs": [],
   "source": [
    "from toy_plot_helpers import ToyPlot\n",
    "xval = paths.CV_Function(\"xval\", lambda snap : snap.xyz[0][0])\n",
    "yval = paths.CV_Function(\"yval\", lambda snap : snap.xyz[0][1])\n",
    "mstis_calc.live_visualization = paths.LiveVisualization(mstis, xval, yval, [-1.0, 1.0], [-1.0, 1.0])\n",
    "background = ToyPlot()\n",
    "background.contour_range = np.arange(-1.5, 1.0, 0.1)\n",
    "background.add_pes(engine.pes)\n",
    "mstis_calc.live_visualization.background = background.plot()\n",
    "#mstis_calc.visualize_frequency = 25 # speeds things up, but isn't as pretty"
   ]
  },
  {
   "cell_type": "markdown",
   "metadata": {},
   "source": [
    "Now everything is ready: let's run the simulation!"
   ]
  },
  {
   "cell_type": "code",
   "execution_count": null,
   "metadata": {
    "collapsed": false
   },
   "outputs": [],
   "source": [
    "mstis_calc.run_until(300)"
   ]
  }
 ],
 "metadata": {
  "kernelspec": {
   "display_name": "Python 2",
   "language": "python",
   "name": "python2"
  },
  "language_info": {
   "codemirror_mode": {
    "name": "ipython",
    "version": 2
   },
   "file_extension": ".py",
   "mimetype": "text/x-python",
   "name": "python",
   "nbconvert_exporter": "python",
   "pygments_lexer": "ipython2",
   "version": "2.7.10"
  }
 },
 "nbformat": 4,
 "nbformat_minor": 0
}
