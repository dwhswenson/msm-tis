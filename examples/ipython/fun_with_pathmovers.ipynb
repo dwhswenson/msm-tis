{
 "cells": [
  {
   "cell_type": "markdown",
   "metadata": {},
   "source": [
    "### PathMovers"
   ]
  },
  {
   "cell_type": "markdown",
   "metadata": {},
   "source": [
    "This notebook is an introduction to handling `PathMover` and `PathMoveChange` instances. It mostly covers the questions on \n",
    "1. how to check if a certain mover was part of a change. \n",
    "2. What are the possible changes a mover can generate.\n",
    "3. ..."
   ]
  },
  {
   "cell_type": "markdown",
   "metadata": {},
   "source": [
    "Load OPENPATHSAMPLING"
   ]
  },
  {
   "cell_type": "code",
   "execution_count": 1,
   "metadata": {
    "collapsed": false
   },
   "outputs": [],
   "source": [
    "import openpathsampling as p"
   ]
  },
  {
   "cell_type": "markdown",
   "metadata": {},
   "source": [
    "Let's open a file that contains a mover and lot's of changes"
   ]
  },
  {
   "cell_type": "code",
   "execution_count": 2,
   "metadata": {
    "collapsed": false
   },
   "outputs": [],
   "source": [
    "st = p.storage.Storage('_toy_retis.nc', mode='r')"
   ]
  },
  {
   "cell_type": "markdown",
   "metadata": {},
   "source": [
    "A Simulator creates simulation steps. So we load a single step."
   ]
  },
  {
   "cell_type": "code",
   "execution_count": 3,
   "metadata": {
    "collapsed": false
   },
   "outputs": [
    {
     "name": "stdout",
     "output_type": "stream",
     "text": [
      "<openpathsampling.pathsimulator.MCStep object at 0x10f8c0a50>\n"
     ]
    }
   ],
   "source": [
    "mc = st.steps[3]\n",
    "print mc"
   ]
  },
  {
   "cell_type": "markdown",
   "metadata": {},
   "source": [
    "Each step posesses a pathmovechange which we will get"
   ]
  },
  {
   "cell_type": "code",
   "execution_count": 17,
   "metadata": {
    "collapsed": false
   },
   "outputs": [
    {
     "name": "stdout",
     "output_type": "stream",
     "text": [
      "PathSimulatorStep : PathSampling : Step # 3 with 0 samples\n",
      " +- RandomChoice :\n",
      "     +- RandomChoice :\n",
      "         +- SampleMove : PathReversalMover : False :[]\n"
     ]
    }
   ],
   "source": [
    "pmc = mc.change\n",
    "print pmc"
   ]
  },
  {
   "cell_type": "markdown",
   "metadata": {},
   "source": [
    "And the mover that was used to generate this change"
   ]
  },
  {
   "cell_type": "code",
   "execution_count": 18,
   "metadata": {
    "collapsed": false
   },
   "outputs": [
    {
     "name": "stdout",
     "output_type": "stream",
     "text": [
      "PathSimulator([44])\n",
      " +- RootMover([40])\n",
      "     +- ShootingChooser([41])\n",
      "     |   +- OneWayShootingMover I'face 0([5])\n",
      "     |   |   +- ForwardShoot([6])\n",
      "     |   |   +- BackwardShoot([7])\n",
      "     |   +- OneWayShootingMover I'face 1([8])\n",
      "     |   |   +- ForwardShoot([9])\n",
      "     |   |   +- BackwardShoot([10])\n",
      "     |   +- OneWayShootingMover I'face 2([11])\n",
      "     |   |   +- ForwardShoot([12])\n",
      "     |   |   +- BackwardShoot([13])\n",
      "     |   +- OneWayShootingMover I'face 3([14])\n",
      "     |   |   +- ForwardShoot([15])\n",
      "     |   |   +- BackwardShoot([16])\n",
      "     |   +- OneWayShootingMover I'face 4([17])\n",
      "     |   |   +- ForwardShoot([18])\n",
      "     |   |   +- BackwardShoot([19])\n",
      "     |   +- OneWayShootingMover I'face 5([20])\n",
      "     |       +- ForwardShoot([21])\n",
      "     |       +- BackwardShoot([22])\n",
      "     +- ReversalChooser([42])\n",
      "     |   +- PathReversal([34])\n",
      "     |   +- PathReversal([35])\n",
      "     |   +- PathReversal([36])\n",
      "     |   +- PathReversal([37])\n",
      "     |   +- PathReversal([38])\n",
      "     |   +- PathReversal([39])\n",
      "     +- ReplicaExchange([43])\n",
      "     |   +- ReplicaExchange([0])\n",
      "     |   +- ReplicaExchange([1])\n",
      "     |   +- ReplicaExchange([2])\n",
      "     |   +- ReplicaExchange([3])\n",
      "     |   +- ReplicaExchange([4])\n",
      "     +- Minus([23])\n",
      "         +- EnsembleFilter([24])\n",
      "             +- ConditionalSequential([25])\n",
      "                 +- MinusSubtrajectoryChooser([26])\n",
      "                 |   +- FirstSubtrajectorySelect([27])\n",
      "                 |   +- FinalSubtrajectorySelect([28])\n",
      "                 +- InterfaceSetChooser([29])\n",
      "                 |   +- ReplicaExchange([30])\n",
      "                 +- MinusExtensionDirectionChooser([31])\n",
      "                     +- ForwardExtend([32])\n",
      "                     +- BackwardExtend([33])\n"
     ]
    }
   ],
   "source": [
    "pm = pmc.mover\n",
    "print pm.treeprint()"
   ]
  },
  {
   "cell_type": "markdown",
   "metadata": {},
   "source": [
    "Let's first check if the pmc was really created by the pathmover"
   ]
  },
  {
   "cell_type": "code",
   "execution_count": 19,
   "metadata": {
    "collapsed": false
   },
   "outputs": [
    {
     "data": {
      "text/plain": [
       "True"
      ]
     },
     "execution_count": 19,
     "metadata": {},
     "output_type": "execute_result"
    }
   ],
   "source": [
    "pmc in pm"
   ]
  },
  {
   "cell_type": "markdown",
   "metadata": {},
   "source": [
    "This should be obvious, but under the hood there is some more fancy stuff happening. The `in` keyword with pathmovers and changes actually works on trees of movers. These trees are used to represent a specific order or movers being called and these trees are unique for changes. This means there is a way to label each possible pmc that can be generated by a mover. This possible only refers to choices in actual movers. \n",
    "\n",
    "This is due to special PathMovers that can pick one or more movers among a set of possibilities. The simplest of these is the OneWayShooter which choses equal between forward and backward shooting. So a OneWayShooter has two possible outcomes. Let's look at these"
   ]
  },
  {
   "cell_type": "code",
   "execution_count": 20,
   "metadata": {
    "collapsed": false
   },
   "outputs": [],
   "source": [
    "ow_mover = p.OneWayShootingMover([], []) # we use dummy arguments since are not going to use it"
   ]
  },
  {
   "cell_type": "markdown",
   "metadata": {},
   "source": [
    "The property `enum` will evaluate the (potentially VERY large) number of all possible changes"
   ]
  },
  {
   "cell_type": "code",
   "execution_count": 21,
   "metadata": {
    "collapsed": false
   },
   "outputs": [
    {
     "data": {
      "text/plain": [
       "[(OneWayShooting([]), (ForwardShoot([]))),\n",
       " (OneWayShooting([]), (BackwardShoot([])))]"
      ]
     },
     "execution_count": 21,
     "metadata": {},
     "output_type": "execute_result"
    }
   ],
   "source": [
    "list(ow_mover.enum)"
   ]
  },
  {
   "cell_type": "markdown",
   "metadata": {},
   "source": [
    "which is two in our case. Another example"
   ]
  },
  {
   "cell_type": "code",
   "execution_count": 22,
   "metadata": {
    "collapsed": false
   },
   "outputs": [],
   "source": [
    "ow_mover_2 = p.RandomChoiceMover([\n",
    "        p.OneWayShootingMover([], []),\n",
    "        p.OneWayShootingMover([], [])\n",
    "        ])"
   ]
  },
  {
   "cell_type": "code",
   "execution_count": 23,
   "metadata": {
    "collapsed": false
   },
   "outputs": [
    {
     "data": {
      "text/plain": [
       "[(RandomChoice([]), (OneWayShooting([]), (BackwardShoot([])))),\n",
       " (RandomChoice([]), (OneWayShooting([]), (ForwardShoot([])))),\n",
       " (RandomChoice([]), (OneWayShooting([]), (BackwardShoot([])))),\n",
       " (RandomChoice([]), (OneWayShooting([]), (ForwardShoot([]))))]"
      ]
     },
     "execution_count": 23,
     "metadata": {},
     "output_type": "execute_result"
    }
   ],
   "source": [
    "list(ow_mover_2.enum)"
   ]
  },
  {
   "cell_type": "markdown",
   "metadata": {},
   "source": [
    "Now we have 4 choices as expected 2 for the RandomChoice * 2 for the OneWayShooter. Although effectively there are only 2 distinct ones. Why is that? The problem in `ow_mover_2` is that we defined two separate instances of the OneWayShootingMover and in general different instances are considered different. In this case it might even be possible to check for equality, but we decided to leave this to the user. If you create two instances we assume there is a reason. Maybe just calling the differently (although it makes no sense for the monte carlo scheme).\n",
    "\n",
    "The next example uses the same mover twice"
   ]
  },
  {
   "cell_type": "code",
   "execution_count": 24,
   "metadata": {
    "collapsed": false
   },
   "outputs": [],
   "source": [
    "ow_mover_3 = p.RandomChoiceMover([\n",
    "        ow_mover,\n",
    "        ow_mover\n",
    "        ])"
   ]
  },
  {
   "cell_type": "code",
   "execution_count": 25,
   "metadata": {
    "collapsed": false
   },
   "outputs": [
    {
     "data": {
      "text/plain": [
       "[(RandomChoice([]), (OneWayShooting([]), (ForwardShoot([])))),\n",
       " (RandomChoice([]), (OneWayShooting([]), (BackwardShoot([]))))]"
      ]
     },
     "execution_count": 25,
     "metadata": {},
     "output_type": "execute_result"
    }
   ],
   "source": [
    "list(ow_mover_3.enum)"
   ]
  },
  {
   "cell_type": "markdown",
   "metadata": {},
   "source": [
    "And we get only two distinct movers as we wanted to."
   ]
  },
  {
   "cell_type": "markdown",
   "metadata": {},
   "source": [
    "Let's look at the real mover"
   ]
  },
  {
   "cell_type": "code",
   "execution_count": 26,
   "metadata": {
    "collapsed": false,
    "scrolled": true
   },
   "outputs": [
    {
     "name": "stdout",
     "output_type": "stream",
     "text": [
      "31\n"
     ]
    }
   ],
   "source": [
    "all_changes = list(pm.enum)\n",
    "print len(all_changes)"
   ]
  },
  {
   "cell_type": "markdown",
   "metadata": {},
   "source": [
    "This one has 31. Let's if we can reconstruct that number. The pathmover first choses between 4 different move types. \n",
    "\n",
    "1. Shooting, with one shooter for each of the 6 ensembles and two directions (forward and backward) are 6 * 2 = 12 in total. \n",
    "2. Reversal moves for each ensemble = 6\n",
    "3. ReplicaExchange moves between all neighboring ensembles [1,2], [2,3], ..., [5,6]  = 5\n",
    "4. And a Minus Move that consists of choices for picking the first or final inner trajectory from the minus ensemble and 2 choices for extending forward or backward. Here is important that we use a ConditionalSequentialMover that might call only some of its inner sequence. To be precise it could call only the subtrajectoryselection (2 choices), the selection and the replicaexchange (also 2 choices) or all three movers (4 choices). This will give a total of 8 possibilities for the minus move\n",
    "\n",
    "In total we have 12 + 6 + 5 + 8 = 31 as `enum` predicted. \n",
    "\n",
    "> Note that this is only the maximal possible number of moves and not the real accessible moves. It could be that in a conditional mover some moves are always run in sequence. E.g. in our case the subtrajectoryselection should always work and hence the first 2 choices of the minus mover will never happen. It will always try a swap (which can fail if by chance the trajectory in the innermost interface crosses away from the state). So the effective number of choices will be 29 and not 31."
   ]
  },
  {
   "cell_type": "markdown",
   "metadata": {},
   "source": [
    "Let's do some more testing"
   ]
  },
  {
   "cell_type": "markdown",
   "metadata": {},
   "source": [
    "First let's check if the keys we get for all changes in the storage are actually contained in the mover or put more simple the mover could have generated these changes. This should be true for all changes that originate from our mover."
   ]
  },
  {
   "cell_type": "code",
   "execution_count": 27,
   "metadata": {
    "collapsed": false
   },
   "outputs": [
    {
     "name": "stdout",
     "output_type": "stream",
     "text": [
      "[False, False, True, False, False, False, False, False, True, False, False, False, False, False, True, False, False, False, False, True]\n"
     ]
    }
   ],
   "source": [
    "print [pc in pm for pc in st.pathmovechanges[0:20]]"
   ]
  },
  {
   "cell_type": "markdown",
   "metadata": {},
   "source": [
    "What happened here? Why are only some changes in the storage made by our mover? Shouldn't all of them (except the 2 in the beginning) be the result of our pathmover? Yes and no. They are, but we are checking if the total change is made from a mover and we are also loading all subchanges subchanges."
   ]
  },
  {
   "cell_type": "code",
   "execution_count": 28,
   "metadata": {
    "collapsed": false
   },
   "outputs": [
    {
     "name": "stdout",
     "output_type": "stream",
     "text": [
      "PathSimulatorStep : PathSampling : Step # 1 with 0 samples\n",
      " +- RandomChoice :\n",
      "     +- RandomChoice :\n",
      "         +- OneWayShooting :\n",
      "             +- SampleMove : BackwardShootMover : False :[]\n",
      "True\n",
      "\n",
      "OneWayShooting :\n",
      " +- SampleMove : BackwardShootMover : False :[]\n",
      "False\n"
     ]
    }
   ],
   "source": [
    "print st.pathmovechanges[2]\n",
    "print st.pathmovechanges[2] in pm\n",
    "print\n",
    "print st.pathmovechanges[5]\n",
    "print st.pathmovechanges[5] in pm"
   ]
  },
  {
   "cell_type": "markdown",
   "metadata": {},
   "source": [
    "We will now cache all changes to see if the next steps are really fast or not."
   ]
  },
  {
   "cell_type": "code",
   "execution_count": 29,
   "metadata": {
    "collapsed": false
   },
   "outputs": [],
   "source": [
    "_ = list(st.pathmovechanges)\n",
    "_ = list(st.steps)"
   ]
  },
  {
   "cell_type": "markdown",
   "metadata": {},
   "source": [
    "Now: How do we get all the changes that are really important? One way is to scan all changes and use only the ones from the mover"
   ]
  },
  {
   "cell_type": "code",
   "execution_count": 30,
   "metadata": {
    "collapsed": false
   },
   "outputs": [
    {
     "name": "stdout",
     "output_type": "stream",
     "text": [
      "200 of 1120\n"
     ]
    }
   ],
   "source": [
    "real_changes = filter(lambda x : x in pm, st.pathmovechanges)\n",
    "print len(real_changes), 'of', len(st.pathmovechanges)"
   ]
  },
  {
   "cell_type": "markdown",
   "metadata": {},
   "source": [
    "While this works it would be better to rely on the steps in the simulation and not on the changes itself. We might store some other changes for whatever reason, but we only want the ones that are associated with a MC step. The steps in the storage do exactly that and point to the changes that are used to generate the next sampleset that we wanted. "
   ]
  },
  {
   "cell_type": "code",
   "execution_count": 31,
   "metadata": {
    "collapsed": false
   },
   "outputs": [
    {
     "name": "stdout",
     "output_type": "stream",
     "text": [
      "200\n"
     ]
    }
   ],
   "source": [
    "step_changes = [step.change for step in st.steps[1:]]\n",
    "print len(step_changes)"
   ]
  },
  {
   "cell_type": "markdown",
   "metadata": {},
   "source": [
    "We exclude the first step since it is the initialization which is not generated by our pathmover."
   ]
  },
  {
   "cell_type": "markdown",
   "metadata": {},
   "source": [
    "Let's now check which and how often one the 31 possible steps was called."
   ]
  },
  {
   "cell_type": "code",
   "execution_count": 32,
   "metadata": {
    "collapsed": true
   },
   "outputs": [],
   "source": [
    "import collections\n",
    "counter = collections.defaultdict(lambda: 0)\n",
    "for ch in step_changes:\n",
    "    counter[ch.unique] += 1"
   ]
  },
  {
   "cell_type": "code",
   "execution_count": 36,
   "metadata": {
    "collapsed": false,
    "scrolled": false
   },
   "outputs": [
    {
     "name": "stdout",
     "output_type": "stream",
     "text": [
      "25 of 31 different changes run \n",
      "------------------------------ \n",
      "\n",
      "\n",
      "12 x\n",
      "PathSimulator([44])\n",
      " +- RootMover([40])\n",
      "     +- ReplicaExchange([43])\n",
      "         +- ReplicaExchange([1])\n",
      "\n",
      "12 x\n",
      "PathSimulator([44])\n",
      " +- RootMover([40])\n",
      "     +- ReversalChooser([42])\n",
      "         +- PathReversal([34])\n",
      "\n",
      "11 x\n",
      "PathSimulator([44])\n",
      " +- RootMover([40])\n",
      "     +- ShootingChooser([41])\n",
      "         +- OneWayShootingMover I'face 1([8])\n",
      "             +- ForwardShoot([9])\n",
      "\n",
      "11 x\n",
      "PathSimulator([44])\n",
      " +- RootMover([40])\n",
      "     +- ShootingChooser([41])\n",
      "         +- OneWayShootingMover I'face 1([8])\n",
      "             +- BackwardShoot([10])\n",
      "\n",
      "11 x\n",
      "PathSimulator([44])\n",
      " +- RootMover([40])\n",
      "     +- ReversalChooser([42])\n",
      "         +- PathReversal([35])\n",
      "\n",
      "11 x\n",
      "PathSimulator([44])\n",
      " +- RootMover([40])\n",
      "     +- ReversalChooser([42])\n",
      "         +- PathReversal([39])\n",
      "\n",
      "10 x\n",
      "PathSimulator([44])\n",
      " +- RootMover([40])\n",
      "     +- ReversalChooser([42])\n",
      "         +- PathReversal([36])\n",
      "\n",
      "10 x\n",
      "PathSimulator([44])\n",
      " +- RootMover([40])\n",
      "     +- ReplicaExchange([43])\n",
      "         +- ReplicaExchange([3])\n",
      "\n",
      "10 x\n",
      "PathSimulator([44])\n",
      " +- RootMover([40])\n",
      "     +- ShootingChooser([41])\n",
      "         +- OneWayShootingMover I'face 5([20])\n",
      "             +- ForwardShoot([21])\n",
      "\n",
      "10 x\n",
      "PathSimulator([44])\n",
      " +- RootMover([40])\n",
      "     +- ShootingChooser([41])\n",
      "         +- OneWayShootingMover I'face 3([14])\n",
      "             +- ForwardShoot([15])\n",
      "\n",
      "9 x\n",
      "PathSimulator([44])\n",
      " +- RootMover([40])\n",
      "     +- ShootingChooser([41])\n",
      "         +- OneWayShootingMover I'face 5([20])\n",
      "             +- BackwardShoot([22])\n",
      "\n",
      "9 x\n",
      "PathSimulator([44])\n",
      " +- RootMover([40])\n",
      "     +- ReplicaExchange([43])\n",
      "         +- ReplicaExchange([0])\n",
      "\n",
      "8 x\n",
      "PathSimulator([44])\n",
      " +- RootMover([40])\n",
      "     +- ShootingChooser([41])\n",
      "         +- OneWayShootingMover I'face 0([5])\n",
      "             +- ForwardShoot([6])\n",
      "\n",
      "8 x\n",
      "PathSimulator([44])\n",
      " +- RootMover([40])\n",
      "     +- ShootingChooser([41])\n",
      "         +- OneWayShootingMover I'face 4([17])\n",
      "             +- ForwardShoot([18])\n",
      "\n",
      "8 x\n",
      "PathSimulator([44])\n",
      " +- RootMover([40])\n",
      "     +- ShootingChooser([41])\n",
      "         +- OneWayShootingMover I'face 4([17])\n",
      "             +- BackwardShoot([19])\n",
      "\n",
      "8 x\n",
      "PathSimulator([44])\n",
      " +- RootMover([40])\n",
      "     +- ShootingChooser([41])\n",
      "         +- OneWayShootingMover I'face 3([14])\n",
      "             +- BackwardShoot([16])\n",
      "\n",
      "8 x\n",
      "PathSimulator([44])\n",
      " +- RootMover([40])\n",
      "     +- ReplicaExchange([43])\n",
      "         +- ReplicaExchange([2])\n",
      "\n",
      "7 x\n",
      "PathSimulator([44])\n",
      " +- RootMover([40])\n",
      "     +- ShootingChooser([41])\n",
      "         +- OneWayShootingMover I'face 2([11])\n",
      "             +- BackwardShoot([13])\n",
      "\n",
      "6 x\n",
      "PathSimulator([44])\n",
      " +- RootMover([40])\n",
      "     +- ReversalChooser([42])\n",
      "         +- PathReversal([38])\n",
      "\n",
      "6 x\n",
      "PathSimulator([44])\n",
      " +- RootMover([40])\n",
      "     +- ReversalChooser([42])\n",
      "         +- PathReversal([37])\n",
      "\n",
      "5 x\n",
      "PathSimulator([44])\n",
      " +- RootMover([40])\n",
      "     +- ReplicaExchange([43])\n",
      "         +- ReplicaExchange([4])\n",
      "\n",
      "4 x\n",
      "PathSimulator([44])\n",
      " +- RootMover([40])\n",
      "     +- ShootingChooser([41])\n",
      "         +- OneWayShootingMover I'face 0([5])\n",
      "             +- BackwardShoot([7])\n",
      "\n",
      "3 x\n",
      "PathSimulator([44])\n",
      " +- RootMover([40])\n",
      "     +- ShootingChooser([41])\n",
      "         +- OneWayShootingMover I'face 2([11])\n",
      "             +- ForwardShoot([12])\n",
      "\n",
      "2 x\n",
      "PathSimulator([44])\n",
      " +- RootMover([40])\n",
      "     +- Minus([23])\n",
      "         +- EnsembleFilter([24])\n",
      "             +- ConditionalSequential([25])\n",
      "                 +- MinusSubtrajectoryChooser([26])\n",
      "                 |   +- FinalSubtrajectorySelect([28])\n",
      "                 +- InterfaceSetChooser([29])\n",
      "                 +- MinusExtensionDirectionChooser([31])\n",
      "                     +- BackwardExtend([33])\n",
      "\n",
      "1 x\n",
      "PathSimulator([44])\n",
      " +- RootMover([40])\n",
      "     +- Minus([23])\n",
      "         +- EnsembleFilter([24])\n",
      "             +- ConditionalSequential([25])\n",
      "                 +- MinusSubtrajectoryChooser([26])\n",
      "                 |   +- FirstSubtrajectorySelect([27])\n",
      "                 +- InterfaceSetChooser([29])\n",
      "                 +- MinusExtensionDirectionChooser([31])\n",
      "                     +- ForwardExtend([32])\n"
     ]
    }
   ],
   "source": [
    "s = '%d of %d different changes run' % (len(counter), len(list(pm.enum)))\n",
    "print s, '\\n', '-' * len(s), '\\n'\n",
    "\n",
    "for y in sorted(counter.items(), key=lambda x : -x[1]):\n",
    "    print\n",
    "    print y[1], 'x'\n",
    "    print y[0].treeprint()"
   ]
  },
  {
   "cell_type": "markdown",
   "metadata": {},
   "source": [
    "We see that especially minus moves are underrepresented. This is due to the standard weighting of the minus move which runs minus moves much less frequent than other moves. "
   ]
  },
  {
   "cell_type": "markdown",
   "metadata": {},
   "source": [
    "Let's just do that again and pick a random chance among all the possibilities. This is done only from the possibilities without regard for acceptance etc. We only assume that all possible choices for a single mover are equally likely."
   ]
  },
  {
   "cell_type": "code",
   "execution_count": 39,
   "metadata": {
    "collapsed": true
   },
   "outputs": [],
   "source": [
    "pmc_list = [pm.random() for x in xrange(10000)]"
   ]
  },
  {
   "cell_type": "code",
   "execution_count": 46,
   "metadata": {
    "collapsed": true
   },
   "outputs": [],
   "source": [
    "counter2 = collections.defaultdict(lambda: 0)\n",
    "for ch in pmc_list:\n",
    "    counter2[ch] += 1"
   ]
  },
  {
   "cell_type": "code",
   "execution_count": 55,
   "metadata": {
    "collapsed": false
   },
   "outputs": [
    {
     "name": "stdout",
     "output_type": "stream",
     "text": [
      "31 of 31 different changes run \n",
      "------------------------------ \n",
      "\n",
      "5.31 % (PathSimulator([44]), (RootMover([40]), (ReplicaExchange([43]), (ReplicaExchange([1]),))))\n",
      "5.12 % (PathSimulator([44]), (RootMover([40]), (ReplicaExchange([43]), (ReplicaExchange([3]),))))\n",
      "5.01 % (PathSimulator([44]), (RootMover([40]), (ReplicaExchange([43]), (ReplicaExchange([2]),))))\n",
      "4.88 % (PathSimulator([44]), (RootMover([40]), (ReplicaExchange([43]), (ReplicaExchange([0]),))))\n",
      "4.8 % (PathSimulator([44]), (RootMover([40]), (ReplicaExchange([43]), (ReplicaExchange([4]),))))\n",
      "4.75 % (PathSimulator([44]), (RootMover([40]), (Minus([23]), (EnsembleFilter([24]), (ConditionalSequential([25]), (MinusSubtrajectoryChooser([26]), (FinalSubtrajectorySelect([28]),)), (InterfaceSetChooser([29]), (ReplicaExchange([30]),)))))))\n",
      "4.38 % (PathSimulator([44]), (RootMover([40]), (ReversalChooser([42]), (PathReversal([36]),))))\n",
      "4.27 % (PathSimulator([44]), (RootMover([40]), (Minus([23]), (EnsembleFilter([24]), (ConditionalSequential([25]), (MinusSubtrajectoryChooser([26]), (FirstSubtrajectorySelect([27]),)))))))\n",
      "4.24 % (PathSimulator([44]), (RootMover([40]), (ReversalChooser([42]), (PathReversal([34]),))))\n",
      "4.06 % (PathSimulator([44]), (RootMover([40]), (Minus([23]), (EnsembleFilter([24]), (ConditionalSequential([25]), (MinusSubtrajectoryChooser([26]), (FirstSubtrajectorySelect([27]),)), (InterfaceSetChooser([29]), (ReplicaExchange([30]),)))))))\n",
      "4.05 % (PathSimulator([44]), (RootMover([40]), (ReversalChooser([42]), (PathReversal([35]),))))\n",
      "4.03 % (PathSimulator([44]), (RootMover([40]), (ReversalChooser([42]), (PathReversal([38]),))))\n",
      "4.01 % (PathSimulator([44]), (RootMover([40]), (Minus([23]), (EnsembleFilter([24]), (ConditionalSequential([25]), (MinusSubtrajectoryChooser([26]), (FinalSubtrajectorySelect([28]),)))))))\n",
      "3.9 % (PathSimulator([44]), (RootMover([40]), (ReversalChooser([42]), (PathReversal([39]),))))\n",
      "3.8 % (PathSimulator([44]), (RootMover([40]), (ReversalChooser([42]), (PathReversal([37]),))))\n",
      "2.22 % (PathSimulator([44]), (RootMover([40]), (ShootingChooser([41]), (OneWayShootingMover I'face 2([11]), (BackwardShoot([13]),)))))\n",
      "2.21 % (PathSimulator([44]), (RootMover([40]), (ShootingChooser([41]), (OneWayShootingMover I'face 5([20]), (ForwardShoot([21]),)))))\n",
      "2.2 % (PathSimulator([44]), (RootMover([40]), (ShootingChooser([41]), (OneWayShootingMover I'face 0([5]), (ForwardShoot([6]),)))))\n",
      "2.19 % (PathSimulator([44]), (RootMover([40]), (ShootingChooser([41]), (OneWayShootingMover I'face 5([20]), (BackwardShoot([22]),)))))\n",
      "2.17 % (PathSimulator([44]), (RootMover([40]), (ShootingChooser([41]), (OneWayShootingMover I'face 3([14]), (ForwardShoot([15]),)))))\n",
      "2.15 % (PathSimulator([44]), (RootMover([40]), (Minus([23]), (EnsembleFilter([24]), (ConditionalSequential([25]), (MinusSubtrajectoryChooser([26]), (FinalSubtrajectorySelect([28]),)), (InterfaceSetChooser([29]), (ReplicaExchange([30]),)), (MinusExtensionDirectionChooser([31]), (BackwardExtend([33]),)))))))\n",
      "2.13 % (PathSimulator([44]), (RootMover([40]), (Minus([23]), (EnsembleFilter([24]), (ConditionalSequential([25]), (MinusSubtrajectoryChooser([26]), (FirstSubtrajectorySelect([27]),)), (InterfaceSetChooser([29]), (ReplicaExchange([30]),)), (MinusExtensionDirectionChooser([31]), (ForwardExtend([32]),)))))))\n",
      "2.12 % (PathSimulator([44]), (RootMover([40]), (ShootingChooser([41]), (OneWayShootingMover I'face 3([14]), (BackwardShoot([16]),)))))\n",
      "2.09 % (PathSimulator([44]), (RootMover([40]), (Minus([23]), (EnsembleFilter([24]), (ConditionalSequential([25]), (MinusSubtrajectoryChooser([26]), (FinalSubtrajectorySelect([28]),)), (InterfaceSetChooser([29]), (ReplicaExchange([30]),)), (MinusExtensionDirectionChooser([31]), (ForwardExtend([32]),)))))))\n",
      "2.06 % (PathSimulator([44]), (RootMover([40]), (ShootingChooser([41]), (OneWayShootingMover I'face 4([17]), (BackwardShoot([19]),)))))\n",
      "2.02 % (PathSimulator([44]), (RootMover([40]), (ShootingChooser([41]), (OneWayShootingMover I'face 4([17]), (ForwardShoot([18]),)))))\n",
      "2.01 % (PathSimulator([44]), (RootMover([40]), (Minus([23]), (EnsembleFilter([24]), (ConditionalSequential([25]), (MinusSubtrajectoryChooser([26]), (FirstSubtrajectorySelect([27]),)), (InterfaceSetChooser([29]), (ReplicaExchange([30]),)), (MinusExtensionDirectionChooser([31]), (BackwardExtend([33]),)))))))\n",
      "1.96 % (PathSimulator([44]), (RootMover([40]), (ShootingChooser([41]), (OneWayShootingMover I'face 1([8]), (ForwardShoot([9]),)))))\n",
      "1.96 % (PathSimulator([44]), (RootMover([40]), (ShootingChooser([41]), (OneWayShootingMover I'face 1([8]), (BackwardShoot([10]),)))))\n",
      "1.95 % (PathSimulator([44]), (RootMover([40]), (ShootingChooser([41]), (OneWayShootingMover I'face 2([11]), (ForwardShoot([12]),)))))\n",
      "1.95 % (PathSimulator([44]), (RootMover([40]), (ShootingChooser([41]), (OneWayShootingMover I'face 0([5]), (BackwardShoot([7]),)))))\n"
     ]
    }
   ],
   "source": [
    "s = '%d of %d different changes run' % (len(counter2), len(list(pm.enum)))\n",
    "print s, '\\n', '-' * len(s), '\\n'\n",
    "\n",
    "for y in sorted(counter2.items(), key=lambda x : -x[1]):\n",
    "    print (100.0 * y[1]) / len(pmc_list), '%', repr(y[0])"
   ]
  },
  {
   "cell_type": "markdown",
   "metadata": {},
   "source": [
    "We realize that a specific shooter is called less likely than other movers\n",
    "\n",
    "> not sure if this is helpful. We could have additional weighting factors for the randomchoice, but each mover would have to know about it. Problem is that in most movers these weighting probabilities are dependent on the context and hence make no sense here!\n",
    "\n",
    "> One solution is to let a mover be able to give a formal expression for each possible choice, since each mover will only depend on \n",
    "1. results of accepted/rejected of submoves and ultimately if certain samples are accepted which in turn depends on `.valid` and `.proposal_probability`\n",
    "2. some random numbers (choices)\n",
    "\n",
    "> So the SampleGeneratingMovers will return something like `[acc(samp[]), acc(samp[])]`\n",
    "\n",
    "> while other movers will return something that depends on the submovers, it could just be a list of products.\n",
    "\n",
    "> Each mover has an expression for it being accepted\n",
    "\n",
    "> Each mover has an expression for picking a specific choice\n",
    "\n",
    "> Finally `.random()` will use the product of all probabilities and a specific value for accepting"
   ]
  },
  {
   "cell_type": "code",
   "execution_count": 57,
   "metadata": {
    "collapsed": false
   },
   "outputs": [
    {
     "name": "stdout",
     "output_type": "stream",
     "text": [
      "PathSimulator([44])\n",
      " +- RootMover([40])\n",
      "     +- ShootingChooser([41])\n",
      "     |   +- OneWayShootingMover I'face 0([5])\n",
      "     |   |   +- ForwardShoot([6])\n",
      "     |   |   +- BackwardShoot([7])\n",
      "     |   +- OneWayShootingMover I'face 1([8])\n",
      "     |   |   +- ForwardShoot([9])\n",
      "     |   |   +- BackwardShoot([10])\n",
      "     |   +- OneWayShootingMover I'face 2([11])\n",
      "     |   |   +- ForwardShoot([12])\n",
      "     |   |   +- BackwardShoot([13])\n",
      "     |   +- OneWayShootingMover I'face 3([14])\n",
      "     |   |   +- ForwardShoot([15])\n",
      "     |   |   +- BackwardShoot([16])\n",
      "     |   +- OneWayShootingMover I'face 4([17])\n",
      "     |   |   +- ForwardShoot([18])\n",
      "     |   |   +- BackwardShoot([19])\n",
      "     |   +- OneWayShootingMover I'face 5([20])\n",
      "     |       +- ForwardShoot([21])\n",
      "     |       +- BackwardShoot([22])\n",
      "     +- ReversalChooser([42])\n",
      "     |   +- PathReversal([34])\n",
      "     |   +- PathReversal([35])\n",
      "     |   +- PathReversal([36])\n",
      "     |   +- PathReversal([37])\n",
      "     |   +- PathReversal([38])\n",
      "     |   +- PathReversal([39])\n",
      "     +- ReplicaExchange([43])\n",
      "     |   +- ReplicaExchange([0])\n",
      "     |   +- ReplicaExchange([1])\n",
      "     |   +- ReplicaExchange([2])\n",
      "     |   +- ReplicaExchange([3])\n",
      "     |   +- ReplicaExchange([4])\n",
      "     +- Minus([23])\n",
      "         +- EnsembleFilter([24])\n",
      "             +- ConditionalSequential([25])\n",
      "                 +- MinusSubtrajectoryChooser([26])\n",
      "                 |   +- FirstSubtrajectorySelect([27])\n",
      "                 |   +- FinalSubtrajectorySelect([28])\n",
      "                 +- InterfaceSetChooser([29])\n",
      "                 |   +- ReplicaExchange([30])\n",
      "                 +- MinusExtensionDirectionChooser([31])\n",
      "                     +- ForwardExtend([32])\n",
      "                     +- BackwardExtend([33])\n"
     ]
    }
   ],
   "source": [
    "print pm.treeprint()"
   ]
  },
  {
   "cell_type": "markdown",
   "metadata": {},
   "source": [
    "Get the (unique) location of the randomchoicemover. You can search for Mover classes, Mover instances or by the `.name` property of a mover which is a string."
   ]
  },
  {
   "cell_type": "code",
   "execution_count": 23,
   "metadata": {
    "collapsed": false
   },
   "outputs": [
    {
     "name": "stdout",
     "output_type": "stream",
     "text": [
      "PathSimulator([44])\n",
      " +- RootMover([40])\n"
     ]
    }
   ],
   "source": [
    "loc_rc = pm.locate('RootMover')\n",
    "print loc_rc"
   ]
  },
  {
   "cell_type": "markdown",
   "metadata": {},
   "source": [
    "the location object is effectively a tree mover instances described by nested tuples. For convenience it is wrapped to make searching easier and format the output. "
   ]
  },
  {
   "cell_type": "code",
   "execution_count": 24,
   "metadata": {
    "collapsed": false
   },
   "outputs": [
    {
     "name": "stdout",
     "output_type": "stream",
     "text": [
      "<class 'openpathsampling.treelogic.TupleTree'>\n",
      "True\n",
      "(PathSimulator([44]), (RootMover([40]),))\n",
      "PathSimulator([44])\n",
      " +- RootMover([40])\n"
     ]
    }
   ],
   "source": [
    "print type(loc_rc)\n",
    "print isinstance(loc_rc, tuple)\n",
    "print repr(loc_rc)\n",
    "print str(loc_rc)"
   ]
  },
  {
   "cell_type": "markdown",
   "metadata": {},
   "source": [
    "In most cases you can use python tuples instead of TupleTree. The structure of a tree of tuples looks as follows:\n",
    "\n",
    "Each node has the following structure\n",
    "\n",
    "    (head, (child1, ), (child2, ), ...)\n",
    "    \n",
    "where head is a the node content (almost always a `Mover` instance) and child is again a node. It is important to note that a tuple tree does not support choices of different children like a real pathmover can. Therefore we could generate a tree tuple of the content of a pathmover but it will not reflect the possible choices in it. To get the associated tree tuple of a change (which has no choice in it) we can use `.unique`."
   ]
  },
  {
   "cell_type": "code",
   "execution_count": 25,
   "metadata": {
    "collapsed": false
   },
   "outputs": [
    {
     "name": "stdout",
     "output_type": "stream",
     "text": [
      "PathSimulatorStep : PathSampling : Step # 3 with 0 samples\n",
      " +- RandomChoice :\n",
      "     +- RandomChoice :\n",
      "         +- SampleMove : PathReversalMover : False :[]\n",
      "(PathSimulator([44]), (RootMover([40]), (ReversalChooser([42]), (PathReversal([39]),))))\n"
     ]
    }
   ],
   "source": [
    "print pmc\n",
    "print repr(pmc.unique)"
   ]
  },
  {
   "cell_type": "markdown",
   "metadata": {},
   "source": [
    "Instead of checking for a pmc directly we can also check for the tuple tree representation"
   ]
  },
  {
   "cell_type": "code",
   "execution_count": 26,
   "metadata": {
    "collapsed": false
   },
   "outputs": [
    {
     "name": "stdout",
     "output_type": "stream",
     "text": [
      "PathSimulatorStep : PathSampling : Step # 3 with 0 samples\n",
      " +- RandomChoice :\n",
      "     +- RandomChoice :\n",
      "         +- SampleMove : PathReversalMover : False :[]\n",
      "True\n",
      "True\n"
     ]
    }
   ],
   "source": [
    "print pmc\n",
    "print pmc in pm # check if pmc could have been generated by pm\n",
    "print pmc.unique in pm # check if the tuple tree representation could have been generated by pm"
   ]
  },
  {
   "cell_type": "markdown",
   "metadata": {},
   "source": [
    "Now get the mover at the `loc_rc` location (which is of course a RandomChoiceMover)."
   ]
  },
  {
   "cell_type": "code",
   "execution_count": 27,
   "metadata": {
    "collapsed": false
   },
   "outputs": [],
   "source": [
    "rc = pm[loc_rc]"
   ]
  },
  {
   "cell_type": "markdown",
   "metadata": {},
   "source": [
    "These are the weights by mover"
   ]
  },
  {
   "cell_type": "code",
   "execution_count": 28,
   "metadata": {
    "collapsed": false
   },
   "outputs": [
    {
     "data": {
      "text/plain": [
       "{Minus([23]): 0.03333333333333333,\n",
       " ReplicaExchange([43]): 0.5,\n",
       " ReversalChooser([42]): 0.5,\n",
       " ShootingChooser([41]): 1.0}"
      ]
     },
     "execution_count": 28,
     "metadata": {},
     "output_type": "execute_result"
    }
   ],
   "source": [
    "dict(zip(rc.movers, rc.weights))"
   ]
  },
  {
   "cell_type": "markdown",
   "metadata": {},
   "source": [
    "So a shooting move is about 30x more likely than a minus move."
   ]
  },
  {
   "cell_type": "markdown",
   "metadata": {},
   "source": [
    "Finally do some more checks"
   ]
  },
  {
   "cell_type": "code",
   "execution_count": 29,
   "metadata": {
    "collapsed": false
   },
   "outputs": [
    {
     "name": "stdout",
     "output_type": "stream",
     "text": [
      "True\n",
      "True\n"
     ]
    }
   ],
   "source": [
    "print rc in pmc # check if the RandomChoiceMover was called in pmc\n",
    "print pc in pm # check if the pathmover has a RandomChoiceMover at that position in the tree"
   ]
  },
  {
   "cell_type": "markdown",
   "metadata": {},
   "source": [
    "> Note, that certain trees of movers can be arranged differently in a tree, but result in the same possible steps. Like `Sequential(Forward, Sequential([Forward, Forward]))` and `Sequential([Forward, Forward, Forward])`. We can regard this as being _associative_ (placing arbitrary brackets) but we will not check for these types of equality. We assume that you arrange steps in a certain way for a reason and that your grouping of sequenced will reflect a certain logical idea. On the other hand are your locators / keys dependend on that choice!"
   ]
  },
  {
   "cell_type": "markdown",
   "metadata": {},
   "source": [
    "What else can we learn or ask for?"
   ]
  },
  {
   "cell_type": "markdown",
   "metadata": {},
   "source": [
    "We can check if a particular mover was run. Let's pick the very last MinusExtensionDirectionChoser. To check for it we can either just check for the instance in a pmc"
   ]
  },
  {
   "cell_type": "code",
   "execution_count": 30,
   "metadata": {
    "collapsed": false
   },
   "outputs": [
    {
     "name": "stdout",
     "output_type": "stream",
     "text": [
      "MinusExtensionDirectionChooser([31])\n"
     ]
    }
   ],
   "source": [
    "loc_medc = pm.locate('MinusExtensionDirectionChooser')\n",
    "medc = pm[loc_medc]\n",
    "print medc"
   ]
  },
  {
   "cell_type": "code",
   "execution_count": 31,
   "metadata": {
    "collapsed": false
   },
   "outputs": [
    {
     "name": "stdout",
     "output_type": "stream",
     "text": [
      "PathSimulator([215])\n",
      "PathSimulator([44])\n",
      " +- RootMover([40])\n",
      "     +- Minus([23])\n",
      "         +- EnsembleFilter([24])\n",
      "             +- ConditionalSequential([25])\n",
      "                 +- MinusSubtrajectoryChooser([26])\n",
      "                 |   +- FinalSubtrajectorySelect([28])\n",
      "                 +- InterfaceSetChooser([29])\n",
      "                 +- MinusExtensionDirectionChooser([31])\n",
      "                     +- BackwardExtend([33])\n",
      "\n",
      "PathSimulator([563])\n",
      "PathSimulator([44])\n",
      " +- RootMover([40])\n",
      "     +- Minus([23])\n",
      "         +- EnsembleFilter([24])\n",
      "             +- ConditionalSequential([25])\n",
      "                 +- MinusSubtrajectoryChooser([26])\n",
      "                 |   +- FirstSubtrajectorySelect([27])\n",
      "                 +- InterfaceSetChooser([29])\n",
      "                 +- MinusExtensionDirectionChooser([31])\n",
      "                     +- ForwardExtend([32])\n",
      "\n",
      "PathSimulator([785])\n",
      "PathSimulator([44])\n",
      " +- RootMover([40])\n",
      "     +- Minus([23])\n",
      "         +- EnsembleFilter([24])\n",
      "             +- ConditionalSequential([25])\n",
      "                 +- MinusSubtrajectoryChooser([26])\n",
      "                 |   +- FinalSubtrajectorySelect([28])\n",
      "                 +- InterfaceSetChooser([29])\n",
      "                 +- MinusExtensionDirectionChooser([31])\n",
      "                     +- BackwardExtend([33])\n",
      "\n",
      "CPU times: user 3.95 ms, sys: 1.53 ms, total: 5.49 ms\n",
      "Wall time: 4.41 ms\n"
     ]
    }
   ],
   "source": [
    "%%time\n",
    "for pc in step_changes:\n",
    "    if medc in pc:\n",
    "        print repr(pc)\n",
    "        print pc.unique\n",
    "        print"
   ]
  },
  {
   "cell_type": "markdown",
   "metadata": {},
   "source": [
    "the expression `locator in pmc` checks for the overall appearance of a specific mover somewhere dependent of the location. While using `mover_instance in pmc` check for the appearance of that mover instance independent of the location. If a particular mover_instance appears only once then both methods are equal."
   ]
  },
  {
   "cell_type": "code",
   "execution_count": 32,
   "metadata": {
    "collapsed": false
   },
   "outputs": [
    {
     "name": "stdout",
     "output_type": "stream",
     "text": [
      "PathSimulatorStep : PathSampling : Step # 3 with 0 samples\n",
      " +- RandomChoice :\n",
      "     +- RandomChoice :\n",
      "         +- SampleMove : PathReversalMover : False :[]\n",
      "True\n",
      "True\n",
      "False\n",
      "False\n"
     ]
    }
   ],
   "source": [
    "print pmc\n",
    "print loc_medc in pm\n",
    "print medc in pm\n",
    "print loc_medc in pmc\n",
    "print medc in pmc"
   ]
  },
  {
   "cell_type": "markdown",
   "metadata": {},
   "source": [
    "In this case the _MinusExtentionDirectionChoose_ was not called in this particular pmc."
   ]
  },
  {
   "cell_type": "markdown",
   "metadata": {},
   "source": [
    "### Remember the following things about moves and changes\n",
    "\n",
    "1. movers and changes represent a tree like structure of movers.\n",
    "2. a change is a concrete realization of moves (and hence movers) while a mover itself has a certain degree of choice. \n",
    "3. Some nodes in a mover can have different outcomes, like a RandomChoiceMover will pick one of several choices. The change it generates will have only the chosen one, while the RandomChoiceMover itself has all possibilities.\n",
    "4. A concrete tree like structure (without choice) of movers can be represented by a tree of tuples. Reading the tuple-tree from left to right the opening bracket '(' means go down a level (a new child) while the closing bracket means trael up a level ')' go to the parent.\n",
    "5. The smallest unique tupletree for a pmc can be accessed using `.unique`"
   ]
  },
  {
   "cell_type": "code",
   "execution_count": 33,
   "metadata": {
    "collapsed": false
   },
   "outputs": [],
   "source": [
    "first_minus_change = filter(lambda x : p.MinusMover in x, step_changes)[0]"
   ]
  },
  {
   "cell_type": "code",
   "execution_count": 34,
   "metadata": {
    "collapsed": false
   },
   "outputs": [
    {
     "name": "stdout",
     "output_type": "stream",
     "text": [
      "PathSimulator([44])\n",
      " +- RootMover([40])\n",
      "     +- Minus([23])\n",
      "         +- EnsembleFilter([24])\n",
      "             +- ConditionalSequential([25])\n",
      "                 +- MinusSubtrajectoryChooser([26])\n",
      "                 |   +- FinalSubtrajectorySelect([28])\n",
      "                 +- InterfaceSetChooser([29])\n",
      "                 +- MinusExtensionDirectionChooser([31])\n",
      "                     +- BackwardExtend([33])\n"
     ]
    }
   ],
   "source": [
    "print first_minus_change.unique"
   ]
  },
  {
   "cell_type": "markdown",
   "metadata": {},
   "source": [
    "will be interpreted as"
   ]
  },
  {
   "cell_type": "code",
   "execution_count": 36,
   "metadata": {
    "collapsed": false
   },
   "outputs": [
    {
     "name": "stdout",
     "output_type": "stream",
     "text": [
      "PathSimulator([44])\n",
      " +- RootMover([40])\n",
      "     +- Minus([23])\n",
      "         +- EnsembleFilter([24])\n",
      "             +- ConditionalSequential([25])\n",
      "                 +- MinusSubtrajectoryChooser([26])\n",
      "                 |   +- FinalSubtrajectorySelect([28])\n",
      "                 +- InterfaceSetChooser([29])\n",
      "                 +- MinusExtensionDirectionChooser([31])\n",
      "                     +- BackwardExtend([33])\n"
     ]
    }
   ],
   "source": [
    "print first_minus_change.unique"
   ]
  },
  {
   "cell_type": "code",
   "execution_count": 47,
   "metadata": {
    "collapsed": false
   },
   "outputs": [
    {
     "data": {
      "text/plain": [
       "(13,\n",
       "    (9,\n",
       "        (15,\n",
       "            (28, (12), (13)),\n",
       "            (28, (12), (13)),\n",
       "            (28, (12), (13)),\n",
       "            (28, (12), (13)),\n",
       "            (28, (12), (13)),\n",
       "            (28, (12), (13))),\n",
       "        (15, (12), (12), (12), (12), (12), (12)),\n",
       "        (15, (15), (15), (15), (15), (15)),\n",
       "        (5, (14, (21, (25, (24), (24)), (19, (15)), (30, (13), (14)))))))"
      ]
     },
     "execution_count": 47,
     "metadata": {},
     "output_type": "execute_result"
    }
   ],
   "source": [
    "pm.map_tree(lambda x : len(x.name))"
   ]
  },
  {
   "cell_type": "markdown",
   "metadata": {
    "collapsed": true
   },
   "source": [
    "### Some speed tests"
   ]
  },
  {
   "cell_type": "code",
   "execution_count": 38,
   "metadata": {
    "collapsed": false
   },
   "outputs": [
    {
     "name": "stdout",
     "output_type": "stream",
     "text": [
      "The slowest run took 11.91 times longer than the fastest. This could mean that an intermediate result is being cached \n",
      "1000000 loops, best of 3: 500 ns per loop\n"
     ]
    }
   ],
   "source": [
    "%%timeit\n",
    "pm.enum"
   ]
  },
  {
   "cell_type": "code",
   "execution_count": 39,
   "metadata": {
    "collapsed": false
   },
   "outputs": [
    {
     "name": "stdout",
     "output_type": "stream",
     "text": [
      "10000 loops, best of 3: 84.3 µs per loop\n"
     ]
    }
   ],
   "source": [
    "%%timeit\n",
    "pmc in pm"
   ]
  },
  {
   "cell_type": "code",
   "execution_count": 40,
   "metadata": {
    "collapsed": false
   },
   "outputs": [
    {
     "name": "stdout",
     "output_type": "stream",
     "text": [
      "1000 loops, best of 3: 1 ms per loop\n"
     ]
    }
   ],
   "source": [
    "%%timeit\n",
    "[p in pmc for p in pm.enum]"
   ]
  },
  {
   "cell_type": "code",
   "execution_count": 41,
   "metadata": {
    "collapsed": false
   },
   "outputs": [
    {
     "name": "stdout",
     "output_type": "stream",
     "text": [
      "The slowest run took 5.38 times longer than the fastest. This could mean that an intermediate result is being cached \n",
      "100000 loops, best of 3: 2.61 µs per loop\n"
     ]
    }
   ],
   "source": [
    "%%timeit\n",
    "pm in pm"
   ]
  },
  {
   "cell_type": "code",
   "execution_count": 42,
   "metadata": {
    "collapsed": false
   },
   "outputs": [
    {
     "name": "stdout",
     "output_type": "stream",
     "text": [
      "10000 loops, best of 3: 84.9 µs per loop\n"
     ]
    }
   ],
   "source": [
    "%%timeit\n",
    "pmc.unique in pm"
   ]
  }
 ],
 "metadata": {
  "kernelspec": {
   "display_name": "Python 2",
   "language": "python",
   "name": "python2"
  },
  "language_info": {
   "codemirror_mode": {
    "name": "ipython",
    "version": 2
   },
   "file_extension": ".py",
   "mimetype": "text/x-python",
   "name": "python",
   "nbconvert_exporter": "python",
   "pygments_lexer": "ipython2",
   "version": "2.7.11"
  }
 },
 "nbformat": 4,
 "nbformat_minor": 0
}
