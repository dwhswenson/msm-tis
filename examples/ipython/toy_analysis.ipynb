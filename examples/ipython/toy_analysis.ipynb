{
 "cells": [
  {
   "cell_type": "code",
   "execution_count": null,
   "metadata": {
    "collapsed": false
   },
   "outputs": [],
   "source": [
    "%matplotlib inline\n",
    "import matplotlib.pyplot as plt\n",
    "import openpathsampling as paths\n",
    "import numpy as np\n",
    "\n",
    "from openpathsampling.analysis.tis_analysis import TISTransition\n",
    "from openpathsampling.analysis.tis_analysis import sampleset_sample_generator\n",
    "\n",
    "storage = paths.storage.AnalysisStorage(\"_toy_retis.nc\")"
   ]
  },
  {
   "cell_type": "code",
   "execution_count": null,
   "metadata": {
    "collapsed": false
   },
   "outputs": [],
   "source": [
    "retis = storage.transitions.load(0)\n",
    "retis.hist_args['pathlength'] = { 'bin_width' : 5, 'bin_range' : (0, 150) }\n",
    "retis.hist_args['max_lambda'] = { 'bin_width' : 0.02, 'bin_range' : (-0.35, 0.35) }"
   ]
  },
  {
   "cell_type": "code",
   "execution_count": null,
   "metadata": {
    "collapsed": false
   },
   "outputs": [],
   "source": [
    "%%time\n",
    "print retis.rate(storage)"
   ]
  },
  {
   "cell_type": "code",
   "execution_count": null,
   "metadata": {
    "collapsed": false
   },
   "outputs": [],
   "source": [
    "%%time\n",
    "print retis.conditional_transition_probability(storage, retis.ensembles[-1])"
   ]
  },
  {
   "cell_type": "code",
   "execution_count": null,
   "metadata": {
    "collapsed": false
   },
   "outputs": [],
   "source": [
    "retis.all_statistics(storage, force=True)"
   ]
  },
  {
   "cell_type": "code",
   "execution_count": null,
   "metadata": {
    "collapsed": false
   },
   "outputs": [],
   "source": [
    "retis.total_crossing_probability(storage=storage)"
   ]
  },
  {
   "cell_type": "code",
   "execution_count": null,
   "metadata": {
    "collapsed": false
   },
   "outputs": [],
   "source": [
    "print retis.minus_move_flux(storage=storage)"
   ]
  },
  {
   "cell_type": "code",
   "execution_count": null,
   "metadata": {
    "collapsed": false
   },
   "outputs": [],
   "source": [
    "%%time\n",
    "scheme = paths.MoveScheme(retis)\n",
    "scheme.move_summary(storage, 'shooting')\n",
    "print"
   ]
  },
  {
   "cell_type": "code",
   "execution_count": null,
   "metadata": {
    "collapsed": true
   },
   "outputs": [],
   "source": [
    "def first_n(storage, n, trajid):\n",
    "    sample_iter = sampleset_sample_generator(storage)\n",
    "    first = []\n",
    "    old=None\n",
    "    for s in sample_iter:\n",
    "        if s.replica == trajid:\n",
    "            if s != old:\n",
    "                first.append(s)\n",
    "            old = s\n",
    "        if len(first) == n:\n",
    "            break\n",
    "    return first"
   ]
  },
  {
   "cell_type": "code",
   "execution_count": null,
   "metadata": {
    "collapsed": false
   },
   "outputs": [],
   "source": [
    "first40 = first_n(storage, 40, trajid=4)"
   ]
  },
  {
   "cell_type": "code",
   "execution_count": null,
   "metadata": {
    "collapsed": false
   },
   "outputs": [],
   "source": [
    "%%time\n",
    "from openpathsampling.visualize import PathTreeBuilder\n",
    "from IPython.display import SVG\n",
    "\n",
    "tree = PathTreeBuilder(storage)        \n",
    "tree.rejected = True\n",
    "tree.from_samples(first40)\n",
    "view = tree.renderer\n",
    "view.zoom = 0.8\n",
    "view.scale_y = 24\n",
    "view.scale_x = 14\n",
    "view.font_size = 0.35"
   ]
  },
  {
   "cell_type": "code",
   "execution_count": null,
   "metadata": {
    "collapsed": false
   },
   "outputs": [],
   "source": [
    "SVG(view.to_svg())"
   ]
  },
  {
   "cell_type": "code",
   "execution_count": null,
   "metadata": {
    "collapsed": false
   },
   "outputs": [],
   "source": [
    "prev = first40[0].trajectory\n",
    "decorrelated = [prev]\n",
    "for s in first40:\n",
    "    if not paths.Trajectory.is_correlated(s.trajectory, prev):\n",
    "        decorrelated.append(s.trajectory)\n",
    "        prev = s.trajectory\n",
    "print \"From these samples we have \" + str(len(decorrelated)) + \" decorrelated trajectories.\""
   ]
  },
  {
   "cell_type": "code",
   "execution_count": null,
   "metadata": {
    "collapsed": false
   },
   "outputs": [],
   "source": [
    "for ens in retis.ensembles:\n",
    "    myhist = retis.histograms['pathlength'][ens]\n",
    "    normalized = myhist.normalized()\n",
    "    plt.plot(normalized.x, normalized)"
   ]
  },
  {
   "cell_type": "code",
   "execution_count": null,
   "metadata": {
    "collapsed": false
   },
   "outputs": [],
   "source": [
    "for ens in retis.ensembles:\n",
    "    myhist = retis.histograms['max_lambda'][ens]\n",
    "    reverse_cumulative = myhist.reverse_cumulative()\n",
    "    plt.plot(reverse_cumulative.x, np.log(reverse_cumulative))\n"
   ]
  },
  {
   "cell_type": "code",
   "execution_count": null,
   "metadata": {
    "collapsed": false,
    "scrolled": true
   },
   "outputs": [],
   "source": [
    "for ens in retis.ensembles:\n",
    "    myhist = retis.histograms['max_lambda'][ens]()\n",
    "    plt.plot(myhist.x, myhist)"
   ]
  },
  {
   "cell_type": "code",
   "execution_count": null,
   "metadata": {
    "collapsed": false
   },
   "outputs": [],
   "source": [
    "# TODO: add a histogram.sum_hist() function to add several histograms together\n",
    "from operator import add\n",
    "total_sampling = np.zeros(len(retis.histograms['max_lambda'][retis.ensembles[0]]()))\n",
    "for ens in retis.ensembles:\n",
    "    total_sampling = map(add, total_sampling, retis.histograms['max_lambda'][ens]())\n",
    "plt.plot(myhist.x, total_sampling);"
   ]
  },
  {
   "cell_type": "code",
   "execution_count": null,
   "metadata": {
    "collapsed": false
   },
   "outputs": [],
   "source": [
    "from toy_plot_helpers import ToyPlot\n",
    "plot = ToyPlot()\n",
    "plot.add_pes(storage.engines.load(0).pes)"
   ]
  },
  {
   "cell_type": "code",
   "execution_count": null,
   "metadata": {
    "collapsed": false
   },
   "outputs": [],
   "source": [
    "ens0_traj = [s.trajectory for s in storage.samples if s.ensemble == retis.ensembles[0]]\n",
    "plt.contour(plot.X, plot.Y, plot._pes, levels=np.arange(0.0, 1.5, 0.1), colors='k')\n",
    "for mytraj in ens0_traj[slice(None,None,15)]:\n",
    "    plt.plot(mytraj.coordinates()[:,0,0], mytraj.coordinates()[:,0,1])"
   ]
  },
  {
   "cell_type": "code",
   "execution_count": null,
   "metadata": {
    "collapsed": false
   },
   "outputs": [],
   "source": [
    "wham = retis.total_crossing_probability(method=\"wham\")\n",
    "plt.plot(wham.x, wham);"
   ]
  },
  {
   "cell_type": "code",
   "execution_count": null,
   "metadata": {
    "collapsed": false
   },
   "outputs": [],
   "source": [
    "plt.plot(wham.x, np.log(wham));"
   ]
  },
  {
   "cell_type": "code",
   "execution_count": null,
   "metadata": {
    "collapsed": false,
    "scrolled": true
   },
   "outputs": [],
   "source": [
    "%%time\n",
    "#retis.rate(storage=storage)\n",
    "# TODO: conditional_transition_probability, minus_flux, rate\n",
    "retis.conditional_transition_probability(storage, retis.ensembles[-1])"
   ]
  },
  {
   "cell_type": "code",
   "execution_count": null,
   "metadata": {
    "collapsed": false
   },
   "outputs": [],
   "source": [
    "retis.minus_move_flux(storage)"
   ]
  },
  {
   "cell_type": "code",
   "execution_count": null,
   "metadata": {
    "collapsed": false
   },
   "outputs": [],
   "source": [
    "print retis._flux, retis.tcp(-0.05), retis.ctp[retis.ensembles[-1]]"
   ]
  },
  {
   "cell_type": "code",
   "execution_count": null,
   "metadata": {
    "collapsed": false
   },
   "outputs": [],
   "source": [
    "retis.rate(storage)"
   ]
  },
  {
   "cell_type": "markdown",
   "metadata": {},
   "source": [
    "Note that, with insufficient data, the guess for the location of the outermost interface can be incorrect. If you specify the `outer_lambda`, you'll get a different answer."
   ]
  },
  {
   "cell_type": "code",
   "execution_count": null,
   "metadata": {
    "collapsed": false
   },
   "outputs": [],
   "source": [
    "retis.rate(storage, outer_lambda=-0.05)"
   ]
  },
  {
   "cell_type": "code",
   "execution_count": null,
   "metadata": {
    "collapsed": false
   },
   "outputs": [],
   "source": [
    "print retis._flux * retis.tcp(-0.05) * retis.ctp[retis.ensembles[-1]]"
   ]
  },
  {
   "cell_type": "code",
   "execution_count": null,
   "metadata": {
    "collapsed": true
   },
   "outputs": [],
   "source": []
  }
 ],
 "metadata": {
  "kernelspec": {
   "display_name": "Python 2",
   "language": "python",
   "name": "python2"
  },
  "language_info": {
   "codemirror_mode": {
    "name": "ipython",
    "version": 2
   },
   "file_extension": ".py",
   "mimetype": "text/x-python",
   "name": "python",
   "nbconvert_exporter": "python",
   "pygments_lexer": "ipython2",
   "version": "2.7.10"
  }
 },
 "nbformat": 4,
 "nbformat_minor": 0
}
