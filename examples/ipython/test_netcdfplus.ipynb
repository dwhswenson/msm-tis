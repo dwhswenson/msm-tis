{
 "cells": [
  {
   "cell_type": "markdown",
   "metadata": {},
   "source": [
    "## test netcdf+"
   ]
  },
  {
   "cell_type": "markdown",
   "metadata": {},
   "source": [
    "This is a more extensive integration test, if all the features of netcdf+ work as expected."
   ]
  },
  {
   "cell_type": "code",
   "execution_count": 1,
   "metadata": {
    "collapsed": false
   },
   "outputs": [],
   "source": [
    "import openpathsampling as paths\n",
    "from openpathsampling.netcdfplus import NetCDFPlus, ObjectStore, StorableObject\n",
    "import numpy as np"
   ]
  },
  {
   "cell_type": "code",
   "execution_count": 2,
   "metadata": {
    "collapsed": true
   },
   "outputs": [],
   "source": [
    "class Node(StorableObject):\n",
    "    def __init__(self, value):\n",
    "        self.value = value\n",
    "        \n",
    "    def __repr__(self):\n",
    "        return 'Node(%s)' % self.value"
   ]
  },
  {
   "cell_type": "markdown",
   "metadata": {},
   "source": [
    "### 1. Open new storage\n",
    "\n",
    "try to create a new storage"
   ]
  },
  {
   "cell_type": "code",
   "execution_count": 3,
   "metadata": {
    "collapsed": true
   },
   "outputs": [],
   "source": [
    "st = NetCDFPlus('test_netcdfplus.nc', mode='w')"
   ]
  },
  {
   "cell_type": "markdown",
   "metadata": {},
   "source": [
    "### Create some content"
   ]
  },
  {
   "cell_type": "code",
   "execution_count": 4,
   "metadata": {
    "collapsed": false
   },
   "outputs": [],
   "source": [
    "st.create_store('nodes', ObjectStore(Node, has_name=False))"
   ]
  },
  {
   "cell_type": "markdown",
   "metadata": {},
   "source": [
    "Initialize the store"
   ]
  },
  {
   "cell_type": "code",
   "execution_count": 5,
   "metadata": {
    "collapsed": false
   },
   "outputs": [],
   "source": [
    "st.finalize_stores()"
   ]
  },
  {
   "cell_type": "code",
   "execution_count": 6,
   "metadata": {
    "collapsed": false
   },
   "outputs": [],
   "source": [
    "st.nodes.save(Node(10));"
   ]
  },
  {
   "cell_type": "code",
   "execution_count": 7,
   "metadata": {
    "collapsed": true
   },
   "outputs": [],
   "source": [
    "st.close()"
   ]
  },
  {
   "cell_type": "markdown",
   "metadata": {},
   "source": [
    "### 2. Reopen empty storage"
   ]
  },
  {
   "cell_type": "code",
   "execution_count": 8,
   "metadata": {
    "collapsed": false
   },
   "outputs": [],
   "source": [
    "st = NetCDFPlus('test_netcdfplus.nc', mode='a')"
   ]
  },
  {
   "cell_type": "markdown",
   "metadata": {},
   "source": [
    "set caching of the new store"
   ]
  },
  {
   "cell_type": "code",
   "execution_count": 9,
   "metadata": {
    "collapsed": true
   },
   "outputs": [],
   "source": [
    "st.nodes.set_caching(10)"
   ]
  },
  {
   "cell_type": "markdown",
   "metadata": {},
   "source": [
    "Check if the stores were correctly loaded"
   ]
  },
  {
   "cell_type": "code",
   "execution_count": 10,
   "metadata": {
    "collapsed": false
   },
   "outputs": [],
   "source": [
    "assert('nodes' in st.objects)"
   ]
  },
  {
   "cell_type": "code",
   "execution_count": 11,
   "metadata": {
    "collapsed": false
   },
   "outputs": [],
   "source": [
    "assert('stores' in st.objects)"
   ]
  },
  {
   "cell_type": "code",
   "execution_count": 12,
   "metadata": {
    "collapsed": false
   },
   "outputs": [],
   "source": [
    "assert(len(st.nodes) == 1)"
   ]
  },
  {
   "cell_type": "code",
   "execution_count": 13,
   "metadata": {
    "collapsed": true
   },
   "outputs": [],
   "source": [
    "assert(len(st.stores) == 1)"
   ]
  },
  {
   "cell_type": "markdown",
   "metadata": {},
   "source": [
    "### create variables types"
   ]
  },
  {
   "cell_type": "markdown",
   "metadata": {},
   "source": [
    "Get a list of all possible variable types"
   ]
  },
  {
   "cell_type": "code",
   "execution_count": 14,
   "metadata": {
    "collapsed": false
   },
   "outputs": [
    {
     "name": "stdout",
     "output_type": "stream",
     "text": [
      "['bool', 'float', 'index', 'int', 'json', u'lazyobj.nodes', 'lazyobj.stores', 'length', 'long', 'numpy.float32', 'numpy.float64', 'numpy.int16', 'numpy.int32', 'numpy.int64', 'numpy.int8', 'numpy.uint16', 'numpy.uint32', 'numpy.uint64', 'numpy.uint8', u'obj.nodes', 'obj.stores', 'store', 'str']\n"
     ]
    }
   ],
   "source": [
    "print sorted(st.get_var_types())"
   ]
  },
  {
   "cell_type": "markdown",
   "metadata": {},
   "source": [
    "Make a dimension on length 2 to simplify dimension nameing."
   ]
  },
  {
   "cell_type": "markdown",
   "metadata": {},
   "source": [
    "Now we construct for each type a corresponding variable of dimensions 2x2x2."
   ]
  },
  {
   "cell_type": "code",
   "execution_count": 15,
   "metadata": {
    "collapsed": true
   },
   "outputs": [],
   "source": [
    "st.create_dimension('pair', 2)"
   ]
  },
  {
   "cell_type": "code",
   "execution_count": 16,
   "metadata": {
    "collapsed": false
   },
   "outputs": [],
   "source": [
    "for var_type in st.get_var_types():\n",
    "    st.create_variable(var_type, var_type, dimensions=('pair', 'pair', 'pair'))"
   ]
  },
  {
   "cell_type": "code",
   "execution_count": 17,
   "metadata": {
    "collapsed": true
   },
   "outputs": [],
   "source": [
    "st.update_delegates()"
   ]
  },
  {
   "cell_type": "code",
   "execution_count": 18,
   "metadata": {
    "collapsed": false
   },
   "outputs": [
    {
     "name": "stdout",
     "output_type": "stream",
     "text": [
      "bool (u'pair', u'pair', u'pair')\n",
      "float (u'pair', u'pair', u'pair')\n",
      "index (u'pair', u'pair', u'pair')\n",
      "int (u'pair', u'pair', u'pair')\n",
      "json (u'pair', u'pair', u'pair')\n",
      "lazyobj.nodes (u'pair', u'pair', u'pair')\n",
      "lazyobj.stores (u'pair', u'pair', u'pair')\n",
      "length (u'pair', u'pair', u'pair')\n",
      "long (u'pair', u'pair', u'pair')\n",
      "nodes_json (u'nodes',)\n",
      "numpy.float32 (u'pair', u'pair', u'pair')\n",
      "numpy.float64 (u'pair', u'pair', u'pair')\n",
      "numpy.int16 (u'pair', u'pair', u'pair')\n",
      "numpy.int32 (u'pair', u'pair', u'pair')\n",
      "numpy.int64 (u'pair', u'pair', u'pair')\n",
      "numpy.int8 (u'pair', u'pair', u'pair')\n",
      "numpy.uint16 (u'pair', u'pair', u'pair')\n",
      "numpy.uint32 (u'pair', u'pair', u'pair')\n",
      "numpy.uint64 (u'pair', u'pair', u'pair')\n",
      "numpy.uint8 (u'pair', u'pair', u'pair')\n",
      "obj.nodes (u'pair', u'pair', u'pair')\n",
      "obj.stores (u'pair', u'pair', u'pair')\n",
      "store (u'pair', u'pair', u'pair')\n",
      "stores_json (u'stores',)\n",
      "stores_name (u'stores',)\n",
      "str (u'pair', u'pair', u'pair')\n"
     ]
    }
   ],
   "source": [
    "for var_name, var in sorted(st.variables.items()):\n",
    "    print var_name, var.dimensions"
   ]
  },
  {
   "cell_type": "code",
   "execution_count": 19,
   "metadata": {
    "collapsed": false
   },
   "outputs": [
    {
     "name": "stdout",
     "output_type": "stream",
     "text": [
      "bool\n",
      "float\n",
      "index\n",
      "int\n",
      "json\n",
      "lazyobj.nodes\n",
      "lazyobj.stores\n",
      "length\n",
      "long\n",
      "nodes_json\n",
      "numpy.float32\n",
      "numpy.float64\n",
      "numpy.int16\n",
      "numpy.int32\n",
      "numpy.int64\n",
      "numpy.int8\n",
      "numpy.uint16\n",
      "numpy.uint32\n",
      "numpy.uint64\n",
      "numpy.uint8\n",
      "obj.nodes\n",
      "obj.stores\n",
      "store\n",
      "stores_json\n",
      "stores_name\n",
      "str\n"
     ]
    }
   ],
   "source": [
    "for var in sorted(st.vars):\n",
    "    print var"
   ]
  },
  {
   "cell_type": "markdown",
   "metadata": {},
   "source": [
    "#### Bool"
   ]
  },
  {
   "cell_type": "code",
   "execution_count": 20,
   "metadata": {
    "collapsed": true
   },
   "outputs": [],
   "source": [
    "st.vars['bool'][:] = True"
   ]
  },
  {
   "cell_type": "code",
   "execution_count": 21,
   "metadata": {
    "collapsed": false
   },
   "outputs": [
    {
     "name": "stdout",
     "output_type": "stream",
     "text": [
      "[[[True, True], [True, True]], [[True, True], [True, True]]]\n"
     ]
    }
   ],
   "source": [
    "print st.vars['bool'][:]"
   ]
  },
  {
   "cell_type": "markdown",
   "metadata": {},
   "source": [
    "#### Float"
   ]
  },
  {
   "cell_type": "code",
   "execution_count": 22,
   "metadata": {
    "collapsed": true
   },
   "outputs": [],
   "source": [
    "st.vars['float'][1,1] = 1.0"
   ]
  },
  {
   "cell_type": "code",
   "execution_count": 23,
   "metadata": {
    "collapsed": false
   },
   "outputs": [
    {
     "name": "stdout",
     "output_type": "stream",
     "text": [
      "[[[None, None], [None, None]], [[None, None], [1.0, 1.0]]]\n"
     ]
    }
   ],
   "source": [
    "print st.vars['float'][:]"
   ]
  },
  {
   "cell_type": "markdown",
   "metadata": {},
   "source": [
    "#### Index\n",
    "`Index` is special in the sense that it supports only integers that are non-negative. Negative values will be interpreted as `None`"
   ]
  },
  {
   "cell_type": "code",
   "execution_count": 24,
   "metadata": {
    "collapsed": false
   },
   "outputs": [],
   "source": [
    "st.vars['index'][0,1,0] = 10\n",
    "st.vars['index'][0,1,1] = -1\n",
    "st.vars['index'][0,0] = None"
   ]
  },
  {
   "cell_type": "code",
   "execution_count": 25,
   "metadata": {
    "collapsed": false
   },
   "outputs": [
    {
     "name": "stdout",
     "output_type": "stream",
     "text": [
      "[10, None]\n",
      "[None, None]\n"
     ]
    }
   ],
   "source": [
    "print st.vars['index'][0,1]\n",
    "print st.vars['index'][0,0]"
   ]
  },
  {
   "cell_type": "markdown",
   "metadata": {},
   "source": [
    "#### Int"
   ]
  },
  {
   "cell_type": "code",
   "execution_count": 26,
   "metadata": {
    "collapsed": true
   },
   "outputs": [],
   "source": [
    "st.vars['int'][0,1,0] = 10\n",
    "st.vars['int'][0,1,1] = -1"
   ]
  },
  {
   "cell_type": "code",
   "execution_count": 27,
   "metadata": {
    "collapsed": false
   },
   "outputs": [
    {
     "name": "stdout",
     "output_type": "stream",
     "text": [
      "[[[None, None], [10, -1]], [[None, None], [None, None]]]\n"
     ]
    }
   ],
   "source": [
    "print st.vars['int'][:]"
   ]
  },
  {
   "cell_type": "markdown",
   "metadata": {},
   "source": [
    "#### JSON"
   ]
  },
  {
   "cell_type": "markdown",
   "metadata": {},
   "source": [
    "A JSON serializable object. This can be normal very simple python objects, plus numpy arrays, and objects that implement `to_dict` and `from_dict`."
   ]
  },
  {
   "cell_type": "code",
   "execution_count": 28,
   "metadata": {
    "collapsed": true
   },
   "outputs": [],
   "source": [
    "st.vars['json'][0,1,1] = {'Hallo': 2, 'Test': 3}"
   ]
  },
  {
   "cell_type": "code",
   "execution_count": 29,
   "metadata": {
    "collapsed": true
   },
   "outputs": [],
   "source": [
    "st.vars['json'][0,1,0]"
   ]
  },
  {
   "cell_type": "code",
   "execution_count": 30,
   "metadata": {
    "collapsed": true
   },
   "outputs": [],
   "source": [
    "st.vars['json'][0,1,0] = Node(10)"
   ]
  },
  {
   "cell_type": "code",
   "execution_count": 31,
   "metadata": {
    "collapsed": false
   },
   "outputs": [
    {
     "name": "stdout",
     "output_type": "stream",
     "text": [
      "[u'{\"_cls\": \"Node\", \"_dict\": {\"value\": 10}}' u'{\"Test\": 3, \"Hallo\": 2}']\n"
     ]
    }
   ],
   "source": [
    "print st.variables['json'][0,1,:]"
   ]
  },
  {
   "cell_type": "markdown",
   "metadata": {},
   "source": [
    "All object types registered as being Storable by subclassing from `openpathsampling.base.StorableObject`. For this test we only register type `paths.Snapshot`"
   ]
  },
  {
   "cell_type": "markdown",
   "metadata": {},
   "source": [
    "#### Numpy"
   ]
  },
  {
   "cell_type": "code",
   "execution_count": 32,
   "metadata": {
    "collapsed": true
   },
   "outputs": [],
   "source": [
    "st.vars['numpy.float32'][:] = np.ones((2,2,2)) * 3.0\n",
    "st.vars['numpy.float32'][0] = np.ones((2,2)) * 7.0"
   ]
  },
  {
   "cell_type": "code",
   "execution_count": 33,
   "metadata": {
    "collapsed": false
   },
   "outputs": [
    {
     "name": "stdout",
     "output_type": "stream",
     "text": [
      "[[[ 7.  7.]\n",
      "  [ 7.  7.]]\n",
      "\n",
      " [[ 3.  3.]\n",
      "  [ 3.  3.]]]\n"
     ]
    }
   ],
   "source": [
    "print st.vars['numpy.float32'][:]"
   ]
  },
  {
   "cell_type": "markdown",
   "metadata": {},
   "source": [
    "#### Obj"
   ]
  },
  {
   "cell_type": "markdown",
   "metadata": {},
   "source": [
    "You can store objects of a type which you have previously added. For loading you need to make sure that the class (and the store if set manually) is present when you load from the store."
   ]
  },
  {
   "cell_type": "code",
   "execution_count": 34,
   "metadata": {
    "collapsed": false
   },
   "outputs": [],
   "source": [
    "st.vars['obj.nodes'][0,0,0] = Node(1)\n",
    "st.vars['obj.nodes'][0,1,0] = Node('Second')\n",
    "st.vars['obj.nodes'][0,0,1] = Node('Third')"
   ]
  },
  {
   "cell_type": "markdown",
   "metadata": {},
   "source": [
    "In some cases we can also assign one element to a group of elements like it is possible for numbers."
   ]
  },
  {
   "cell_type": "code",
   "execution_count": 35,
   "metadata": {
    "collapsed": true
   },
   "outputs": [],
   "source": [
    "st.vars['obj.nodes'][1] = Node(20)"
   ]
  },
  {
   "cell_type": "code",
   "execution_count": 36,
   "metadata": {
    "collapsed": false
   },
   "outputs": [
    {
     "name": "stdout",
     "output_type": "stream",
     "text": [
      "[[[1 3]\n",
      "  [2 --]]\n",
      "\n",
      " [[4 4]\n",
      "  [4 4]]]\n",
      "[u'{\"_cls\": \"Node\", \"_dict\": {\"value\": 10}}'\n",
      " u'{\"_cls\": \"Node\", \"_dict\": {\"value\": 1}}'\n",
      " u'{\"_cls\": \"Node\", \"_dict\": {\"value\": \"Second\"}}'\n",
      " u'{\"_cls\": \"Node\", \"_dict\": {\"value\": \"Third\"}}'\n",
      " u'{\"_cls\": \"Node\", \"_dict\": {\"value\": 20}}']\n"
     ]
    }
   ],
   "source": [
    "print st.variables['obj.nodes'][:]\n",
    "print st.variables['nodes_json'][:]"
   ]
  },
  {
   "cell_type": "code",
   "execution_count": 37,
   "metadata": {
    "collapsed": false
   },
   "outputs": [
    {
     "name": "stdout",
     "output_type": "stream",
     "text": [
      "Node(1)\n",
      "<class '__main__.Node'>\n"
     ]
    }
   ],
   "source": [
    "print st.vars['obj.nodes'][0,0,0]\n",
    "print type(st.vars['obj.nodes'][0,0,0])"
   ]
  },
  {
   "cell_type": "markdown",
   "metadata": {},
   "source": [
    "#### lazy"
   ]
  },
  {
   "cell_type": "markdown",
   "metadata": {},
   "source": [
    "Lazy loading will reconstruct an object using proxies. These proxies behave almost like the loaded object, but will delay loading of the object until it is accessed. Saving for lazy objects is the same as for regular objects. Only loading return a proxy object."
   ]
  },
  {
   "cell_type": "code",
   "execution_count": 38,
   "metadata": {
    "collapsed": false
   },
   "outputs": [],
   "source": [
    "st.vars['lazyobj.nodes'][0,0,0] = Node('First')"
   ]
  },
  {
   "cell_type": "markdown",
   "metadata": {},
   "source": [
    "The type of the returned object is `LoaderProxy` while the class is the actual class is the baseclass loaded by the store to not trigger loading when the `__class__` attribute is accessed. The actual object can be accessed by `__subject__` and doing so will trigger loading the object. All regular attributes will be delegated to `__subject__.attribute` and also trigger loading."
   ]
  },
  {
   "cell_type": "code",
   "execution_count": 39,
   "metadata": {
    "collapsed": false
   },
   "outputs": [
    {
     "name": "stdout",
     "output_type": "stream",
     "text": [
      "Type:    <class 'openpathsampling.netcdfplus.proxy.LoaderProxy'>\n",
      "Class:   <class '__main__.Node'>\n",
      "Content: {'value': 'First'}\n",
      "Access:  First\n"
     ]
    }
   ],
   "source": [
    "proxy = st.vars['lazyobj.nodes'][0,0,0]\n",
    "print 'Type:   ', type(proxy)\n",
    "print 'Class:  ', proxy.__class__\n",
    "print 'Content:', proxy.__subject__.__dict__\n",
    "print 'Access: ', proxy.value"
   ]
  },
  {
   "cell_type": "markdown",
   "metadata": {},
   "source": [
    "### load/save objects"
   ]
  },
  {
   "cell_type": "markdown",
   "metadata": {},
   "source": [
    "Note that there are now 6 `Node` objects."
   ]
  },
  {
   "cell_type": "code",
   "execution_count": 40,
   "metadata": {
    "collapsed": false
   },
   "outputs": [
    {
     "name": "stdout",
     "output_type": "stream",
     "text": [
      "[Node(10), Node(1), Node(Second), Node(Third), Node(20), Node(First)]\n"
     ]
    }
   ],
   "source": [
    "print st.nodes[:]"
   ]
  },
  {
   "cell_type": "code",
   "execution_count": 41,
   "metadata": {
    "collapsed": false
   },
   "outputs": [],
   "source": [
    "obj = Node('BlaBla')\n",
    "st.nodes.save(obj)\n",
    "st.save(obj);"
   ]
  },
  {
   "cell_type": "code",
   "execution_count": 42,
   "metadata": {
    "collapsed": false
   },
   "outputs": [
    {
     "name": "stdout",
     "output_type": "stream",
     "text": [
      "7\n"
     ]
    }
   ],
   "source": [
    "print len(st.nodes)"
   ]
  },
  {
   "cell_type": "markdown",
   "metadata": {},
   "source": [
    "Note that we have only 7 objets since both save operations will only store one object."
   ]
  },
  {
   "cell_type": "markdown",
   "metadata": {},
   "source": [
    "Get the index of the obj in the storage"
   ]
  },
  {
   "cell_type": "code",
   "execution_count": 43,
   "metadata": {
    "collapsed": false
   },
   "outputs": [
    {
     "name": "stdout",
     "output_type": "stream",
     "text": [
      "6\n"
     ]
    }
   ],
   "source": [
    "print st.idx(obj)"
   ]
  },
  {
   "cell_type": "markdown",
   "metadata": {},
   "source": [
    "And test the different ways to access the contained `json`"
   ]
  },
  {
   "cell_type": "markdown",
   "metadata": {},
   "source": [
    "#### 1. direct `json` using `variables` in the store"
   ]
  },
  {
   "cell_type": "code",
   "execution_count": 44,
   "metadata": {
    "collapsed": false
   },
   "outputs": [
    {
     "name": "stdout",
     "output_type": "stream",
     "text": [
      "{\"_cls\": \"Node\", \"_dict\": {\"value\": \"BlaBla\"}}\n"
     ]
    }
   ],
   "source": [
    "print st.nodes.variables['json'][st.idx(obj)]"
   ]
  },
  {
   "cell_type": "markdown",
   "metadata": {},
   "source": [
    "#### 2. direct `json` using `variables` in the full storage"
   ]
  },
  {
   "cell_type": "code",
   "execution_count": 45,
   "metadata": {
    "collapsed": false
   },
   "outputs": [
    {
     "name": "stdout",
     "output_type": "stream",
     "text": [
      "{\"_cls\": \"Node\", \"_dict\": {\"value\": \"BlaBla\"}}\n"
     ]
    }
   ],
   "source": [
    "print st.variables['nodes_json'][st.idx(obj)]"
   ]
  },
  {
   "cell_type": "markdown",
   "metadata": {},
   "source": [
    "#### 3. indirect `json` and reconstruct using `vars` in the store"
   ]
  },
  {
   "cell_type": "code",
   "execution_count": 46,
   "metadata": {
    "collapsed": false
   },
   "outputs": [
    {
     "name": "stdout",
     "output_type": "stream",
     "text": [
      "Node(BlaBla)\n",
      "False\n"
     ]
    }
   ],
   "source": [
    "print st.nodes.vars['json'][st.idx(obj)]\n",
    "print st.nodes.vars['json'][st.idx(obj)] is obj"
   ]
  },
  {
   "cell_type": "markdown",
   "metadata": {},
   "source": [
    "#### 4. using the store accessor  `__getitem__` in the store"
   ]
  },
  {
   "cell_type": "code",
   "execution_count": 47,
   "metadata": {
    "collapsed": false
   },
   "outputs": [
    {
     "name": "stdout",
     "output_type": "stream",
     "text": [
      "Node(BlaBla)\n",
      "True\n"
     ]
    }
   ],
   "source": [
    "print st.nodes[st.idx(obj)]\n",
    "print st.nodes[st.idx(obj)] is obj"
   ]
  },
  {
   "cell_type": "markdown",
   "metadata": {
    "collapsed": true
   },
   "source": [
    "One importance difference is that a store like `nodes` has a cache (which we set to 10 before). Using `vars` will not use a store and hence create a new object!"
   ]
  },
  {
   "cell_type": "code",
   "execution_count": null,
   "metadata": {
    "collapsed": true
   },
   "outputs": [],
   "source": []
  }
 ],
 "metadata": {
  "kernelspec": {
   "display_name": "Python 2",
   "language": "python",
   "name": "python2"
  },
  "language_info": {
   "codemirror_mode": {
    "name": "ipython",
    "version": 2
   },
   "file_extension": ".py",
   "mimetype": "text/x-python",
   "name": "python",
   "nbconvert_exporter": "python",
   "pygments_lexer": "ipython2",
   "version": "2.7.10"
  }
 },
 "nbformat": 4,
 "nbformat_minor": 0
}
