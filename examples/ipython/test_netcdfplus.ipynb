{
 "cells": [
  {
   "cell_type": "markdown",
   "metadata": {},
   "source": [
    "## test netcdf+"
   ]
  },
  {
   "cell_type": "code",
   "execution_count": 1,
   "metadata": {
    "collapsed": false
   },
   "outputs": [],
   "source": [
    "import openpathsampling as paths\n",
    "from openpathsampling.storage.netcdfplus import NetCDFPlus\n",
    "import numpy as np"
   ]
  },
  {
   "cell_type": "markdown",
   "metadata": {},
   "source": [
    "### open file\n",
    "\n",
    "try to create a new storage"
   ]
  },
  {
   "cell_type": "code",
   "execution_count": 2,
   "metadata": {
    "collapsed": false
   },
   "outputs": [],
   "source": [
    "st = NetCDFPlus('test_netcdfplus.nc', mode='w')"
   ]
  },
  {
   "cell_type": "code",
   "execution_count": 3,
   "metadata": {
    "collapsed": true
   },
   "outputs": [],
   "source": [
    "st.add('details', paths.storage.ObjectStore(paths.Details, has_name=False))"
   ]
  },
  {
   "cell_type": "code",
   "execution_count": 4,
   "metadata": {
    "collapsed": true
   },
   "outputs": [],
   "source": [
    "st.details._init()\n",
    "st.details.set_caching(10)"
   ]
  },
  {
   "cell_type": "markdown",
   "metadata": {},
   "source": [
    "### create variables types"
   ]
  },
  {
   "cell_type": "code",
   "execution_count": 11,
   "metadata": {
    "collapsed": false
   },
   "outputs": [
    {
     "name": "stdout",
     "output_type": "stream",
     "text": [
      "['bool', 'float', 'index', 'int', 'json', 'lazyobj.details', 'length', 'long', 'numpy.float32', 'numpy.float64', 'numpy.int16', 'numpy.int32', 'numpy.int64', 'numpy.int8', 'numpy.uint16', 'numpy.uint32', 'numpy.uint64', 'numpy.uint8', 'obj.details', 'store', 'str']\n"
     ]
    }
   ],
   "source": [
    "print sorted(st.get_var_types())"
   ]
  },
  {
   "cell_type": "code",
   "execution_count": 12,
   "metadata": {
    "collapsed": false
   },
   "outputs": [],
   "source": [
    "for var_type in st.get_var_types():\n",
    "    st.create_variable(var_type, var_type, dimensions=(2, 2, 2))"
   ]
  },
  {
   "cell_type": "code",
   "execution_count": 13,
   "metadata": {
    "collapsed": true
   },
   "outputs": [],
   "source": [
    "st.update_delegates()"
   ]
  },
  {
   "cell_type": "code",
   "execution_count": 14,
   "metadata": {
    "collapsed": false
   },
   "outputs": [
    {
     "name": "stdout",
     "output_type": "stream",
     "text": [
      "bool\n",
      "details_json\n",
      "float\n",
      "index\n",
      "int\n",
      "json\n",
      "lazyobj.details\n",
      "length\n",
      "long\n",
      "numpy.float32\n",
      "numpy.float64\n",
      "numpy.int16\n",
      "numpy.int32\n",
      "numpy.int64\n",
      "numpy.int8\n",
      "numpy.uint16\n",
      "numpy.uint32\n",
      "numpy.uint64\n",
      "numpy.uint8\n",
      "obj.details\n",
      "store\n",
      "str\n"
     ]
    }
   ],
   "source": [
    "for var in sorted(st.variables):\n",
    "    print var"
   ]
  },
  {
   "cell_type": "code",
   "execution_count": 15,
   "metadata": {
    "collapsed": false
   },
   "outputs": [
    {
     "name": "stdout",
     "output_type": "stream",
     "text": [
      "bool\n",
      "details_json\n",
      "float\n",
      "index\n",
      "int\n",
      "json\n",
      "lazyobj.details\n",
      "length\n",
      "long\n",
      "numpy.float32\n",
      "numpy.float64\n",
      "numpy.int16\n",
      "numpy.int32\n",
      "numpy.int64\n",
      "numpy.int8\n",
      "numpy.uint16\n",
      "numpy.uint32\n",
      "numpy.uint64\n",
      "numpy.uint8\n",
      "obj.details\n",
      "store\n",
      "str\n"
     ]
    }
   ],
   "source": [
    "for var in sorted(st.vars):\n",
    "    print var"
   ]
  },
  {
   "cell_type": "markdown",
   "metadata": {},
   "source": [
    "Bool"
   ]
  },
  {
   "cell_type": "code",
   "execution_count": 16,
   "metadata": {
    "collapsed": false
   },
   "outputs": [],
   "source": [
    "st.vars['bool'][:] = True"
   ]
  },
  {
   "cell_type": "code",
   "execution_count": 17,
   "metadata": {
    "collapsed": false
   },
   "outputs": [
    {
     "name": "stdout",
     "output_type": "stream",
     "text": [
      "[[[True, True], [True, True]], [[True, True], [True, True]]]\n"
     ]
    }
   ],
   "source": [
    "print st.vars['bool'][:]"
   ]
  },
  {
   "cell_type": "markdown",
   "metadata": {},
   "source": [
    "Float"
   ]
  },
  {
   "cell_type": "code",
   "execution_count": 18,
   "metadata": {
    "collapsed": true
   },
   "outputs": [],
   "source": [
    "st.vars['float'][1,1] = 1.0"
   ]
  },
  {
   "cell_type": "code",
   "execution_count": 19,
   "metadata": {
    "collapsed": false
   },
   "outputs": [
    {
     "name": "stdout",
     "output_type": "stream",
     "text": [
      "[[[None, None], [None, None]], [[None, None], [1.0, 1.0]]]\n"
     ]
    }
   ],
   "source": [
    "print st.vars['float'][:]"
   ]
  },
  {
   "cell_type": "markdown",
   "metadata": {},
   "source": [
    "Index"
   ]
  },
  {
   "cell_type": "code",
   "execution_count": 20,
   "metadata": {
    "collapsed": false
   },
   "outputs": [],
   "source": [
    "st.vars['index'][0,1,0] = 10\n",
    "st.vars['index'][0,1,1] = -1"
   ]
  },
  {
   "cell_type": "code",
   "execution_count": 21,
   "metadata": {
    "collapsed": false
   },
   "outputs": [
    {
     "name": "stdout",
     "output_type": "stream",
     "text": [
      "[10, None]\n"
     ]
    }
   ],
   "source": [
    "print st.vars['index'][0,1]"
   ]
  },
  {
   "cell_type": "markdown",
   "metadata": {},
   "source": [
    "Int"
   ]
  },
  {
   "cell_type": "code",
   "execution_count": 22,
   "metadata": {
    "collapsed": true
   },
   "outputs": [],
   "source": [
    "st.vars['int'][0,1,0] = 10\n",
    "st.vars['int'][0,1,1] = -1"
   ]
  },
  {
   "cell_type": "code",
   "execution_count": 23,
   "metadata": {
    "collapsed": false
   },
   "outputs": [
    {
     "name": "stdout",
     "output_type": "stream",
     "text": [
      "[[[None, None], [10, -1]], [[None, None], [None, None]]]\n"
     ]
    }
   ],
   "source": [
    "print st.vars['int'][:]"
   ]
  },
  {
   "cell_type": "markdown",
   "metadata": {},
   "source": [
    "JSON"
   ]
  },
  {
   "cell_type": "markdown",
   "metadata": {},
   "source": [
    "A JSON serializable object. This can be normal very simple python objects, plus numpy arrays, and objects that implement `to_dict` and `from_dict`."
   ]
  },
  {
   "cell_type": "code",
   "execution_count": 24,
   "metadata": {
    "collapsed": false
   },
   "outputs": [],
   "source": [
    "st.vars['json'][0,1,1] = {'Hallo': 2, 'Test': 3}"
   ]
  },
  {
   "cell_type": "code",
   "execution_count": 25,
   "metadata": {
    "collapsed": false
   },
   "outputs": [],
   "source": [
    "st.vars['json'][0,1,0]"
   ]
  },
  {
   "cell_type": "code",
   "execution_count": 26,
   "metadata": {
    "collapsed": true
   },
   "outputs": [],
   "source": [
    "st.vars['json'][0,1,0] = paths.Details()"
   ]
  },
  {
   "cell_type": "code",
   "execution_count": 27,
   "metadata": {
    "collapsed": false
   },
   "outputs": [
    {
     "name": "stdout",
     "output_type": "stream",
     "text": [
      "[u'{\"_cls\": \"Details\", \"_dict\": {}}' u'{\"Test\": 3, \"Hallo\": 2}']\n"
     ]
    }
   ],
   "source": [
    "print st.variables['json'][0,1,:]"
   ]
  },
  {
   "cell_type": "markdown",
   "metadata": {},
   "source": [
    "All object types registered as being Storable by subclassing from `openpathsampling.base.StorableObject`. For this test we only register type `paths.Snapshot`"
   ]
  },
  {
   "cell_type": "markdown",
   "metadata": {},
   "source": [
    "Numpy"
   ]
  },
  {
   "cell_type": "code",
   "execution_count": 28,
   "metadata": {
    "collapsed": true
   },
   "outputs": [],
   "source": [
    "st.vars['numpy.float32'][:] = np.ones((2,2,2)) * 3.0\n",
    "st.vars['numpy.float32'][0] = np.ones((2,2)) * 7.0"
   ]
  },
  {
   "cell_type": "code",
   "execution_count": 29,
   "metadata": {
    "collapsed": false
   },
   "outputs": [
    {
     "name": "stdout",
     "output_type": "stream",
     "text": [
      "[[[ 7.  7.]\n",
      "  [ 7.  7.]]\n",
      "\n",
      " [[ 3.  3.]\n",
      "  [ 3.  3.]]]\n"
     ]
    }
   ],
   "source": [
    "print st.vars['numpy.float32'][:]"
   ]
  },
  {
   "cell_type": "markdown",
   "metadata": {},
   "source": [
    "Obj"
   ]
  },
  {
   "cell_type": "code",
   "execution_count": 24,
   "metadata": {
    "collapsed": false
   },
   "outputs": [],
   "source": [
    "st.vars['obj.details'][0,0,0] = paths.Details(cool='First')\n",
    "st.vars['obj.details'][0,0,0] = paths.Details(cool='Second')\n",
    "st.vars['obj.details'][0,0,0] = paths.Details(cool='Third')"
   ]
  },
  {
   "cell_type": "code",
   "execution_count": 25,
   "metadata": {
    "collapsed": false
   },
   "outputs": [
    {
     "name": "stdout",
     "output_type": "stream",
     "text": [
      "[[[2 --]\n",
      "  [-- --]]\n",
      "\n",
      " [[-- --]\n",
      "  [-- --]]]\n",
      "[u'{\"_cls\": \"Details\", \"_dict\": {\"cool\": \"First\"}}'\n",
      " u'{\"_cls\": \"Details\", \"_dict\": {\"cool\": \"Second\"}}'\n",
      " u'{\"_cls\": \"Details\", \"_dict\": {\"cool\": \"Third\"}}']\n"
     ]
    }
   ],
   "source": [
    "print st.variables['obj.details'][:]\n",
    "print st.variables['details_json'][:]"
   ]
  },
  {
   "cell_type": "code",
   "execution_count": 26,
   "metadata": {
    "collapsed": false
   },
   "outputs": [
    {
     "name": "stdout",
     "output_type": "stream",
     "text": [
      "cool = Third\n",
      "\n",
      "<class 'openpathsampling.pathmover.Details'>\n"
     ]
    }
   ],
   "source": [
    "print st.vars['obj.details'][0,0,0]\n",
    "print type(st.vars['obj.details'][0,0,0])"
   ]
  },
  {
   "cell_type": "markdown",
   "metadata": {},
   "source": [
    "lazy"
   ]
  },
  {
   "cell_type": "code",
   "execution_count": 27,
   "metadata": {
    "collapsed": false
   },
   "outputs": [],
   "source": [
    "st.vars['lazyobj.details'][0,0,0] = paths.Details(lazy='First')\n",
    "st.vars['lazyobj.details'][0,0,0] = paths.Details(lazy='Second')\n",
    "st.vars['lazyobj.details'][0,0,0] = paths.Details(lazy='Third')"
   ]
  },
  {
   "cell_type": "code",
   "execution_count": 28,
   "metadata": {
    "collapsed": false
   },
   "outputs": [
    {
     "name": "stdout",
     "output_type": "stream",
     "text": [
      "Type:    <class 'openpathsampling.storage.objproxy.LoaderProxy'>\n",
      "Class:   <class 'openpathsampling.pathmover.Details'>\n",
      "Content: {'lazy': 'Third'}\n",
      "Access:  Third\n"
     ]
    }
   ],
   "source": [
    "proxy = st.vars['lazyobj.details'][0,0,0]\n",
    "print 'Type:   ', type(proxy)\n",
    "print 'Class:  ', proxy.__class__\n",
    "print 'Content:', proxy.__subject__.__dict__\n",
    "print 'Access: ', proxy.lazy"
   ]
  },
  {
   "cell_type": "markdown",
   "metadata": {},
   "source": [
    "### load/save objects"
   ]
  },
  {
   "cell_type": "markdown",
   "metadata": {},
   "source": [
    "Note that there are now 6 objects. 3 from `obj.details` and `lazyobj.details` each."
   ]
  },
  {
   "cell_type": "code",
   "execution_count": 29,
   "metadata": {
    "collapsed": false
   },
   "outputs": [
    {
     "name": "stdout",
     "output_type": "stream",
     "text": [
      "[<openpathsampling.pathmover.Details object at 0x10f0c4bd0>, <openpathsampling.pathmover.Details object at 0x1061e4f10>, <openpathsampling.pathmover.Details object at 0x10f0c4e50>, <openpathsampling.pathmover.Details object at 0x10f0c4e10>, <openpathsampling.pathmover.Details object at 0x10f0c4d50>, <openpathsampling.pathmover.Details object at 0x10f22afd0>]\n"
     ]
    }
   ],
   "source": [
    "print st.details[:]"
   ]
  },
  {
   "cell_type": "code",
   "execution_count": 30,
   "metadata": {
    "collapsed": false
   },
   "outputs": [],
   "source": [
    "obj = paths.Details(name='BlaBla')\n",
    "st.details.save(obj)\n",
    "st.save(obj);"
   ]
  },
  {
   "cell_type": "code",
   "execution_count": 31,
   "metadata": {
    "collapsed": false
   },
   "outputs": [
    {
     "name": "stdout",
     "output_type": "stream",
     "text": [
      "7\n"
     ]
    }
   ],
   "source": [
    "print len(st.details)"
   ]
  },
  {
   "cell_type": "markdown",
   "metadata": {},
   "source": [
    "Note that we have only 7 objets since both save operations will only store one object."
   ]
  },
  {
   "cell_type": "markdown",
   "metadata": {},
   "source": [
    "Get the index of the obj in the storage"
   ]
  },
  {
   "cell_type": "code",
   "execution_count": 32,
   "metadata": {
    "collapsed": false
   },
   "outputs": [
    {
     "name": "stdout",
     "output_type": "stream",
     "text": [
      "{\"_cls\": \"Details\", \"_dict\": {\"name\": \"BlaBla\"}}\n",
      "name = BlaBla\n",
      "\n",
      "False\n",
      "True\n"
     ]
    }
   ],
   "source": [
    "print st.details.variables['json'][st.idx(obj)]\n",
    "print st.details.vars['json'][st.idx(obj)]\n",
    "print st.details.vars['json'][st.idx(obj)] is obj\n",
    "print st.details[st.idx(obj)] is obj"
   ]
  },
  {
   "cell_type": "code",
   "execution_count": null,
   "metadata": {
    "collapsed": true
   },
   "outputs": [],
   "source": []
  }
 ],
 "metadata": {
  "kernelspec": {
   "display_name": "Python 2",
   "language": "python",
   "name": "python2"
  },
  "language_info": {
   "codemirror_mode": {
    "name": "ipython",
    "version": 2
   },
   "file_extension": ".py",
   "mimetype": "text/x-python",
   "name": "python",
   "nbconvert_exporter": "python",
   "pygments_lexer": "ipython2",
   "version": "2.7.10"
  }
 },
 "nbformat": 4,
 "nbformat_minor": 0
}
